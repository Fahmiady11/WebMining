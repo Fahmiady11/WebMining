{
 "cells": [
  {
   "cell_type": "markdown",
   "metadata": {
    "id": "GrkNq0qWQ-e5"
   },
   "source": [
    "# CRAWLING DATA TWITTER MENGGUNAKAN METODE VECTOR SPACE MODEL"
   ]
  },
  {
   "cell_type": "markdown",
   "metadata": {
    "id": "Nv80D2ImQNCQ"
   },
   "source": [
    "Crawling Data adalah teknik pengumpulan data yang digunakan untuk mengindeks informasi pada halaman menggunakan URL (Uniform Resource Locator) dengan menyertakan API (Application Programming Interface) untuk melakukan penambangan dataset yang lebih besar.\n",
    "\n",
    "Data yang dapat kamu kumpulkan dapat berupa text, audio, video, dan gambar. Kamu dapat memulai dengan melakukan penambangan data pada API yang bersifat open source seperti yang disediakan oleh Twitter. Untuk melakukan crawling data di Twitter kamu dapat menggunakan library scrapy ataupun twint pada python."
   ]
  },
  {
   "cell_type": "markdown",
   "metadata": {
    "id": "q5lZrmVZqV-C"
   },
   "source": [
    "Untuk Tahap-Tahap sebagai berikut:"
   ]
  },
  {
   "cell_type": "markdown",
   "metadata": {
    "id": "-9lvQMzbq7hz"
   },
   "source": [
    "Lakukan Connect Google colab dengan goole Drive sebagai penyimpanan"
   ]
  },
  {
   "cell_type": "code",
   "execution_count": 1,
   "metadata": {
    "colab": {
     "base_uri": "https://localhost:8080/"
    },
    "executionInfo": {
     "elapsed": 3501,
     "status": "ok",
     "timestamp": 1666179941099,
     "user": {
      "displayName": "Muhammad Fahmi Ady susilo 19_127",
      "userId": "09919749956615563057"
     },
     "user_tz": -420
    },
    "id": "CWuNLs8afYHL",
    "outputId": "c25135af-d0d4-4bfc-fdfe-f563f7fcb432"
   },
   "outputs": [
    {
     "ename": "KeyboardInterrupt",
     "evalue": "",
     "output_type": "error",
     "traceback": [
      "\u001b[0;31m\u001b[0m",
      "\u001b[0;31mKeyboardInterrupt\u001b[0mTraceback (most recent call last)",
      "\u001b[0;32m<ipython-input-1-d5df0069828e>\u001b[0m in \u001b[0;36m<module>\u001b[0;34m\u001b[0m\n\u001b[1;32m      1\u001b[0m \u001b[0;32mfrom\u001b[0m \u001b[0mgoogle\u001b[0m\u001b[0;34m.\u001b[0m\u001b[0mcolab\u001b[0m \u001b[0;32mimport\u001b[0m \u001b[0mdrive\u001b[0m\u001b[0;34m\u001b[0m\u001b[0;34m\u001b[0m\u001b[0m\n\u001b[0;32m----> 2\u001b[0;31m \u001b[0mdrive\u001b[0m\u001b[0;34m.\u001b[0m\u001b[0mmount\u001b[0m\u001b[0;34m(\u001b[0m\u001b[0;34m'/content/drive'\u001b[0m\u001b[0;34m)\u001b[0m\u001b[0;34m\u001b[0m\u001b[0;34m\u001b[0m\u001b[0m\n\u001b[0m",
      "\u001b[0;32m/usr/local/lib/python3.7/dist-packages/google/colab/drive.py\u001b[0m in \u001b[0;36mmount\u001b[0;34m(mountpoint, force_remount, timeout_ms, readonly)\u001b[0m\n\u001b[1;32m    104\u001b[0m       \u001b[0mtimeout_ms\u001b[0m\u001b[0;34m=\u001b[0m\u001b[0mtimeout_ms\u001b[0m\u001b[0;34m,\u001b[0m\u001b[0;34m\u001b[0m\u001b[0;34m\u001b[0m\u001b[0m\n\u001b[1;32m    105\u001b[0m       \u001b[0mephemeral\u001b[0m\u001b[0;34m=\u001b[0m\u001b[0;32mTrue\u001b[0m\u001b[0;34m,\u001b[0m\u001b[0;34m\u001b[0m\u001b[0;34m\u001b[0m\u001b[0m\n\u001b[0;32m--> 106\u001b[0;31m       readonly=readonly)\n\u001b[0m\u001b[1;32m    107\u001b[0m \u001b[0;34m\u001b[0m\u001b[0m\n\u001b[1;32m    108\u001b[0m \u001b[0;34m\u001b[0m\u001b[0m\n",
      "\u001b[0;32m/usr/local/lib/python3.7/dist-packages/google/colab/drive.py\u001b[0m in \u001b[0;36m_mount\u001b[0;34m(mountpoint, force_remount, timeout_ms, ephemeral, readonly)\u001b[0m\n\u001b[1;32m    123\u001b[0m   \u001b[0;32mif\u001b[0m \u001b[0mephemeral\u001b[0m\u001b[0;34m:\u001b[0m\u001b[0;34m\u001b[0m\u001b[0;34m\u001b[0m\u001b[0m\n\u001b[1;32m    124\u001b[0m     _message.blocking_request(\n\u001b[0;32m--> 125\u001b[0;31m         'request_auth', request={'authType': 'dfs_ephemeral'}, timeout_sec=None)\n\u001b[0m\u001b[1;32m    126\u001b[0m \u001b[0;34m\u001b[0m\u001b[0m\n\u001b[1;32m    127\u001b[0m   \u001b[0mmountpoint\u001b[0m \u001b[0;34m=\u001b[0m \u001b[0m_os\u001b[0m\u001b[0;34m.\u001b[0m\u001b[0mpath\u001b[0m\u001b[0;34m.\u001b[0m\u001b[0mexpanduser\u001b[0m\u001b[0;34m(\u001b[0m\u001b[0mmountpoint\u001b[0m\u001b[0;34m)\u001b[0m\u001b[0;34m\u001b[0m\u001b[0;34m\u001b[0m\u001b[0m\n",
      "\u001b[0;32m/usr/local/lib/python3.7/dist-packages/google/colab/_message.py\u001b[0m in \u001b[0;36mblocking_request\u001b[0;34m(request_type, request, timeout_sec, parent)\u001b[0m\n\u001b[1;32m    169\u001b[0m   request_id = send_request(\n\u001b[1;32m    170\u001b[0m       request_type, request, parent=parent, expect_reply=True)\n\u001b[0;32m--> 171\u001b[0;31m   \u001b[0;32mreturn\u001b[0m \u001b[0mread_reply_from_input\u001b[0m\u001b[0;34m(\u001b[0m\u001b[0mrequest_id\u001b[0m\u001b[0;34m,\u001b[0m \u001b[0mtimeout_sec\u001b[0m\u001b[0;34m)\u001b[0m\u001b[0;34m\u001b[0m\u001b[0;34m\u001b[0m\u001b[0m\n\u001b[0m",
      "\u001b[0;32m/usr/local/lib/python3.7/dist-packages/google/colab/_message.py\u001b[0m in \u001b[0;36mread_reply_from_input\u001b[0;34m(message_id, timeout_sec)\u001b[0m\n\u001b[1;32m     95\u001b[0m     \u001b[0mreply\u001b[0m \u001b[0;34m=\u001b[0m \u001b[0m_read_next_input_message\u001b[0m\u001b[0;34m(\u001b[0m\u001b[0;34m)\u001b[0m\u001b[0;34m\u001b[0m\u001b[0;34m\u001b[0m\u001b[0m\n\u001b[1;32m     96\u001b[0m     \u001b[0;32mif\u001b[0m \u001b[0mreply\u001b[0m \u001b[0;34m==\u001b[0m \u001b[0m_NOT_READY\u001b[0m \u001b[0;32mor\u001b[0m \u001b[0;32mnot\u001b[0m \u001b[0misinstance\u001b[0m\u001b[0;34m(\u001b[0m\u001b[0mreply\u001b[0m\u001b[0;34m,\u001b[0m \u001b[0mdict\u001b[0m\u001b[0;34m)\u001b[0m\u001b[0;34m:\u001b[0m\u001b[0;34m\u001b[0m\u001b[0;34m\u001b[0m\u001b[0m\n\u001b[0;32m---> 97\u001b[0;31m       \u001b[0mtime\u001b[0m\u001b[0;34m.\u001b[0m\u001b[0msleep\u001b[0m\u001b[0;34m(\u001b[0m\u001b[0;36m0.025\u001b[0m\u001b[0;34m)\u001b[0m\u001b[0;34m\u001b[0m\u001b[0;34m\u001b[0m\u001b[0m\n\u001b[0m\u001b[1;32m     98\u001b[0m       \u001b[0;32mcontinue\u001b[0m\u001b[0;34m\u001b[0m\u001b[0;34m\u001b[0m\u001b[0m\n\u001b[1;32m     99\u001b[0m     if (reply.get('type') == 'colab_reply' and\n",
      "\u001b[0;31mKeyboardInterrupt\u001b[0m: "
     ]
    }
   ],
   "source": [
    "from google.colab import drive\n",
    "drive.mount('/content/drive')"
   ]
  },
  {
   "cell_type": "markdown",
   "metadata": {
    "id": "Yj6Oue3broAG"
   },
   "source": [
    "Pindah Path ke /content/drive/MyDrive/webmining/webmining"
   ]
  },
  {
   "cell_type": "code",
   "execution_count": 2,
   "metadata": {
    "colab": {
     "base_uri": "https://localhost:8080/"
    },
    "executionInfo": {
     "elapsed": 15,
     "status": "ok",
     "timestamp": 1666179941100,
     "user": {
      "displayName": "Muhammad Fahmi Ady susilo 19_127",
      "userId": "09919749956615563057"
     },
     "user_tz": -420
    },
    "id": "k4EveF720kBC",
    "outputId": "62a6ac1b-0f4b-4c8e-fdc4-4080d832ebf3"
   },
   "outputs": [
    {
     "name": "stdout",
     "output_type": "stream",
     "text": [
      "/content/drive/MyDrive/webmining/webmining\n"
     ]
    }
   ],
   "source": [
    "%cd /content/drive/MyDrive/webmining/webmining/"
   ]
  },
  {
   "cell_type": "markdown",
   "metadata": {
    "id": "MrZxGNlQ7s6j"
   },
   "source": [
    "Clone Twint dari Github Twint Project"
   ]
  },
  {
   "cell_type": "code",
   "execution_count": 3,
   "metadata": {
    "colab": {
     "base_uri": "https://localhost:8080/"
    },
    "executionInfo": {
     "elapsed": 61038,
     "status": "ok",
     "timestamp": 1666180002128,
     "user": {
      "displayName": "Muhammad Fahmi Ady susilo 19_127",
      "userId": "09919749956615563057"
     },
     "user_tz": -420
    },
    "id": "SahVEfOO7mf2",
    "outputId": "18a7c126-6ea8-4493-a105-5c0e2f85447d"
   },
   "outputs": [
    {
     "name": "stdout",
     "output_type": "stream",
     "text": [
      "fatal: destination path 'twint' already exists and is not an empty directory.\n",
      "/content/drive/MyDrive/webmining/webmining/twint\n",
      "Looking in indexes: https://pypi.org/simple, https://us-python.pkg.dev/colab-wheels/public/simple/\n",
      "Processing /content/drive/MyDrive/webmining/webmining/twint\n",
      "\u001b[33m  DEPRECATION: A future pip version will change local packages to be built in-place without first copying to a temporary directory. We recommend you use --use-feature=in-tree-build to test your packages with this new behavior before it becomes the default.\n",
      "   pip 21.3 will remove support for this functionality. You can find discussion regarding this at https://github.com/pypa/pip/issues/7555.\u001b[0m\n",
      "Requirement already satisfied: aiohttp in /usr/local/lib/python3.7/dist-packages (from -r requirements.txt (line 1)) (3.8.3)\n",
      "Collecting aiodns\n",
      "  Downloading aiodns-3.0.0-py3-none-any.whl (5.0 kB)\n",
      "Requirement already satisfied: beautifulsoup4 in /usr/local/lib/python3.7/dist-packages (from -r requirements.txt (line 3)) (4.6.3)\n",
      "Collecting cchardet\n",
      "  Downloading cchardet-2.1.7-cp37-cp37m-manylinux2010_x86_64.whl (263 kB)\n",
      "\u001b[K     |████████████████████████████████| 263 kB 8.0 MB/s \n",
      "\u001b[?25hCollecting dataclasses\n",
      "  Downloading dataclasses-0.6-py3-none-any.whl (14 kB)\n",
      "Collecting elasticsearch\n",
      "  Downloading elasticsearch-8.4.3-py3-none-any.whl (384 kB)\n",
      "\u001b[K     |████████████████████████████████| 384 kB 50.3 MB/s \n",
      "\u001b[?25hRequirement already satisfied: pysocks in /usr/local/lib/python3.7/dist-packages (from -r requirements.txt (line 7)) (1.7.1)\n",
      "Requirement already satisfied: pandas>=0.23.0 in /usr/local/lib/python3.7/dist-packages (from -r requirements.txt (line 8)) (1.3.5)\n",
      "Collecting aiohttp_socks<=0.4.1\n",
      "  Downloading aiohttp_socks-0.4.1-py3-none-any.whl (17 kB)\n",
      "Collecting schedule\n",
      "  Downloading schedule-1.1.0-py2.py3-none-any.whl (10 kB)\n",
      "Requirement already satisfied: geopy in /usr/local/lib/python3.7/dist-packages (from -r requirements.txt (line 11)) (1.17.0)\n",
      "Collecting fake-useragent\n",
      "  Downloading fake-useragent-0.1.11.tar.gz (13 kB)\n",
      "Collecting googletransx\n",
      "  Downloading googletransx-2.4.2.tar.gz (13 kB)\n",
      "Requirement already satisfied: pytz>=2017.3 in /usr/local/lib/python3.7/dist-packages (from pandas>=0.23.0->-r requirements.txt (line 8)) (2022.4)\n",
      "Requirement already satisfied: python-dateutil>=2.7.3 in /usr/local/lib/python3.7/dist-packages (from pandas>=0.23.0->-r requirements.txt (line 8)) (2.8.2)\n",
      "Requirement already satisfied: numpy>=1.17.3 in /usr/local/lib/python3.7/dist-packages (from pandas>=0.23.0->-r requirements.txt (line 8)) (1.21.6)\n",
      "Requirement already satisfied: attrs>=19.2.0 in /usr/local/lib/python3.7/dist-packages (from aiohttp_socks<=0.4.1->-r requirements.txt (line 9)) (22.1.0)\n",
      "Requirement already satisfied: aiosignal>=1.1.2 in /usr/local/lib/python3.7/dist-packages (from aiohttp->-r requirements.txt (line 1)) (1.2.0)\n",
      "Requirement already satisfied: typing-extensions>=3.7.4 in /usr/local/lib/python3.7/dist-packages (from aiohttp->-r requirements.txt (line 1)) (4.1.1)\n",
      "Requirement already satisfied: charset-normalizer<3.0,>=2.0 in /usr/local/lib/python3.7/dist-packages (from aiohttp->-r requirements.txt (line 1)) (2.1.1)\n",
      "Requirement already satisfied: async-timeout<5.0,>=4.0.0a3 in /usr/local/lib/python3.7/dist-packages (from aiohttp->-r requirements.txt (line 1)) (4.0.2)\n",
      "Requirement already satisfied: frozenlist>=1.1.1 in /usr/local/lib/python3.7/dist-packages (from aiohttp->-r requirements.txt (line 1)) (1.3.1)\n",
      "Requirement already satisfied: multidict<7.0,>=4.5 in /usr/local/lib/python3.7/dist-packages (from aiohttp->-r requirements.txt (line 1)) (6.0.2)\n",
      "Requirement already satisfied: yarl<2.0,>=1.0 in /usr/local/lib/python3.7/dist-packages (from aiohttp->-r requirements.txt (line 1)) (1.8.1)\n",
      "Requirement already satisfied: asynctest==0.13.0 in /usr/local/lib/python3.7/dist-packages (from aiohttp->-r requirements.txt (line 1)) (0.13.0)\n",
      "Requirement already satisfied: six>=1.5 in /usr/local/lib/python3.7/dist-packages (from python-dateutil>=2.7.3->pandas>=0.23.0->-r requirements.txt (line 8)) (1.15.0)\n",
      "Requirement already satisfied: idna>=2.0 in /usr/local/lib/python3.7/dist-packages (from yarl<2.0,>=1.0->aiohttp->-r requirements.txt (line 1)) (2.10)\n",
      "Collecting pycares>=4.0.0\n",
      "  Downloading pycares-4.2.2-cp37-cp37m-manylinux_2_17_x86_64.manylinux2014_x86_64.whl (288 kB)\n",
      "\u001b[K     |████████████████████████████████| 288 kB 45.7 MB/s \n",
      "\u001b[?25hRequirement already satisfied: cffi>=1.5.0 in /usr/local/lib/python3.7/dist-packages (from pycares>=4.0.0->aiodns->-r requirements.txt (line 2)) (1.15.1)\n",
      "Requirement already satisfied: pycparser in /usr/local/lib/python3.7/dist-packages (from cffi>=1.5.0->pycares>=4.0.0->aiodns->-r requirements.txt (line 2)) (2.21)\n",
      "Collecting elastic-transport<9,>=8\n",
      "  Downloading elastic_transport-8.4.0-py3-none-any.whl (59 kB)\n",
      "\u001b[K     |████████████████████████████████| 59 kB 5.6 MB/s \n",
      "\u001b[?25hRequirement already satisfied: certifi in /usr/local/lib/python3.7/dist-packages (from elastic-transport<9,>=8->elasticsearch->-r requirements.txt (line 6)) (2022.9.24)\n",
      "Collecting urllib3<2,>=1.26.2\n",
      "  Downloading urllib3-1.26.12-py2.py3-none-any.whl (140 kB)\n",
      "\u001b[K     |████████████████████████████████| 140 kB 65.0 MB/s \n",
      "\u001b[?25hRequirement already satisfied: geographiclib<2,>=1.49 in /usr/local/lib/python3.7/dist-packages (from geopy->-r requirements.txt (line 11)) (1.52)\n",
      "Requirement already satisfied: requests in /usr/local/lib/python3.7/dist-packages (from googletransx->-r requirements.txt (line 13)) (2.23.0)\n",
      "Requirement already satisfied: chardet<4,>=3.0.2 in /usr/local/lib/python3.7/dist-packages (from requests->googletransx->-r requirements.txt (line 13)) (3.0.4)\n",
      "Collecting requests\n",
      "  Downloading requests-2.28.1-py3-none-any.whl (62 kB)\n",
      "\u001b[K     |████████████████████████████████| 62 kB 1.4 MB/s \n",
      "\u001b[?25hBuilding wheels for collected packages: twint, fake-useragent, googletransx\n",
      "  Building wheel for twint (setup.py) ... \u001b[?25l\u001b[?25hdone\n",
      "  Created wheel for twint: filename=twint-2.1.21-py3-none-any.whl size=38871 sha256=965b66b40c97c629c7867a0234cfa1c5e4f69cc43a7e2e4a0eff18e9d8fe043e\n",
      "  Stored in directory: /tmp/pip-ephem-wheel-cache-yz67uxd6/wheels/88/61/06/bd5d6a887f43cd7ea07380c2bc1fb104f5cc0d03f92a3c50c4\n",
      "  Building wheel for fake-useragent (setup.py) ... \u001b[?25l\u001b[?25hdone\n",
      "  Created wheel for fake-useragent: filename=fake_useragent-0.1.11-py3-none-any.whl size=13502 sha256=f1a8751673bbcaffc4d2ea38c18a4b1f91f90a4184379c666c4e515d5535436f\n",
      "  Stored in directory: /root/.cache/pip/wheels/ed/f7/62/50ab6c9a0b5567267ab76a9daa9d06315704209b2c5d032031\n",
      "  Building wheel for googletransx (setup.py) ... \u001b[?25l\u001b[?25hdone\n",
      "  Created wheel for googletransx: filename=googletransx-2.4.2-py3-none-any.whl size=15968 sha256=42bf62205fd7a88469dc95ca3ebf30a27af9f2821f93492c45dd31a874135d63\n",
      "  Stored in directory: /root/.cache/pip/wheels/66/d5/b1/31104b338f7fd45aa8f7d22587765db06773b13df48a89735f\n",
      "Successfully built twint fake-useragent googletransx\n",
      "Installing collected packages: urllib3, requests, pycares, elastic-transport, schedule, googletransx, fake-useragent, elasticsearch, dataclasses, cchardet, aiohttp-socks, aiodns, twint\n",
      "  Attempting uninstall: urllib3\n",
      "    Found existing installation: urllib3 1.24.3\n",
      "    Uninstalling urllib3-1.24.3:\n",
      "      Successfully uninstalled urllib3-1.24.3\n",
      "  Attempting uninstall: requests\n",
      "    Found existing installation: requests 2.23.0\n",
      "    Uninstalling requests-2.23.0:\n",
      "      Successfully uninstalled requests-2.23.0\n",
      "Successfully installed aiodns-3.0.0 aiohttp-socks-0.4.1 cchardet-2.1.7 dataclasses-0.6 elastic-transport-8.4.0 elasticsearch-8.4.3 fake-useragent-0.1.11 googletransx-2.4.2 pycares-4.2.2 requests-2.28.1 schedule-1.1.0 twint-2.1.21 urllib3-1.26.12\n"
     ]
    }
   ],
   "source": [
    "!git clone --depth=1 https://github.com/twintproject/twint.git\n",
    "%cd twint\n",
    "!pip3 install . -r requirements.txt"
   ]
  },
  {
   "cell_type": "markdown",
   "metadata": {
    "id": "3DW9vgEp7LL7"
   },
   "source": [
    "## Penjelasan Twint"
   ]
  },
  {
   "cell_type": "markdown",
   "metadata": {
    "id": "yD5uqqpt7BCL"
   },
   "source": [
    "Twint adalah alat pengikis Twitter canggih yang ditulis dengan Python yang memungkinkan untuk menggores Tweet dari profil Twitter tanpa menggunakan API Twitter."
   ]
  },
  {
   "cell_type": "markdown",
   "metadata": {
    "id": "MHhGIyqF78hw"
   },
   "source": [
    "install Library Twint"
   ]
  },
  {
   "cell_type": "code",
   "execution_count": 4,
   "metadata": {
    "colab": {
     "base_uri": "https://localhost:8080/"
    },
    "executionInfo": {
     "elapsed": 4135,
     "status": "ok",
     "timestamp": 1666180006255,
     "user": {
      "displayName": "Muhammad Fahmi Ady susilo 19_127",
      "userId": "09919749956615563057"
     },
     "user_tz": -420
    },
    "id": "HchjwJTW65hA",
    "outputId": "ecac2bd9-d5da-4caa-9f7b-09bb0e638ad6"
   },
   "outputs": [
    {
     "name": "stdout",
     "output_type": "stream",
     "text": [
      "Looking in indexes: https://pypi.org/simple, https://us-python.pkg.dev/colab-wheels/public/simple/\n",
      "Requirement already satisfied: twint in /usr/local/lib/python3.7/dist-packages (2.1.21)\n",
      "Requirement already satisfied: pysocks in /usr/local/lib/python3.7/dist-packages (from twint) (1.7.1)\n",
      "Requirement already satisfied: aiodns in /usr/local/lib/python3.7/dist-packages (from twint) (3.0.0)\n",
      "Requirement already satisfied: aiohttp-socks in /usr/local/lib/python3.7/dist-packages (from twint) (0.4.1)\n",
      "Requirement already satisfied: dataclasses in /usr/local/lib/python3.7/dist-packages (from twint) (0.6)\n",
      "Requirement already satisfied: cchardet in /usr/local/lib/python3.7/dist-packages (from twint) (2.1.7)\n",
      "Requirement already satisfied: aiohttp in /usr/local/lib/python3.7/dist-packages (from twint) (3.8.3)\n",
      "Requirement already satisfied: elasticsearch in /usr/local/lib/python3.7/dist-packages (from twint) (8.4.3)\n",
      "Requirement already satisfied: beautifulsoup4 in /usr/local/lib/python3.7/dist-packages (from twint) (4.6.3)\n",
      "Requirement already satisfied: pandas in /usr/local/lib/python3.7/dist-packages (from twint) (1.3.5)\n",
      "Requirement already satisfied: schedule in /usr/local/lib/python3.7/dist-packages (from twint) (1.1.0)\n",
      "Requirement already satisfied: geopy in /usr/local/lib/python3.7/dist-packages (from twint) (1.17.0)\n",
      "Requirement already satisfied: fake-useragent in /usr/local/lib/python3.7/dist-packages (from twint) (0.1.11)\n",
      "Requirement already satisfied: googletransx in /usr/local/lib/python3.7/dist-packages (from twint) (2.4.2)\n",
      "Requirement already satisfied: pycares>=4.0.0 in /usr/local/lib/python3.7/dist-packages (from aiodns->twint) (4.2.2)\n",
      "Requirement already satisfied: cffi>=1.5.0 in /usr/local/lib/python3.7/dist-packages (from pycares>=4.0.0->aiodns->twint) (1.15.1)\n",
      "Requirement already satisfied: pycparser in /usr/local/lib/python3.7/dist-packages (from cffi>=1.5.0->pycares>=4.0.0->aiodns->twint) (2.21)\n",
      "Requirement already satisfied: aiosignal>=1.1.2 in /usr/local/lib/python3.7/dist-packages (from aiohttp->twint) (1.2.0)\n",
      "Requirement already satisfied: charset-normalizer<3.0,>=2.0 in /usr/local/lib/python3.7/dist-packages (from aiohttp->twint) (2.1.1)\n",
      "Requirement already satisfied: yarl<2.0,>=1.0 in /usr/local/lib/python3.7/dist-packages (from aiohttp->twint) (1.8.1)\n",
      "Requirement already satisfied: typing-extensions>=3.7.4 in /usr/local/lib/python3.7/dist-packages (from aiohttp->twint) (4.1.1)\n",
      "Requirement already satisfied: frozenlist>=1.1.1 in /usr/local/lib/python3.7/dist-packages (from aiohttp->twint) (1.3.1)\n",
      "Requirement already satisfied: multidict<7.0,>=4.5 in /usr/local/lib/python3.7/dist-packages (from aiohttp->twint) (6.0.2)\n",
      "Requirement already satisfied: async-timeout<5.0,>=4.0.0a3 in /usr/local/lib/python3.7/dist-packages (from aiohttp->twint) (4.0.2)\n",
      "Requirement already satisfied: asynctest==0.13.0 in /usr/local/lib/python3.7/dist-packages (from aiohttp->twint) (0.13.0)\n",
      "Requirement already satisfied: attrs>=17.3.0 in /usr/local/lib/python3.7/dist-packages (from aiohttp->twint) (22.1.0)\n",
      "Requirement already satisfied: idna>=2.0 in /usr/local/lib/python3.7/dist-packages (from yarl<2.0,>=1.0->aiohttp->twint) (2.10)\n",
      "Requirement already satisfied: elastic-transport<9,>=8 in /usr/local/lib/python3.7/dist-packages (from elasticsearch->twint) (8.4.0)\n",
      "Requirement already satisfied: urllib3<2,>=1.26.2 in /usr/local/lib/python3.7/dist-packages (from elastic-transport<9,>=8->elasticsearch->twint) (1.26.12)\n",
      "Requirement already satisfied: certifi in /usr/local/lib/python3.7/dist-packages (from elastic-transport<9,>=8->elasticsearch->twint) (2022.9.24)\n",
      "Requirement already satisfied: geographiclib<2,>=1.49 in /usr/local/lib/python3.7/dist-packages (from geopy->twint) (1.52)\n",
      "Requirement already satisfied: requests in /usr/local/lib/python3.7/dist-packages (from googletransx->twint) (2.28.1)\n",
      "Requirement already satisfied: python-dateutil>=2.7.3 in /usr/local/lib/python3.7/dist-packages (from pandas->twint) (2.8.2)\n",
      "Requirement already satisfied: numpy>=1.17.3 in /usr/local/lib/python3.7/dist-packages (from pandas->twint) (1.21.6)\n",
      "Requirement already satisfied: pytz>=2017.3 in /usr/local/lib/python3.7/dist-packages (from pandas->twint) (2022.4)\n",
      "Requirement already satisfied: six>=1.5 in /usr/local/lib/python3.7/dist-packages (from python-dateutil>=2.7.3->pandas->twint) (1.15.0)\n"
     ]
    }
   ],
   "source": [
    "!pip install twint"
   ]
  },
  {
   "cell_type": "markdown",
   "metadata": {
    "id": "QX3HYJcj8F8j"
   },
   "source": [
    "install aiohttp versi 3.7.0"
   ]
  },
  {
   "cell_type": "code",
   "execution_count": 5,
   "metadata": {
    "colab": {
     "base_uri": "https://localhost:8080/"
    },
    "executionInfo": {
     "elapsed": 5876,
     "status": "ok",
     "timestamp": 1666180012116,
     "user": {
      "displayName": "Muhammad Fahmi Ady susilo 19_127",
      "userId": "09919749956615563057"
     },
     "user_tz": -420
    },
    "id": "NzxFTdT97P9t",
    "outputId": "411b71c6-7814-49ed-b935-b9356faa319a"
   },
   "outputs": [
    {
     "name": "stdout",
     "output_type": "stream",
     "text": [
      "Looking in indexes: https://pypi.org/simple, https://us-python.pkg.dev/colab-wheels/public/simple/\n",
      "Collecting aiohttp==3.7.0\n",
      "  Downloading aiohttp-3.7.0-cp37-cp37m-manylinux2014_x86_64.whl (1.3 MB)\n",
      "\u001b[K     |████████████████████████████████| 1.3 MB 7.9 MB/s \n",
      "\u001b[?25hRequirement already satisfied: attrs>=17.3.0 in /usr/local/lib/python3.7/dist-packages (from aiohttp==3.7.0) (22.1.0)\n",
      "Collecting async-timeout<4.0,>=3.0\n",
      "  Downloading async_timeout-3.0.1-py3-none-any.whl (8.2 kB)\n",
      "Requirement already satisfied: multidict<7.0,>=4.5 in /usr/local/lib/python3.7/dist-packages (from aiohttp==3.7.0) (6.0.2)\n",
      "Requirement already satisfied: yarl<2.0,>=1.0 in /usr/local/lib/python3.7/dist-packages (from aiohttp==3.7.0) (1.8.1)\n",
      "Requirement already satisfied: chardet<4.0,>=2.0 in /usr/local/lib/python3.7/dist-packages (from aiohttp==3.7.0) (3.0.4)\n",
      "Requirement already satisfied: idna>=2.0 in /usr/local/lib/python3.7/dist-packages (from yarl<2.0,>=1.0->aiohttp==3.7.0) (2.10)\n",
      "Requirement already satisfied: typing-extensions>=3.7.4 in /usr/local/lib/python3.7/dist-packages (from yarl<2.0,>=1.0->aiohttp==3.7.0) (4.1.1)\n",
      "Installing collected packages: async-timeout, aiohttp\n",
      "  Attempting uninstall: async-timeout\n",
      "    Found existing installation: async-timeout 4.0.2\n",
      "    Uninstalling async-timeout-4.0.2:\n",
      "      Successfully uninstalled async-timeout-4.0.2\n",
      "  Attempting uninstall: aiohttp\n",
      "    Found existing installation: aiohttp 3.8.3\n",
      "    Uninstalling aiohttp-3.8.3:\n",
      "      Successfully uninstalled aiohttp-3.8.3\n",
      "Successfully installed aiohttp-3.7.0 async-timeout-3.0.1\n"
     ]
    }
   ],
   "source": [
    "!pip install aiohttp==3.7.0"
   ]
  },
  {
   "cell_type": "markdown",
   "metadata": {
    "id": "thc0c9pK8Ubr"
   },
   "source": [
    "melakukan Import Twint"
   ]
  },
  {
   "cell_type": "markdown",
   "metadata": {
    "id": "_kRgiukX9D0z"
   },
   "source": []
  },
  {
   "cell_type": "code",
   "execution_count": 6,
   "metadata": {
    "executionInfo": {
     "elapsed": 1285,
     "status": "ok",
     "timestamp": 1666180013396,
     "user": {
      "displayName": "Muhammad Fahmi Ady susilo 19_127",
      "userId": "09919749956615563057"
     },
     "user_tz": -420
    },
    "id": "6xBh4QRO8SLj"
   },
   "outputs": [],
   "source": [
    "import twint"
   ]
  },
  {
   "cell_type": "markdown",
   "metadata": {
    "id": "ty7SdKMER2fV"
   },
   "source": [
    "Install Nest Asyncio dan lakukan Import"
   ]
  },
  {
   "cell_type": "code",
   "execution_count": 7,
   "metadata": {
    "colab": {
     "base_uri": "https://localhost:8080/"
    },
    "executionInfo": {
     "elapsed": 3964,
     "status": "ok",
     "timestamp": 1666180017356,
     "user": {
      "displayName": "Muhammad Fahmi Ady susilo 19_127",
      "userId": "09919749956615563057"
     },
     "user_tz": -420
    },
    "id": "p5-Y07uk9QHt",
    "outputId": "f7d99828-180e-41d9-9572-4821331548ac"
   },
   "outputs": [
    {
     "name": "stdout",
     "output_type": "stream",
     "text": [
      "Looking in indexes: https://pypi.org/simple, https://us-python.pkg.dev/colab-wheels/public/simple/\n",
      "Collecting nest_asyncio\n",
      "  Downloading nest_asyncio-1.5.6-py3-none-any.whl (5.2 kB)\n",
      "Installing collected packages: nest-asyncio\n",
      "Successfully installed nest-asyncio-1.5.6\n"
     ]
    }
   ],
   "source": [
    "!pip install nest_asyncio\n",
    "import nest_asyncio\n",
    "nest_asyncio.apply() "
   ]
  },
  {
   "cell_type": "markdown",
   "metadata": {
    "id": "D-3m3nYu-zJU"
   },
   "source": [
    "\\configurasi Twint dengan value seperti dibawah"
   ]
  },
  {
   "cell_type": "code",
   "execution_count": 8,
   "metadata": {
    "colab": {
     "base_uri": "https://localhost:8080/"
    },
    "executionInfo": {
     "elapsed": 2446,
     "status": "ok",
     "timestamp": 1666180019796,
     "user": {
      "displayName": "Muhammad Fahmi Ady susilo 19_127",
      "userId": "09919749956615563057"
     },
     "user_tz": -420
    },
    "id": "IC8Q21dW9gnm",
    "outputId": "af691a7e-7cb8-4786-cfc6-0c9fd10d4069"
   },
   "outputs": [
    {
     "name": "stdout",
     "output_type": "stream",
     "text": [
      "1582699597251608576 2022-10-19 11:46:03 +0000 <BeritaDotMedia> – Salah satu keluarga korban tragedi Kanjuruhan yang berencana meminta autopsi mendadak membatalkan  #berita #nasional   https://t.co/Co80FQUhie\n",
      "1582699564552708097 2022-10-19 11:45:55 +0000 <bamsoebagio> @CNNIndonesia Tujuan awal datang ke Indonesia adalah menyelesaikan Tragedi Kanjuruhan..lah kok???\n",
      "1582699467631132673 2022-10-19 11:45:32 +0000 <rindubaewish> Alasan stadion #kanjuruhan markas @AremafcOfficial yg jd tragedi pembantaian nyawa aremania akan di hancurkan sbgmn rest area #KM50  https://t.co/B4DslYXGEC\n",
      "1582699050075590657 2022-10-19 11:43:53 +0000 <detik_jatim> Penyesalan Athok yang Kehilangan 2 Putrinya di Tragedi Kanjuruhan  https://t.co/As1ZWPVVMR\n",
      "1582698980831809537 2022-10-19 11:43:36 +0000 <DrEvaChaniago> TRAGEDI KANJURUHAN: “PSSI HARUS BERTANGGUNG JAWAB!” TAYANG 20.30 WIB MALAM INI!   SUBSCRIBE YOUTUBE:  https://t.co/P2QNpznkv7 (KARNI ILYAS CLUB) @karniilyasclub oleh datuk @karniilyas  https://t.co/lmmgp5Rvd2\n",
      "1582698944374579200 2022-10-19 11:43:28 +0000 <hartrio> @afcasiancup Indonesia demi menghormati para korban,Mending selesaikan dulu kasus tragedi Kanjuruhan baru ikut turnamen Internasional\n",
      "1582698833993076736 2022-10-19 11:43:01 +0000 <AuisGrand> Polri diingatkan agar jalankan rekomendasi Tim Gabungan Independen Pencari Fakta, yakni ekshumasi korban Tragedi Kanjuruhan, guna memastikan penyebab kematian 133 jiwa dalam insiden karena penembakan gas air mata itu. #Nusantara #AdadiKompas  https://t.co/iiAJ1iJM5A\n",
      "1582698793929125890 2022-10-19 11:42:52 +0000 <Arenanews1> Komnas HAM Diminta untuk Bentuk Tim Penyelidikan Tragedi Kanjuruhan – Sportstars –  https://t.co/up4QmkOTW4 – #Arenanews- https://t.co/PF2LCGe8LR\n",
      "1582698592535744512 2022-10-19 11:42:04 +0000 <bb_sports_id> PSSI dan FIFA Gelar Fun Football, Akmal Marhali: Makin Dibenci Masyarakat  https://t.co/NwKRiwk9cW baca juga berita dari media lainnya di Indonesia di  https://t.co/GkwQxScVr9   #pssi #fifa #gianniinfantino #funfootball #saveoursoccer #tragedikanjuruhan #akmalmarhali\n",
      "1582698552274190336 2022-10-19 11:41:54 +0000 <hariankompas> Polri diingatkan agar jalankan rekomendasi Tim Gabungan Independen Pencari Fakta, yakni ekshumasi korban Tragedi Kanjuruhan, guna memastikan penyebab kematian 133 jiwa dalam insiden karena penembakan gas air mata itu. #Nusantara #AdadiKompas  https://t.co/CIH41BSjeT\n",
      "1582698133796319232 2022-10-19 11:40:14 +0000 <Antara_Jabar> Tragedi Kanjuruhan, tersangka peragakan penembakan gas air mata saat rekonstruksi    https://t.co/fXKcgwE0bh\n",
      "1582698058525310976 2022-10-19 11:39:56 +0000 <Kotakmi1> Komnas HAM Diminta untuk Bentuk Tim Penyelidikan Tragedi Kanjuruhan – Sportstars –  https://t.co/lYTlrsvdOI – #Arenanews  https://t.co/psspLnOVmF\n",
      "1582697719231307776 2022-10-19 11:38:36 +0000 <idntimes> TGIPF keluarkan rekomendasi usai tragedi Kanjuruhan  https://t.co/LezAjcR08I\n",
      "1582697616118538240 2022-10-19 11:38:11 +0000 <slaksmi> Dia pikir kita nggak ngerti.   Rekonstruksi Tragedi Kanjuruhan, Tak Ada Gas Air Mata ke Arah Tribun  https://t.co/iVyokAvfJr\n",
      "1582697532869648386 2022-10-19 11:37:51 +0000 <detikcom> Devi Athok (43) masih belum bisa melupakan kesedihannya karena kehilangan dua putrinya di Tragedi Kanjuruhan. Ia menyesal tak bisa menemani kedua putrinya itu.  https://t.co/5YWr5xodUs\n",
      "1582697392763449344 2022-10-19 11:37:18 +0000 <blackboysMP> Sikap kita sudah jelas. Sementara kita menarik diri dalam mendukung @psmpofficial selama kasus tragedi kanjuruhan belum menemui titik terang yang jelas. Untuk sementara kita fokuskan fokus kita ke agenda \"foreverred\" bersama @mojokertofinest 🇾🇪\n",
      "1582697336907538432 2022-10-19 11:37:04 +0000 <beritajatimcom> Kapolda Jatim Bantah Polisi Intimidasi Keinginan Autopsi Korban Tragedi Kanjuruhan.  Malang ( https://t.co/ksziGGG4m3) – Kapolda Jatim Irjen Pol Toni Harmanto membantah dugaan intimidasi anggota Polri…  https://t.co/Gk44Ps9Hgb #Olahraga #Arema #Aremania via @beritajatimcom\n",
      "1582697197224665098 2022-10-19 11:36:31 +0000 <karniilyasclub> TRAGEDI KANJURUHAN: “PSSI HARUS BERTANGGUNG JAWAB!” TAYANG 20.30 WIB MALAM INI! SUBSCRIBE YOUTUBE:  https://t.co/nFylNA9OFG (KARNI ILYAS CLUB)  https://t.co/aemNUeRIB9\n",
      "1582697172520566784 2022-10-19 11:36:25 +0000 <detikcom> Tim Asops selesai dimintai keterangan oleh Komnas HAM. Dia menyebut menjelaskan soal kerja sama pengamanan dengan PSSI, tidak spesifik soal Tragedi Kanjuruhan.  https://t.co/sEVSASlzlU\n",
      "1582696830306877440 2022-10-19 11:35:04 +0000 <Ak_ko567> @siapkawalpolri @ListyoSigitP setuju, @DivHumas_Polri dan @ListyoSigitP sudah mengambil tindakan yang cepat dan tepat untuk melakukan penyelidikan dalam mengusut kasus tragedi kanjuruhan.\n",
      "1582696710496583680 2022-10-19 11:34:35 +0000 <Shencong191> Sementara mek ISO dungakno dulurku Kabeh ndek malang dan suporter klub lain yang masih peduli dengan carut marut persepakbolaan dan tragedi kanjuruhan.   Mugi paring sehat selamet Kabeh. Gusti kang dumadi ngijabahi.\n",
      "1582696605186392065 2022-10-19 11:34:10 +0000 <insideindo_id> Setelah bertemu Presiden FIFA, Presiden Jokowi akan runtuhkan Stadion Kanjuruhan 😰  Baca berita selengkapnya hanya di  https://t.co/NuJENMkACh  #presidenjokowi #jokowidodo #presidenfifa #fifa #fifa23 #fypシ #news #stadionkanjuruhan #TragediKanjuruhan  https://t.co/VD9DeyJrbm\n",
      "1582696320216616960 2022-10-19 11:33:02 +0000 <choice_potatoes> Fifa adalah investor untuk tragedi kanjuruhan\n",
      "1582696201807200257 2022-10-19 11:32:34 +0000 <VIVAcoid> Kata Polri soal Polemik Otopsi Jenazah Korban Tragedi Kanjuruhan  https://t.co/d5ewE3F0wR  https://t.co/phHLA1QIaS\n",
      "1582695883199561731 2022-10-19 11:31:18 +0000 <hincapandjaitan> Hasil rekonstruksi tragedi Kanjuruhan harus terus kita awasi agar semua menjadi terang benderang.  Publik akan mengadili jika ada yang ditutupi, terlebih sudah banyak hasil kerja jurnalistik teman\" wartawan yang merangkum kronologi kejadian.  https://t.co/enTUm3ENrd\n",
      "1582695783421575168 2022-10-19 11:30:54 +0000 <derizzaa> Halloo min, kenapa mainnya ga di kanjuruhan aja, sekalian simulasikan tragedi yg kemaren?\n",
      "1582695559642591232 2022-10-19 11:30:01 +0000 <tvOneNews> Penyidik Ditreskrimum Polda Jawa Timur, Rabu (19/10/2022) pagi, melakukan rekonstruksi untuk melengkapi berkas pemeriksaan Tragedi Kanjuruhan yang menewaskan 133 suporter Aremania.  Simak berita selengkapnya di  https://t.co/iPucnlyLXz #HardNews_Hukum #NewsOne #CariBeritaditvOne  https://t.co/okM8qoRSgW\n",
      "1582695558816452608 2022-10-19 11:30:00 +0000 <Bolanet> Wali Kota Malang Tanggung Pendidikan Putra-Putri Almarhum Andi Setiawan, Korban Jiwa ke-133 Tragedi Kanjuruhan  https://t.co/DyYpfVIbf6\n",
      "1582695558262693891 2022-10-19 11:30:00 +0000 <holopiscom> Tim Gabungan Independen Pencari Fakta (TGIPF) Peristiwa Stadion Kanjuruhan Malang mengaku sangat kecewa dengan tingkah Presiden FIFA, Gianni Infantino dan Ketua Umum PSSI, Mochamad Iriawan alias Iwan Bule. @PSSI  @FIFANTINO  @iriawan84  #TragediKanjuruhan   https://t.co/7DgS0nqajj\n",
      "1582695317245669378 2022-10-19 11:29:03 +0000 <idntimes> MENGURAI BENANG KUSUT TRAGEDI KANJURUHAN  https://t.co/eFCAjCxW4e\n",
      "1582695070263672832 2022-10-19 11:28:04 +0000 <KompasTV> Polisi Periksa 3 Peran Tersangka di 30 Adegan dalam Rekonstruksi Tragedi Kanjuruhan  https://t.co/pcpMYAyYRH  https://t.co/HyyVIaa13d\n",
      "1582695043814432768 2022-10-19 11:27:58 +0000 <_fafauziah> @siapkawalpolri @ListyoSigitP Kapolri sangat lah hebat dengan mengambil langkah yg cepat untuk mengusut tragedi kanjuruhan ini. Apresiasi untuk beliau! @ListyoSigitP\n",
      "1582694982263054340 2022-10-19 11:27:43 +0000 <karniilyasclub> TRAGEDI KANJURUHAN: “PSSI HARUS BERTANGGUNG JAWAB!” TAYANG 20.30 WIB MALAM INI! SUBSCRIBE YOUTUBE:  https://t.co/nFylNA9OFG (KARNI ILYAS CLUB)  https://t.co/il9DFv4Vzt\n",
      "1582694870518747136 2022-10-19 11:27:16 +0000 <beritaKBR> Polri berkomitmen segera menuntaskan tragedi Kanjuruhan secara transparan, akuntabel, dan secara ilmiah.  #TragediKanjuruhan   https://t.co/Yvw4qyZCLW\n",
      "1582694851211993089 2022-10-19 11:27:12 +0000 <sophia_diba> @siapkawalpolri @ListyoSigitP Harus banget ini pak @ListyoSigitP korban yang terjadi di tragedi Kanjuruhan ini harus mendapatkan jaminan pengobatan,\n",
      "1582694831242981377 2022-10-19 11:27:07 +0000 <detiksport> Pemilik Madura United, Achsanul Qosasi, menyebut bahwa kedatangan FIFA tak menunjukkan empati kepada para korban tragedi Kanjuruhan.  https://t.co/9e1sWpQjQx\n",
      " https://t.co/do19hBMw0H\n",
      "1582694804994936833 2022-10-19 11:27:01 +0000 <detiksport> Kaesang memberikan sindiran pada momen itu. FIFA datang ke Indonesia karena tragedi Kanjuruhan. Kejadian usai Arema FC vs Persebaya Surabaya itu menelan 133 korban jiwa.\n",
      "1582694580624846848 2022-10-19 11:26:07 +0000 <jamilahchr_> @siapkawalpolri @ListyoSigitP Sebagai bentuk tanggungjawab Pak @ListyoSigitP berusaha memfasilitasi pengobatan bagi korban tragedi Kanjuruhan. Sepakat kalau di adakan ini pak. Mantepp.\n",
      "1582694487444582400 2022-10-19 11:25:45 +0000 <Ale01087reds> @mohmahfudmd #UsutTuntas #UsutTuntasTragediKanjuruhan  #TragediKanjuruhan  https://t.co/sSq3Gb1dZ2\n",
      "1582694442363867136 2022-10-19 11:25:34 +0000 <ngopibareng_id> Dalam proses yang berlangsung di Polda, adegan penembakan gas air mata hilang dalam rekonstruksi Tragedi Kanjuruhan.  https://t.co/99hnm18hKL\n",
      "1582694372424155136 2022-10-19 11:25:18 +0000 <Ale01087reds> #UsutTuntas #TragediKanjuruhan #UsutTuntasTragediKanjuruhan  https://t.co/d25qAPUgBZ\n",
      "1582694364173991937 2022-10-19 11:25:16 +0000 <z5_rifky> @AchsanulQosasi Setau gw ya masa berkabung itu antara 7 hari juga udh cukup, dan tragedi Kanjuruhan udah lama terjadi dan FIFA pun sudah mengucapkan duka ke Indonesia, masih aja ada orng tolol kek gini TOLOL\n",
      "1582694232040476674 2022-10-19 11:24:44 +0000 <Om_HME> @msaid_didu Krn lobi Israel punya misi diplomatik utk bs masuk ke Indonesia, maka FIFA tdk jd memberi sanksi pembatalan tuan rumah Piala Dunia U-20 akibat tragedi Kanjuruhan.\n",
      "1582694194178510848 2022-10-19 11:24:35 +0000 <indozonemedia> Tragedi Kanjuruhan yang terjadi Sabtu (1/10/2022) dalam pertandingan Arema FC vs Persebaya Surabaya menyebabkan 133 orang meninggal dunia.  https://t.co/RUeAwrT3b4\n",
      "1582693922706718720 2022-10-19 11:23:30 +0000 <subsubsab___> @PSSI Tolol! Orang-orang masih kritis di rumah sakit karena tragedi Kanjuruhan!  Manusia punya hati dan akal tapi gak dipake, semoga cepat kena azab! Aji mumpung banget lo mentang2 presiden FIFA di Indonesia.\n",
      "1582693841391407104 2022-10-19 11:23:11 +0000 <Om_HME> Krn lobi Israel punya misi diplomatik utk bs masuk ke Indonesia, maka FIFA tdk jd memberi sanksi pembatalan tuan rumah Piala Dunia U-20 akibat tragedi Kanjuruhan.\n",
      "1582693805253222400 2022-10-19 11:23:02 +0000 <Om_HME> @PSSI Krn lobi Israel punya misi diplomatik utk bs masuk ke Indonesia, maka FIFA tdk jd memberi sanksi pembatalan tuan rumah Piala Dunia U-20 akibat tragedi Kanjuruhan.\n",
      "1582693667240038401 2022-10-19 11:22:29 +0000 <msaid_didu> Sepertinya tdk ada rasa duka dari Presiden FIFA atas tragedi Kanjuruhan - Malang\n",
      "1582693661825204224 2022-10-19 11:22:28 +0000 <Ravico27> @FaktaSepakbola @Arie_Kriting Di jadwalkan sejak lama? Mungkin ngga sih kalo ngga ada tragedi kanjuruhan presiden fifa ke Indo sekarang?\n",
      "1582693551682379777 2022-10-19 11:22:02 +0000 <Om_HME> @kaesangp Krn lobi Israel punya misi diplomatik utk bs masuk ke Indonesia, maka FIFA tdk jd memberi sanksi pembatalan tuan rumah Piala Dunia U-20 akibat tragedi Kanjuruhan.\n",
      "1582693432668999681 2022-10-19 11:21:34 +0000 <koranjakarta_id> Pesan Vino G Bastian ke Ketum PSSI-Presiden FIFA yang Main Bola Bareng  \"Dibanding main bola bareng, lebih baik main ke rumah korban tragedi kanjuruhan bareng-bareng. Mereka lebih penting,\" kata Vino melalui unggahan akun Twitter pribadinya @VinoGBastian_   https://t.co/OF68vkOsSK\n",
      "1582693419054665728 2022-10-19 11:21:30 +0000 <makdatuak02> @PSSI Ratusan org meninggal di tragedi kanjuruhan, ngingatin kalian aja, mana tau udh lupa.\n",
      "1582693374230171654 2022-10-19 11:21:20 +0000 <Ravico27> @CNNIndonesia Lah buat apa pake VAR? Tragedi kanjuruhan aja ngga ada tanggung jawab nya.\n",
      "1582693234912137216 2022-10-19 11:20:46 +0000 <rillamaria_> Ada korban ratusan tragedi Kanjuruhan loh 😔\n",
      "1582692402149851136 2022-10-19 11:17:28 +0000 <posbakumpranaja> Iwan Bule Main Bola Bareng Presiden FIFA Usai Pemakaman Korban ke-133 Tragedi Kanjuruhan, Bikin Komnas HAM Prihatin  https://t.co/XzYjXD9pKi\n",
      "1582692356687646721 2022-10-19 11:17:17 +0000 <pantau24jam> Iwan Bule Main Bola Bareng Presiden FIFA Usai Pemakaman Korban ke-133 Tragedi Kanjuruhan, Bikin Komnas HAM Prihatin  https://t.co/RyoxXGcmqy\n",
      "1582692345375399937 2022-10-19 11:17:14 +0000 <karniilyasclub> TRAGEDI KANJURUHAN: “PSSI HARUS BERTANGGUNG JAWAB!” TAYANG 20.30 WIB MALAM INI! SUBSCRIBE YOUTUBE:  https://t.co/nFylNA9OFG (KARNI ILYAS CLUB)  https://t.co/Wuk8G62Wsm\n",
      "1582692255248560128 2022-10-19 11:16:53 +0000 <BimataIndonesia> PSSI Tolak Rekomendasi TGIPF Tragedi Kanjuruhan Soal Permintaan Mundur Iwan Bule Cs  https://t.co/Iat01LQEnQ\n",
      "1582692240769810433 2022-10-19 11:16:49 +0000 <atiga9312> @PartaiSocmed Datang karena tragedi kanjuruhan,  Yang diharap ketegasan,  Nyampe sini malah cengengesan.  #ShameOnYouFIFA\n"
     ]
    }
   ],
   "source": [
    "c = twint.Config()\n",
    "c.Search = 'tragedi kanjuruhan'\n",
    "c.Pandas = True\n",
    "c.Limit = 60\n",
    "c.Store_csv = True\n",
    "c.Custom[\"tweet\"] = [\"tweet\"]\n",
    "c.Output = \"dataGanjar.csv\"\n",
    "twint.run.Search(c)"
   ]
  },
  {
   "cell_type": "markdown",
   "metadata": {
    "id": "72nQgcK5nplf"
   },
   "source": [
    "## Penjelasan Pandas"
   ]
  },
  {
   "cell_type": "markdown",
   "metadata": {
    "id": "TXgNM7G7P_gF"
   },
   "source": [
    "**Pandas adalah paket Python open source yang paling sering dipakai untuk menganalisis data serta membangun sebuah machine learning. Pandas dibuat berdasarkan satu package lain bernama Numpy**"
   ]
  },
  {
   "cell_type": "markdown",
   "metadata": {
    "id": "dHvwWYe8-6ib"
   },
   "source": [
    "melakukan Import Pandas"
   ]
  },
  {
   "cell_type": "code",
   "execution_count": 9,
   "metadata": {
    "executionInfo": {
     "elapsed": 12,
     "status": "ok",
     "timestamp": 1666180019797,
     "user": {
      "displayName": "Muhammad Fahmi Ady susilo 19_127",
      "userId": "09919749956615563057"
     },
     "user_tz": -420
    },
    "id": "cXUnqsB_-RtM"
   },
   "outputs": [],
   "source": [
    "import pandas as pd"
   ]
  },
  {
   "cell_type": "markdown",
   "metadata": {
    "id": "CO0Yww6U-_27"
   },
   "source": [
    "Baca data excel dataGanjar.xlsx yang telah diberi label (Positif,Negatif dan Netral) yang telah simpan di Google Drive"
   ]
  },
  {
   "cell_type": "code",
   "execution_count": 10,
   "metadata": {
    "colab": {
     "base_uri": "https://localhost:8080/",
     "height": 424
    },
    "executionInfo": {
     "elapsed": 12,
     "status": "ok",
     "timestamp": 1666180019798,
     "user": {
      "displayName": "Muhammad Fahmi Ady susilo 19_127",
      "userId": "09919749956615563057"
     },
     "user_tz": -420
    },
    "id": "sJbeN8bZ-a19",
    "outputId": "7314ca6e-54b1-491e-bc19-69f332e1ee3d"
   },
   "outputs": [
    {
     "data": {
      "text/html": [
       "\n",
       "  <div id=\"df-7eb0507f-8a45-4f93-9933-d425dc67129a\">\n",
       "    <div class=\"colab-df-container\">\n",
       "      <div>\n",
       "<style scoped>\n",
       "    .dataframe tbody tr th:only-of-type {\n",
       "        vertical-align: middle;\n",
       "    }\n",
       "\n",
       "    .dataframe tbody tr th {\n",
       "        vertical-align: top;\n",
       "    }\n",
       "\n",
       "    .dataframe thead th {\n",
       "        text-align: right;\n",
       "    }\n",
       "</style>\n",
       "<table border=\"1\" class=\"dataframe\">\n",
       "  <thead>\n",
       "    <tr style=\"text-align: right;\">\n",
       "      <th></th>\n",
       "      <th>tweet</th>\n",
       "      <th>label</th>\n",
       "    </tr>\n",
       "  </thead>\n",
       "  <tbody>\n",
       "    <tr>\n",
       "      <th>0</th>\n",
       "      <td>Ia berharap agar semakin banyak kerja sama yan...</td>\n",
       "      <td>positif</td>\n",
       "    </tr>\n",
       "    <tr>\n",
       "      <th>1</th>\n",
       "      <td>Duta Besar Australia untuk Indonesia Penny Wil...</td>\n",
       "      <td>positif</td>\n",
       "    </tr>\n",
       "    <tr>\n",
       "      <th>2</th>\n",
       "      <td>Butuh jalan panjang memang, untuk menâ€™sejati...</td>\n",
       "      <td>netral</td>\n",
       "    </tr>\n",
       "    <tr>\n",
       "      <th>3</th>\n",
       "      <td>Kita bisa belajar memandang setiap hubungan pe...</td>\n",
       "      <td>netral</td>\n",
       "    </tr>\n",
       "    <tr>\n",
       "      <th>4</th>\n",
       "      <td>Mas Ganjar bantu masyarakat kurang mampu nikma...</td>\n",
       "      <td>positif</td>\n",
       "    </tr>\n",
       "    <tr>\n",
       "      <th>...</th>\n",
       "      <td>...</td>\n",
       "      <td>...</td>\n",
       "    </tr>\n",
       "    <tr>\n",
       "      <th>68</th>\n",
       "      <td>Mas Ganjar siap menjalankan instruksi Presiden...</td>\n",
       "      <td>positif</td>\n",
       "    </tr>\n",
       "    <tr>\n",
       "      <th>69</th>\n",
       "      <td>Jawa Tengah tercatat sebagai provinsi dengan t...</td>\n",
       "      <td>positif</td>\n",
       "    </tr>\n",
       "    <tr>\n",
       "      <th>70</th>\n",
       "      <td>Yayasan Dokter Peduli (doctorSHARE) menemui  @...</td>\n",
       "      <td>positif</td>\n",
       "    </tr>\n",
       "    <tr>\n",
       "      <th>71</th>\n",
       "      <td>Cocok banget deh ah ðŸ‡²ðŸ‡¨ðŸ‘ðŸ‘   #airlan...</td>\n",
       "      <td>netral</td>\n",
       "    </tr>\n",
       "    <tr>\n",
       "      <th>72</th>\n",
       "      <td>Mengambil tajuk â€œJumâ€™at Berkahâ€, Sahabat...</td>\n",
       "      <td>positif</td>\n",
       "    </tr>\n",
       "  </tbody>\n",
       "</table>\n",
       "<p>73 rows × 2 columns</p>\n",
       "</div>\n",
       "      <button class=\"colab-df-convert\" onclick=\"convertToInteractive('df-7eb0507f-8a45-4f93-9933-d425dc67129a')\"\n",
       "              title=\"Convert this dataframe to an interactive table.\"\n",
       "              style=\"display:none;\">\n",
       "\n",
       "  <svg xmlns=\"http://www.w3.org/2000/svg\" height=\"24px\"viewBox=\"0 0 24 24\"\n",
       "       width=\"24px\">\n",
       "    <path d=\"M0 0h24v24H0V0z\" fill=\"none\"/>\n",
       "    <path d=\"M18.56 5.44l.94 2.06.94-2.06 2.06-.94-2.06-.94-.94-2.06-.94 2.06-2.06.94zm-11 1L8.5 8.5l.94-2.06 2.06-.94-2.06-.94L8.5 2.5l-.94 2.06-2.06.94zm10 10l.94 2.06.94-2.06 2.06-.94-2.06-.94-.94-2.06-.94 2.06-2.06.94z\"/><path d=\"M17.41 7.96l-1.37-1.37c-.4-.4-.92-.59-1.43-.59-.52 0-1.04.2-1.43.59L10.3 9.45l-7.72 7.72c-.78.78-.78 2.05 0 2.83L4 21.41c.39.39.9.59 1.41.59.51 0 1.02-.2 1.41-.59l7.78-7.78 2.81-2.81c.8-.78.8-2.07 0-2.86zM5.41 20L4 18.59l7.72-7.72 1.47 1.35L5.41 20z\"/>\n",
       "  </svg>\n",
       "      </button>\n",
       "\n",
       "  <style>\n",
       "    .colab-df-container {\n",
       "      display:flex;\n",
       "      flex-wrap:wrap;\n",
       "      gap: 12px;\n",
       "    }\n",
       "\n",
       "    .colab-df-convert {\n",
       "      background-color: #E8F0FE;\n",
       "      border: none;\n",
       "      border-radius: 50%;\n",
       "      cursor: pointer;\n",
       "      display: none;\n",
       "      fill: #1967D2;\n",
       "      height: 32px;\n",
       "      padding: 0 0 0 0;\n",
       "      width: 32px;\n",
       "    }\n",
       "\n",
       "    .colab-df-convert:hover {\n",
       "      background-color: #E2EBFA;\n",
       "      box-shadow: 0px 1px 2px rgba(60, 64, 67, 0.3), 0px 1px 3px 1px rgba(60, 64, 67, 0.15);\n",
       "      fill: #174EA6;\n",
       "    }\n",
       "\n",
       "    [theme=dark] .colab-df-convert {\n",
       "      background-color: #3B4455;\n",
       "      fill: #D2E3FC;\n",
       "    }\n",
       "\n",
       "    [theme=dark] .colab-df-convert:hover {\n",
       "      background-color: #434B5C;\n",
       "      box-shadow: 0px 1px 3px 1px rgba(0, 0, 0, 0.15);\n",
       "      filter: drop-shadow(0px 1px 2px rgba(0, 0, 0, 0.3));\n",
       "      fill: #FFFFFF;\n",
       "    }\n",
       "  </style>\n",
       "\n",
       "      <script>\n",
       "        const buttonEl =\n",
       "          document.querySelector('#df-7eb0507f-8a45-4f93-9933-d425dc67129a button.colab-df-convert');\n",
       "        buttonEl.style.display =\n",
       "          google.colab.kernel.accessAllowed ? 'block' : 'none';\n",
       "\n",
       "        async function convertToInteractive(key) {\n",
       "          const element = document.querySelector('#df-7eb0507f-8a45-4f93-9933-d425dc67129a');\n",
       "          const dataTable =\n",
       "            await google.colab.kernel.invokeFunction('convertToInteractive',\n",
       "                                                     [key], {});\n",
       "          if (!dataTable) return;\n",
       "\n",
       "          const docLinkHtml = 'Like what you see? Visit the ' +\n",
       "            '<a target=\"_blank\" href=https://colab.research.google.com/notebooks/data_table.ipynb>data table notebook</a>'\n",
       "            + ' to learn more about interactive tables.';\n",
       "          element.innerHTML = '';\n",
       "          dataTable['output_type'] = 'display_data';\n",
       "          await google.colab.output.renderOutput(dataTable, element);\n",
       "          const docLink = document.createElement('div');\n",
       "          docLink.innerHTML = docLinkHtml;\n",
       "          element.appendChild(docLink);\n",
       "        }\n",
       "      </script>\n",
       "    </div>\n",
       "  </div>\n"
      ],
      "text/plain": [
       "                                                tweet    label\n",
       "0   Ia berharap agar semakin banyak kerja sama yan...  positif\n",
       "1   Duta Besar Australia untuk Indonesia Penny Wil...  positif\n",
       "2   Butuh jalan panjang memang, untuk menâ€™sejati...   netral\n",
       "3   Kita bisa belajar memandang setiap hubungan pe...   netral\n",
       "4   Mas Ganjar bantu masyarakat kurang mampu nikma...  positif\n",
       "..                                                ...      ...\n",
       "68  Mas Ganjar siap menjalankan instruksi Presiden...  positif\n",
       "69  Jawa Tengah tercatat sebagai provinsi dengan t...  positif\n",
       "70  Yayasan Dokter Peduli (doctorSHARE) menemui  @...  positif\n",
       "71  Cocok banget deh ah ðŸ‡²ðŸ‡¨ðŸ‘ðŸ‘   #airlan...   netral\n",
       "72  Mengambil tajuk â€œJumâ€™at Berkahâ€, Sahabat...  positif\n",
       "\n",
       "[73 rows x 2 columns]"
      ]
     },
     "execution_count": 10,
     "metadata": {},
     "output_type": "execute_result"
    }
   ],
   "source": [
    "data = pd.read_excel('dataGanjar.xlsx')\n",
    "data"
   ]
  },
  {
   "cell_type": "markdown",
   "metadata": {
    "id": "kzEbq_RknYdN"
   },
   "source": [
    "## Penjelasan NLTK"
   ]
  },
  {
   "cell_type": "markdown",
   "metadata": {
    "id": "T2lQlZr5D0pb"
   },
   "source": [
    "**NLTK adalah singkatan dari Natural Language Tool Kit, yaitu sebuah library yang digunakan untuk membantu kita dalam bekerja dengan teks. Library ini memudahkan kita untuk memproses teks seperti melakukan classification, tokenization, stemming, tagging, parsing, dan semantic reasoning.**"
   ]
  },
  {
   "cell_type": "markdown",
   "metadata": {
    "id": "PxzEBvygncmW"
   },
   "source": [
    "## Penjelasan Sastrawi"
   ]
  },
  {
   "cell_type": "markdown",
   "metadata": {
    "id": "eh0IBQeaESeT"
   },
   "source": [
    "**Python Sastrawi adalah pengembangan dari proyek PHP Sastrawi. Python Sastrawi merupakan library sederhana yang dapat mengubah kata berimbuhan bahasa Indonesia menjadi bentuk dasarnya. Sastrawi juga dapat diinstal melalui “pip”**"
   ]
  },
  {
   "cell_type": "markdown",
   "metadata": {
    "id": "kO1FeLQC9ZE0"
   },
   "source": [
    "Install Library nltk dan Sastrawi"
   ]
  },
  {
   "cell_type": "code",
   "execution_count": 11,
   "metadata": {
    "colab": {
     "base_uri": "https://localhost:8080/"
    },
    "executionInfo": {
     "elapsed": 6917,
     "status": "ok",
     "timestamp": 1666180026705,
     "user": {
      "displayName": "Muhammad Fahmi Ady susilo 19_127",
      "userId": "09919749956615563057"
     },
     "user_tz": -420
    },
    "id": "aRoIa80m1td9",
    "outputId": "f1af450c-16f1-430b-d141-6119ca402d9e"
   },
   "outputs": [
    {
     "name": "stdout",
     "output_type": "stream",
     "text": [
      "Looking in indexes: https://pypi.org/simple, https://us-python.pkg.dev/colab-wheels/public/simple/\n",
      "Requirement already satisfied: nltk in /usr/local/lib/python3.7/dist-packages (3.7)\n",
      "Requirement already satisfied: regex>=2021.8.3 in /usr/local/lib/python3.7/dist-packages (from nltk) (2022.6.2)\n",
      "Requirement already satisfied: click in /usr/local/lib/python3.7/dist-packages (from nltk) (7.1.2)\n",
      "Requirement already satisfied: tqdm in /usr/local/lib/python3.7/dist-packages (from nltk) (4.64.1)\n",
      "Requirement already satisfied: joblib in /usr/local/lib/python3.7/dist-packages (from nltk) (1.2.0)\n",
      "Looking in indexes: https://pypi.org/simple, https://us-python.pkg.dev/colab-wheels/public/simple/\n",
      "Collecting Sastrawi\n",
      "  Downloading Sastrawi-1.0.1-py2.py3-none-any.whl (209 kB)\n",
      "\u001b[K     |████████████████████████████████| 209 kB 8.2 MB/s \n",
      "\u001b[?25hInstalling collected packages: Sastrawi\n",
      "Successfully installed Sastrawi-1.0.1\n"
     ]
    }
   ],
   "source": [
    "!pip install nltk\n",
    "!pip install Sastrawi"
   ]
  },
  {
   "cell_type": "markdown",
   "metadata": {
    "id": "qfu-2hS9nx9g"
   },
   "source": [
    "## Penjelasan RE"
   ]
  },
  {
   "cell_type": "markdown",
   "metadata": {
    "id": "76AX2eOIPSDs"
   },
   "source": [
    "**Re module Python menyediakan seperangkat fungsi yang memungkinkan kita untuk mencari sebuah string untuk match (match).**"
   ]
  },
  {
   "cell_type": "markdown",
   "metadata": {
    "id": "iPYl7aj-SJOz"
   },
   "source": [
    "Lakukan Import beberapa Library seperti Pandas,re,nltk,string dan Sastrawi"
   ]
  },
  {
   "cell_type": "code",
   "execution_count": 12,
   "metadata": {
    "colab": {
     "base_uri": "https://localhost:8080/"
    },
    "executionInfo": {
     "elapsed": 1447,
     "status": "ok",
     "timestamp": 1666180028145,
     "user": {
      "displayName": "Muhammad Fahmi Ady susilo 19_127",
      "userId": "09919749956615563057"
     },
     "user_tz": -420
    },
    "id": "3qsi76CnGdOM",
    "outputId": "114d1ab3-f8b6-4f41-912a-d1b1916fa966"
   },
   "outputs": [
    {
     "name": "stderr",
     "output_type": "stream",
     "text": [
      "[nltk_data] Downloading package punkt to /root/nltk_data...\n",
      "[nltk_data]   Unzipping tokenizers/punkt.zip.\n"
     ]
    }
   ],
   "source": [
    "import pandas as pd\n",
    "import re\n",
    "import numpy as np\n",
    "\n",
    "import nltk\n",
    "nltk.download('punkt')\n",
    "import string\n",
    "from Sastrawi.Stemmer.StemmerFactory import StemmerFactory"
   ]
  },
  {
   "cell_type": "markdown",
   "metadata": {
    "id": "TEyrB3QsSkf5"
   },
   "source": [
    "Selanjutnya membuat Function Remove Stopwords yang fungsinya adalah menghapus kata-kata yang tidak diperlukan dalam proses nantinya,sehingga dapat mempercepat proses VSM"
   ]
  },
  {
   "cell_type": "code",
   "execution_count": 13,
   "metadata": {
    "executionInfo": {
     "elapsed": 12,
     "status": "ok",
     "timestamp": 1666180028146,
     "user": {
      "displayName": "Muhammad Fahmi Ady susilo 19_127",
      "userId": "09919749956615563057"
     },
     "user_tz": -420
    },
    "id": "sdYPHtiiGuX3"
   },
   "outputs": [],
   "source": [
    "def remove_stopwords(text):\n",
    "    with open('/content/drive/MyDrive/webmining/webmining/contents/stopwords.txt') as f:\n",
    "        stopwords = f.readlines()\n",
    "        stopwords = [x.strip() for x in stopwords]\n",
    "    \n",
    "    text = nltk.word_tokenize(text)\n",
    "    text = [word for word in text if word not in stopwords]\n",
    "                     \n",
    "    return text\n"
   ]
  },
  {
   "cell_type": "markdown",
   "metadata": {
    "id": "Xzv5GHH4TgPp"
   },
   "source": [
    "Steming merupakan proses mengubah kata dalam bahasa Indonesia ke akar katanya misalkan 'Mereka meniru-nirukannya' menjadi 'mereka tiru'"
   ]
  },
  {
   "cell_type": "code",
   "execution_count": 14,
   "metadata": {
    "executionInfo": {
     "elapsed": 12,
     "status": "ok",
     "timestamp": 1666180028147,
     "user": {
      "displayName": "Muhammad Fahmi Ady susilo 19_127",
      "userId": "09919749956615563057"
     },
     "user_tz": -420
    },
    "id": "p3EK-ZAzGwG7"
   },
   "outputs": [],
   "source": [
    "def stemming(text):\n",
    "    factory = StemmerFactory()\n",
    "    stemmer = factory.create_stemmer()\n",
    "    \n",
    "    result = [stemmer.stem(word) for word in text]\n",
    "    \n",
    "    return result"
   ]
  },
  {
   "cell_type": "markdown",
   "metadata": {
    "id": "oRpRSdDrUWxY"
   },
   "source": [
    "Selanjutnya tahap preprocessing,untuk tahap ini ada beberapa proses seperti:  \n",
    "\n",
    "\n",
    "> 1.Mengubah Text menjadi huruf kecil\n",
    "\n",
    "> 2.Menghapus Kata non Ascii\n",
    "\n",
    "> 4.Menghapus Hastag,Link dan Mention\n",
    "\n",
    "> 5.Mengubah/menghilangkan tanda (misalkan garis miring menjadi spasi)\n",
    "\n",
    "> 6.Melakukan tokenization kata dan Penghapusan Kata yang tidak digunakan\n",
    "\n",
    "> 7.Memfilter kata dari tanda baca\n",
    "\n",
    "> 8.Mengubah kata dalam bahasa Indonesia ke akar katanya\n",
    "\n",
    "> 9.Menghapus String kosong\n",
    "\n",
    "\n",
    "\n",
    "\n",
    "\n",
    "\n",
    "\n",
    "\n",
    "\n",
    "\n",
    "\n",
    "\n",
    "\n"
   ]
  },
  {
   "cell_type": "code",
   "execution_count": 15,
   "metadata": {
    "executionInfo": {
     "elapsed": 12,
     "status": "ok",
     "timestamp": 1666180028148,
     "user": {
      "displayName": "Muhammad Fahmi Ady susilo 19_127",
      "userId": "09919749956615563057"
     },
     "user_tz": -420
    },
    "id": "h_B8m0RfGyJH"
   },
   "outputs": [],
   "source": [
    "def preprocessing(text):\n",
    "    #case folding\n",
    "    text = text.lower()\n",
    "\n",
    "    #remove non ASCII (emoticon, chinese word, .etc)\n",
    "    text = text.replace('\\\\t',\" \").replace('\\\\n',\" \").replace('\\\\u',\" \").replace('\\\\',\" \").replace('\\\\f',\" \").replace('\\\\r',\" \")\n",
    "\n",
    "    # remove non ASCII (emoticon, chinese word, .etc)\n",
    "    text = text.encode('ascii', 'replace').decode('ascii')\n",
    "\n",
    "    # remove mention, link, hashtag\n",
    "    text = ' '.join(re.sub(\"([@#][A-Za-z0-9]+)|(\\w+:\\/\\/\\S+)\",\" \", text).split())\n",
    "\n",
    "    #replace weird characters\n",
    "    text = text.replace('“', '\"')\n",
    "    text = text.replace('”', '\"')\n",
    "    text = text.replace('-', ' ')\n",
    "\n",
    "    #tokenization and remove stopwords\n",
    "    text = remove_stopwords(text)\n",
    "\n",
    "    #remove punctuation    \n",
    "    text = [''.join(c for c in s if c not in string.punctuation) for s in text]  \n",
    "\n",
    "    #stemming\n",
    "    text = stemming(text)\n",
    "\n",
    "    #remove empty string\n",
    "    text = list(filter(None, text))\n",
    "    return text"
   ]
  },
  {
   "cell_type": "markdown",
   "metadata": {
    "id": "VQXuZkr6UJ-G"
   },
   "source": [
    "Selanjutnya pindah Path ke Folder contents"
   ]
  },
  {
   "cell_type": "code",
   "execution_count": 16,
   "metadata": {
    "colab": {
     "base_uri": "https://localhost:8080/"
    },
    "executionInfo": {
     "elapsed": 13,
     "status": "ok",
     "timestamp": 1666180028149,
     "user": {
      "displayName": "Muhammad Fahmi Ady susilo 19_127",
      "userId": "09919749956615563057"
     },
     "user_tz": -420
    },
    "id": "ZcX2mhNk_-_j",
    "outputId": "02b59c9f-34f5-4d06-e4d9-2269a37b85de"
   },
   "outputs": [
    {
     "name": "stdout",
     "output_type": "stream",
     "text": [
      "/content/drive/MyDrive/webmining/webmining/contents\n"
     ]
    }
   ],
   "source": [
    "%cd /content/drive/MyDrive/webmining/webmining/contents"
   ]
  },
  {
   "cell_type": "markdown",
   "metadata": {
    "id": "5Oso5DEuUTuG"
   },
   "source": [
    "Simpan hasil dari preprocessing ke dalam bentuk CSV"
   ]
  },
  {
   "cell_type": "code",
   "execution_count": 17,
   "metadata": {
    "executionInfo": {
     "elapsed": 10,
     "status": "ok",
     "timestamp": 1666180028149,
     "user": {
      "displayName": "Muhammad Fahmi Ady susilo 19_127",
      "userId": "09919749956615563057"
     },
     "user_tz": -420
    },
    "id": "aX7_vGk_UQ62"
   },
   "outputs": [],
   "source": [
    "#data['tweet'].apply(preprocessing).to_excel('preprocessing.xlsx')\n"
   ]
  },
  {
   "cell_type": "markdown",
   "metadata": {
    "id": "st3sgVRTJy2m"
   },
   "source": [
    "Tokenizing adalah proses pemisahan teks menjadi potongan-potongan yang disebut sebagai token untuk kemudian di analisa. Kata, angka, simbol, tanda baca dan entitas penting lainnya dapat dianggap sebagai token."
   ]
  },
  {
   "cell_type": "code",
   "execution_count": 18,
   "metadata": {
    "colab": {
     "base_uri": "https://localhost:8080/",
     "height": 424
    },
    "executionInfo": {
     "elapsed": 612,
     "status": "ok",
     "timestamp": 1666180028751,
     "user": {
      "displayName": "Muhammad Fahmi Ady susilo 19_127",
      "userId": "09919749956615563057"
     },
     "user_tz": -420
    },
    "id": "i5rplfpmZw_R",
    "outputId": "726c967a-03a9-4a1e-e28f-5ea54a8b191f"
   },
   "outputs": [
    {
     "data": {
      "text/html": [
       "\n",
       "  <div id=\"df-1ad980e4-22a7-447e-aec6-06017a99836f\">\n",
       "    <div class=\"colab-df-container\">\n",
       "      <div>\n",
       "<style scoped>\n",
       "    .dataframe tbody tr th:only-of-type {\n",
       "        vertical-align: middle;\n",
       "    }\n",
       "\n",
       "    .dataframe tbody tr th {\n",
       "        vertical-align: top;\n",
       "    }\n",
       "\n",
       "    .dataframe thead th {\n",
       "        text-align: right;\n",
       "    }\n",
       "</style>\n",
       "<table border=\"1\" class=\"dataframe\">\n",
       "  <thead>\n",
       "    <tr style=\"text-align: right;\">\n",
       "      <th></th>\n",
       "      <th>Unnamed: 0</th>\n",
       "      <th>tweet</th>\n",
       "      <th>label</th>\n",
       "    </tr>\n",
       "  </thead>\n",
       "  <tbody>\n",
       "    <tr>\n",
       "      <th>0</th>\n",
       "      <td>0</td>\n",
       "      <td>['harap', 'kerja', 'jalin', 'jawa', 'australia']</td>\n",
       "      <td>positif</td>\n",
       "    </tr>\n",
       "    <tr>\n",
       "      <th>1</th>\n",
       "      <td>1</td>\n",
       "      <td>['duta', 'australia', 'indonesia', 'penny', 'w...</td>\n",
       "      <td>positif</td>\n",
       "    </tr>\n",
       "    <tr>\n",
       "      <th>2</th>\n",
       "      <td>2</td>\n",
       "      <td>['butuh', 'jalan', 'men', 'sejati', 'teman', '...</td>\n",
       "      <td>netral</td>\n",
       "    </tr>\n",
       "    <tr>\n",
       "      <th>3</th>\n",
       "      <td>3</td>\n",
       "      <td>['ajar', 'pandang', 'hubung', 'teman', 'milik'...</td>\n",
       "      <td>netral</td>\n",
       "    </tr>\n",
       "    <tr>\n",
       "      <th>4</th>\n",
       "      <td>4</td>\n",
       "      <td>['mas', 'ganjar', 'bantu', 'masyarakat', 'nikm...</td>\n",
       "      <td>positif</td>\n",
       "    </tr>\n",
       "    <tr>\n",
       "      <th>...</th>\n",
       "      <td>...</td>\n",
       "      <td>...</td>\n",
       "      <td>...</td>\n",
       "    </tr>\n",
       "    <tr>\n",
       "      <th>68</th>\n",
       "      <td>68</td>\n",
       "      <td>['mas', 'ganjar', 'jalan', 'instruksi', 'presi...</td>\n",
       "      <td>positif</td>\n",
       "    </tr>\n",
       "    <tr>\n",
       "      <th>69</th>\n",
       "      <td>69</td>\n",
       "      <td>['jawa', 'catat', 'provinsi', 'tingkat', 'infl...</td>\n",
       "      <td>positif</td>\n",
       "    </tr>\n",
       "    <tr>\n",
       "      <th>70</th>\n",
       "      <td>70</td>\n",
       "      <td>['yayasan', 'dokter', 'peduli', 'doctorshare',...</td>\n",
       "      <td>positif</td>\n",
       "    </tr>\n",
       "    <tr>\n",
       "      <th>71</th>\n",
       "      <td>71</td>\n",
       "      <td>['cocok', 'banget', 'deh', 'ah', 'typa', 'girl']</td>\n",
       "      <td>netral</td>\n",
       "    </tr>\n",
       "    <tr>\n",
       "      <th>72</th>\n",
       "      <td>72</td>\n",
       "      <td>['ambil', 'tajuk', 'jum', 'at', 'berkah', 'sah...</td>\n",
       "      <td>positif</td>\n",
       "    </tr>\n",
       "  </tbody>\n",
       "</table>\n",
       "<p>73 rows × 3 columns</p>\n",
       "</div>\n",
       "      <button class=\"colab-df-convert\" onclick=\"convertToInteractive('df-1ad980e4-22a7-447e-aec6-06017a99836f')\"\n",
       "              title=\"Convert this dataframe to an interactive table.\"\n",
       "              style=\"display:none;\">\n",
       "\n",
       "  <svg xmlns=\"http://www.w3.org/2000/svg\" height=\"24px\"viewBox=\"0 0 24 24\"\n",
       "       width=\"24px\">\n",
       "    <path d=\"M0 0h24v24H0V0z\" fill=\"none\"/>\n",
       "    <path d=\"M18.56 5.44l.94 2.06.94-2.06 2.06-.94-2.06-.94-.94-2.06-.94 2.06-2.06.94zm-11 1L8.5 8.5l.94-2.06 2.06-.94-2.06-.94L8.5 2.5l-.94 2.06-2.06.94zm10 10l.94 2.06.94-2.06 2.06-.94-2.06-.94-.94-2.06-.94 2.06-2.06.94z\"/><path d=\"M17.41 7.96l-1.37-1.37c-.4-.4-.92-.59-1.43-.59-.52 0-1.04.2-1.43.59L10.3 9.45l-7.72 7.72c-.78.78-.78 2.05 0 2.83L4 21.41c.39.39.9.59 1.41.59.51 0 1.02-.2 1.41-.59l7.78-7.78 2.81-2.81c.8-.78.8-2.07 0-2.86zM5.41 20L4 18.59l7.72-7.72 1.47 1.35L5.41 20z\"/>\n",
       "  </svg>\n",
       "      </button>\n",
       "\n",
       "  <style>\n",
       "    .colab-df-container {\n",
       "      display:flex;\n",
       "      flex-wrap:wrap;\n",
       "      gap: 12px;\n",
       "    }\n",
       "\n",
       "    .colab-df-convert {\n",
       "      background-color: #E8F0FE;\n",
       "      border: none;\n",
       "      border-radius: 50%;\n",
       "      cursor: pointer;\n",
       "      display: none;\n",
       "      fill: #1967D2;\n",
       "      height: 32px;\n",
       "      padding: 0 0 0 0;\n",
       "      width: 32px;\n",
       "    }\n",
       "\n",
       "    .colab-df-convert:hover {\n",
       "      background-color: #E2EBFA;\n",
       "      box-shadow: 0px 1px 2px rgba(60, 64, 67, 0.3), 0px 1px 3px 1px rgba(60, 64, 67, 0.15);\n",
       "      fill: #174EA6;\n",
       "    }\n",
       "\n",
       "    [theme=dark] .colab-df-convert {\n",
       "      background-color: #3B4455;\n",
       "      fill: #D2E3FC;\n",
       "    }\n",
       "\n",
       "    [theme=dark] .colab-df-convert:hover {\n",
       "      background-color: #434B5C;\n",
       "      box-shadow: 0px 1px 3px 1px rgba(0, 0, 0, 0.15);\n",
       "      filter: drop-shadow(0px 1px 2px rgba(0, 0, 0, 0.3));\n",
       "      fill: #FFFFFF;\n",
       "    }\n",
       "  </style>\n",
       "\n",
       "      <script>\n",
       "        const buttonEl =\n",
       "          document.querySelector('#df-1ad980e4-22a7-447e-aec6-06017a99836f button.colab-df-convert');\n",
       "        buttonEl.style.display =\n",
       "          google.colab.kernel.accessAllowed ? 'block' : 'none';\n",
       "\n",
       "        async function convertToInteractive(key) {\n",
       "          const element = document.querySelector('#df-1ad980e4-22a7-447e-aec6-06017a99836f');\n",
       "          const dataTable =\n",
       "            await google.colab.kernel.invokeFunction('convertToInteractive',\n",
       "                                                     [key], {});\n",
       "          if (!dataTable) return;\n",
       "\n",
       "          const docLinkHtml = 'Like what you see? Visit the ' +\n",
       "            '<a target=\"_blank\" href=https://colab.research.google.com/notebooks/data_table.ipynb>data table notebook</a>'\n",
       "            + ' to learn more about interactive tables.';\n",
       "          element.innerHTML = '';\n",
       "          dataTable['output_type'] = 'display_data';\n",
       "          await google.colab.output.renderOutput(dataTable, element);\n",
       "          const docLink = document.createElement('div');\n",
       "          docLink.innerHTML = docLinkHtml;\n",
       "          element.appendChild(docLink);\n",
       "        }\n",
       "      </script>\n",
       "    </div>\n",
       "  </div>\n"
      ],
      "text/plain": [
       "    Unnamed: 0                                              tweet    label\n",
       "0            0   ['harap', 'kerja', 'jalin', 'jawa', 'australia']  positif\n",
       "1            1  ['duta', 'australia', 'indonesia', 'penny', 'w...  positif\n",
       "2            2  ['butuh', 'jalan', 'men', 'sejati', 'teman', '...   netral\n",
       "3            3  ['ajar', 'pandang', 'hubung', 'teman', 'milik'...   netral\n",
       "4            4  ['mas', 'ganjar', 'bantu', 'masyarakat', 'nikm...  positif\n",
       "..         ...                                                ...      ...\n",
       "68          68  ['mas', 'ganjar', 'jalan', 'instruksi', 'presi...  positif\n",
       "69          69  ['jawa', 'catat', 'provinsi', 'tingkat', 'infl...  positif\n",
       "70          70  ['yayasan', 'dokter', 'peduli', 'doctorshare',...  positif\n",
       "71          71   ['cocok', 'banget', 'deh', 'ah', 'typa', 'girl']   netral\n",
       "72          72  ['ambil', 'tajuk', 'jum', 'at', 'berkah', 'sah...  positif\n",
       "\n",
       "[73 rows x 3 columns]"
      ]
     },
     "execution_count": 18,
     "metadata": {},
     "output_type": "execute_result"
    }
   ],
   "source": [
    "from sklearn.feature_extraction.text import TfidfTransformer, TfidfVectorizer, CountVectorizer\n",
    "dataTextPre = pd.read_excel('/content/drive/MyDrive/webmining/webmining/contents/preprocessing.xlsx')\n",
    "vectorizer = CountVectorizer(min_df=1)\n",
    "bag = vectorizer.fit_transform(dataTextPre['tweet'])\n",
    "dataTextPre"
   ]
  },
  {
   "cell_type": "markdown",
   "metadata": {
    "id": "QwlkbCdclhuv"
   },
   "source": [
    "Melihat Jumlah Baris dan Kata"
   ]
  },
  {
   "cell_type": "code",
   "execution_count": 19,
   "metadata": {
    "colab": {
     "base_uri": "https://localhost:8080/"
    },
    "executionInfo": {
     "elapsed": 29,
     "status": "ok",
     "timestamp": 1666180028752,
     "user": {
      "displayName": "Muhammad Fahmi Ady susilo 19_127",
      "userId": "09919749956615563057"
     },
     "user_tz": -420
    },
    "id": "3oT0lnjLZ9BX",
    "outputId": "67de481e-e2dc-404b-c64e-98a8d3f20308"
   },
   "outputs": [
    {
     "data": {
      "text/plain": [
       "(73, 398)"
      ]
     },
     "execution_count": 19,
     "metadata": {},
     "output_type": "execute_result"
    }
   ],
   "source": [
    "matrik_vsm=bag.toarray()\n",
    "matrik_vsm.shape"
   ]
  },
  {
   "cell_type": "code",
   "execution_count": 20,
   "metadata": {
    "colab": {
     "base_uri": "https://localhost:8080/"
    },
    "executionInfo": {
     "elapsed": 25,
     "status": "ok",
     "timestamp": 1666180028753,
     "user": {
      "displayName": "Muhammad Fahmi Ady susilo 19_127",
      "userId": "09919749956615563057"
     },
     "user_tz": -420
    },
    "id": "dcDN5hPzaAKw",
    "outputId": "3fe470b8-e217-4150-fd56-185946c1f78e"
   },
   "outputs": [
    {
     "data": {
      "text/plain": [
       "array([0, 0, 0, 0, 0, 0, 0, 0, 0, 0, 0, 0, 0, 0, 0, 0, 0, 0, 0, 0, 0, 0,\n",
       "       0, 0, 0, 0, 0, 0, 0, 0, 0, 0, 1, 0, 0, 0, 0, 0, 0, 0, 0, 0, 0, 0,\n",
       "       0, 0, 0, 0, 0, 0, 0, 0, 0, 0, 0, 0, 0, 0, 0, 0, 0, 0, 0, 0, 0, 0,\n",
       "       0, 0, 0, 0, 0, 0, 0, 0, 0, 0, 0, 0, 0, 0, 0, 0, 0, 0, 0, 0, 0, 0,\n",
       "       0, 0, 0, 0, 0, 0, 0, 0, 0, 0, 0, 0, 0, 0, 0, 0, 0, 0, 0, 0, 0, 0,\n",
       "       0, 0, 0, 0, 0, 0, 0, 0, 0, 0, 0, 0, 0, 0, 0, 0, 0, 0, 0, 0, 0, 0,\n",
       "       0, 0, 0, 0, 0, 0, 1, 0, 0, 0, 0, 0, 0, 0, 0, 0, 0, 0, 0, 0, 0, 0,\n",
       "       0, 0, 1, 0, 0, 0, 1, 0, 0, 0, 0, 0, 0, 0, 0, 0, 0, 0, 0, 0, 0, 0,\n",
       "       0, 0, 0, 0, 0, 0, 0, 0, 1, 0, 0, 0, 0, 0, 0, 0, 0, 0, 0, 0, 0, 0,\n",
       "       0, 0, 0, 0, 0, 0, 0, 0, 0, 0, 0, 0, 0, 0, 0, 0, 0, 0, 0, 0, 0, 0,\n",
       "       0, 0, 0, 0, 0, 0, 0, 0, 0, 0, 0, 0, 0, 0, 0, 0, 0, 0, 0, 0, 0, 0,\n",
       "       0, 0, 0, 0, 0, 0, 0, 0, 0, 0, 0, 0, 0, 0, 0, 0, 0, 0, 0, 0, 0, 0,\n",
       "       0, 0, 0, 0, 0, 0, 0, 0, 0, 0, 0, 0, 0, 0, 0, 0, 0, 0, 0, 0, 0, 0,\n",
       "       0, 0, 0, 0, 0, 0, 0, 0, 0, 0, 0, 0, 0, 0, 0, 0, 0, 0, 0, 0, 0, 0,\n",
       "       0, 0, 0, 0, 0, 0, 0, 0, 0, 0, 0, 0, 0, 0, 0, 0, 0, 0, 0, 0, 0, 0,\n",
       "       0, 0, 0, 0, 0, 0, 0, 0, 0, 0, 0, 0, 0, 0, 0, 0, 0, 0, 0, 0, 0, 0,\n",
       "       0, 0, 0, 0, 0, 0, 0, 0, 0, 0, 0, 0, 0, 0, 0, 0, 0, 0, 0, 0, 0, 0,\n",
       "       0, 0, 0, 0, 0, 0, 0, 0, 0, 0, 0, 0, 0, 0, 0, 0, 0, 0, 0, 0, 0, 0,\n",
       "       0, 0])"
      ]
     },
     "execution_count": 20,
     "metadata": {},
     "output_type": "execute_result"
    }
   ],
   "source": [
    "matrik_vsm[0]"
   ]
  },
  {
   "cell_type": "code",
   "execution_count": 21,
   "metadata": {
    "colab": {
     "base_uri": "https://localhost:8080/"
    },
    "executionInfo": {
     "elapsed": 24,
     "status": "ok",
     "timestamp": 1666180028755,
     "user": {
      "displayName": "Muhammad Fahmi Ady susilo 19_127",
      "userId": "09919749956615563057"
     },
     "user_tz": -420
    },
    "id": "z2Eky3rOaIdY",
    "outputId": "4caa2bb4-2afc-4ef3-c9c6-f24eb6361e3e"
   },
   "outputs": [
    {
     "name": "stderr",
     "output_type": "stream",
     "text": [
      "/usr/local/lib/python3.7/dist-packages/sklearn/utils/deprecation.py:87: FutureWarning: Function get_feature_names is deprecated; get_feature_names is deprecated in 1.0 and will be removed in 1.2. Please use get_feature_names_out instead.\n",
      "  warnings.warn(msg, category=FutureWarning)\n"
     ]
    }
   ],
   "source": [
    "a=vectorizer.get_feature_names()"
   ]
  },
  {
   "cell_type": "markdown",
   "metadata": {
    "id": "yYLJTj9DKBwX"
   },
   "source": [
    "Tampilan data VSM dengan labelnya "
   ]
  },
  {
   "cell_type": "code",
   "execution_count": 22,
   "metadata": {
    "colab": {
     "base_uri": "https://localhost:8080/",
     "height": 488
    },
    "executionInfo": {
     "elapsed": 21,
     "status": "ok",
     "timestamp": 1666180028756,
     "user": {
      "displayName": "Muhammad Fahmi Ady susilo 19_127",
      "userId": "09919749956615563057"
     },
     "user_tz": -420
    },
    "id": "cZMUH4G4aYno",
    "outputId": "45efb026-ff13-4fe2-cbd1-4eb61b6baa23"
   },
   "outputs": [
    {
     "data": {
      "text/html": [
       "\n",
       "  <div id=\"df-ef9e7299-aa01-4118-95fe-1d5c1ec9b111\">\n",
       "    <div class=\"colab-df-container\">\n",
       "      <div>\n",
       "<style scoped>\n",
       "    .dataframe tbody tr th:only-of-type {\n",
       "        vertical-align: middle;\n",
       "    }\n",
       "\n",
       "    .dataframe tbody tr th {\n",
       "        vertical-align: top;\n",
       "    }\n",
       "\n",
       "    .dataframe thead tr th {\n",
       "        text-align: left;\n",
       "    }\n",
       "</style>\n",
       "<table border=\"1\" class=\"dataframe\">\n",
       "  <thead>\n",
       "    <tr>\n",
       "      <th></th>\n",
       "      <th>1000</th>\n",
       "      <th>17</th>\n",
       "      <th>17092022</th>\n",
       "      <th>20</th>\n",
       "      <th>2022</th>\n",
       "      <th>2024</th>\n",
       "      <th>30</th>\n",
       "      <th>acara</th>\n",
       "      <th>ada</th>\n",
       "      <th>agenda</th>\n",
       "      <th>...</th>\n",
       "      <th>warga</th>\n",
       "      <th>wilayah</th>\n",
       "      <th>wiliam</th>\n",
       "      <th>ya</th>\n",
       "      <th>yaqowiyu</th>\n",
       "      <th>yayasan</th>\n",
       "      <th>yeah</th>\n",
       "      <th>yg</th>\n",
       "      <th>yogyakarta</th>\n",
       "      <th>zaman</th>\n",
       "    </tr>\n",
       "  </thead>\n",
       "  <tbody>\n",
       "    <tr>\n",
       "      <th>1</th>\n",
       "      <td>0</td>\n",
       "      <td>0</td>\n",
       "      <td>0</td>\n",
       "      <td>0</td>\n",
       "      <td>0</td>\n",
       "      <td>0</td>\n",
       "      <td>0</td>\n",
       "      <td>0</td>\n",
       "      <td>0</td>\n",
       "      <td>0</td>\n",
       "      <td>...</td>\n",
       "      <td>0</td>\n",
       "      <td>0</td>\n",
       "      <td>0</td>\n",
       "      <td>0</td>\n",
       "      <td>0</td>\n",
       "      <td>0</td>\n",
       "      <td>0</td>\n",
       "      <td>0</td>\n",
       "      <td>0</td>\n",
       "      <td>0</td>\n",
       "    </tr>\n",
       "    <tr>\n",
       "      <th>2</th>\n",
       "      <td>0</td>\n",
       "      <td>0</td>\n",
       "      <td>0</td>\n",
       "      <td>0</td>\n",
       "      <td>0</td>\n",
       "      <td>0</td>\n",
       "      <td>0</td>\n",
       "      <td>0</td>\n",
       "      <td>0</td>\n",
       "      <td>0</td>\n",
       "      <td>...</td>\n",
       "      <td>0</td>\n",
       "      <td>0</td>\n",
       "      <td>1</td>\n",
       "      <td>0</td>\n",
       "      <td>0</td>\n",
       "      <td>0</td>\n",
       "      <td>0</td>\n",
       "      <td>0</td>\n",
       "      <td>0</td>\n",
       "      <td>0</td>\n",
       "    </tr>\n",
       "    <tr>\n",
       "      <th>3</th>\n",
       "      <td>0</td>\n",
       "      <td>0</td>\n",
       "      <td>0</td>\n",
       "      <td>0</td>\n",
       "      <td>0</td>\n",
       "      <td>0</td>\n",
       "      <td>0</td>\n",
       "      <td>0</td>\n",
       "      <td>0</td>\n",
       "      <td>0</td>\n",
       "      <td>...</td>\n",
       "      <td>0</td>\n",
       "      <td>0</td>\n",
       "      <td>0</td>\n",
       "      <td>0</td>\n",
       "      <td>0</td>\n",
       "      <td>0</td>\n",
       "      <td>0</td>\n",
       "      <td>0</td>\n",
       "      <td>0</td>\n",
       "      <td>0</td>\n",
       "    </tr>\n",
       "    <tr>\n",
       "      <th>4</th>\n",
       "      <td>0</td>\n",
       "      <td>0</td>\n",
       "      <td>0</td>\n",
       "      <td>0</td>\n",
       "      <td>0</td>\n",
       "      <td>0</td>\n",
       "      <td>0</td>\n",
       "      <td>0</td>\n",
       "      <td>0</td>\n",
       "      <td>0</td>\n",
       "      <td>...</td>\n",
       "      <td>0</td>\n",
       "      <td>0</td>\n",
       "      <td>0</td>\n",
       "      <td>0</td>\n",
       "      <td>0</td>\n",
       "      <td>0</td>\n",
       "      <td>0</td>\n",
       "      <td>0</td>\n",
       "      <td>0</td>\n",
       "      <td>0</td>\n",
       "    </tr>\n",
       "    <tr>\n",
       "      <th>5</th>\n",
       "      <td>0</td>\n",
       "      <td>0</td>\n",
       "      <td>0</td>\n",
       "      <td>0</td>\n",
       "      <td>0</td>\n",
       "      <td>0</td>\n",
       "      <td>1</td>\n",
       "      <td>0</td>\n",
       "      <td>0</td>\n",
       "      <td>0</td>\n",
       "      <td>...</td>\n",
       "      <td>0</td>\n",
       "      <td>0</td>\n",
       "      <td>0</td>\n",
       "      <td>0</td>\n",
       "      <td>0</td>\n",
       "      <td>0</td>\n",
       "      <td>0</td>\n",
       "      <td>0</td>\n",
       "      <td>0</td>\n",
       "      <td>0</td>\n",
       "    </tr>\n",
       "    <tr>\n",
       "      <th>...</th>\n",
       "      <td>...</td>\n",
       "      <td>...</td>\n",
       "      <td>...</td>\n",
       "      <td>...</td>\n",
       "      <td>...</td>\n",
       "      <td>...</td>\n",
       "      <td>...</td>\n",
       "      <td>...</td>\n",
       "      <td>...</td>\n",
       "      <td>...</td>\n",
       "      <td>...</td>\n",
       "      <td>...</td>\n",
       "      <td>...</td>\n",
       "      <td>...</td>\n",
       "      <td>...</td>\n",
       "      <td>...</td>\n",
       "      <td>...</td>\n",
       "      <td>...</td>\n",
       "      <td>...</td>\n",
       "      <td>...</td>\n",
       "      <td>...</td>\n",
       "    </tr>\n",
       "    <tr>\n",
       "      <th>69</th>\n",
       "      <td>0</td>\n",
       "      <td>0</td>\n",
       "      <td>0</td>\n",
       "      <td>0</td>\n",
       "      <td>0</td>\n",
       "      <td>0</td>\n",
       "      <td>0</td>\n",
       "      <td>0</td>\n",
       "      <td>0</td>\n",
       "      <td>0</td>\n",
       "      <td>...</td>\n",
       "      <td>0</td>\n",
       "      <td>0</td>\n",
       "      <td>0</td>\n",
       "      <td>0</td>\n",
       "      <td>0</td>\n",
       "      <td>0</td>\n",
       "      <td>0</td>\n",
       "      <td>0</td>\n",
       "      <td>0</td>\n",
       "      <td>0</td>\n",
       "    </tr>\n",
       "    <tr>\n",
       "      <th>70</th>\n",
       "      <td>0</td>\n",
       "      <td>0</td>\n",
       "      <td>0</td>\n",
       "      <td>0</td>\n",
       "      <td>0</td>\n",
       "      <td>0</td>\n",
       "      <td>0</td>\n",
       "      <td>0</td>\n",
       "      <td>0</td>\n",
       "      <td>0</td>\n",
       "      <td>...</td>\n",
       "      <td>0</td>\n",
       "      <td>0</td>\n",
       "      <td>0</td>\n",
       "      <td>0</td>\n",
       "      <td>0</td>\n",
       "      <td>0</td>\n",
       "      <td>3</td>\n",
       "      <td>0</td>\n",
       "      <td>0</td>\n",
       "      <td>0</td>\n",
       "    </tr>\n",
       "    <tr>\n",
       "      <th>71</th>\n",
       "      <td>0</td>\n",
       "      <td>0</td>\n",
       "      <td>0</td>\n",
       "      <td>0</td>\n",
       "      <td>0</td>\n",
       "      <td>0</td>\n",
       "      <td>0</td>\n",
       "      <td>0</td>\n",
       "      <td>0</td>\n",
       "      <td>0</td>\n",
       "      <td>...</td>\n",
       "      <td>0</td>\n",
       "      <td>0</td>\n",
       "      <td>0</td>\n",
       "      <td>0</td>\n",
       "      <td>0</td>\n",
       "      <td>1</td>\n",
       "      <td>3</td>\n",
       "      <td>0</td>\n",
       "      <td>0</td>\n",
       "      <td>0</td>\n",
       "    </tr>\n",
       "    <tr>\n",
       "      <th>72</th>\n",
       "      <td>0</td>\n",
       "      <td>0</td>\n",
       "      <td>0</td>\n",
       "      <td>0</td>\n",
       "      <td>0</td>\n",
       "      <td>0</td>\n",
       "      <td>0</td>\n",
       "      <td>0</td>\n",
       "      <td>0</td>\n",
       "      <td>0</td>\n",
       "      <td>...</td>\n",
       "      <td>0</td>\n",
       "      <td>0</td>\n",
       "      <td>0</td>\n",
       "      <td>0</td>\n",
       "      <td>0</td>\n",
       "      <td>0</td>\n",
       "      <td>0</td>\n",
       "      <td>0</td>\n",
       "      <td>0</td>\n",
       "      <td>0</td>\n",
       "    </tr>\n",
       "    <tr>\n",
       "      <th>73</th>\n",
       "      <td>0</td>\n",
       "      <td>0</td>\n",
       "      <td>0</td>\n",
       "      <td>0</td>\n",
       "      <td>0</td>\n",
       "      <td>0</td>\n",
       "      <td>0</td>\n",
       "      <td>1</td>\n",
       "      <td>1</td>\n",
       "      <td>0</td>\n",
       "      <td>...</td>\n",
       "      <td>1</td>\n",
       "      <td>0</td>\n",
       "      <td>0</td>\n",
       "      <td>0</td>\n",
       "      <td>0</td>\n",
       "      <td>0</td>\n",
       "      <td>0</td>\n",
       "      <td>0</td>\n",
       "      <td>0</td>\n",
       "      <td>0</td>\n",
       "    </tr>\n",
       "  </tbody>\n",
       "</table>\n",
       "<p>73 rows × 398 columns</p>\n",
       "</div>\n",
       "      <button class=\"colab-df-convert\" onclick=\"convertToInteractive('df-ef9e7299-aa01-4118-95fe-1d5c1ec9b111')\"\n",
       "              title=\"Convert this dataframe to an interactive table.\"\n",
       "              style=\"display:none;\">\n",
       "\n",
       "  <svg xmlns=\"http://www.w3.org/2000/svg\" height=\"24px\"viewBox=\"0 0 24 24\"\n",
       "       width=\"24px\">\n",
       "    <path d=\"M0 0h24v24H0V0z\" fill=\"none\"/>\n",
       "    <path d=\"M18.56 5.44l.94 2.06.94-2.06 2.06-.94-2.06-.94-.94-2.06-.94 2.06-2.06.94zm-11 1L8.5 8.5l.94-2.06 2.06-.94-2.06-.94L8.5 2.5l-.94 2.06-2.06.94zm10 10l.94 2.06.94-2.06 2.06-.94-2.06-.94-.94-2.06-.94 2.06-2.06.94z\"/><path d=\"M17.41 7.96l-1.37-1.37c-.4-.4-.92-.59-1.43-.59-.52 0-1.04.2-1.43.59L10.3 9.45l-7.72 7.72c-.78.78-.78 2.05 0 2.83L4 21.41c.39.39.9.59 1.41.59.51 0 1.02-.2 1.41-.59l7.78-7.78 2.81-2.81c.8-.78.8-2.07 0-2.86zM5.41 20L4 18.59l7.72-7.72 1.47 1.35L5.41 20z\"/>\n",
       "  </svg>\n",
       "      </button>\n",
       "\n",
       "  <style>\n",
       "    .colab-df-container {\n",
       "      display:flex;\n",
       "      flex-wrap:wrap;\n",
       "      gap: 12px;\n",
       "    }\n",
       "\n",
       "    .colab-df-convert {\n",
       "      background-color: #E8F0FE;\n",
       "      border: none;\n",
       "      border-radius: 50%;\n",
       "      cursor: pointer;\n",
       "      display: none;\n",
       "      fill: #1967D2;\n",
       "      height: 32px;\n",
       "      padding: 0 0 0 0;\n",
       "      width: 32px;\n",
       "    }\n",
       "\n",
       "    .colab-df-convert:hover {\n",
       "      background-color: #E2EBFA;\n",
       "      box-shadow: 0px 1px 2px rgba(60, 64, 67, 0.3), 0px 1px 3px 1px rgba(60, 64, 67, 0.15);\n",
       "      fill: #174EA6;\n",
       "    }\n",
       "\n",
       "    [theme=dark] .colab-df-convert {\n",
       "      background-color: #3B4455;\n",
       "      fill: #D2E3FC;\n",
       "    }\n",
       "\n",
       "    [theme=dark] .colab-df-convert:hover {\n",
       "      background-color: #434B5C;\n",
       "      box-shadow: 0px 1px 3px 1px rgba(0, 0, 0, 0.15);\n",
       "      filter: drop-shadow(0px 1px 2px rgba(0, 0, 0, 0.3));\n",
       "      fill: #FFFFFF;\n",
       "    }\n",
       "  </style>\n",
       "\n",
       "      <script>\n",
       "        const buttonEl =\n",
       "          document.querySelector('#df-ef9e7299-aa01-4118-95fe-1d5c1ec9b111 button.colab-df-convert');\n",
       "        buttonEl.style.display =\n",
       "          google.colab.kernel.accessAllowed ? 'block' : 'none';\n",
       "\n",
       "        async function convertToInteractive(key) {\n",
       "          const element = document.querySelector('#df-ef9e7299-aa01-4118-95fe-1d5c1ec9b111');\n",
       "          const dataTable =\n",
       "            await google.colab.kernel.invokeFunction('convertToInteractive',\n",
       "                                                     [key], {});\n",
       "          if (!dataTable) return;\n",
       "\n",
       "          const docLinkHtml = 'Like what you see? Visit the ' +\n",
       "            '<a target=\"_blank\" href=https://colab.research.google.com/notebooks/data_table.ipynb>data table notebook</a>'\n",
       "            + ' to learn more about interactive tables.';\n",
       "          element.innerHTML = '';\n",
       "          dataTable['output_type'] = 'display_data';\n",
       "          await google.colab.output.renderOutput(dataTable, element);\n",
       "          const docLink = document.createElement('div');\n",
       "          docLink.innerHTML = docLinkHtml;\n",
       "          element.appendChild(docLink);\n",
       "        }\n",
       "      </script>\n",
       "    </div>\n",
       "  </div>\n"
      ],
      "text/plain": [
       "   1000 17 17092022 20 2022 2024 30 acara ada agenda  ... warga wilayah  \\\n",
       "1     0  0        0  0    0    0  0     0   0      0  ...     0       0   \n",
       "2     0  0        0  0    0    0  0     0   0      0  ...     0       0   \n",
       "3     0  0        0  0    0    0  0     0   0      0  ...     0       0   \n",
       "4     0  0        0  0    0    0  0     0   0      0  ...     0       0   \n",
       "5     0  0        0  0    0    0  1     0   0      0  ...     0       0   \n",
       "..  ... ..      ... ..  ...  ... ..   ...  ..    ...  ...   ...     ...   \n",
       "69    0  0        0  0    0    0  0     0   0      0  ...     0       0   \n",
       "70    0  0        0  0    0    0  0     0   0      0  ...     0       0   \n",
       "71    0  0        0  0    0    0  0     0   0      0  ...     0       0   \n",
       "72    0  0        0  0    0    0  0     0   0      0  ...     0       0   \n",
       "73    0  0        0  0    0    0  0     1   1      0  ...     1       0   \n",
       "\n",
       "   wiliam ya yaqowiyu yayasan yeah yg yogyakarta zaman  \n",
       "1       0  0        0       0    0  0          0     0  \n",
       "2       1  0        0       0    0  0          0     0  \n",
       "3       0  0        0       0    0  0          0     0  \n",
       "4       0  0        0       0    0  0          0     0  \n",
       "5       0  0        0       0    0  0          0     0  \n",
       "..    ... ..      ...     ...  ... ..        ...   ...  \n",
       "69      0  0        0       0    0  0          0     0  \n",
       "70      0  0        0       0    3  0          0     0  \n",
       "71      0  0        0       1    3  0          0     0  \n",
       "72      0  0        0       0    0  0          0     0  \n",
       "73      0  0        0       0    0  0          0     0  \n",
       "\n",
       "[73 rows x 398 columns]"
      ]
     },
     "execution_count": 22,
     "metadata": {},
     "output_type": "execute_result"
    }
   ],
   "source": [
    "dataTF =pd.DataFrame(data=matrik_vsm,index=list(range(1, len(matrik_vsm[:,1])+1, )),columns=[a])\n",
    "dataTF\n"
   ]
  },
  {
   "cell_type": "markdown",
   "metadata": {
    "id": "UCJsNPSpKQA4"
   },
   "source": [
    "\n",
    "\n",
    "```\n",
    "# Ini diformat sebagai kode\n",
    "```\n",
    "\n",
    "lalu data diatas ditambahkan dengan label (positif,netral dan negatif)"
   ]
  },
  {
   "cell_type": "code",
   "execution_count": 23,
   "metadata": {
    "colab": {
     "base_uri": "https://localhost:8080/",
     "height": 488
    },
    "executionInfo": {
     "elapsed": 21,
     "status": "ok",
     "timestamp": 1666180028757,
     "user": {
      "displayName": "Muhammad Fahmi Ady susilo 19_127",
      "userId": "09919749956615563057"
     },
     "user_tz": -420
    },
    "id": "EK7t__ZnqVFg",
    "outputId": "44e2566d-6c1d-402a-8d57-881c039812f4"
   },
   "outputs": [
    {
     "data": {
      "text/html": [
       "\n",
       "  <div id=\"df-007524f2-aed5-46ae-aa72-6e440135df11\">\n",
       "    <div class=\"colab-df-container\">\n",
       "      <div>\n",
       "<style scoped>\n",
       "    .dataframe tbody tr th:only-of-type {\n",
       "        vertical-align: middle;\n",
       "    }\n",
       "\n",
       "    .dataframe tbody tr th {\n",
       "        vertical-align: top;\n",
       "    }\n",
       "\n",
       "    .dataframe thead th {\n",
       "        text-align: right;\n",
       "    }\n",
       "</style>\n",
       "<table border=\"1\" class=\"dataframe\">\n",
       "  <thead>\n",
       "    <tr style=\"text-align: right;\">\n",
       "      <th></th>\n",
       "      <th>(index,)</th>\n",
       "      <th>(1000,)</th>\n",
       "      <th>(17,)</th>\n",
       "      <th>(17092022,)</th>\n",
       "      <th>(20,)</th>\n",
       "      <th>(2022,)</th>\n",
       "      <th>(2024,)</th>\n",
       "      <th>(30,)</th>\n",
       "      <th>(acara,)</th>\n",
       "      <th>(ada,)</th>\n",
       "      <th>...</th>\n",
       "      <th>(wilayah,)</th>\n",
       "      <th>(wiliam,)</th>\n",
       "      <th>(ya,)</th>\n",
       "      <th>(yaqowiyu,)</th>\n",
       "      <th>(yayasan,)</th>\n",
       "      <th>(yeah,)</th>\n",
       "      <th>(yg,)</th>\n",
       "      <th>(yogyakarta,)</th>\n",
       "      <th>(zaman,)</th>\n",
       "      <th>label</th>\n",
       "    </tr>\n",
       "  </thead>\n",
       "  <tbody>\n",
       "    <tr>\n",
       "      <th>0</th>\n",
       "      <td>1</td>\n",
       "      <td>0</td>\n",
       "      <td>0</td>\n",
       "      <td>0</td>\n",
       "      <td>0</td>\n",
       "      <td>0</td>\n",
       "      <td>0</td>\n",
       "      <td>0</td>\n",
       "      <td>0</td>\n",
       "      <td>0</td>\n",
       "      <td>...</td>\n",
       "      <td>0</td>\n",
       "      <td>0</td>\n",
       "      <td>0</td>\n",
       "      <td>0</td>\n",
       "      <td>0</td>\n",
       "      <td>0</td>\n",
       "      <td>0</td>\n",
       "      <td>0</td>\n",
       "      <td>0</td>\n",
       "      <td>positif</td>\n",
       "    </tr>\n",
       "    <tr>\n",
       "      <th>1</th>\n",
       "      <td>2</td>\n",
       "      <td>0</td>\n",
       "      <td>0</td>\n",
       "      <td>0</td>\n",
       "      <td>0</td>\n",
       "      <td>0</td>\n",
       "      <td>0</td>\n",
       "      <td>0</td>\n",
       "      <td>0</td>\n",
       "      <td>0</td>\n",
       "      <td>...</td>\n",
       "      <td>0</td>\n",
       "      <td>1</td>\n",
       "      <td>0</td>\n",
       "      <td>0</td>\n",
       "      <td>0</td>\n",
       "      <td>0</td>\n",
       "      <td>0</td>\n",
       "      <td>0</td>\n",
       "      <td>0</td>\n",
       "      <td>positif</td>\n",
       "    </tr>\n",
       "    <tr>\n",
       "      <th>2</th>\n",
       "      <td>3</td>\n",
       "      <td>0</td>\n",
       "      <td>0</td>\n",
       "      <td>0</td>\n",
       "      <td>0</td>\n",
       "      <td>0</td>\n",
       "      <td>0</td>\n",
       "      <td>0</td>\n",
       "      <td>0</td>\n",
       "      <td>0</td>\n",
       "      <td>...</td>\n",
       "      <td>0</td>\n",
       "      <td>0</td>\n",
       "      <td>0</td>\n",
       "      <td>0</td>\n",
       "      <td>0</td>\n",
       "      <td>0</td>\n",
       "      <td>0</td>\n",
       "      <td>0</td>\n",
       "      <td>0</td>\n",
       "      <td>netral</td>\n",
       "    </tr>\n",
       "    <tr>\n",
       "      <th>3</th>\n",
       "      <td>4</td>\n",
       "      <td>0</td>\n",
       "      <td>0</td>\n",
       "      <td>0</td>\n",
       "      <td>0</td>\n",
       "      <td>0</td>\n",
       "      <td>0</td>\n",
       "      <td>0</td>\n",
       "      <td>0</td>\n",
       "      <td>0</td>\n",
       "      <td>...</td>\n",
       "      <td>0</td>\n",
       "      <td>0</td>\n",
       "      <td>0</td>\n",
       "      <td>0</td>\n",
       "      <td>0</td>\n",
       "      <td>0</td>\n",
       "      <td>0</td>\n",
       "      <td>0</td>\n",
       "      <td>0</td>\n",
       "      <td>netral</td>\n",
       "    </tr>\n",
       "    <tr>\n",
       "      <th>4</th>\n",
       "      <td>5</td>\n",
       "      <td>0</td>\n",
       "      <td>0</td>\n",
       "      <td>0</td>\n",
       "      <td>0</td>\n",
       "      <td>0</td>\n",
       "      <td>0</td>\n",
       "      <td>1</td>\n",
       "      <td>0</td>\n",
       "      <td>0</td>\n",
       "      <td>...</td>\n",
       "      <td>0</td>\n",
       "      <td>0</td>\n",
       "      <td>0</td>\n",
       "      <td>0</td>\n",
       "      <td>0</td>\n",
       "      <td>0</td>\n",
       "      <td>0</td>\n",
       "      <td>0</td>\n",
       "      <td>0</td>\n",
       "      <td>positif</td>\n",
       "    </tr>\n",
       "    <tr>\n",
       "      <th>...</th>\n",
       "      <td>...</td>\n",
       "      <td>...</td>\n",
       "      <td>...</td>\n",
       "      <td>...</td>\n",
       "      <td>...</td>\n",
       "      <td>...</td>\n",
       "      <td>...</td>\n",
       "      <td>...</td>\n",
       "      <td>...</td>\n",
       "      <td>...</td>\n",
       "      <td>...</td>\n",
       "      <td>...</td>\n",
       "      <td>...</td>\n",
       "      <td>...</td>\n",
       "      <td>...</td>\n",
       "      <td>...</td>\n",
       "      <td>...</td>\n",
       "      <td>...</td>\n",
       "      <td>...</td>\n",
       "      <td>...</td>\n",
       "      <td>...</td>\n",
       "    </tr>\n",
       "    <tr>\n",
       "      <th>68</th>\n",
       "      <td>69</td>\n",
       "      <td>0</td>\n",
       "      <td>0</td>\n",
       "      <td>0</td>\n",
       "      <td>0</td>\n",
       "      <td>0</td>\n",
       "      <td>0</td>\n",
       "      <td>0</td>\n",
       "      <td>0</td>\n",
       "      <td>0</td>\n",
       "      <td>...</td>\n",
       "      <td>0</td>\n",
       "      <td>0</td>\n",
       "      <td>0</td>\n",
       "      <td>0</td>\n",
       "      <td>0</td>\n",
       "      <td>0</td>\n",
       "      <td>0</td>\n",
       "      <td>0</td>\n",
       "      <td>0</td>\n",
       "      <td>positif</td>\n",
       "    </tr>\n",
       "    <tr>\n",
       "      <th>69</th>\n",
       "      <td>70</td>\n",
       "      <td>0</td>\n",
       "      <td>0</td>\n",
       "      <td>0</td>\n",
       "      <td>0</td>\n",
       "      <td>0</td>\n",
       "      <td>0</td>\n",
       "      <td>0</td>\n",
       "      <td>0</td>\n",
       "      <td>0</td>\n",
       "      <td>...</td>\n",
       "      <td>0</td>\n",
       "      <td>0</td>\n",
       "      <td>0</td>\n",
       "      <td>0</td>\n",
       "      <td>0</td>\n",
       "      <td>3</td>\n",
       "      <td>0</td>\n",
       "      <td>0</td>\n",
       "      <td>0</td>\n",
       "      <td>positif</td>\n",
       "    </tr>\n",
       "    <tr>\n",
       "      <th>70</th>\n",
       "      <td>71</td>\n",
       "      <td>0</td>\n",
       "      <td>0</td>\n",
       "      <td>0</td>\n",
       "      <td>0</td>\n",
       "      <td>0</td>\n",
       "      <td>0</td>\n",
       "      <td>0</td>\n",
       "      <td>0</td>\n",
       "      <td>0</td>\n",
       "      <td>...</td>\n",
       "      <td>0</td>\n",
       "      <td>0</td>\n",
       "      <td>0</td>\n",
       "      <td>0</td>\n",
       "      <td>1</td>\n",
       "      <td>3</td>\n",
       "      <td>0</td>\n",
       "      <td>0</td>\n",
       "      <td>0</td>\n",
       "      <td>positif</td>\n",
       "    </tr>\n",
       "    <tr>\n",
       "      <th>71</th>\n",
       "      <td>72</td>\n",
       "      <td>0</td>\n",
       "      <td>0</td>\n",
       "      <td>0</td>\n",
       "      <td>0</td>\n",
       "      <td>0</td>\n",
       "      <td>0</td>\n",
       "      <td>0</td>\n",
       "      <td>0</td>\n",
       "      <td>0</td>\n",
       "      <td>...</td>\n",
       "      <td>0</td>\n",
       "      <td>0</td>\n",
       "      <td>0</td>\n",
       "      <td>0</td>\n",
       "      <td>0</td>\n",
       "      <td>0</td>\n",
       "      <td>0</td>\n",
       "      <td>0</td>\n",
       "      <td>0</td>\n",
       "      <td>netral</td>\n",
       "    </tr>\n",
       "    <tr>\n",
       "      <th>72</th>\n",
       "      <td>73</td>\n",
       "      <td>0</td>\n",
       "      <td>0</td>\n",
       "      <td>0</td>\n",
       "      <td>0</td>\n",
       "      <td>0</td>\n",
       "      <td>0</td>\n",
       "      <td>0</td>\n",
       "      <td>1</td>\n",
       "      <td>1</td>\n",
       "      <td>...</td>\n",
       "      <td>0</td>\n",
       "      <td>0</td>\n",
       "      <td>0</td>\n",
       "      <td>0</td>\n",
       "      <td>0</td>\n",
       "      <td>0</td>\n",
       "      <td>0</td>\n",
       "      <td>0</td>\n",
       "      <td>0</td>\n",
       "      <td>positif</td>\n",
       "    </tr>\n",
       "  </tbody>\n",
       "</table>\n",
       "<p>73 rows × 400 columns</p>\n",
       "</div>\n",
       "      <button class=\"colab-df-convert\" onclick=\"convertToInteractive('df-007524f2-aed5-46ae-aa72-6e440135df11')\"\n",
       "              title=\"Convert this dataframe to an interactive table.\"\n",
       "              style=\"display:none;\">\n",
       "\n",
       "  <svg xmlns=\"http://www.w3.org/2000/svg\" height=\"24px\"viewBox=\"0 0 24 24\"\n",
       "       width=\"24px\">\n",
       "    <path d=\"M0 0h24v24H0V0z\" fill=\"none\"/>\n",
       "    <path d=\"M18.56 5.44l.94 2.06.94-2.06 2.06-.94-2.06-.94-.94-2.06-.94 2.06-2.06.94zm-11 1L8.5 8.5l.94-2.06 2.06-.94-2.06-.94L8.5 2.5l-.94 2.06-2.06.94zm10 10l.94 2.06.94-2.06 2.06-.94-2.06-.94-.94-2.06-.94 2.06-2.06.94z\"/><path d=\"M17.41 7.96l-1.37-1.37c-.4-.4-.92-.59-1.43-.59-.52 0-1.04.2-1.43.59L10.3 9.45l-7.72 7.72c-.78.78-.78 2.05 0 2.83L4 21.41c.39.39.9.59 1.41.59.51 0 1.02-.2 1.41-.59l7.78-7.78 2.81-2.81c.8-.78.8-2.07 0-2.86zM5.41 20L4 18.59l7.72-7.72 1.47 1.35L5.41 20z\"/>\n",
       "  </svg>\n",
       "      </button>\n",
       "\n",
       "  <style>\n",
       "    .colab-df-container {\n",
       "      display:flex;\n",
       "      flex-wrap:wrap;\n",
       "      gap: 12px;\n",
       "    }\n",
       "\n",
       "    .colab-df-convert {\n",
       "      background-color: #E8F0FE;\n",
       "      border: none;\n",
       "      border-radius: 50%;\n",
       "      cursor: pointer;\n",
       "      display: none;\n",
       "      fill: #1967D2;\n",
       "      height: 32px;\n",
       "      padding: 0 0 0 0;\n",
       "      width: 32px;\n",
       "    }\n",
       "\n",
       "    .colab-df-convert:hover {\n",
       "      background-color: #E2EBFA;\n",
       "      box-shadow: 0px 1px 2px rgba(60, 64, 67, 0.3), 0px 1px 3px 1px rgba(60, 64, 67, 0.15);\n",
       "      fill: #174EA6;\n",
       "    }\n",
       "\n",
       "    [theme=dark] .colab-df-convert {\n",
       "      background-color: #3B4455;\n",
       "      fill: #D2E3FC;\n",
       "    }\n",
       "\n",
       "    [theme=dark] .colab-df-convert:hover {\n",
       "      background-color: #434B5C;\n",
       "      box-shadow: 0px 1px 3px 1px rgba(0, 0, 0, 0.15);\n",
       "      filter: drop-shadow(0px 1px 2px rgba(0, 0, 0, 0.3));\n",
       "      fill: #FFFFFF;\n",
       "    }\n",
       "  </style>\n",
       "\n",
       "      <script>\n",
       "        const buttonEl =\n",
       "          document.querySelector('#df-007524f2-aed5-46ae-aa72-6e440135df11 button.colab-df-convert');\n",
       "        buttonEl.style.display =\n",
       "          google.colab.kernel.accessAllowed ? 'block' : 'none';\n",
       "\n",
       "        async function convertToInteractive(key) {\n",
       "          const element = document.querySelector('#df-007524f2-aed5-46ae-aa72-6e440135df11');\n",
       "          const dataTable =\n",
       "            await google.colab.kernel.invokeFunction('convertToInteractive',\n",
       "                                                     [key], {});\n",
       "          if (!dataTable) return;\n",
       "\n",
       "          const docLinkHtml = 'Like what you see? Visit the ' +\n",
       "            '<a target=\"_blank\" href=https://colab.research.google.com/notebooks/data_table.ipynb>data table notebook</a>'\n",
       "            + ' to learn more about interactive tables.';\n",
       "          element.innerHTML = '';\n",
       "          dataTable['output_type'] = 'display_data';\n",
       "          await google.colab.output.renderOutput(dataTable, element);\n",
       "          const docLink = document.createElement('div');\n",
       "          docLink.innerHTML = docLinkHtml;\n",
       "          element.appendChild(docLink);\n",
       "        }\n",
       "      </script>\n",
       "    </div>\n",
       "  </div>\n"
      ],
      "text/plain": [
       "    (index,)  (1000,)  (17,)  (17092022,)  (20,)  (2022,)  (2024,)  (30,)  \\\n",
       "0          1        0      0            0      0        0        0      0   \n",
       "1          2        0      0            0      0        0        0      0   \n",
       "2          3        0      0            0      0        0        0      0   \n",
       "3          4        0      0            0      0        0        0      0   \n",
       "4          5        0      0            0      0        0        0      1   \n",
       "..       ...      ...    ...          ...    ...      ...      ...    ...   \n",
       "68        69        0      0            0      0        0        0      0   \n",
       "69        70        0      0            0      0        0        0      0   \n",
       "70        71        0      0            0      0        0        0      0   \n",
       "71        72        0      0            0      0        0        0      0   \n",
       "72        73        0      0            0      0        0        0      0   \n",
       "\n",
       "    (acara,)  (ada,)  ...  (wilayah,)  (wiliam,)  (ya,)  (yaqowiyu,)  \\\n",
       "0          0       0  ...           0          0      0            0   \n",
       "1          0       0  ...           0          1      0            0   \n",
       "2          0       0  ...           0          0      0            0   \n",
       "3          0       0  ...           0          0      0            0   \n",
       "4          0       0  ...           0          0      0            0   \n",
       "..       ...     ...  ...         ...        ...    ...          ...   \n",
       "68         0       0  ...           0          0      0            0   \n",
       "69         0       0  ...           0          0      0            0   \n",
       "70         0       0  ...           0          0      0            0   \n",
       "71         0       0  ...           0          0      0            0   \n",
       "72         1       1  ...           0          0      0            0   \n",
       "\n",
       "    (yayasan,)  (yeah,)  (yg,)  (yogyakarta,)  (zaman,)    label  \n",
       "0            0        0      0              0         0  positif  \n",
       "1            0        0      0              0         0  positif  \n",
       "2            0        0      0              0         0   netral  \n",
       "3            0        0      0              0         0   netral  \n",
       "4            0        0      0              0         0  positif  \n",
       "..         ...      ...    ...            ...       ...      ...  \n",
       "68           0        0      0              0         0  positif  \n",
       "69           0        3      0              0         0  positif  \n",
       "70           1        3      0              0         0  positif  \n",
       "71           0        0      0              0         0   netral  \n",
       "72           0        0      0              0         0  positif  \n",
       "\n",
       "[73 rows x 400 columns]"
      ]
     },
     "execution_count": 23,
     "metadata": {},
     "output_type": "execute_result"
    }
   ],
   "source": [
    "label = pd.read_excel('/content/drive/MyDrive/webmining/webmining/twint/dataGanjar.xlsx')\n",
    "dj = pd.concat([dataTF.reset_index(), label[\"label\"]], axis=1)\n",
    "dj"
   ]
  },
  {
   "cell_type": "code",
   "execution_count": 24,
   "metadata": {
    "colab": {
     "base_uri": "https://localhost:8080/"
    },
    "executionInfo": {
     "elapsed": 25,
     "status": "ok",
     "timestamp": 1666180028762,
     "user": {
      "displayName": "Muhammad Fahmi Ady susilo 19_127",
      "userId": "09919749956615563057"
     },
     "user_tz": -420
    },
    "id": "DySvvKoBr1Eh",
    "outputId": "7f4c06ba-d886-4678-d86b-7d7a3437d592"
   },
   "outputs": [
    {
     "data": {
      "text/plain": [
       "array(['positif', 'netral', 'negatif'], dtype=object)"
      ]
     },
     "execution_count": 24,
     "metadata": {},
     "output_type": "execute_result"
    }
   ],
   "source": [
    "dj['label'].unique()"
   ]
  },
  {
   "cell_type": "markdown",
   "metadata": {
    "id": "Af4QSFZvB7v8"
   },
   "source": [
    "## Penjelasan Scikit-learn"
   ]
  },
  {
   "cell_type": "markdown",
   "metadata": {
    "id": "aW5zuWwrB7Kc"
   },
   "source": [
    "Scikit-learn atau sklearn merupakan sebuah module dari bahasa pemrograman Python yang dibangun berdasarkan NumPy, SciPy, dan Matplotlib. Fungsi dari module ini adalah untuk membantu melakukan processing data ataupun melakukan training data untuk kebutuhan machine learning atau data science."
   ]
  },
  {
   "cell_type": "markdown",
   "metadata": {
    "id": "cQkIOn9JBvic"
   },
   "source": [
    "install scikit-learn"
   ]
  },
  {
   "cell_type": "code",
   "execution_count": 25,
   "metadata": {
    "colab": {
     "base_uri": "https://localhost:8080/"
    },
    "executionInfo": {
     "elapsed": 4994,
     "status": "ok",
     "timestamp": 1666180033735,
     "user": {
      "displayName": "Muhammad Fahmi Ady susilo 19_127",
      "userId": "09919749956615563057"
     },
     "user_tz": -420
    },
    "id": "uswkdBy8BuFT",
    "outputId": "8cd8c90a-fd37-42c2-a8cb-0f9c64613632"
   },
   "outputs": [
    {
     "name": "stdout",
     "output_type": "stream",
     "text": [
      "Looking in indexes: https://pypi.org/simple, https://us-python.pkg.dev/colab-wheels/public/simple/\n",
      "Requirement already satisfied: scikit-learn in /usr/local/lib/python3.7/dist-packages (1.0.2)\n",
      "Requirement already satisfied: threadpoolctl>=2.0.0 in /usr/local/lib/python3.7/dist-packages (from scikit-learn) (3.1.0)\n",
      "Requirement already satisfied: joblib>=0.11 in /usr/local/lib/python3.7/dist-packages (from scikit-learn) (1.2.0)\n",
      "Requirement already satisfied: scipy>=1.1.0 in /usr/local/lib/python3.7/dist-packages (from scikit-learn) (1.7.3)\n",
      "Requirement already satisfied: numpy>=1.14.6 in /usr/local/lib/python3.7/dist-packages (from scikit-learn) (1.21.6)\n"
     ]
    }
   ],
   "source": [
    "!pip install -U scikit-learn\n"
   ]
  },
  {
   "cell_type": "markdown",
   "metadata": {
    "id": "2g_sIq0KHxWz"
   },
   "source": [
    "## Penjelasan Information Gain"
   ]
  },
  {
   "cell_type": "markdown",
   "metadata": {
    "id": "xX4jh2nKDWqr"
   },
   "source": [
    "Information Gain merupakan teknik seleksi fitur yang memakai metode scoring untuk nominal\n",
    "ataupun pembobotan atribut kontinue yang didiskretkan menggunakan maksimal entropy. Suatu entropy\n",
    "digunakan untuk mendefinisikan nilai Information Gain. Entropy menggambarkan banyaknya informasi\n",
    "yang dibutuhkan untuk mengkodekan suatu kelas. Information Gain (IG) dari suatu term diukur\n",
    "dengan menghitung jumlah bit informasi yang diambil dari prediksi kategori dengan ada atau tidaknya\n",
    "term dalam suatu dokumen."
   ]
  },
  {
   "cell_type": "markdown",
   "metadata": {
    "id": "iF6JbxjjKC0s"
   },
   "source": [
    "\n",
    "$$\n",
    "Entropy \\ (S) \\equiv \\sum ^{c}_{i}P_{i}\\log _{2}p_{i}\n",
    "$$\n",
    "\n",
    "c : jumlah nilai yang ada pada atribut target (jumlah kelas klasifikasi).\n",
    "\n",
    "Pi : porsi sampel untuk kelas i."
   ]
  },
  {
   "cell_type": "markdown",
   "metadata": {
    "id": "UON1SUboMAM9"
   },
   "source": [
    "\n",
    "$$\n",
    "Gain \\ (S,A) \\equiv Entropy(S) - \\sum _{\\nu \\varepsilon \\ values } \\dfrac{\\left| S_{i}\\right| }{\\left| S\\right|} Entropy(S_{v})\n",
    "$$\n",
    "\n",
    "A : atribut\n",
    "\n",
    "V : menyatakan suatu nilai yang mungkin untuk atribut A\n",
    "\n",
    "Values (A) : himpunan nilai-nilai yang mungkin untuk atribut A\n",
    "\n",
    "|Sv| : jumlah Sampel untuk nilai v\n",
    "\n",
    "|S| : jumlah seluruh sample data Entropy \n",
    "\n",
    "(Sv) : entropy untuk sampel sampel yang memiliki nilai v\n"
   ]
  },
  {
   "cell_type": "code",
   "execution_count": 26,
   "metadata": {
    "executionInfo": {
     "elapsed": 8,
     "status": "ok",
     "timestamp": 1666180033736,
     "user": {
      "displayName": "Muhammad Fahmi Ady susilo 19_127",
      "userId": "09919749956615563057"
     },
     "user_tz": -420
    },
    "id": "h3cT73NrsuJf"
   },
   "outputs": [],
   "source": [
    "from sklearn.model_selection import train_test_split\n",
    "#membagi kumpulan data menjadi data pelatihan dan data pengujian.\n",
    "X_train,X_test,y_train,y_test=train_test_split(dj.drop(labels=['label'], axis=1),\n",
    "    dj['label'],\n",
    "    test_size=0.3,\n",
    "    random_state=0)"
   ]
  },
  {
   "cell_type": "markdown",
   "metadata": {
    "id": "J0_7t9pZolAv"
   },
   "source": [
    "**Penjelasan mutual_info_classif**\n",
    "mengukur ketergantungan antara variabel. Itu sama dengan nol jika dan hanya jika dua variabel acak independen, dan nilai yang lebih tinggi berarti ketergantungan yang lebih tinggi."
   ]
  },
  {
   "cell_type": "code",
   "execution_count": 27,
   "metadata": {
    "colab": {
     "base_uri": "https://localhost:8080/"
    },
    "executionInfo": {
     "elapsed": 559,
     "status": "ok",
     "timestamp": 1666180034288,
     "user": {
      "displayName": "Muhammad Fahmi Ady susilo 19_127",
      "userId": "09919749956615563057"
     },
     "user_tz": -420
    },
    "id": "V831DlNxtRny",
    "outputId": "6cd9e2db-100b-4051-fce8-b2fcc98dd96b"
   },
   "outputs": [
    {
     "data": {
      "text/plain": [
       "array([0.00000000e+00, 0.00000000e+00, 2.01431645e-02, 9.98419980e-02,\n",
       "       0.00000000e+00, 5.61879476e-02, 3.89860299e-02, 0.00000000e+00,\n",
       "       0.00000000e+00, 0.00000000e+00, 2.14156746e-03, 3.61490984e-03,\n",
       "       0.00000000e+00, 0.00000000e+00, 4.19403740e-02, 0.00000000e+00,\n",
       "       0.00000000e+00, 0.00000000e+00, 0.00000000e+00, 0.00000000e+00,\n",
       "       1.90583828e-03, 4.18378562e-02, 6.44738318e-03, 9.04233917e-02,\n",
       "       2.71611787e-03, 1.29023953e-02, 1.79605895e-01, 5.53420515e-02,\n",
       "       0.00000000e+00, 1.19160452e-01, 0.00000000e+00, 5.02469387e-02,\n",
       "       6.05830944e-03, 8.37823283e-02, 3.37042314e-02, 0.00000000e+00,\n",
       "       1.25929161e-02, 3.50656523e-02, 4.63581512e-02, 1.37615198e-01,\n",
       "       0.00000000e+00, 1.11008896e-02, 0.00000000e+00, 3.81489072e-02,\n",
       "       0.00000000e+00, 7.51327455e-02, 0.00000000e+00, 6.97631865e-02,\n",
       "       8.20083328e-03, 7.76316204e-02, 0.00000000e+00, 6.22467289e-02,\n",
       "       0.00000000e+00, 0.00000000e+00, 5.66629949e-03, 8.35123158e-02,\n",
       "       6.23989772e-02, 5.70404731e-03, 0.00000000e+00, 1.93278286e-02,\n",
       "       6.44013638e-03, 0.00000000e+00, 1.21259890e-02, 0.00000000e+00,\n",
       "       0.00000000e+00, 1.44485031e-02, 5.34689054e-02, 0.00000000e+00,\n",
       "       7.12466070e-02, 7.61590218e-03, 1.27439985e-02, 4.87142586e-02,\n",
       "       0.00000000e+00, 0.00000000e+00, 0.00000000e+00, 7.81056296e-02,\n",
       "       0.00000000e+00, 0.00000000e+00, 0.00000000e+00, 2.78742850e-02,\n",
       "       0.00000000e+00, 0.00000000e+00, 0.00000000e+00, 0.00000000e+00,\n",
       "       0.00000000e+00, 0.00000000e+00, 0.00000000e+00, 0.00000000e+00,\n",
       "       0.00000000e+00, 6.31363893e-03, 0.00000000e+00, 0.00000000e+00,\n",
       "       0.00000000e+00, 2.20787017e-02, 9.19259119e-02, 0.00000000e+00,\n",
       "       6.02195349e-02, 1.22147961e-03, 3.00464885e-02, 1.29753133e-03,\n",
       "       5.81680865e-03, 9.17258635e-02, 5.94499886e-02, 1.28314927e-02,\n",
       "       8.54900897e-02, 6.68117173e-02, 0.00000000e+00, 7.41604687e-02,\n",
       "       0.00000000e+00, 2.01975540e-03, 2.20477455e-02, 1.17537034e-02,\n",
       "       0.00000000e+00, 0.00000000e+00, 2.42756233e-02, 2.34172033e-02,\n",
       "       0.00000000e+00, 3.83846208e-01, 0.00000000e+00, 7.98690917e-03,\n",
       "       4.40247880e-02, 3.94569914e-02, 0.00000000e+00, 0.00000000e+00,\n",
       "       0.00000000e+00, 0.00000000e+00, 0.00000000e+00, 4.90821701e-02,\n",
       "       0.00000000e+00, 2.29059962e-02, 0.00000000e+00, 0.00000000e+00,\n",
       "       2.22789896e-02, 1.04046174e-01, 0.00000000e+00, 6.09650935e-02,\n",
       "       0.00000000e+00, 1.23400001e-01, 0.00000000e+00, 6.31394092e-02,\n",
       "       7.28077752e-02, 8.45431688e-02, 6.71061236e-02, 0.00000000e+00,\n",
       "       0.00000000e+00, 4.20150612e-03, 8.42380737e-02, 0.00000000e+00,\n",
       "       1.93764296e-02, 0.00000000e+00, 0.00000000e+00, 7.70755291e-03,\n",
       "       0.00000000e+00, 3.03911874e-02, 1.82205481e-02, 5.22627346e-02,\n",
       "       6.49956604e-02, 0.00000000e+00, 2.18116757e-02, 0.00000000e+00,\n",
       "       0.00000000e+00, 1.80140600e-01, 0.00000000e+00, 1.71782113e-02,\n",
       "       1.99256977e-02, 3.57433959e-02, 1.90573584e-01, 4.03575374e-02,\n",
       "       0.00000000e+00, 0.00000000e+00, 1.85156859e-02, 2.49429943e-02,\n",
       "       1.25811098e-01, 9.24536492e-03, 0.00000000e+00, 0.00000000e+00,\n",
       "       6.17612122e-02, 8.25902267e-03, 6.84089762e-02, 0.00000000e+00,\n",
       "       0.00000000e+00, 1.10088600e-02, 1.16248322e-02, 5.04640208e-02,\n",
       "       0.00000000e+00, 5.60239324e-02, 0.00000000e+00, 1.16839626e-01,\n",
       "       1.19686830e-01, 0.00000000e+00, 0.00000000e+00, 0.00000000e+00,\n",
       "       4.81312148e-02, 4.19277233e-02, 3.20787487e-02, 0.00000000e+00,\n",
       "       0.00000000e+00, 0.00000000e+00, 5.66762565e-02, 0.00000000e+00,\n",
       "       1.97983236e-02, 0.00000000e+00, 0.00000000e+00, 0.00000000e+00,\n",
       "       0.00000000e+00, 3.88337584e-02, 0.00000000e+00, 1.32360990e-02,\n",
       "       0.00000000e+00, 0.00000000e+00, 3.46738036e-02, 1.12877844e-01,\n",
       "       0.00000000e+00, 7.73387015e-02, 0.00000000e+00, 6.23106628e-02,\n",
       "       4.60662318e-02, 4.14000374e-02, 0.00000000e+00, 4.82841391e-03,\n",
       "       9.37778067e-02, 0.00000000e+00, 1.67259571e-01, 0.00000000e+00,\n",
       "       8.50265564e-03, 0.00000000e+00, 3.82569851e-02, 0.00000000e+00,\n",
       "       0.00000000e+00, 2.05137806e-02, 0.00000000e+00, 0.00000000e+00,\n",
       "       0.00000000e+00, 0.00000000e+00, 0.00000000e+00, 0.00000000e+00,\n",
       "       0.00000000e+00, 0.00000000e+00, 0.00000000e+00, 1.48540399e-02,\n",
       "       1.70289484e-02, 2.44837485e-02, 2.59353924e-03, 0.00000000e+00,\n",
       "       0.00000000e+00, 2.29602028e-02, 0.00000000e+00, 0.00000000e+00,\n",
       "       0.00000000e+00, 0.00000000e+00, 1.95743958e-02, 0.00000000e+00,\n",
       "       0.00000000e+00, 0.00000000e+00, 5.61959633e-02, 0.00000000e+00,\n",
       "       3.89782058e-02, 0.00000000e+00, 0.00000000e+00, 0.00000000e+00,\n",
       "       1.59409941e-02, 2.01233586e-02, 1.32867312e-02, 0.00000000e+00,\n",
       "       4.18364746e-02, 0.00000000e+00, 7.29141890e-02, 1.29618703e-03,\n",
       "       2.00624154e-02, 1.72819489e-01, 0.00000000e+00, 8.08598151e-02,\n",
       "       5.50893902e-02, 0.00000000e+00, 0.00000000e+00, 0.00000000e+00,\n",
       "       0.00000000e+00, 0.00000000e+00, 8.73302323e-03, 1.08494520e-01,\n",
       "       8.30269715e-02, 0.00000000e+00, 0.00000000e+00, 8.39433621e-02,\n",
       "       2.26142985e-02, 0.00000000e+00, 0.00000000e+00, 3.05164892e-04,\n",
       "       2.84930098e-02, 0.00000000e+00, 5.11916660e-02, 1.56552153e-02,\n",
       "       0.00000000e+00, 4.23795046e-02, 4.28956551e-02, 1.72493889e-01,\n",
       "       0.00000000e+00, 0.00000000e+00, 1.46732543e-02, 6.66337125e-02,\n",
       "       4.80147804e-03, 0.00000000e+00, 6.92079886e-02, 0.00000000e+00,\n",
       "       3.00162083e-02, 3.04303971e-02, 1.91245460e-02, 0.00000000e+00,\n",
       "       0.00000000e+00, 0.00000000e+00, 0.00000000e+00, 0.00000000e+00,\n",
       "       0.00000000e+00, 0.00000000e+00, 0.00000000e+00, 0.00000000e+00,\n",
       "       2.31376102e-02, 0.00000000e+00, 0.00000000e+00, 0.00000000e+00,\n",
       "       0.00000000e+00, 0.00000000e+00, 4.65731825e-02, 7.04243004e-02,\n",
       "       0.00000000e+00, 0.00000000e+00, 0.00000000e+00, 1.11117477e-01,\n",
       "       0.00000000e+00, 8.94288911e-02, 0.00000000e+00, 2.64683859e-02,\n",
       "       0.00000000e+00, 0.00000000e+00, 3.82264873e-02, 6.66727105e-04,\n",
       "       0.00000000e+00, 2.34894078e-02, 0.00000000e+00, 1.02188388e-02,\n",
       "       1.18002712e-01, 2.04091764e-03, 0.00000000e+00, 1.82774084e-02,\n",
       "       1.14124690e-01, 6.63226306e-02, 0.00000000e+00, 9.34146089e-02,\n",
       "       0.00000000e+00, 6.62531799e-02, 0.00000000e+00, 3.03806395e-02,\n",
       "       0.00000000e+00, 0.00000000e+00, 0.00000000e+00, 1.38815904e-02,\n",
       "       6.05631456e-02, 6.80370634e-02, 0.00000000e+00, 0.00000000e+00,\n",
       "       0.00000000e+00, 1.65001909e-03, 3.48517612e-02, 0.00000000e+00,\n",
       "       1.50280714e-01, 0.00000000e+00, 0.00000000e+00, 0.00000000e+00,\n",
       "       0.00000000e+00, 0.00000000e+00, 8.13162003e-02, 0.00000000e+00,\n",
       "       9.88736969e-02, 3.19186067e-02, 1.37671334e-01, 3.51201810e-02,\n",
       "       0.00000000e+00, 7.23432228e-02, 4.51820397e-02, 0.00000000e+00,\n",
       "       0.00000000e+00, 7.54674541e-02, 2.77052103e-02, 1.31608823e-01,\n",
       "       0.00000000e+00, 2.90843867e-02, 0.00000000e+00, 8.32677291e-03,\n",
       "       0.00000000e+00, 5.33441460e-03, 0.00000000e+00, 0.00000000e+00,\n",
       "       0.00000000e+00, 0.00000000e+00, 8.61214108e-02, 0.00000000e+00,\n",
       "       7.00099421e-03, 0.00000000e+00, 0.00000000e+00])"
      ]
     },
     "execution_count": 27,
     "metadata": {},
     "output_type": "execute_result"
    }
   ],
   "source": [
    "from sklearn.feature_selection import mutual_info_classif\n",
    "mutual_info = mutual_info_classif(X_train, y_train)\n",
    "mutual_info"
   ]
  },
  {
   "cell_type": "markdown",
   "metadata": {
    "id": "ukm3cBVqKh02"
   },
   "source": [
    "merangking fitur(Kata) sesuai dengan fitur(Kata) yang paling banyak keluar"
   ]
  },
  {
   "cell_type": "code",
   "execution_count": 28,
   "metadata": {
    "colab": {
     "base_uri": "https://localhost:8080/"
    },
    "executionInfo": {
     "elapsed": 11,
     "status": "ok",
     "timestamp": 1666180034289,
     "user": {
      "displayName": "Muhammad Fahmi Ady susilo 19_127",
      "userId": "09919749956615563057"
     },
     "user_tz": -420
    },
    "id": "UphgaWnAtjnQ",
    "outputId": "906504b4-5c9a-43f9-f7b3-e920c00e0f98"
   },
   "outputs": [
    {
     "data": {
      "text/plain": [
       "(ganjar,)        0.383846\n",
       "(jum,)           0.190574\n",
       "(jawa,)          0.180141\n",
       "(apung,)         0.179606\n",
       "(pranowo,)       0.172819\n",
       "                   ...   \n",
       "(lanjut,)        0.000000\n",
       "(lapang,)        0.000000\n",
       "(legendaris,)    0.000000\n",
       "(lie,)           0.000000\n",
       "(zaman,)         0.000000\n",
       "Length: 399, dtype: float64"
      ]
     },
     "execution_count": 28,
     "metadata": {},
     "output_type": "execute_result"
    }
   ],
   "source": [
    "mutual_info = pd.Series(mutual_info)\n",
    "mutual_info.index = X_train.columns\n",
    "mutual_info.sort_values(ascending=False)"
   ]
  },
  {
   "cell_type": "markdown",
   "metadata": {
    "id": "YVtoZ4P0K5em"
   },
   "source": [
    "menvisualkan data dengan grafik bar dengan urutan paling besar ke rendah"
   ]
  },
  {
   "cell_type": "code",
   "execution_count": 29,
   "metadata": {
    "colab": {
     "base_uri": "https://localhost:8080/",
     "height": 344
    },
    "executionInfo": {
     "elapsed": 7127,
     "status": "ok",
     "timestamp": 1666180041411,
     "user": {
      "displayName": "Muhammad Fahmi Ady susilo 19_127",
      "userId": "09919749956615563057"
     },
     "user_tz": -420
    },
    "id": "50W_DXlstnUv",
    "outputId": "5b38875e-3a8e-4e6b-cc50-52f3f364a5f4"
   },
   "outputs": [
    {
     "data": {
      "text/plain": [
       "<matplotlib.axes._subplots.AxesSubplot at 0x7f34f5dc33d0>"
      ]
     },
     "execution_count": 29,
     "metadata": {},
     "output_type": "execute_result"
    },
    {
     "data": {
      "image/png": "[encoded data removed]",
      "text/plain": [
       "<Figure size 3600x1440 with 1 Axes>"
      ]
     },
     "metadata": {
      "filenames": {
       "image/png": "/content/drive/MyDrive/webmining/webmining/_build/jupyter_execute/contents/CrawlingVSM_73_1.png"
      },
      "needs_background": "light"
     },
     "output_type": "display_data"
    }
   ],
   "source": [
    "mutual_info.sort_values(ascending=False).plot.bar(figsize=(50, 20))\n"
   ]
  },
  {
   "cell_type": "markdown",
   "metadata": {
    "id": "ZDgOKHiHpZsi"
   },
   "source": [
    "Import SelectKBest"
   ]
  },
  {
   "cell_type": "code",
   "execution_count": 30,
   "metadata": {
    "executionInfo": {
     "elapsed": 16,
     "status": "ok",
     "timestamp": 1666180041413,
     "user": {
      "displayName": "Muhammad Fahmi Ady susilo 19_127",
      "userId": "09919749956615563057"
     },
     "user_tz": -420
    },
    "id": "u0CwVv_5uTSZ"
   },
   "outputs": [],
   "source": [
    "from sklearn.feature_selection import SelectKBest\n"
   ]
  },
  {
   "cell_type": "markdown",
   "metadata": {
    "id": "8avuSKJ4pW7w"
   },
   "source": [
    "Pilih fitur menurut k skor tertinggi."
   ]
  },
  {
   "cell_type": "code",
   "execution_count": 31,
   "metadata": {
    "colab": {
     "base_uri": "https://localhost:8080/"
    },
    "executionInfo": {
     "elapsed": 1048,
     "status": "ok",
     "timestamp": 1666180042446,
     "user": {
      "displayName": "Muhammad Fahmi Ady susilo 19_127",
      "userId": "09919749956615563057"
     },
     "user_tz": -420
    },
    "id": "dERECPV4uWHA",
    "outputId": "45ff09c0-44c8-46de-a0e9-cf840ee90142"
   },
   "outputs": [
    {
     "name": "stderr",
     "output_type": "stream",
     "text": [
      "/usr/local/lib/python3.7/dist-packages/sklearn/utils/validation.py:1692: FutureWarning: Feature names only support names that are all strings. Got feature names with dtypes: ['tuple']. An error will be raised in 1.2.\n",
      "  FutureWarning,\n"
     ]
    },
    {
     "data": {
      "text/plain": [
       "Index([          ('17',),           ('20',),         ('2024',),\n",
       "                 ('ah',),         ('ajar',),        ('akrab',),\n",
       "             ('anggar',),    ('australia',),          ('ayu',),\n",
       "              ('bahan',),        ('bakar',),    ('banyuasin',),\n",
       "              ('barat',),        ('bazar',),        ('bekas',),\n",
       "           ('bektonah',),       ('bentuk',),       ('berkah',),\n",
       "              ('cinta',),      ('cipedes',),        ('dapet',),\n",
       "          ('deklarasi',),    ('dharmawan',),     ('disamput',),\n",
       "                ('doa',),          ('eko',),          ('elu',),\n",
       "              ('forum',),          ('gak',),       ('ganjar',),\n",
       "             ('gelora',),         ('giat',),     ('gubernur',),\n",
       "              ('heran',),        ('hotel',),         ('huni',),\n",
       "                 ('id',),   ('insyaallah',),        ('jamin',),\n",
       "             ('jateng',),         ('jawa',),       ('jibaku',),\n",
       "              ('kapal',),        ('kesan',),         ('khas',),\n",
       "         ('komunikasi',),         ('kota',),      ('kuntadi',),\n",
       "               ('kyai',),      ('laksana',),     ('langsung',),\n",
       "              ('layak',),        ('lilin',),        ('lokal',),\n",
       "         ('masyarakat',),        ('medis',),          ('men',),\n",
       "              ('milik',),       ('nikmat',),         ('nila',),\n",
       "            ('optimal',),      ('optimis',),       ('padang',),\n",
       "        ('partisipasi',),    ('penasaran',),      ('percaya',),\n",
       "       ('personalized',),    ('pesantren',),      ('praktik',),\n",
       "            ('pranowo',),      ('rangkai',),       ('rendah',),\n",
       "               ('riah',),          ('rss',),        ('rutin',),\n",
       "               ('saba',),        ('salur',),         ('satu',),\n",
       "           ('semarang',),        ('sepak',),    ('september',),\n",
       "                ('smk',),     ('sumatera',),       ('swasta',),\n",
       "             ('syukur',),      ('tangkap',),        ('tarik',),\n",
       "        ('tasikmalaya',),       ('teaser',),        ('teman',),\n",
       "                ('tim',),     ('trending',),        ('tugas',),\n",
       "           ('ufotable',),        ('ulama',),       ('undang',),\n",
       "              ('usaha',),      ('wilayah',),       ('wiliam',),\n",
       "           ('yaqowiyu',)],\n",
       "      dtype='object')"
      ]
     },
     "execution_count": 31,
     "metadata": {},
     "output_type": "execute_result"
    }
   ],
   "source": [
    "sel_five_cols = SelectKBest(mutual_info_classif, k=100)\n",
    "sel_five_cols.fit(X_train, y_train)\n",
    "X_train.columns[sel_five_cols.get_support()]"
   ]
  },
  {
   "cell_type": "code",
   "execution_count": 32,
   "metadata": {
    "executionInfo": {
     "elapsed": 22,
     "status": "ok",
     "timestamp": 1666180042446,
     "user": {
      "displayName": "Muhammad Fahmi Ady susilo 19_127",
      "userId": "09919749956615563057"
     },
     "user_tz": -420
    },
    "id": "JaYsXYWD-m0l"
   },
   "outputs": [],
   "source": [
    "X_train=X_train.values\n",
    "y_train=y_train.values\n",
    "X_test=X_test.values\n",
    "y_test=y_test.values"
   ]
  },
  {
   "cell_type": "markdown",
   "metadata": {
    "id": "9xOeZFYLIFNi"
   },
   "source": [
    "## Penjelasan Naive Bayes"
   ]
  },
  {
   "cell_type": "markdown",
   "metadata": {
    "id": "t3Z8DDfLFnn5"
   },
   "source": [
    "Naive Bayes adalah algoritma machine learning yang digunakan untuk keperluan klasifikasi atau pengelompokan suatu data. Algoritma ini didasarkan pada teorema probabilitas yang dikenalkan oleh ilmuwan Inggris Thomas Bayes. Naive Bayes berfungsi memprediksi probabilitas di masa depan berdasarkan pengalaman sebelumnya, sehingga dapat digunakan untuk pengambilan keputusan."
   ]
  },
  {
   "cell_type": "code",
   "execution_count": 33,
   "metadata": {
    "colab": {
     "base_uri": "https://localhost:8080/"
    },
    "executionInfo": {
     "elapsed": 23,
     "status": "ok",
     "timestamp": 1666180042447,
     "user": {
      "displayName": "Muhammad Fahmi Ady susilo 19_127",
      "userId": "09919749956615563057"
     },
     "user_tz": -420
    },
    "id": "1IfrucEZyk0Q",
    "outputId": "1d0e7e1c-66b3-4e6d-cfcb-23ac0df57cdb"
   },
   "outputs": [
    {
     "data": {
      "text/plain": [
       "GaussianNB()"
      ]
     },
     "execution_count": 33,
     "metadata": {},
     "output_type": "execute_result"
    }
   ],
   "source": [
    "# from sklearn.neighbors import KNeighborsClassifier\n",
    "from sklearn.naive_bayes import GaussianNB\n",
    "# from sklearn.pipeline import make_pipeline\n",
    "# from sklearn.preprocessing import StandardScaler\n",
    "gauss = GaussianNB()\n",
    "gauss.fit(X_train, y_train)"
   ]
  },
  {
   "cell_type": "markdown",
   "metadata": {
    "id": "GxVybDghq3fa"
   },
   "source": [
    "Menampilkan accuracy dari nilai test dengan method Gaussion Naive Bayes"
   ]
  },
  {
   "cell_type": "code",
   "execution_count": 34,
   "metadata": {
    "colab": {
     "base_uri": "https://localhost:8080/"
    },
    "executionInfo": {
     "elapsed": 21,
     "status": "ok",
     "timestamp": 1666180042448,
     "user": {
      "displayName": "Muhammad Fahmi Ady susilo 19_127",
      "userId": "09919749956615563057"
     },
     "user_tz": -420
    },
    "id": "-s6Wc9Yy09HI",
    "outputId": "2d7ef7a1-3461-44f6-e145-11c3b18ee67f"
   },
   "outputs": [
    {
     "data": {
      "text/plain": [
       "72.73"
      ]
     },
     "execution_count": 34,
     "metadata": {},
     "output_type": "execute_result"
    }
   ],
   "source": [
    "from sklearn.metrics import make_scorer, accuracy_score,precision_score\n",
    "testing = gauss.predict(X_test) \n",
    "accuracy_gauss=round(accuracy_score(y_test,testing)* 100, 2)\n",
    "accuracy_gauss"
   ]
  },
  {
   "cell_type": "markdown",
   "metadata": {
    "id": "INF_NgA7JdcC"
   },
   "source": [
    "## Penjelasan Matplotib"
   ]
  },
  {
   "cell_type": "markdown",
   "metadata": {
    "id": "e9kqmPwWJbbb"
   },
   "source": [
    "Matplotlib adalah library Python yang fokus pada visualisasi data seperti membuat plot grafik. Matplotlib pertama kali diciptakan oleh John D. Hunter dan sekarang telah dikelola oleh tim developer yang besar. Awalnya matplotlib dirancang untuk menghasilkan plot grafik yang sesuai pada publikasi jurnal atau artikel ilmiah. Matplotlib dapat digunakan dalam skrip Python, Python dan IPython shell, server aplikasi web, dan beberapa toolkit graphical user interface (GUI) lainnya."
   ]
  },
  {
   "cell_type": "code",
   "execution_count": 35,
   "metadata": {
    "executionInfo": {
     "elapsed": 18,
     "status": "ok",
     "timestamp": 1666180042448,
     "user": {
      "displayName": "Muhammad Fahmi Ady susilo 19_127",
      "userId": "09919749956615563057"
     },
     "user_tz": -420
    },
    "id": "b8QJP2keAewo"
   },
   "outputs": [],
   "source": [
    "#import plt\n",
    "import matplotlib.pyplot as plt\n",
    "#import metrics\n",
    "from sklearn import metrics"
   ]
  },
  {
   "cell_type": "markdown",
   "metadata": {
    "id": "3dq8HBKGL_Ja"
   },
   "source": [
    "## Penjelasan Confusion Matrix"
   ]
  },
  {
   "cell_type": "markdown",
   "metadata": {
    "id": "lqMeFpDkL0_a"
   },
   "source": [
    "Confusion matrix juga sering disebut error matrix. Pada dasarnya confusion matrix memberikan informasi perbandingan hasil klasifikasi yang dilakukan oleh sistem (model) dengan hasil klasifikasi sebenarnya. Confusion matrix berbentuk tabel matriks yang menggambarkan kinerja model klasifikasi pada serangkaian data uji yang nilai sebenarnya diketahui."
   ]
  },
  {
   "cell_type": "markdown",
   "metadata": {
    "id": "DT1TMCU4sCxx"
   },
   "source": [
    "membuat Confusion Matrix dengan column vertical (negatif,netral dan positif) dan column horizontal (negatif,netral dan positif)"
   ]
  },
  {
   "cell_type": "code",
   "execution_count": 36,
   "metadata": {
    "colab": {
     "base_uri": "https://localhost:8080/",
     "height": 283
    },
    "executionInfo": {
     "elapsed": 18,
     "status": "ok",
     "timestamp": 1666180042449,
     "user": {
      "displayName": "Muhammad Fahmi Ady susilo 19_127",
      "userId": "09919749956615563057"
     },
     "user_tz": -420
    },
    "id": "Rwy1EY5NAgNf",
    "outputId": "db3f1b40-3f4b-41e0-e09f-3b698532a04f"
   },
   "outputs": [
    {
     "data": {
      "image/png": "[encoded data removed]",
      "text/plain": [
       "<Figure size 432x288 with 2 Axes>"
      ]
     },
     "metadata": {
      "filenames": {
       "image/png": "/content/drive/MyDrive/webmining/webmining/_build/jupyter_execute/contents/CrawlingVSM_90_0.png"
      },
      "needs_background": "light"
     },
     "output_type": "display_data"
    }
   ],
   "source": [
    "conf_matrix =metrics.confusion_matrix(y_true=y_test, y_pred=testing)\n",
    "cm_display = metrics.ConfusionMatrixDisplay(confusion_matrix = conf_matrix, display_labels = ['negatif', 'netral','positif'])\n",
    "cm_display.plot()\n",
    "plt.show()"
   ]
  },
  {
   "cell_type": "markdown",
   "metadata": {
    "id": "o3_oWOV3WMXo"
   },
   "source": [
    "## Penjelasan K-Means"
   ]
  },
  {
   "cell_type": "markdown",
   "metadata": {
    "id": "DOc7KqjrWPH2"
   },
   "source": [
    "K-Means Clustering merupakan algoritma yang efektif untuk menentukan cluster dalam sekumpulan data, di mana pada algortima tersebut dilakukan analisis kelompok yang mengacu pada pemartisian N objek ke dalam K kelompok (Cluster) berdasarkan nilai rata-rata (means) terdekat. Adapun persamaan yang sering digunakan dalam pemecahan masalah dalam menentukan jarak terdekat adalah persamaan Euclidean berikut :"
   ]
  },
  {
   "cell_type": "markdown",
   "metadata": {
    "id": "CgY8IyclYNJt"
   },
   "source": [
    "\n",
    "$$\n",
    "d(p,q) = \\sqrt{(p_{1}-q_{1})^2+(p_{2}-q_{2})^2+(p_{3}-q_{3})^2}\n",
    "$$\n",
    "\n",
    "\n",
    "d = jarak obyek\n",
    "\n",
    "p = data \n",
    "\n",
    "q = centroid"
   ]
  },
  {
   "cell_type": "markdown",
   "metadata": {
    "id": "TNfmn8y-tBbG"
   },
   "source": [
    "TruncatedSVD adalah Teknik pengurangan dimensi menggunakan SVD terpotong"
   ]
  },
  {
   "cell_type": "code",
   "execution_count": 37,
   "metadata": {
    "executionInfo": {
     "elapsed": 17,
     "status": "ok",
     "timestamp": 1666180042449,
     "user": {
      "displayName": "Muhammad Fahmi Ady susilo 19_127",
      "userId": "09919749956615563057"
     },
     "user_tz": -420
    },
    "id": "ovyglvlT_qkf"
   },
   "outputs": [],
   "source": [
    "from sklearn.cluster import KMeans\n",
    "from sklearn.decomposition import TruncatedSVD\n"
   ]
  },
  {
   "cell_type": "code",
   "execution_count": 38,
   "metadata": {
    "colab": {
     "base_uri": "https://localhost:8080/",
     "height": 338
    },
    "executionInfo": {
     "elapsed": 18,
     "status": "ok",
     "timestamp": 1666180042450,
     "user": {
      "displayName": "Muhammad Fahmi Ady susilo 19_127",
      "userId": "09919749956615563057"
     },
     "user_tz": -420
    },
    "id": "jS8tGaZ2QZ5O",
    "outputId": "966cbd5d-76e4-47aa-cbc2-622d6c517e5c"
   },
   "outputs": [
    {
     "name": "stdout",
     "output_type": "stream",
     "text": [
      "[[ 0.82415039  0.3250541 ]\n",
      " [ 2.9324436  -0.25514807]\n",
      " [ 4.43672435 -1.57716124]]\n"
     ]
    },
    {
     "data": {
      "text/plain": [
       "<matplotlib.collections.PathCollection at 0x7f34f0120f90>"
      ]
     },
     "execution_count": 38,
     "metadata": {},
     "output_type": "execute_result"
    },
    {
     "data": {
      "image/png": "[encoded data removed]",
      "text/plain": [
       "<Figure size 432x288 with 1 Axes>"
      ]
     },
     "metadata": {
      "filenames": {
       "image/png": "/content/drive/MyDrive/webmining/webmining/_build/jupyter_execute/contents/CrawlingVSM_96_2.png"
      },
      "needs_background": "light"
     },
     "output_type": "display_data"
    }
   ],
   "source": [
    "# Latih Kmeans dengan n cluster terbaik\n",
    "modelKm = KMeans(n_clusters=3, random_state=12)\n",
    "modelKm.fit(dataTF.values)\n",
    "prediksi = modelKm.predict(dataTF.values)\n",
    "\n",
    "# Pengurangan dimensi digunakan untuk memplot dalam representasi 2d\n",
    "pc=TruncatedSVD(n_components=2)\n",
    "X_new=pc.fit_transform(dataTF.values)\n",
    "centroids=pc.transform(modelKm.cluster_centers_)\n",
    "print(centroids)\n",
    "plt.scatter(X_new[:,0],X_new[:,1],c=prediksi, cmap='viridis')\n",
    "plt.scatter(centroids[:,0] , centroids[:,1] , s = 50, color = 'red')"
   ]
  },
  {
   "cell_type": "markdown",
   "metadata": {
    "id": "tQcffeW7Bug2"
   },
   "source": [
    "## Perangkingan Kalimat Berita dengan Method Page Rank"
   ]
  },
  {
   "cell_type": "markdown",
   "metadata": {
    "id": "MGl1SXf3uWq6"
   },
   "source": [
    "## Penjelasan Scrapy"
   ]
  },
  {
   "cell_type": "markdown",
   "metadata": {
    "id": "wUZexI-NuZ_0"
   },
   "source": [
    "Scrapy adalah web crawling dan web scraping framework tingkat tinggi yang cepat, digunakan untuk merayapi situs web dan mengekstrak data terstruktur dari halaman mereka. Ini dapat digunakan untuk berbagai tujuan, mulai dari penambangan data hingga pemantauan dan pengujian otomatis."
   ]
  },
  {
   "cell_type": "code",
   "execution_count": 39,
   "metadata": {
    "colab": {
     "base_uri": "https://localhost:8080/"
    },
    "executionInfo": {
     "elapsed": 35280,
     "status": "ok",
     "timestamp": 1666180077716,
     "user": {
      "displayName": "Muhammad Fahmi Ady susilo 19_127",
      "userId": "09919749956615563057"
     },
     "user_tz": -420
    },
    "id": "2Jcc32f7Btg7",
    "outputId": "744d83e1-1bc3-407b-9233-0d6c2328f127"
   },
   "outputs": [
    {
     "name": "stdout",
     "output_type": "stream",
     "text": [
      "Looking in indexes: https://pypi.org/simple, https://us-python.pkg.dev/colab-wheels/public/simple/\n",
      "Collecting scrapy\n",
      "  Downloading Scrapy-2.7.0-py2.py3-none-any.whl (270 kB)\n",
      "\u001b[K     |████████████████████████████████| 270 kB 8.3 MB/s \n",
      "\u001b[?25hRequirement already satisfied: lxml>=4.3.0 in /usr/local/lib/python3.7/dist-packages (from scrapy) (4.9.1)\n",
      "Requirement already satisfied: setuptools in /usr/local/lib/python3.7/dist-packages (from scrapy) (57.4.0)\n",
      "Collecting queuelib>=1.4.2\n",
      "  Downloading queuelib-1.6.2-py2.py3-none-any.whl (13 kB)\n",
      "Collecting cryptography>=3.3\n",
      "  Downloading cryptography-38.0.1-cp36-abi3-manylinux_2_24_x86_64.whl (4.0 MB)\n",
      "\u001b[K     |████████████████████████████████| 4.0 MB 4.1 MB/s \n",
      "\u001b[?25hCollecting Twisted>=18.9.0\n",
      "  Downloading Twisted-22.8.0-py3-none-any.whl (3.1 MB)\n",
      "\u001b[K     |████████████████████████████████| 3.1 MB 43.0 MB/s \n",
      "\u001b[?25hCollecting itemloaders>=1.0.1\n",
      "  Downloading itemloaders-1.0.6-py3-none-any.whl (11 kB)\n",
      "Collecting zope.interface>=5.1.0\n",
      "  Downloading zope.interface-5.5.0-cp37-cp37m-manylinux_2_5_x86_64.manylinux1_x86_64.manylinux_2_12_x86_64.manylinux2010_x86_64.whl (254 kB)\n",
      "\u001b[K     |████████████████████████████████| 254 kB 45.9 MB/s \n",
      "\u001b[?25hCollecting pyOpenSSL>=21.0.0\n",
      "  Downloading pyOpenSSL-22.1.0-py3-none-any.whl (57 kB)\n",
      "\u001b[K     |████████████████████████████████| 57 kB 4.0 MB/s \n",
      "\u001b[?25hRequirement already satisfied: packaging in /usr/local/lib/python3.7/dist-packages (from scrapy) (21.3)\n",
      "Collecting w3lib>=1.17.0\n",
      "  Downloading w3lib-2.0.1-py3-none-any.whl (20 kB)\n",
      "Collecting tldextract\n",
      "  Downloading tldextract-3.4.0-py3-none-any.whl (93 kB)\n",
      "\u001b[K     |████████████████████████████████| 93 kB 1.5 MB/s \n",
      "\u001b[?25hCollecting protego>=0.1.15\n",
      "  Downloading Protego-0.2.1-py2.py3-none-any.whl (8.2 kB)\n",
      "Collecting cssselect>=0.9.1\n",
      "  Downloading cssselect-1.1.0-py2.py3-none-any.whl (16 kB)\n",
      "Collecting service-identity>=18.1.0\n",
      "  Downloading service_identity-21.1.0-py2.py3-none-any.whl (12 kB)\n",
      "Collecting PyDispatcher>=2.0.5\n",
      "  Downloading PyDispatcher-2.0.6.tar.gz (38 kB)\n",
      "Collecting itemadapter>=0.1.0\n",
      "  Downloading itemadapter-0.7.0-py3-none-any.whl (10 kB)\n",
      "Collecting parsel>=1.5.0\n",
      "  Downloading parsel-1.6.0-py2.py3-none-any.whl (13 kB)\n",
      "Requirement already satisfied: cffi>=1.12 in /usr/local/lib/python3.7/dist-packages (from cryptography>=3.3->scrapy) (1.15.1)\n",
      "Requirement already satisfied: pycparser in /usr/local/lib/python3.7/dist-packages (from cffi>=1.12->cryptography>=3.3->scrapy) (2.21)\n",
      "Collecting jmespath>=0.9.5\n",
      "  Downloading jmespath-1.0.1-py3-none-any.whl (20 kB)\n",
      "Requirement already satisfied: six>=1.6.0 in /usr/local/lib/python3.7/dist-packages (from parsel>=1.5.0->scrapy) (1.15.0)\n",
      "Requirement already satisfied: attrs>=19.1.0 in /usr/local/lib/python3.7/dist-packages (from service-identity>=18.1.0->scrapy) (22.1.0)\n",
      "Requirement already satisfied: pyasn1 in /usr/local/lib/python3.7/dist-packages (from service-identity>=18.1.0->scrapy) (0.4.8)\n",
      "Requirement already satisfied: pyasn1-modules in /usr/local/lib/python3.7/dist-packages (from service-identity>=18.1.0->scrapy) (0.2.8)\n",
      "Collecting hyperlink>=17.1.1\n",
      "  Downloading hyperlink-21.0.0-py2.py3-none-any.whl (74 kB)\n",
      "\u001b[K     |████████████████████████████████| 74 kB 2.9 MB/s \n",
      "\u001b[?25hCollecting incremental>=21.3.0\n",
      "  Downloading incremental-22.10.0-py2.py3-none-any.whl (16 kB)\n",
      "Collecting constantly>=15.1\n",
      "  Downloading constantly-15.1.0-py2.py3-none-any.whl (7.9 kB)\n",
      "Collecting Automat>=0.8.0\n",
      "  Downloading Automat-20.2.0-py2.py3-none-any.whl (31 kB)\n",
      "Requirement already satisfied: typing-extensions>=3.6.5 in /usr/local/lib/python3.7/dist-packages (from Twisted>=18.9.0->scrapy) (4.1.1)\n",
      "Requirement already satisfied: idna>=2.5 in /usr/local/lib/python3.7/dist-packages (from hyperlink>=17.1.1->Twisted>=18.9.0->scrapy) (2.10)\n",
      "Requirement already satisfied: pyparsing!=3.0.5,>=2.0.2 in /usr/local/lib/python3.7/dist-packages (from packaging->scrapy) (3.0.9)\n",
      "Requirement already satisfied: requests>=2.1.0 in /usr/local/lib/python3.7/dist-packages (from tldextract->scrapy) (2.28.1)\n",
      "Collecting requests-file>=1.4\n",
      "  Downloading requests_file-1.5.1-py2.py3-none-any.whl (3.7 kB)\n",
      "Requirement already satisfied: filelock>=3.0.8 in /usr/local/lib/python3.7/dist-packages (from tldextract->scrapy) (3.8.0)\n",
      "Requirement already satisfied: charset-normalizer<3,>=2 in /usr/local/lib/python3.7/dist-packages (from requests>=2.1.0->tldextract->scrapy) (2.1.1)\n",
      "Requirement already satisfied: urllib3<1.27,>=1.21.1 in /usr/local/lib/python3.7/dist-packages (from requests>=2.1.0->tldextract->scrapy) (1.26.12)\n",
      "Requirement already satisfied: certifi>=2017.4.17 in /usr/local/lib/python3.7/dist-packages (from requests>=2.1.0->tldextract->scrapy) (2022.9.24)\n",
      "Building wheels for collected packages: PyDispatcher\n",
      "  Building wheel for PyDispatcher (setup.py) ... \u001b[?25l\u001b[?25hdone\n",
      "  Created wheel for PyDispatcher: filename=PyDispatcher-2.0.6-py3-none-any.whl size=11958 sha256=97656ae94aa0f696012644af630ddd480d1eb6b45ec99dab5d013fe888dd574a\n",
      "  Stored in directory: /root/.cache/pip/wheels/c9/d6/6a/de198d890277cde60ca3dbebe7ae592d3b381c7d9bb2455f4d\n",
      "Successfully built PyDispatcher\n",
      "Installing collected packages: w3lib, cssselect, zope.interface, requests-file, parsel, jmespath, itemadapter, incremental, hyperlink, cryptography, constantly, Automat, Twisted, tldextract, service-identity, queuelib, pyOpenSSL, PyDispatcher, protego, itemloaders, scrapy\n",
      "Successfully installed Automat-20.2.0 PyDispatcher-2.0.6 Twisted-22.8.0 constantly-15.1.0 cryptography-38.0.1 cssselect-1.1.0 hyperlink-21.0.0 incremental-22.10.0 itemadapter-0.7.0 itemloaders-1.0.6 jmespath-1.0.1 parsel-1.6.0 protego-0.2.1 pyOpenSSL-22.1.0 queuelib-1.6.2 requests-file-1.5.1 scrapy-2.7.0 service-identity-21.1.0 tldextract-3.4.0 w3lib-2.0.1 zope.interface-5.5.0\n",
      "Looking in indexes: https://pypi.org/simple, https://us-python.pkg.dev/colab-wheels/public/simple/\n",
      "Collecting crochet\n",
      "  Downloading crochet-2.0.0-py3-none-any.whl (31 kB)\n",
      "Requirement already satisfied: Twisted>=16.0 in /usr/local/lib/python3.7/dist-packages (from crochet) (22.8.0)\n",
      "Requirement already satisfied: wrapt in /usr/local/lib/python3.7/dist-packages (from crochet) (1.14.1)\n",
      "Requirement already satisfied: constantly>=15.1 in /usr/local/lib/python3.7/dist-packages (from Twisted>=16.0->crochet) (15.1.0)\n",
      "Requirement already satisfied: Automat>=0.8.0 in /usr/local/lib/python3.7/dist-packages (from Twisted>=16.0->crochet) (20.2.0)\n",
      "Requirement already satisfied: attrs>=19.2.0 in /usr/local/lib/python3.7/dist-packages (from Twisted>=16.0->crochet) (22.1.0)\n",
      "Requirement already satisfied: typing-extensions>=3.6.5 in /usr/local/lib/python3.7/dist-packages (from Twisted>=16.0->crochet) (4.1.1)\n",
      "Requirement already satisfied: incremental>=21.3.0 in /usr/local/lib/python3.7/dist-packages (from Twisted>=16.0->crochet) (22.10.0)\n",
      "Requirement already satisfied: hyperlink>=17.1.1 in /usr/local/lib/python3.7/dist-packages (from Twisted>=16.0->crochet) (21.0.0)\n",
      "Requirement already satisfied: zope.interface>=4.4.2 in /usr/local/lib/python3.7/dist-packages (from Twisted>=16.0->crochet) (5.5.0)\n",
      "Requirement already satisfied: six in /usr/local/lib/python3.7/dist-packages (from Automat>=0.8.0->Twisted>=16.0->crochet) (1.15.0)\n",
      "Requirement already satisfied: idna>=2.5 in /usr/local/lib/python3.7/dist-packages (from hyperlink>=17.1.1->Twisted>=16.0->crochet) (2.10)\n",
      "Requirement already satisfied: setuptools in /usr/local/lib/python3.7/dist-packages (from zope.interface>=4.4.2->Twisted>=16.0->crochet) (57.4.0)\n",
      "Installing collected packages: crochet\n",
      "Successfully installed crochet-2.0.0\n"
     ]
    }
   ],
   "source": [
    "!pip install scrapy\n",
    "!pip install crochet"
   ]
  },
  {
   "cell_type": "code",
   "execution_count": 40,
   "metadata": {
    "executionInfo": {
     "elapsed": 859,
     "status": "ok",
     "timestamp": 1666180078569,
     "user": {
      "displayName": "Muhammad Fahmi Ady susilo 19_127",
      "userId": "09919749956615563057"
     },
     "user_tz": -420
    },
    "id": "Z6Rh4FkyE7cY"
   },
   "outputs": [],
   "source": [
    "import scrapy"
   ]
  },
  {
   "cell_type": "code",
   "execution_count": 41,
   "metadata": {
    "executionInfo": {
     "elapsed": 549,
     "status": "ok",
     "timestamp": 1666180079116,
     "user": {
      "displayName": "Muhammad Fahmi Ady susilo 19_127",
      "userId": "09919749956615563057"
     },
     "user_tz": -420
    },
    "id": "__9hNBAYFOzm"
   },
   "outputs": [],
   "source": [
    "import scrapy\n",
    "from scrapy.crawler import CrawlerRunner\n",
    "import re\n",
    "from crochet import setup, wait_for\n",
    "setup()\n",
    "\n",
    "class QuotesToCsv(scrapy.Spider):\n",
    "    name = \"MJKQuotesToCsv\"\n",
    "    start_urls = [\n",
    "        'https://nasional.tempo.co/read/1642981/usai-tragedi-kanjuruhan-jokowi-klaim-indonesia-tak-dikenai-sanksi-dari-fifa',\n",
    "    ]\n",
    "    custom_settings = {\n",
    "        'ITEM_PIPELINES': {\n",
    "            '__main__.ExtractFirstLine': 1\n",
    "        },\n",
    "        'FEEDS': {\n",
    "            'news.csv': {\n",
    "                'format': 'csv',\n",
    "                'overwrite': True\n",
    "            }\n",
    "        }\n",
    "    }\n",
    "\n",
    "    def parse(self, response):\n",
    "        \"\"\"parse data from urls\"\"\"\n",
    "        for quote in response.css('#isi > p'):\n",
    "            yield {'news': quote.extract()}\n",
    "\n",
    "\n",
    "class ExtractFirstLine(object):\n",
    "    def process_item(self, item, spider):\n",
    "        \"\"\"text processing\"\"\"\n",
    "        lines = dict(item)[\"news\"].splitlines()\n",
    "        first_line = self.__remove_html_tags__(lines[0])\n",
    "\n",
    "        return {'news': first_line}\n",
    "\n",
    "    def __remove_html_tags__(self, text):\n",
    "        \"\"\"remove html tags from string\"\"\"\n",
    "        html_tags = re.compile('<.*?>')\n",
    "        return re.sub(html_tags, '', text)\n",
    "\n",
    "@wait_for(10)\n",
    "def run_spider():\n",
    "    \"\"\"run spider with MJKQuotesToCsv\"\"\"\n",
    "    crawler = CrawlerRunner()\n",
    "    d = crawler.crawl(QuotesToCsv)\n",
    "    return d"
   ]
  },
  {
   "cell_type": "code",
   "execution_count": 42,
   "metadata": {
    "executionInfo": {
     "elapsed": 12,
     "status": "ok",
     "timestamp": 1666180079117,
     "user": {
      "displayName": "Muhammad Fahmi Ady susilo 19_127",
      "userId": "09919749956615563057"
     },
     "user_tz": -420
    },
    "id": "q5HENOZSFxGN"
   },
   "outputs": [],
   "source": [
    "# run_spider()"
   ]
  },
  {
   "cell_type": "markdown",
   "metadata": {
    "id": "NJgZxnN0vBsX"
   },
   "source": [
    "Mengambil dan Membaca data CSV yang bernama news.csv"
   ]
  },
  {
   "cell_type": "code",
   "execution_count": 43,
   "metadata": {
    "colab": {
     "base_uri": "https://localhost:8080/",
     "height": 488
    },
    "executionInfo": {
     "elapsed": 14,
     "status": "ok",
     "timestamp": 1666180079119,
     "user": {
      "displayName": "Muhammad Fahmi Ady susilo 19_127",
      "userId": "09919749956615563057"
     },
     "user_tz": -420
    },
    "id": "U-FVRl8LZbWC",
    "outputId": "1da0f9a1-71af-49a0-b433-f9636fcc9029"
   },
   "outputs": [
    {
     "data": {
      "text/html": [
       "\n",
       "  <div id=\"df-e6c16184-fdb2-45ab-8834-2f875c00e6a4\">\n",
       "    <div class=\"colab-df-container\">\n",
       "      <div>\n",
       "<style scoped>\n",
       "    .dataframe tbody tr th:only-of-type {\n",
       "        vertical-align: middle;\n",
       "    }\n",
       "\n",
       "    .dataframe tbody tr th {\n",
       "        vertical-align: top;\n",
       "    }\n",
       "\n",
       "    .dataframe thead th {\n",
       "        text-align: right;\n",
       "    }\n",
       "</style>\n",
       "<table border=\"1\" class=\"dataframe\">\n",
       "  <thead>\n",
       "    <tr style=\"text-align: right;\">\n",
       "      <th></th>\n",
       "      <th>news</th>\n",
       "    </tr>\n",
       "  </thead>\n",
       "  <tbody>\n",
       "    <tr>\n",
       "      <th>0</th>\n",
       "      <td>TEMPO.CO, Jakarta - Presiden Joko Widodo atau ...</td>\n",
       "    </tr>\n",
       "    <tr>\n",
       "      <th>1</th>\n",
       "      <td>\"Alhamdulillah sepak bola Indonesia tidak dike...</td>\n",
       "    </tr>\n",
       "    <tr>\n",
       "      <th>2</th>\n",
       "      <td>Jokowi menjelaskan selain FIFA, Asian Football...</td>\n",
       "    </tr>\n",
       "    <tr>\n",
       "      <th>3</th>\n",
       "      <td>\"Kita juga akan bersama-sama melakukan sosiali...</td>\n",
       "    </tr>\n",
       "    <tr>\n",
       "      <th>4</th>\n",
       "      <td>FIFA dan AFC bakal membantu</td>\n",
       "    </tr>\n",
       "    <tr>\n",
       "      <th>5</th>\n",
       "      <td>Selain itu, FIFA dan AFC bakal membantu membua...</td>\n",
       "    </tr>\n",
       "    <tr>\n",
       "      <th>6</th>\n",
       "      <td>Sebelumnya, Menteri BUMN Erick Thohir membeber...</td>\n",
       "    </tr>\n",
       "    <tr>\n",
       "      <th>7</th>\n",
       "      <td>\"Selain menyampaikan belasungkawa atas kejadia...</td>\n",
       "    </tr>\n",
       "    <tr>\n",
       "      <th>8</th>\n",
       "      <td>Di dalam pertemuan itu, menurut Erick, FIFA me...</td>\n",
       "    </tr>\n",
       "    <tr>\n",
       "      <th>9</th>\n",
       "      <td>Dukungan itu diberikan FIFA, kata Erick, agar ...</td>\n",
       "    </tr>\n",
       "    <tr>\n",
       "      <th>10</th>\n",
       "      <td>\"Pada kesempatan ini saya juga menyampaikan sa...</td>\n",
       "    </tr>\n",
       "    <tr>\n",
       "      <th>11</th>\n",
       "      <td>Adapun Presiden Jokowi sebelumnya telah menele...</td>\n",
       "    </tr>\n",
       "    <tr>\n",
       "      <th>12</th>\n",
       "      <td>M JULNIS FIRMANSYAH</td>\n",
       "    </tr>\n",
       "    <tr>\n",
       "      <th>13</th>\n",
       "      <td>Baca: Kronologi Tragedi Kanjuruhan Malang yan...</td>\n",
       "    </tr>\n",
       "  </tbody>\n",
       "</table>\n",
       "</div>\n",
       "      <button class=\"colab-df-convert\" onclick=\"convertToInteractive('df-e6c16184-fdb2-45ab-8834-2f875c00e6a4')\"\n",
       "              title=\"Convert this dataframe to an interactive table.\"\n",
       "              style=\"display:none;\">\n",
       "\n",
       "  <svg xmlns=\"http://www.w3.org/2000/svg\" height=\"24px\"viewBox=\"0 0 24 24\"\n",
       "       width=\"24px\">\n",
       "    <path d=\"M0 0h24v24H0V0z\" fill=\"none\"/>\n",
       "    <path d=\"M18.56 5.44l.94 2.06.94-2.06 2.06-.94-2.06-.94-.94-2.06-.94 2.06-2.06.94zm-11 1L8.5 8.5l.94-2.06 2.06-.94-2.06-.94L8.5 2.5l-.94 2.06-2.06.94zm10 10l.94 2.06.94-2.06 2.06-.94-2.06-.94-.94-2.06-.94 2.06-2.06.94z\"/><path d=\"M17.41 7.96l-1.37-1.37c-.4-.4-.92-.59-1.43-.59-.52 0-1.04.2-1.43.59L10.3 9.45l-7.72 7.72c-.78.78-.78 2.05 0 2.83L4 21.41c.39.39.9.59 1.41.59.51 0 1.02-.2 1.41-.59l7.78-7.78 2.81-2.81c.8-.78.8-2.07 0-2.86zM5.41 20L4 18.59l7.72-7.72 1.47 1.35L5.41 20z\"/>\n",
       "  </svg>\n",
       "      </button>\n",
       "\n",
       "  <style>\n",
       "    .colab-df-container {\n",
       "      display:flex;\n",
       "      flex-wrap:wrap;\n",
       "      gap: 12px;\n",
       "    }\n",
       "\n",
       "    .colab-df-convert {\n",
       "      background-color: #E8F0FE;\n",
       "      border: none;\n",
       "      border-radius: 50%;\n",
       "      cursor: pointer;\n",
       "      display: none;\n",
       "      fill: #1967D2;\n",
       "      height: 32px;\n",
       "      padding: 0 0 0 0;\n",
       "      width: 32px;\n",
       "    }\n",
       "\n",
       "    .colab-df-convert:hover {\n",
       "      background-color: #E2EBFA;\n",
       "      box-shadow: 0px 1px 2px rgba(60, 64, 67, 0.3), 0px 1px 3px 1px rgba(60, 64, 67, 0.15);\n",
       "      fill: #174EA6;\n",
       "    }\n",
       "\n",
       "    [theme=dark] .colab-df-convert {\n",
       "      background-color: #3B4455;\n",
       "      fill: #D2E3FC;\n",
       "    }\n",
       "\n",
       "    [theme=dark] .colab-df-convert:hover {\n",
       "      background-color: #434B5C;\n",
       "      box-shadow: 0px 1px 3px 1px rgba(0, 0, 0, 0.15);\n",
       "      filter: drop-shadow(0px 1px 2px rgba(0, 0, 0, 0.3));\n",
       "      fill: #FFFFFF;\n",
       "    }\n",
       "  </style>\n",
       "\n",
       "      <script>\n",
       "        const buttonEl =\n",
       "          document.querySelector('#df-e6c16184-fdb2-45ab-8834-2f875c00e6a4 button.colab-df-convert');\n",
       "        buttonEl.style.display =\n",
       "          google.colab.kernel.accessAllowed ? 'block' : 'none';\n",
       "\n",
       "        async function convertToInteractive(key) {\n",
       "          const element = document.querySelector('#df-e6c16184-fdb2-45ab-8834-2f875c00e6a4');\n",
       "          const dataTable =\n",
       "            await google.colab.kernel.invokeFunction('convertToInteractive',\n",
       "                                                     [key], {});\n",
       "          if (!dataTable) return;\n",
       "\n",
       "          const docLinkHtml = 'Like what you see? Visit the ' +\n",
       "            '<a target=\"_blank\" href=https://colab.research.google.com/notebooks/data_table.ipynb>data table notebook</a>'\n",
       "            + ' to learn more about interactive tables.';\n",
       "          element.innerHTML = '';\n",
       "          dataTable['output_type'] = 'display_data';\n",
       "          await google.colab.output.renderOutput(dataTable, element);\n",
       "          const docLink = document.createElement('div');\n",
       "          docLink.innerHTML = docLinkHtml;\n",
       "          element.appendChild(docLink);\n",
       "        }\n",
       "      </script>\n",
       "    </div>\n",
       "  </div>\n"
      ],
      "text/plain": [
       "                                                 news\n",
       "0   TEMPO.CO, Jakarta - Presiden Joko Widodo atau ...\n",
       "1   \"Alhamdulillah sepak bola Indonesia tidak dike...\n",
       "2   Jokowi menjelaskan selain FIFA, Asian Football...\n",
       "3   \"Kita juga akan bersama-sama melakukan sosiali...\n",
       "4                         FIFA dan AFC bakal membantu\n",
       "5   Selain itu, FIFA dan AFC bakal membantu membua...\n",
       "6   Sebelumnya, Menteri BUMN Erick Thohir membeber...\n",
       "7   \"Selain menyampaikan belasungkawa atas kejadia...\n",
       "8   Di dalam pertemuan itu, menurut Erick, FIFA me...\n",
       "9   Dukungan itu diberikan FIFA, kata Erick, agar ...\n",
       "10  \"Pada kesempatan ini saya juga menyampaikan sa...\n",
       "11  Adapun Presiden Jokowi sebelumnya telah menele...\n",
       "12                               M JULNIS FIRMANSYAH \n",
       "13   Baca: Kronologi Tragedi Kanjuruhan Malang yan..."
      ]
     },
     "execution_count": 43,
     "metadata": {},
     "output_type": "execute_result"
    }
   ],
   "source": [
    "dataNews = pd.read_csv('news.csv')\n",
    "dataNews"
   ]
  },
  {
   "cell_type": "markdown",
   "metadata": {
    "id": "jnHAT0G1vQFI"
   },
   "source": [
    "PyPDF2 adalah pustaka PDF python murni gratis dan open-source yang mampu memisahkan, menggabungkan , memotong, dan mengubah halaman file PDF."
   ]
  },
  {
   "cell_type": "markdown",
   "metadata": {
    "id": "wmCO1GCpvXmZ"
   },
   "source": [
    "Install PyPDF2"
   ]
  },
  {
   "cell_type": "code",
   "execution_count": 44,
   "metadata": {
    "colab": {
     "base_uri": "https://localhost:8080/"
    },
    "executionInfo": {
     "elapsed": 5266,
     "status": "ok",
     "timestamp": 1666180084372,
     "user": {
      "displayName": "Muhammad Fahmi Ady susilo 19_127",
      "userId": "09919749956615563057"
     },
     "user_tz": -420
    },
    "id": "nSyg8YFSgSdI",
    "outputId": "4a8a036b-a4d7-401a-f28b-21812045ee7d"
   },
   "outputs": [
    {
     "name": "stdout",
     "output_type": "stream",
     "text": [
      "Looking in indexes: https://pypi.org/simple, https://us-python.pkg.dev/colab-wheels/public/simple/\n",
      "Collecting PyPDF2\n",
      "  Downloading PyPDF2-2.11.1-py3-none-any.whl (220 kB)\n",
      "\u001b[K     |████████████████████████████████| 220 kB 7.9 MB/s \n",
      "\u001b[?25hRequirement already satisfied: typing-extensions>=3.10.0.0 in /usr/local/lib/python3.7/dist-packages (from PyPDF2) (4.1.1)\n",
      "Installing collected packages: PyPDF2\n",
      "Successfully installed PyPDF2-2.11.1\n"
     ]
    }
   ],
   "source": [
    "!pip install PyPDF2"
   ]
  },
  {
   "cell_type": "markdown",
   "metadata": {
    "id": "Agx_tLk5vTVm"
   },
   "source": [
    "import PyPDF2"
   ]
  },
  {
   "cell_type": "code",
   "execution_count": 45,
   "metadata": {
    "executionInfo": {
     "elapsed": 8,
     "status": "ok",
     "timestamp": 1666180084373,
     "user": {
      "displayName": "Muhammad Fahmi Ady susilo 19_127",
      "userId": "09919749956615563057"
     },
     "user_tz": -420
    },
    "id": "U3LrdLfDg0DT"
   },
   "outputs": [],
   "source": [
    "import PyPDF2"
   ]
  },
  {
   "cell_type": "markdown",
   "metadata": {
    "id": "9vjDrR2lvblU"
   },
   "source": [
    "Membaca Pdf dari file lalu dibuat menjadi bentuk document Text"
   ]
  },
  {
   "cell_type": "code",
   "execution_count": 46,
   "metadata": {
    "colab": {
     "base_uri": "https://localhost:8080/",
     "height": 218
    },
    "executionInfo": {
     "elapsed": 799,
     "status": "ok",
     "timestamp": 1666180085165,
     "user": {
      "displayName": "Muhammad Fahmi Ady susilo 19_127",
      "userId": "09919749956615563057"
     },
     "user_tz": -420
    },
    "id": "9fWSXGFRglDJ",
    "outputId": "bd753133-989f-44ac-e9b4-dcc3d84ebeb8"
   },
   "outputs": [
    {
     "data": {
      "application/vnd.google.colaboratory.intrinsic+json": {
       "type": "string"
      },
      "text/plain": [
       "'TEMPO.CO, Jakarta - Presiden Joko Widodo atau Jokowi mengklaim Indonesia tidak dikenai sanksi \\noleh Federasi Sepak Bola Internasional (FIFA) usai Tragedi Kanjuruhan di Malang, Jawa Timur yang \\nmenelan korban jiwa hingga 131 orang. Sebelumnya, Jokowi khawatir Indonesia dikenai sanksi \\nhingga menelepon dan mengutus Menteri BUMN Erick Thohir untuk bertemu Presiden FIFA Gianni \\nInvantino.  \\n\"Alhamdulillah sepak bola Indonesia tidak dikenakan sanksi oleh FIFA dan FIFA bersama -sama \\ndengan pemerintah akan membentuk tim transformasi sepak bola Indonesia dan FIFA akan \\nberkantor di Indonesia selama proses -proses tersebut,\" ujar Jokowi dalam keterangan nya, Sabtu, \\n8 Oktober 2022.   \\nJokowi menjelaskan selain FIFA, Asian Football Confederation atau AFC juga akan membantu \\npemerintah Indonesia membangun stadion dengan standar keamanan tinggi. Selain itu, kedua \\norganisasi sepak bola itu bakal membantu Indonesia memformulasikan standar protokol dan \\nprosedur pengamanan yang dilakukan kepolisian berdasarkan standar keamanan internasional.  \\n\"Kita juga akan bersama -sama melakukan sosialisasi dan diskusi dengan klub -klub bola di \\nIndonesia, termasuk perwakilan suporter untuk mendapatkan saran dan masukan, serta \\nkomitmen bersama,\" kata Jokowi.   \\nFIFA dan AFC bakal membantu      \\nSelain itu, FIF A dan AFC bakal membantu membuat pengaturan jadwal pertandingan yang \\nmemperhitungkan potensi -potensi risiko. Jokowi menyebut Presiden FIFA akan datang ke \\nIndonesia pada Oktober atau November untuk memberikan pendampingan tersebut serta \\nberdiskusi dengan pe merintah.  \\nSebelumnya, Menteri BUMN Erick Thohir membeberkan agenda pertemuannya dengan Gianni \\nInfantino di Qatar, pada Rabu, 5 Oktober 2022. Pertemuan itu membahas soal tragedi Kanjuruhan \\ndan masa depan sepak bola Indonesia.   \\n\"Selain menyampaikan belasungkawa atas kejadian di Kanjuruhan, kami juga membahas banyak \\nhal untuk kemajuan sepak bola di masa depan, khususnya di Indonesia,\" kata Erick.  \\nDi dalam pert emuan itu, menurut Erick, FIFA melihat adanya potensi, popularitas, dan \\nperkembangan sepak bola yang besar di Indonesia. Dikaitkan dengan pertumbuhan ekonomi \\nnasional yang konstan, pasar yang besar, dan kondisi sosial politik yang stabil, FIFA menyatakan \\nsiap memberikan dukungan maksimal.  \\nDukungan itu diberikan FIFA, kata Erick, agar sepak bola yang merupakan olahraga paling populer \\ndan dicintai di Indonesia dapat menjadi kebanggaan bangsa dan salah satu pilar yang \\nberkontribusi bagi kemajuan bangsa.  \\n\"Pada kesempatan ini saya juga menyampaikan salam dan surat khusus dari Presiden Joko Widodo \\nkepada Presiden FIFA, Gianni Infantino,\" ucap Erick Thohir.  \\nAdapun Presiden Jokowi sebelumnya telah menelepon Presiden FIFA Giovanni Vincenzo Infantino \\nuntuk membahas tragedi Kanjuruhan setelah pertandingan sepak bola di Stadion Kanjuruhan, \\nKabupaten Malang, Jawa Timur.  \\nM JULNIS FIRMANSYAH      \\nBaca: Kronologi Tragedi Kanjuruhan Malang yang Dipaparkan Kapolri  \\n '"
      ]
     },
     "execution_count": 46,
     "metadata": {},
     "output_type": "execute_result"
    }
   ],
   "source": [
    "pdfReader = PyPDF2.PdfFileReader('/content/drive/MyDrive/webmining/webmining/contents/news.pdf')\n",
    "pageObj = pdfReader.getPage(0)\n",
    "document = pageObj.extractText()\n",
    "document"
   ]
  },
  {
   "cell_type": "markdown",
   "metadata": {
    "id": "qVEyMPTZvja6"
   },
   "source": [
    "PunktSentenceTokenizer adalah Sebuah tokenizer kalimat yang menggunakan algoritma tanpa pengawasan untuk membangun model untuk kata-kata singkatan, kolokasi, dan kata-kata yang memulai kalimat dan kemudian menggunakan model itu untuk menemukan batas kalimat."
   ]
  },
  {
   "cell_type": "code",
   "execution_count": 47,
   "metadata": {
    "executionInfo": {
     "elapsed": 41,
     "status": "ok",
     "timestamp": 1666180085166,
     "user": {
      "displayName": "Muhammad Fahmi Ady susilo 19_127",
      "userId": "09919749956615563057"
     },
     "user_tz": -420
    },
    "id": "70X3ix1WhDI5"
   },
   "outputs": [],
   "source": [
    "from nltk.tokenize.punkt import PunktSentenceTokenizer"
   ]
  },
  {
   "cell_type": "code",
   "execution_count": 48,
   "metadata": {
    "executionInfo": {
     "elapsed": 40,
     "status": "ok",
     "timestamp": 1666180085166,
     "user": {
      "displayName": "Muhammad Fahmi Ady susilo 19_127",
      "userId": "09919749956615563057"
     },
     "user_tz": -420
    },
    "id": "WpYH0-w9hINg"
   },
   "outputs": [],
   "source": [
    "def tokenize(document):\n",
    "    # Kita memecahnya menggunakan  PunktSentenceTokenizer\n",
    "    doc_tokenizer = PunktSentenceTokenizer()\n",
    "    # sentences_list adalah daftar masing masing kalimat dari dokumen yang ada.\n",
    "    sentences_list = doc_tokenizer.tokenize(document)\n",
    "    return sentences_list"
   ]
  },
  {
   "cell_type": "code",
   "execution_count": 49,
   "metadata": {
    "colab": {
     "base_uri": "https://localhost:8080/"
    },
    "executionInfo": {
     "elapsed": 41,
     "status": "ok",
     "timestamp": 1666180085167,
     "user": {
      "displayName": "Muhammad Fahmi Ady susilo 19_127",
      "userId": "09919749956615563057"
     },
     "user_tz": -420
    },
    "id": "ClcbjsTShKWO",
    "outputId": "e5ce15c3-0618-42db-ec16-b2d848798788"
   },
   "outputs": [
    {
     "data": {
      "text/plain": [
       "['TEMPO.CO, Jakarta - Presiden Joko Widodo atau Jokowi mengklaim Indonesia tidak dikenai sanksi \\noleh Federasi Sepak Bola Internasional (FIFA) usai Tragedi Kanjuruhan di Malang, Jawa Timur yang \\nmenelan korban jiwa hingga 131 orang.',\n",
       " 'Sebelumnya, Jokowi khawatir Indonesia dikenai sanksi \\nhingga menelepon dan mengutus Menteri BUMN Erick Thohir untuk bertemu Presiden FIFA Gianni \\nInvantino.',\n",
       " '\"Alhamdulillah sepak bola Indonesia tidak dikenakan sanksi oleh FIFA dan FIFA bersama -sama \\ndengan pemerintah akan membentuk tim transformasi sepak bola Indonesia dan FIFA akan \\nberkantor di Indonesia selama proses -proses tersebut,\" ujar Jokowi dalam keterangan nya, Sabtu, \\n8 Oktober 2022.',\n",
       " 'Jokowi menjelaskan selain FIFA, Asian Football Confederation atau AFC juga akan membantu \\npemerintah Indonesia membangun stadion dengan standar keamanan tinggi.',\n",
       " 'Selain itu, kedua \\norganisasi sepak bola itu bakal membantu Indonesia memformulasikan standar protokol dan \\nprosedur pengamanan yang dilakukan kepolisian berdasarkan standar keamanan internasional.',\n",
       " '\"Kita juga akan bersama -sama melakukan sosialisasi dan diskusi dengan klub -klub bola di \\nIndonesia, termasuk perwakilan suporter untuk mendapatkan saran dan masukan, serta \\nkomitmen bersama,\" kata Jokowi.',\n",
       " 'FIFA dan AFC bakal membantu      \\nSelain itu, FIF A dan AFC bakal membantu membuat pengaturan jadwal pertandingan yang \\nmemperhitungkan potensi -potensi risiko.',\n",
       " 'Jokowi menyebut Presiden FIFA akan datang ke \\nIndonesia pada Oktober atau November untuk memberikan pendampingan tersebut serta \\nberdiskusi dengan pe merintah.',\n",
       " 'Sebelumnya, Menteri BUMN Erick Thohir membeberkan agenda pertemuannya dengan Gianni \\nInfantino di Qatar, pada Rabu, 5 Oktober 2022.',\n",
       " 'Pertemuan itu membahas soal tragedi Kanjuruhan \\ndan masa depan sepak bola Indonesia.',\n",
       " '\"Selain menyampaikan belasungkawa atas kejadian di Kanjuruhan, kami juga membahas banyak \\nhal untuk kemajuan sepak bola di masa depan, khususnya di Indonesia,\" kata Erick.',\n",
       " 'Di dalam pert emuan itu, menurut Erick, FIFA melihat adanya potensi, popularitas, dan \\nperkembangan sepak bola yang besar di Indonesia.',\n",
       " 'Dikaitkan dengan pertumbuhan ekonomi \\nnasional yang konstan, pasar yang besar, dan kondisi sosial politik yang stabil, FIFA menyatakan \\nsiap memberikan dukungan maksimal.',\n",
       " 'Dukungan itu diberikan FIFA, kata Erick, agar sepak bola yang merupakan olahraga paling populer \\ndan dicintai di Indonesia dapat menjadi kebanggaan bangsa dan salah satu pilar yang \\nberkontribusi bagi kemajuan bangsa.',\n",
       " '\"Pada kesempatan ini saya juga menyampaikan salam dan surat khusus dari Presiden Joko Widodo \\nkepada Presiden FIFA, Gianni Infantino,\" ucap Erick Thohir.',\n",
       " 'Adapun Presiden Jokowi sebelumnya telah menelepon Presiden FIFA Giovanni Vincenzo Infantino \\nuntuk membahas tragedi Kanjuruhan setelah pertandingan sepak bola di Stadion Kanjuruhan, \\nKabupaten Malang, Jawa Timur.',\n",
       " 'M JULNIS FIRMANSYAH      \\nBaca: Kronologi Tragedi Kanjuruhan Malang yang Dipaparkan Kapolri']"
      ]
     },
     "execution_count": 49,
     "metadata": {},
     "output_type": "execute_result"
    }
   ],
   "source": [
    "sentences_list = tokenize(document)\n",
    "sentences_list"
   ]
  },
  {
   "cell_type": "markdown",
   "metadata": {
    "id": "YooV0xFbwUzl"
   },
   "source": [
    "Merapikan data di atas sehingga lebih enak dibaca"
   ]
  },
  {
   "cell_type": "code",
   "execution_count": 50,
   "metadata": {
    "colab": {
     "base_uri": "https://localhost:8080/"
    },
    "executionInfo": {
     "elapsed": 38,
     "status": "ok",
     "timestamp": 1666180085168,
     "user": {
      "displayName": "Muhammad Fahmi Ady susilo 19_127",
      "userId": "09919749956615563057"
     },
     "user_tz": -420
    },
    "id": "TcziWhtQhNFx",
    "outputId": "4d53856e-5a11-4acb-af47-858ee1174b31"
   },
   "outputs": [
    {
     "name": "stdout",
     "output_type": "stream",
     "text": [
      "\n",
      "Kalimat 1\n",
      "TEMPO.CO, Jakarta - Presiden Joko Widodo atau Jokowi mengklaim Indonesia tidak dikenai sanksi \n",
      "oleh Federasi Sepak Bola Internasional (FIFA) usai Tragedi Kanjuruhan di Malang, Jawa Timur yang \n",
      "menelan korban jiwa hingga 131 orang.\n",
      "\n",
      "Kalimat 2\n",
      "Sebelumnya, Jokowi khawatir Indonesia dikenai sanksi \n",
      "hingga menelepon dan mengutus Menteri BUMN Erick Thohir untuk bertemu Presiden FIFA Gianni \n",
      "Invantino.\n",
      "\n",
      "Kalimat 3\n",
      "\"Alhamdulillah sepak bola Indonesia tidak dikenakan sanksi oleh FIFA dan FIFA bersama -sama \n",
      "dengan pemerintah akan membentuk tim transformasi sepak bola Indonesia dan FIFA akan \n",
      "berkantor di Indonesia selama proses -proses tersebut,\" ujar Jokowi dalam keterangan nya, Sabtu, \n",
      "8 Oktober 2022.\n",
      "\n",
      "Kalimat 4\n",
      "Jokowi menjelaskan selain FIFA, Asian Football Confederation atau AFC juga akan membantu \n",
      "pemerintah Indonesia membangun stadion dengan standar keamanan tinggi.\n",
      "\n",
      "Kalimat 5\n",
      "Selain itu, kedua \n",
      "organisasi sepak bola itu bakal membantu Indonesia memformulasikan standar protokol dan \n",
      "prosedur pengamanan yang dilakukan kepolisian berdasarkan standar keamanan internasional.\n",
      "\n",
      "Kalimat 6\n",
      "\"Kita juga akan bersama -sama melakukan sosialisasi dan diskusi dengan klub -klub bola di \n",
      "Indonesia, termasuk perwakilan suporter untuk mendapatkan saran dan masukan, serta \n",
      "komitmen bersama,\" kata Jokowi.\n",
      "\n",
      "Kalimat 7\n",
      "FIFA dan AFC bakal membantu      \n",
      "Selain itu, FIF A dan AFC bakal membantu membuat pengaturan jadwal pertandingan yang \n",
      "memperhitungkan potensi -potensi risiko.\n",
      "\n",
      "Kalimat 8\n",
      "Jokowi menyebut Presiden FIFA akan datang ke \n",
      "Indonesia pada Oktober atau November untuk memberikan pendampingan tersebut serta \n",
      "berdiskusi dengan pe merintah.\n",
      "\n",
      "Kalimat 9\n",
      "Sebelumnya, Menteri BUMN Erick Thohir membeberkan agenda pertemuannya dengan Gianni \n",
      "Infantino di Qatar, pada Rabu, 5 Oktober 2022.\n",
      "\n",
      "Kalimat 10\n",
      "Pertemuan itu membahas soal tragedi Kanjuruhan \n",
      "dan masa depan sepak bola Indonesia.\n",
      "\n",
      "Kalimat 11\n",
      "\"Selain menyampaikan belasungkawa atas kejadian di Kanjuruhan, kami juga membahas banyak \n",
      "hal untuk kemajuan sepak bola di masa depan, khususnya di Indonesia,\" kata Erick.\n",
      "\n",
      "Kalimat 12\n",
      "Di dalam pert emuan itu, menurut Erick, FIFA melihat adanya potensi, popularitas, dan \n",
      "perkembangan sepak bola yang besar di Indonesia.\n",
      "\n",
      "Kalimat 13\n",
      "Dikaitkan dengan pertumbuhan ekonomi \n",
      "nasional yang konstan, pasar yang besar, dan kondisi sosial politik yang stabil, FIFA menyatakan \n",
      "siap memberikan dukungan maksimal.\n",
      "\n",
      "Kalimat 14\n",
      "Dukungan itu diberikan FIFA, kata Erick, agar sepak bola yang merupakan olahraga paling populer \n",
      "dan dicintai di Indonesia dapat menjadi kebanggaan bangsa dan salah satu pilar yang \n",
      "berkontribusi bagi kemajuan bangsa.\n",
      "\n",
      "Kalimat 15\n",
      "\"Pada kesempatan ini saya juga menyampaikan salam dan surat khusus dari Presiden Joko Widodo \n",
      "kepada Presiden FIFA, Gianni Infantino,\" ucap Erick Thohir.\n",
      "\n",
      "Kalimat 16\n",
      "Adapun Presiden Jokowi sebelumnya telah menelepon Presiden FIFA Giovanni Vincenzo Infantino \n",
      "untuk membahas tragedi Kanjuruhan setelah pertandingan sepak bola di Stadion Kanjuruhan, \n",
      "Kabupaten Malang, Jawa Timur.\n",
      "\n",
      "Kalimat 17\n",
      "M JULNIS FIRMANSYAH      \n",
      "Baca: Kronologi Tragedi Kanjuruhan Malang yang Dipaparkan Kapolri\n"
     ]
    }
   ],
   "source": [
    "kal=1\n",
    "for i in sentences_list:\n",
    "    print('\\nKalimat {}'.format(kal))\n",
    "    kal+=1\n",
    "    print(i)"
   ]
  },
  {
   "cell_type": "markdown",
   "metadata": {
    "id": "Sg-bDJQVwgU5"
   },
   "source": [
    "Tokenizing adalah proses pemisahan teks menjadi potongan-potongan yang disebut sebagai token untuk kemudian di analisa. Kata, angka, simbol, tanda baca dan entitas penting lainnya dapat dianggap sebagai token."
   ]
  },
  {
   "cell_type": "code",
   "execution_count": 51,
   "metadata": {
    "executionInfo": {
     "elapsed": 36,
     "status": "ok",
     "timestamp": 1666180085170,
     "user": {
      "displayName": "Muhammad Fahmi Ady susilo 19_127",
      "userId": "09919749956615563057"
     },
     "user_tz": -420
    },
    "id": "qNZkuvW7iFXj"
   },
   "outputs": [],
   "source": [
    "from sklearn.feature_extraction.text import TfidfTransformer, CountVectorizer\n",
    "vectorizer = CountVectorizer()\n",
    "cv_matrix=vectorizer.fit_transform(sentences_list)"
   ]
  },
  {
   "cell_type": "markdown",
   "metadata": {
    "id": "Gqr-bb34wlRo"
   },
   "source": [
    "Menampilkan jumlah Kosa Kata dari Data"
   ]
  },
  {
   "cell_type": "code",
   "execution_count": 52,
   "metadata": {
    "colab": {
     "base_uri": "https://localhost:8080/"
    },
    "executionInfo": {
     "elapsed": 37,
     "status": "ok",
     "timestamp": 1666180085171,
     "user": {
      "displayName": "Muhammad Fahmi Ady susilo 19_127",
      "userId": "09919749956615563057"
     },
     "user_tz": -420
    },
    "id": "gFvPCNTapL-2",
    "outputId": "6107b5b4-96d1-48fb-e03e-9f69bdc96b77"
   },
   "outputs": [
    {
     "name": "stdout",
     "output_type": "stream",
     "text": [
      "Banyaknya kosa kata =  202\n"
     ]
    }
   ],
   "source": [
    "print (\"Banyaknya kosa kata = \", len((vectorizer.get_feature_names_out())))"
   ]
  },
  {
   "cell_type": "markdown",
   "metadata": {
    "id": "bZLPHgE9wr1Q"
   },
   "source": [
    "Menampilkan jumlah Kalimat dari Data"
   ]
  },
  {
   "cell_type": "code",
   "execution_count": 53,
   "metadata": {
    "colab": {
     "base_uri": "https://localhost:8080/"
    },
    "executionInfo": {
     "elapsed": 35,
     "status": "ok",
     "timestamp": 1666180085173,
     "user": {
      "displayName": "Muhammad Fahmi Ady susilo 19_127",
      "userId": "09919749956615563057"
     },
     "user_tz": -420
    },
    "id": "uMTqZWanpKdn",
    "outputId": "e1d99b5e-4cd8-4d8c-a82c-fd61b30842c9"
   },
   "outputs": [
    {
     "name": "stdout",
     "output_type": "stream",
     "text": [
      "Banyaknya kalimat =  17\n"
     ]
    }
   ],
   "source": [
    "print (\"Banyaknya kalimat = \", (len(sentences_list)))"
   ]
  },
  {
   "cell_type": "markdown",
   "metadata": {
    "id": "q352DrPGw1cm"
   },
   "source": [
    "Menampilkan Kosa Kata dari Data"
   ]
  },
  {
   "cell_type": "code",
   "execution_count": 54,
   "metadata": {
    "colab": {
     "base_uri": "https://localhost:8080/"
    },
    "executionInfo": {
     "elapsed": 32,
     "status": "ok",
     "timestamp": 1666180085174,
     "user": {
      "displayName": "Muhammad Fahmi Ady susilo 19_127",
      "userId": "09919749956615563057"
     },
     "user_tz": -420
    },
    "id": "0G2yyy5apa7m",
    "outputId": "485ed560-f98e-489d-c436-18ca351713fc"
   },
   "outputs": [
    {
     "name": "stdout",
     "output_type": "stream",
     "text": [
      "kosa kata =  ['131' '2022' 'adanya' 'adapun' 'afc' 'agar' 'agenda' 'akan'\n",
      " 'alhamdulillah' 'asian' 'atas' 'atau' 'baca' 'bagi' 'bakal' 'bangsa'\n",
      " 'banyak' 'belasungkawa' 'berdasarkan' 'berdiskusi' 'berkantor'\n",
      " 'berkontribusi' 'bersama' 'bertemu' 'besar' 'bola' 'bumn' 'co'\n",
      " 'confederation' 'dalam' 'dan' 'dapat' 'dari' 'datang' 'dengan' 'depan'\n",
      " 'di' 'diberikan' 'dicintai' 'dikaitkan' 'dikenai' 'dikenakan' 'dilakukan'\n",
      " 'dipaparkan' 'diskusi' 'dukungan' 'ekonomi' 'emuan' 'erick' 'federasi'\n",
      " 'fif' 'fifa' 'firmansyah' 'football' 'gianni' 'giovanni' 'hal' 'hingga'\n",
      " 'indonesia' 'infantino' 'ini' 'internasional' 'invantino' 'itu' 'jadwal'\n",
      " 'jakarta' 'jawa' 'jiwa' 'joko' 'jokowi' 'juga' 'julnis' 'kabupaten'\n",
      " 'kami' 'kanjuruhan' 'kapolri' 'kata' 'ke' 'keamanan' 'kebanggaan' 'kedua'\n",
      " 'kejadian' 'kemajuan' 'kepada' 'kepolisian' 'kesempatan' 'keterangan'\n",
      " 'khawatir' 'khusus' 'khususnya' 'kita' 'klub' 'komitmen' 'kondisi'\n",
      " 'konstan' 'korban' 'kronologi' 'maksimal' 'malang' 'masa' 'masukan'\n",
      " 'melakukan' 'melihat' 'membahas' 'membangun' 'membantu' 'membeberkan'\n",
      " 'membentuk' 'memberikan' 'membuat' 'memformulasikan' 'memperhitungkan'\n",
      " 'mendapatkan' 'menelan' 'menelepon' 'mengklaim' 'mengutus' 'menjadi'\n",
      " 'menjelaskan' 'menteri' 'menurut' 'menyampaikan' 'menyatakan' 'menyebut'\n",
      " 'merintah' 'merupakan' 'nasional' 'november' 'nya' 'oktober' 'olahraga'\n",
      " 'oleh' 'orang' 'organisasi' 'pada' 'paling' 'pasar' 'pe' 'pemerintah'\n",
      " 'pendampingan' 'pengamanan' 'pengaturan' 'perkembangan' 'pert'\n",
      " 'pertandingan' 'pertemuan' 'pertemuannya' 'pertumbuhan' 'perwakilan'\n",
      " 'pilar' 'politik' 'popularitas' 'populer' 'potensi' 'presiden' 'prosedur'\n",
      " 'proses' 'protokol' 'qatar' 'rabu' 'risiko' 'sabtu' 'salah' 'salam'\n",
      " 'sama' 'sanksi' 'saran' 'satu' 'saya' 'sebelumnya' 'selain' 'selama'\n",
      " 'sepak' 'serta' 'setelah' 'siap' 'soal' 'sosial' 'sosialisasi' 'stabil'\n",
      " 'stadion' 'standar' 'suporter' 'surat' 'telah' 'tempo' 'termasuk'\n",
      " 'tersebut' 'thohir' 'tidak' 'tim' 'timur' 'tinggi' 'tragedi'\n",
      " 'transformasi' 'ucap' 'ujar' 'untuk' 'usai' 'vincenzo' 'widodo' 'yang']\n"
     ]
    }
   ],
   "source": [
    "print (\"kosa kata = \", (vectorizer.get_feature_names_out()))"
   ]
  },
  {
   "cell_type": "code",
   "execution_count": 55,
   "metadata": {
    "colab": {
     "base_uri": "https://localhost:8080/"
    },
    "executionInfo": {
     "elapsed": 29,
     "status": "ok",
     "timestamp": 1666180085175,
     "user": {
      "displayName": "Muhammad Fahmi Ady susilo 19_127",
      "userId": "09919749956615563057"
     },
     "user_tz": -420
    },
    "id": "ZAJscylQJGtU",
    "outputId": "8993c87f-39d9-4137-ad39-5092e6ddcae0"
   },
   "outputs": [
    {
     "name": "stdout",
     "output_type": "stream",
     "text": [
      "[[0.20893039 0.         0.         ... 0.         0.18243429 0.11833962]\n",
      " [0.         0.         0.         ... 0.         0.         0.        ]\n",
      " [0.         0.15486352 0.         ... 0.         0.         0.        ]\n",
      " ...\n",
      " [0.         0.         0.         ... 0.         0.2133249  0.        ]\n",
      " [0.         0.         0.         ... 0.23587291 0.         0.        ]\n",
      " [0.         0.         0.         ... 0.         0.         0.20185071]]\n"
     ]
    }
   ],
   "source": [
    "# mengubah kumpulan dokumen mentah menjadi matriks fitur TF-IDF\n",
    "normal_matrix = TfidfTransformer().fit_transform(cv_matrix)\n",
    "print(normal_matrix.toarray())"
   ]
  },
  {
   "cell_type": "markdown",
   "metadata": {
    "id": "AnGSlGvjxbCg"
   },
   "source": [
    "Menampilkan Jumlah Kalimat dan Kosa Kata"
   ]
  },
  {
   "cell_type": "code",
   "execution_count": 56,
   "metadata": {
    "colab": {
     "base_uri": "https://localhost:8080/"
    },
    "executionInfo": {
     "elapsed": 27,
     "status": "ok",
     "timestamp": 1666180085176,
     "user": {
      "displayName": "Muhammad Fahmi Ady susilo 19_127",
      "userId": "09919749956615563057"
     },
     "user_tz": -420
    },
    "id": "oUec8vm2LefT",
    "outputId": "2615a911-96c6-4600-ced1-b6d0ae166c6d"
   },
   "outputs": [
    {
     "data": {
      "text/plain": [
       "(17, 202)"
      ]
     },
     "execution_count": 56,
     "metadata": {},
     "output_type": "execute_result"
    }
   ],
   "source": [
    "normal_matrix.shape"
   ]
  },
  {
   "cell_type": "markdown",
   "metadata": {
    "id": "XeKHOMRoAQe2"
   },
   "source": [
    "NetworkX adalah paket Python untuk pembuatan, manipulasi, dan studi tentang struktur, dinamika, dan fungsi jaringan yang kompleks. Ini menyediakan:"
   ]
  },
  {
   "cell_type": "code",
   "execution_count": 57,
   "metadata": {
    "executionInfo": {
     "elapsed": 24,
     "status": "ok",
     "timestamp": 1666180085177,
     "user": {
      "displayName": "Muhammad Fahmi Ady susilo 19_127",
      "userId": "09919749956615563057"
     },
     "user_tz": -420
    },
    "id": "0csQUXz1JLIt"
   },
   "outputs": [],
   "source": [
    "import networkx as nx"
   ]
  },
  {
   "cell_type": "markdown",
   "metadata": {
    "id": "jX9Z1nQ-Aqjg"
   },
   "source": [
    "Graph adalah kumpulan dati titik (node) dan garis dimana pasangan – pasangan titik (node) tersebut dihubungkan oleh segmen garis. Node ini biasa disebut simpul (vertex) dan segmen garis disebut ruas (edge)"
   ]
  },
  {
   "cell_type": "code",
   "execution_count": 58,
   "metadata": {
    "colab": {
     "base_uri": "https://localhost:8080/"
    },
    "executionInfo": {
     "elapsed": 24,
     "status": "ok",
     "timestamp": 1666180085178,
     "user": {
      "displayName": "Muhammad Fahmi Ady susilo 19_127",
      "userId": "09919749956615563057"
     },
     "user_tz": -420
    },
    "id": "2mHH8sYmJN2y",
    "outputId": "844e0d07-03c2-48e7-a15b-98cdbafc782c"
   },
   "outputs": [
    {
     "name": "stdout",
     "output_type": "stream",
     "text": [
      "  (0, 8)\t0.016922784978310058\n",
      "  (0, 5)\t0.044476229416547094\n",
      "  (0, 3)\t0.07470507531673126\n",
      "  (0, 7)\t0.09585456914285453\n",
      "  (0, 1)\t0.1942213246421451\n",
      "  (0, 10)\t0.10165371278754455\n",
      "  (0, 2)\t0.18353774740874507\n",
      "  (0, 15)\t0.28051691717998695\n",
      "  (0, 9)\t0.13660061427043854\n",
      "  (0, 14)\t0.1316822405035506\n",
      "  (0, 16)\t0.13953329173052492\n",
      "  (0, 13)\t0.0762655091348627\n",
      "  (0, 12)\t0.05545907185229088\n",
      "  (0, 11)\t0.10540780689091514\n",
      "  (0, 6)\t0.02361139650449116\n",
      "  (0, 4)\t0.08774693053033637\n",
      "  (0, 0)\t1.0000000000000004\n",
      "  (1, 12)\t0.02679277158898258\n",
      "  (1, 6)\t0.03923635955100562\n",
      "  (1, 13)\t0.06726236381671076\n",
      "  (1, 11)\t0.07768078633033922\n",
      "  (1, 9)\t0.045941343628468176\n",
      "  (1, 4)\t0.027163452336286264\n",
      "  (1, 3)\t0.054329672164743555\n",
      "  (1, 2)\t0.12728192723024565\n",
      "  :\t:\n",
      "  (15, 14)\t0.14579337689260602\n",
      "  (15, 8)\t0.1026815863923701\n",
      "  (15, 13)\t0.04694037434692812\n",
      "  (15, 11)\t0.08492566544152216\n",
      "  (15, 4)\t0.028949538948435584\n",
      "  (15, 2)\t0.09350206458577603\n",
      "  (15, 3)\t0.08151611797404915\n",
      "  (15, 16)\t0.16677525808873744\n",
      "  (15, 9)\t0.23327088145908648\n",
      "  (15, 0)\t0.28051691717998695\n",
      "  (15, 10)\t0.1885945236007393\n",
      "  (15, 7)\t0.11161585112148718\n",
      "  (15, 5)\t0.06167086426659253\n",
      "  (15, 1)\t0.2129762375293368\n",
      "  (15, 15)\t1.0000000000000002\n",
      "  (16, 10)\t0.037492873034486555\n",
      "  (16, 15)\t0.16677525808873744\n",
      "  (16, 9)\t0.13190208965584627\n",
      "  (16, 16)\t1.0\n",
      "  (16, 13)\t0.04547079188001421\n",
      "  (16, 12)\t0.07877893045655979\n",
      "  (16, 11)\t0.03212965960427992\n",
      "  (16, 6)\t0.025134426032986\n",
      "  (16, 4)\t0.02662294835074497\n",
      "  (16, 0)\t0.13953329173052492\n"
     ]
    }
   ],
   "source": [
    "res_graph = normal_matrix * normal_matrix.T\n",
    "print(res_graph)"
   ]
  },
  {
   "cell_type": "code",
   "execution_count": 59,
   "metadata": {
    "executionInfo": {
     "elapsed": 21,
     "status": "ok",
     "timestamp": 1666180085179,
     "user": {
      "displayName": "Muhammad Fahmi Ady susilo 19_127",
      "userId": "09919749956615563057"
     },
     "user_tz": -420
    },
    "id": "7MGVA-htJQC2"
   },
   "outputs": [],
   "source": [
    "nx_graph = nx.from_scipy_sparse_matrix(res_graph)\n"
   ]
  },
  {
   "cell_type": "code",
   "execution_count": 60,
   "metadata": {
    "colab": {
     "base_uri": "https://localhost:8080/",
     "height": 319
    },
    "executionInfo": {
     "elapsed": 1062,
     "status": "ok",
     "timestamp": 1666180086220,
     "user": {
      "displayName": "Muhammad Fahmi Ady susilo 19_127",
      "userId": "09919749956615563057"
     },
     "user_tz": -420
    },
    "id": "SfuxWEzeJX0D",
    "outputId": "e59869d9-ee72-439a-864f-da45df74a198"
   },
   "outputs": [
    {
     "data": {
      "image/png": "[encoded data removed]",
      "text/plain": [
       "<Figure size 432x288 with 1 Axes>"
      ]
     },
     "metadata": {
      "filenames": {
       "image/png": "/content/drive/MyDrive/webmining/webmining/_build/jupyter_execute/contents/CrawlingVSM_135_0.png"
      }
     },
     "output_type": "display_data"
    }
   ],
   "source": [
    "nx.draw_circular(nx_graph)"
   ]
  },
  {
   "cell_type": "markdown",
   "metadata": {
    "id": "hntHmK1ZAviZ"
   },
   "source": [
    "Jumlah Banyak Sisi "
   ]
  },
  {
   "cell_type": "code",
   "execution_count": 61,
   "metadata": {
    "colab": {
     "base_uri": "https://localhost:8080/"
    },
    "executionInfo": {
     "elapsed": 45,
     "status": "ok",
     "timestamp": 1666180086223,
     "user": {
      "displayName": "Muhammad Fahmi Ady susilo 19_127",
      "userId": "09919749956615563057"
     },
     "user_tz": -420
    },
    "id": "iXC841f_Jk3C",
    "outputId": "4ee0ef5f-69ca-481f-dbad-729cb9044e8c"
   },
   "outputs": [
    {
     "name": "stdout",
     "output_type": "stream",
     "text": [
      "Banyaknya sisi 142\n"
     ]
    }
   ],
   "source": [
    "print('Banyaknya sisi {}'.format(nx_graph.number_of_edges()))"
   ]
  },
  {
   "cell_type": "markdown",
   "metadata": {
    "id": "scM5btXzCAQM"
   },
   "source": [
    "Menkalikan data dengan data Transpose"
   ]
  },
  {
   "cell_type": "code",
   "execution_count": 62,
   "metadata": {
    "executionInfo": {
     "elapsed": 41,
     "status": "ok",
     "timestamp": 1666180086223,
     "user": {
      "displayName": "Muhammad Fahmi Ady susilo 19_127",
      "userId": "09919749956615563057"
     },
     "user_tz": -420
    },
    "id": "CzwDPgPSJvFp"
   },
   "outputs": [],
   "source": [
    "res_graph = normal_matrix * normal_matrix.T"
   ]
  },
  {
   "cell_type": "markdown",
   "metadata": {
    "id": "OVJPHFEWDFq9"
   },
   "source": [
    "PageRank menghitung peringkat node dalam grafik G berdasarkan struktur tautan masuk. Awalnya dirancang sebagai algoritma untuk menentukan peringkat halaman web."
   ]
  },
  {
   "cell_type": "code",
   "execution_count": 63,
   "metadata": {
    "executionInfo": {
     "elapsed": 41,
     "status": "ok",
     "timestamp": 1666180086224,
     "user": {
      "displayName": "Muhammad Fahmi Ady susilo 19_127",
      "userId": "09919749956615563057"
     },
     "user_tz": -420
    },
    "id": "0JTP22O2J0_x"
   },
   "outputs": [],
   "source": [
    "ranks=nx.pagerank(nx_graph,)\n"
   ]
  },
  {
   "cell_type": "markdown",
   "metadata": {
    "id": "D4fi3uKnEgHM"
   },
   "source": [
    "memasukkan data ke array"
   ]
  },
  {
   "cell_type": "code",
   "execution_count": 64,
   "metadata": {
    "executionInfo": {
     "elapsed": 43,
     "status": "ok",
     "timestamp": 1666180086226,
     "user": {
      "displayName": "Muhammad Fahmi Ady susilo 19_127",
      "userId": "09919749956615563057"
     },
     "user_tz": -420
    },
    "id": "NpgoT7zVKKqO"
   },
   "outputs": [],
   "source": [
    "arrRank=[]\n",
    "for i in ranks:\n",
    "    arrRank.append(ranks[i])"
   ]
  },
  {
   "cell_type": "markdown",
   "metadata": {
    "id": "fat4TmkgEm1j"
   },
   "source": [
    "menjadikan data kedalam bentuk tabel lalu digabungkan "
   ]
  },
  {
   "cell_type": "code",
   "execution_count": 65,
   "metadata": {
    "colab": {
     "base_uri": "https://localhost:8080/",
     "height": 582
    },
    "executionInfo": {
     "elapsed": 45,
     "status": "ok",
     "timestamp": 1666180086228,
     "user": {
      "displayName": "Muhammad Fahmi Ady susilo 19_127",
      "userId": "09919749956615563057"
     },
     "user_tz": -420
    },
    "id": "eYf7C93DCui4",
    "outputId": "5bbf537b-a9c6-42cb-a3aa-04185a255e82"
   },
   "outputs": [
    {
     "data": {
      "text/html": [
       "\n",
       "  <div id=\"df-899c6286-c550-4498-a5e0-fcf9bcc2dd56\">\n",
       "    <div class=\"colab-df-container\">\n",
       "      <div>\n",
       "<style scoped>\n",
       "    .dataframe tbody tr th:only-of-type {\n",
       "        vertical-align: middle;\n",
       "    }\n",
       "\n",
       "    .dataframe tbody tr th {\n",
       "        vertical-align: top;\n",
       "    }\n",
       "\n",
       "    .dataframe thead th {\n",
       "        text-align: right;\n",
       "    }\n",
       "</style>\n",
       "<table border=\"1\" class=\"dataframe\">\n",
       "  <thead>\n",
       "    <tr style=\"text-align: right;\">\n",
       "      <th></th>\n",
       "      <th>News</th>\n",
       "      <th>PageRank</th>\n",
       "    </tr>\n",
       "  </thead>\n",
       "  <tbody>\n",
       "    <tr>\n",
       "      <th>0</th>\n",
       "      <td>TEMPO.CO, Jakarta - Presiden Joko Widodo atau ...</td>\n",
       "      <td>0.065057</td>\n",
       "    </tr>\n",
       "    <tr>\n",
       "      <th>1</th>\n",
       "      <td>Sebelumnya, Jokowi khawatir Indonesia dikenai ...</td>\n",
       "      <td>0.062935</td>\n",
       "    </tr>\n",
       "    <tr>\n",
       "      <th>2</th>\n",
       "      <td>\"Alhamdulillah sepak bola Indonesia tidak dike...</td>\n",
       "      <td>0.068197</td>\n",
       "    </tr>\n",
       "    <tr>\n",
       "      <th>3</th>\n",
       "      <td>Jokowi menjelaskan selain FIFA, Asian Football...</td>\n",
       "      <td>0.057320</td>\n",
       "    </tr>\n",
       "    <tr>\n",
       "      <th>4</th>\n",
       "      <td>Selain itu, kedua \\norganisasi sepak bola itu ...</td>\n",
       "      <td>0.057742</td>\n",
       "    </tr>\n",
       "    <tr>\n",
       "      <th>5</th>\n",
       "      <td>\"Kita juga akan bersama -sama melakukan sosial...</td>\n",
       "      <td>0.055186</td>\n",
       "    </tr>\n",
       "    <tr>\n",
       "      <th>6</th>\n",
       "      <td>FIFA dan AFC bakal membantu      \\nSelain itu,...</td>\n",
       "      <td>0.054671</td>\n",
       "    </tr>\n",
       "    <tr>\n",
       "      <th>7</th>\n",
       "      <td>Jokowi menyebut Presiden FIFA akan datang ke \\...</td>\n",
       "      <td>0.055650</td>\n",
       "    </tr>\n",
       "    <tr>\n",
       "      <th>8</th>\n",
       "      <td>Sebelumnya, Menteri BUMN Erick Thohir membeber...</td>\n",
       "      <td>0.053352</td>\n",
       "    </tr>\n",
       "    <tr>\n",
       "      <th>9</th>\n",
       "      <td>Pertemuan itu membahas soal tragedi Kanjuruhan...</td>\n",
       "      <td>0.063451</td>\n",
       "    </tr>\n",
       "    <tr>\n",
       "      <th>10</th>\n",
       "      <td>\"Selain menyampaikan belasungkawa atas kejadia...</td>\n",
       "      <td>0.063975</td>\n",
       "    </tr>\n",
       "    <tr>\n",
       "      <th>11</th>\n",
       "      <td>Di dalam pert emuan itu, menurut Erick, FIFA m...</td>\n",
       "      <td>0.065238</td>\n",
       "    </tr>\n",
       "    <tr>\n",
       "      <th>12</th>\n",
       "      <td>Dikaitkan dengan pertumbuhan ekonomi \\nnasiona...</td>\n",
       "      <td>0.049587</td>\n",
       "    </tr>\n",
       "    <tr>\n",
       "      <th>13</th>\n",
       "      <td>Dukungan itu diberikan FIFA, kata Erick, agar ...</td>\n",
       "      <td>0.058770</td>\n",
       "    </tr>\n",
       "    <tr>\n",
       "      <th>14</th>\n",
       "      <td>\"Pada kesempatan ini saya juga menyampaikan sa...</td>\n",
       "      <td>0.054695</td>\n",
       "    </tr>\n",
       "    <tr>\n",
       "      <th>15</th>\n",
       "      <td>Adapun Presiden Jokowi sebelumnya telah menele...</td>\n",
       "      <td>0.068102</td>\n",
       "    </tr>\n",
       "    <tr>\n",
       "      <th>16</th>\n",
       "      <td>M JULNIS FIRMANSYAH      \\nBaca: Kronologi Tra...</td>\n",
       "      <td>0.046070</td>\n",
       "    </tr>\n",
       "  </tbody>\n",
       "</table>\n",
       "</div>\n",
       "      <button class=\"colab-df-convert\" onclick=\"convertToInteractive('df-899c6286-c550-4498-a5e0-fcf9bcc2dd56')\"\n",
       "              title=\"Convert this dataframe to an interactive table.\"\n",
       "              style=\"display:none;\">\n",
       "\n",
       "  <svg xmlns=\"http://www.w3.org/2000/svg\" height=\"24px\"viewBox=\"0 0 24 24\"\n",
       "       width=\"24px\">\n",
       "    <path d=\"M0 0h24v24H0V0z\" fill=\"none\"/>\n",
       "    <path d=\"M18.56 5.44l.94 2.06.94-2.06 2.06-.94-2.06-.94-.94-2.06-.94 2.06-2.06.94zm-11 1L8.5 8.5l.94-2.06 2.06-.94-2.06-.94L8.5 2.5l-.94 2.06-2.06.94zm10 10l.94 2.06.94-2.06 2.06-.94-2.06-.94-.94-2.06-.94 2.06-2.06.94z\"/><path d=\"M17.41 7.96l-1.37-1.37c-.4-.4-.92-.59-1.43-.59-.52 0-1.04.2-1.43.59L10.3 9.45l-7.72 7.72c-.78.78-.78 2.05 0 2.83L4 21.41c.39.39.9.59 1.41.59.51 0 1.02-.2 1.41-.59l7.78-7.78 2.81-2.81c.8-.78.8-2.07 0-2.86zM5.41 20L4 18.59l7.72-7.72 1.47 1.35L5.41 20z\"/>\n",
       "  </svg>\n",
       "      </button>\n",
       "\n",
       "  <style>\n",
       "    .colab-df-container {\n",
       "      display:flex;\n",
       "      flex-wrap:wrap;\n",
       "      gap: 12px;\n",
       "    }\n",
       "\n",
       "    .colab-df-convert {\n",
       "      background-color: #E8F0FE;\n",
       "      border: none;\n",
       "      border-radius: 50%;\n",
       "      cursor: pointer;\n",
       "      display: none;\n",
       "      fill: #1967D2;\n",
       "      height: 32px;\n",
       "      padding: 0 0 0 0;\n",
       "      width: 32px;\n",
       "    }\n",
       "\n",
       "    .colab-df-convert:hover {\n",
       "      background-color: #E2EBFA;\n",
       "      box-shadow: 0px 1px 2px rgba(60, 64, 67, 0.3), 0px 1px 3px 1px rgba(60, 64, 67, 0.15);\n",
       "      fill: #174EA6;\n",
       "    }\n",
       "\n",
       "    [theme=dark] .colab-df-convert {\n",
       "      background-color: #3B4455;\n",
       "      fill: #D2E3FC;\n",
       "    }\n",
       "\n",
       "    [theme=dark] .colab-df-convert:hover {\n",
       "      background-color: #434B5C;\n",
       "      box-shadow: 0px 1px 3px 1px rgba(0, 0, 0, 0.15);\n",
       "      filter: drop-shadow(0px 1px 2px rgba(0, 0, 0, 0.3));\n",
       "      fill: #FFFFFF;\n",
       "    }\n",
       "  </style>\n",
       "\n",
       "      <script>\n",
       "        const buttonEl =\n",
       "          document.querySelector('#df-899c6286-c550-4498-a5e0-fcf9bcc2dd56 button.colab-df-convert');\n",
       "        buttonEl.style.display =\n",
       "          google.colab.kernel.accessAllowed ? 'block' : 'none';\n",
       "\n",
       "        async function convertToInteractive(key) {\n",
       "          const element = document.querySelector('#df-899c6286-c550-4498-a5e0-fcf9bcc2dd56');\n",
       "          const dataTable =\n",
       "            await google.colab.kernel.invokeFunction('convertToInteractive',\n",
       "                                                     [key], {});\n",
       "          if (!dataTable) return;\n",
       "\n",
       "          const docLinkHtml = 'Like what you see? Visit the ' +\n",
       "            '<a target=\"_blank\" href=https://colab.research.google.com/notebooks/data_table.ipynb>data table notebook</a>'\n",
       "            + ' to learn more about interactive tables.';\n",
       "          element.innerHTML = '';\n",
       "          dataTable['output_type'] = 'display_data';\n",
       "          await google.colab.output.renderOutput(dataTable, element);\n",
       "          const docLink = document.createElement('div');\n",
       "          docLink.innerHTML = docLinkHtml;\n",
       "          element.appendChild(docLink);\n",
       "        }\n",
       "      </script>\n",
       "    </div>\n",
       "  </div>\n"
      ],
      "text/plain": [
       "                                                 News  PageRank\n",
       "0   TEMPO.CO, Jakarta - Presiden Joko Widodo atau ...  0.065057\n",
       "1   Sebelumnya, Jokowi khawatir Indonesia dikenai ...  0.062935\n",
       "2   \"Alhamdulillah sepak bola Indonesia tidak dike...  0.068197\n",
       "3   Jokowi menjelaskan selain FIFA, Asian Football...  0.057320\n",
       "4   Selain itu, kedua \\norganisasi sepak bola itu ...  0.057742\n",
       "5   \"Kita juga akan bersama -sama melakukan sosial...  0.055186\n",
       "6   FIFA dan AFC bakal membantu      \\nSelain itu,...  0.054671\n",
       "7   Jokowi menyebut Presiden FIFA akan datang ke \\...  0.055650\n",
       "8   Sebelumnya, Menteri BUMN Erick Thohir membeber...  0.053352\n",
       "9   Pertemuan itu membahas soal tragedi Kanjuruhan...  0.063451\n",
       "10  \"Selain menyampaikan belasungkawa atas kejadia...  0.063975\n",
       "11  Di dalam pert emuan itu, menurut Erick, FIFA m...  0.065238\n",
       "12  Dikaitkan dengan pertumbuhan ekonomi \\nnasiona...  0.049587\n",
       "13  Dukungan itu diberikan FIFA, kata Erick, agar ...  0.058770\n",
       "14  \"Pada kesempatan ini saya juga menyampaikan sa...  0.054695\n",
       "15  Adapun Presiden Jokowi sebelumnya telah menele...  0.068102\n",
       "16  M JULNIS FIRMANSYAH      \\nBaca: Kronologi Tra...  0.046070"
      ]
     },
     "execution_count": 65,
     "metadata": {},
     "output_type": "execute_result"
    }
   ],
   "source": [
    "dfRanks = pd.DataFrame(arrRank,columns=['PageRank'])\n",
    "dfSentence = pd.DataFrame(sentences_list,columns=['News'])\n",
    "dfJoin = pd.concat([dfSentence,dfRanks], axis=1)\n",
    "dfJoin"
   ]
  },
  {
   "cell_type": "markdown",
   "metadata": {
    "id": "RG2PNpY_FHYq"
   },
   "source": [
    "Mengurutkan data berdasarkan hasil tertinggi"
   ]
  },
  {
   "cell_type": "code",
   "execution_count": 66,
   "metadata": {
    "colab": {
     "base_uri": "https://localhost:8080/",
     "height": 582
    },
    "executionInfo": {
     "elapsed": 44,
     "status": "ok",
     "timestamp": 1666180086228,
     "user": {
      "displayName": "Muhammad Fahmi Ady susilo 19_127",
      "userId": "09919749956615563057"
     },
     "user_tz": -420
    },
    "id": "HgrY9v7ULDoK",
    "outputId": "268c48b4-3e43-491f-c82e-77a320edd053"
   },
   "outputs": [
    {
     "data": {
      "text/html": [
       "\n",
       "  <div id=\"df-9f279050-fe9f-4784-a6dc-b3fbcae6f4c5\">\n",
       "    <div class=\"colab-df-container\">\n",
       "      <div>\n",
       "<style scoped>\n",
       "    .dataframe tbody tr th:only-of-type {\n",
       "        vertical-align: middle;\n",
       "    }\n",
       "\n",
       "    .dataframe tbody tr th {\n",
       "        vertical-align: top;\n",
       "    }\n",
       "\n",
       "    .dataframe thead th {\n",
       "        text-align: right;\n",
       "    }\n",
       "</style>\n",
       "<table border=\"1\" class=\"dataframe\">\n",
       "  <thead>\n",
       "    <tr style=\"text-align: right;\">\n",
       "      <th></th>\n",
       "      <th>News</th>\n",
       "      <th>PageRank</th>\n",
       "    </tr>\n",
       "  </thead>\n",
       "  <tbody>\n",
       "    <tr>\n",
       "      <th>2</th>\n",
       "      <td>\"Alhamdulillah sepak bola Indonesia tidak dike...</td>\n",
       "      <td>0.068197</td>\n",
       "    </tr>\n",
       "    <tr>\n",
       "      <th>15</th>\n",
       "      <td>Adapun Presiden Jokowi sebelumnya telah menele...</td>\n",
       "      <td>0.068102</td>\n",
       "    </tr>\n",
       "    <tr>\n",
       "      <th>11</th>\n",
       "      <td>Di dalam pert emuan itu, menurut Erick, FIFA m...</td>\n",
       "      <td>0.065238</td>\n",
       "    </tr>\n",
       "    <tr>\n",
       "      <th>0</th>\n",
       "      <td>TEMPO.CO, Jakarta - Presiden Joko Widodo atau ...</td>\n",
       "      <td>0.065057</td>\n",
       "    </tr>\n",
       "    <tr>\n",
       "      <th>10</th>\n",
       "      <td>\"Selain menyampaikan belasungkawa atas kejadia...</td>\n",
       "      <td>0.063975</td>\n",
       "    </tr>\n",
       "    <tr>\n",
       "      <th>9</th>\n",
       "      <td>Pertemuan itu membahas soal tragedi Kanjuruhan...</td>\n",
       "      <td>0.063451</td>\n",
       "    </tr>\n",
       "    <tr>\n",
       "      <th>1</th>\n",
       "      <td>Sebelumnya, Jokowi khawatir Indonesia dikenai ...</td>\n",
       "      <td>0.062935</td>\n",
       "    </tr>\n",
       "    <tr>\n",
       "      <th>13</th>\n",
       "      <td>Dukungan itu diberikan FIFA, kata Erick, agar ...</td>\n",
       "      <td>0.058770</td>\n",
       "    </tr>\n",
       "    <tr>\n",
       "      <th>4</th>\n",
       "      <td>Selain itu, kedua \\norganisasi sepak bola itu ...</td>\n",
       "      <td>0.057742</td>\n",
       "    </tr>\n",
       "    <tr>\n",
       "      <th>3</th>\n",
       "      <td>Jokowi menjelaskan selain FIFA, Asian Football...</td>\n",
       "      <td>0.057320</td>\n",
       "    </tr>\n",
       "    <tr>\n",
       "      <th>7</th>\n",
       "      <td>Jokowi menyebut Presiden FIFA akan datang ke \\...</td>\n",
       "      <td>0.055650</td>\n",
       "    </tr>\n",
       "    <tr>\n",
       "      <th>5</th>\n",
       "      <td>\"Kita juga akan bersama -sama melakukan sosial...</td>\n",
       "      <td>0.055186</td>\n",
       "    </tr>\n",
       "    <tr>\n",
       "      <th>14</th>\n",
       "      <td>\"Pada kesempatan ini saya juga menyampaikan sa...</td>\n",
       "      <td>0.054695</td>\n",
       "    </tr>\n",
       "    <tr>\n",
       "      <th>6</th>\n",
       "      <td>FIFA dan AFC bakal membantu      \\nSelain itu,...</td>\n",
       "      <td>0.054671</td>\n",
       "    </tr>\n",
       "    <tr>\n",
       "      <th>8</th>\n",
       "      <td>Sebelumnya, Menteri BUMN Erick Thohir membeber...</td>\n",
       "      <td>0.053352</td>\n",
       "    </tr>\n",
       "    <tr>\n",
       "      <th>12</th>\n",
       "      <td>Dikaitkan dengan pertumbuhan ekonomi \\nnasiona...</td>\n",
       "      <td>0.049587</td>\n",
       "    </tr>\n",
       "    <tr>\n",
       "      <th>16</th>\n",
       "      <td>M JULNIS FIRMANSYAH      \\nBaca: Kronologi Tra...</td>\n",
       "      <td>0.046070</td>\n",
       "    </tr>\n",
       "  </tbody>\n",
       "</table>\n",
       "</div>\n",
       "      <button class=\"colab-df-convert\" onclick=\"convertToInteractive('df-9f279050-fe9f-4784-a6dc-b3fbcae6f4c5')\"\n",
       "              title=\"Convert this dataframe to an interactive table.\"\n",
       "              style=\"display:none;\">\n",
       "\n",
       "  <svg xmlns=\"http://www.w3.org/2000/svg\" height=\"24px\"viewBox=\"0 0 24 24\"\n",
       "       width=\"24px\">\n",
       "    <path d=\"M0 0h24v24H0V0z\" fill=\"none\"/>\n",
       "    <path d=\"M18.56 5.44l.94 2.06.94-2.06 2.06-.94-2.06-.94-.94-2.06-.94 2.06-2.06.94zm-11 1L8.5 8.5l.94-2.06 2.06-.94-2.06-.94L8.5 2.5l-.94 2.06-2.06.94zm10 10l.94 2.06.94-2.06 2.06-.94-2.06-.94-.94-2.06-.94 2.06-2.06.94z\"/><path d=\"M17.41 7.96l-1.37-1.37c-.4-.4-.92-.59-1.43-.59-.52 0-1.04.2-1.43.59L10.3 9.45l-7.72 7.72c-.78.78-.78 2.05 0 2.83L4 21.41c.39.39.9.59 1.41.59.51 0 1.02-.2 1.41-.59l7.78-7.78 2.81-2.81c.8-.78.8-2.07 0-2.86zM5.41 20L4 18.59l7.72-7.72 1.47 1.35L5.41 20z\"/>\n",
       "  </svg>\n",
       "      </button>\n",
       "\n",
       "  <style>\n",
       "    .colab-df-container {\n",
       "      display:flex;\n",
       "      flex-wrap:wrap;\n",
       "      gap: 12px;\n",
       "    }\n",
       "\n",
       "    .colab-df-convert {\n",
       "      background-color: #E8F0FE;\n",
       "      border: none;\n",
       "      border-radius: 50%;\n",
       "      cursor: pointer;\n",
       "      display: none;\n",
       "      fill: #1967D2;\n",
       "      height: 32px;\n",
       "      padding: 0 0 0 0;\n",
       "      width: 32px;\n",
       "    }\n",
       "\n",
       "    .colab-df-convert:hover {\n",
       "      background-color: #E2EBFA;\n",
       "      box-shadow: 0px 1px 2px rgba(60, 64, 67, 0.3), 0px 1px 3px 1px rgba(60, 64, 67, 0.15);\n",
       "      fill: #174EA6;\n",
       "    }\n",
       "\n",
       "    [theme=dark] .colab-df-convert {\n",
       "      background-color: #3B4455;\n",
       "      fill: #D2E3FC;\n",
       "    }\n",
       "\n",
       "    [theme=dark] .colab-df-convert:hover {\n",
       "      background-color: #434B5C;\n",
       "      box-shadow: 0px 1px 3px 1px rgba(0, 0, 0, 0.15);\n",
       "      filter: drop-shadow(0px 1px 2px rgba(0, 0, 0, 0.3));\n",
       "      fill: #FFFFFF;\n",
       "    }\n",
       "  </style>\n",
       "\n",
       "      <script>\n",
       "        const buttonEl =\n",
       "          document.querySelector('#df-9f279050-fe9f-4784-a6dc-b3fbcae6f4c5 button.colab-df-convert');\n",
       "        buttonEl.style.display =\n",
       "          google.colab.kernel.accessAllowed ? 'block' : 'none';\n",
       "\n",
       "        async function convertToInteractive(key) {\n",
       "          const element = document.querySelector('#df-9f279050-fe9f-4784-a6dc-b3fbcae6f4c5');\n",
       "          const dataTable =\n",
       "            await google.colab.kernel.invokeFunction('convertToInteractive',\n",
       "                                                     [key], {});\n",
       "          if (!dataTable) return;\n",
       "\n",
       "          const docLinkHtml = 'Like what you see? Visit the ' +\n",
       "            '<a target=\"_blank\" href=https://colab.research.google.com/notebooks/data_table.ipynb>data table notebook</a>'\n",
       "            + ' to learn more about interactive tables.';\n",
       "          element.innerHTML = '';\n",
       "          dataTable['output_type'] = 'display_data';\n",
       "          await google.colab.output.renderOutput(dataTable, element);\n",
       "          const docLink = document.createElement('div');\n",
       "          docLink.innerHTML = docLinkHtml;\n",
       "          element.appendChild(docLink);\n",
       "        }\n",
       "      </script>\n",
       "    </div>\n",
       "  </div>\n"
      ],
      "text/plain": [
       "                                                 News  PageRank\n",
       "2   \"Alhamdulillah sepak bola Indonesia tidak dike...  0.068197\n",
       "15  Adapun Presiden Jokowi sebelumnya telah menele...  0.068102\n",
       "11  Di dalam pert emuan itu, menurut Erick, FIFA m...  0.065238\n",
       "0   TEMPO.CO, Jakarta - Presiden Joko Widodo atau ...  0.065057\n",
       "10  \"Selain menyampaikan belasungkawa atas kejadia...  0.063975\n",
       "9   Pertemuan itu membahas soal tragedi Kanjuruhan...  0.063451\n",
       "1   Sebelumnya, Jokowi khawatir Indonesia dikenai ...  0.062935\n",
       "13  Dukungan itu diberikan FIFA, kata Erick, agar ...  0.058770\n",
       "4   Selain itu, kedua \\norganisasi sepak bola itu ...  0.057742\n",
       "3   Jokowi menjelaskan selain FIFA, Asian Football...  0.057320\n",
       "7   Jokowi menyebut Presiden FIFA akan datang ke \\...  0.055650\n",
       "5   \"Kita juga akan bersama -sama melakukan sosial...  0.055186\n",
       "14  \"Pada kesempatan ini saya juga menyampaikan sa...  0.054695\n",
       "6   FIFA dan AFC bakal membantu      \\nSelain itu,...  0.054671\n",
       "8   Sebelumnya, Menteri BUMN Erick Thohir membeber...  0.053352\n",
       "12  Dikaitkan dengan pertumbuhan ekonomi \\nnasiona...  0.049587\n",
       "16  M JULNIS FIRMANSYAH      \\nBaca: Kronologi Tra...  0.046070"
      ]
     },
     "execution_count": 66,
     "metadata": {},
     "output_type": "execute_result"
    }
   ],
   "source": [
    "sortSentence=dfJoin.sort_values(by=['PageRank'],ascending=False)\n",
    "sortSentence"
   ]
  },
  {
   "cell_type": "markdown",
   "metadata": {
    "id": "9d3Yh4xiFNfy"
   },
   "source": [
    "Menampilkan data dari 5 ke atas"
   ]
  },
  {
   "cell_type": "code",
   "execution_count": 67,
   "metadata": {
    "colab": {
     "base_uri": "https://localhost:8080/",
     "height": 206
    },
    "executionInfo": {
     "elapsed": 43,
     "status": "ok",
     "timestamp": 1666180086229,
     "user": {
      "displayName": "Muhammad Fahmi Ady susilo 19_127",
      "userId": "09919749956615563057"
     },
     "user_tz": -420
    },
    "id": "qdEz6Zy9MWN3",
    "outputId": "ee737ce7-9681-452d-886e-f4a5c5478e5d"
   },
   "outputs": [
    {
     "data": {
      "text/html": [
       "\n",
       "  <div id=\"df-0150e0f8-642c-4fb8-821d-4012a37e3109\">\n",
       "    <div class=\"colab-df-container\">\n",
       "      <div>\n",
       "<style scoped>\n",
       "    .dataframe tbody tr th:only-of-type {\n",
       "        vertical-align: middle;\n",
       "    }\n",
       "\n",
       "    .dataframe tbody tr th {\n",
       "        vertical-align: top;\n",
       "    }\n",
       "\n",
       "    .dataframe thead th {\n",
       "        text-align: right;\n",
       "    }\n",
       "</style>\n",
       "<table border=\"1\" class=\"dataframe\">\n",
       "  <thead>\n",
       "    <tr style=\"text-align: right;\">\n",
       "      <th></th>\n",
       "      <th>News</th>\n",
       "      <th>PageRank</th>\n",
       "    </tr>\n",
       "  </thead>\n",
       "  <tbody>\n",
       "    <tr>\n",
       "      <th>2</th>\n",
       "      <td>\"Alhamdulillah sepak bola Indonesia tidak dike...</td>\n",
       "      <td>0.068197</td>\n",
       "    </tr>\n",
       "    <tr>\n",
       "      <th>15</th>\n",
       "      <td>Adapun Presiden Jokowi sebelumnya telah menele...</td>\n",
       "      <td>0.068102</td>\n",
       "    </tr>\n",
       "    <tr>\n",
       "      <th>11</th>\n",
       "      <td>Di dalam pert emuan itu, menurut Erick, FIFA m...</td>\n",
       "      <td>0.065238</td>\n",
       "    </tr>\n",
       "    <tr>\n",
       "      <th>0</th>\n",
       "      <td>TEMPO.CO, Jakarta - Presiden Joko Widodo atau ...</td>\n",
       "      <td>0.065057</td>\n",
       "    </tr>\n",
       "    <tr>\n",
       "      <th>10</th>\n",
       "      <td>\"Selain menyampaikan belasungkawa atas kejadia...</td>\n",
       "      <td>0.063975</td>\n",
       "    </tr>\n",
       "  </tbody>\n",
       "</table>\n",
       "</div>\n",
       "      <button class=\"colab-df-convert\" onclick=\"convertToInteractive('df-0150e0f8-642c-4fb8-821d-4012a37e3109')\"\n",
       "              title=\"Convert this dataframe to an interactive table.\"\n",
       "              style=\"display:none;\">\n",
       "\n",
       "  <svg xmlns=\"http://www.w3.org/2000/svg\" height=\"24px\"viewBox=\"0 0 24 24\"\n",
       "       width=\"24px\">\n",
       "    <path d=\"M0 0h24v24H0V0z\" fill=\"none\"/>\n",
       "    <path d=\"M18.56 5.44l.94 2.06.94-2.06 2.06-.94-2.06-.94-.94-2.06-.94 2.06-2.06.94zm-11 1L8.5 8.5l.94-2.06 2.06-.94-2.06-.94L8.5 2.5l-.94 2.06-2.06.94zm10 10l.94 2.06.94-2.06 2.06-.94-2.06-.94-.94-2.06-.94 2.06-2.06.94z\"/><path d=\"M17.41 7.96l-1.37-1.37c-.4-.4-.92-.59-1.43-.59-.52 0-1.04.2-1.43.59L10.3 9.45l-7.72 7.72c-.78.78-.78 2.05 0 2.83L4 21.41c.39.39.9.59 1.41.59.51 0 1.02-.2 1.41-.59l7.78-7.78 2.81-2.81c.8-.78.8-2.07 0-2.86zM5.41 20L4 18.59l7.72-7.72 1.47 1.35L5.41 20z\"/>\n",
       "  </svg>\n",
       "      </button>\n",
       "\n",
       "  <style>\n",
       "    .colab-df-container {\n",
       "      display:flex;\n",
       "      flex-wrap:wrap;\n",
       "      gap: 12px;\n",
       "    }\n",
       "\n",
       "    .colab-df-convert {\n",
       "      background-color: #E8F0FE;\n",
       "      border: none;\n",
       "      border-radius: 50%;\n",
       "      cursor: pointer;\n",
       "      display: none;\n",
       "      fill: #1967D2;\n",
       "      height: 32px;\n",
       "      padding: 0 0 0 0;\n",
       "      width: 32px;\n",
       "    }\n",
       "\n",
       "    .colab-df-convert:hover {\n",
       "      background-color: #E2EBFA;\n",
       "      box-shadow: 0px 1px 2px rgba(60, 64, 67, 0.3), 0px 1px 3px 1px rgba(60, 64, 67, 0.15);\n",
       "      fill: #174EA6;\n",
       "    }\n",
       "\n",
       "    [theme=dark] .colab-df-convert {\n",
       "      background-color: #3B4455;\n",
       "      fill: #D2E3FC;\n",
       "    }\n",
       "\n",
       "    [theme=dark] .colab-df-convert:hover {\n",
       "      background-color: #434B5C;\n",
       "      box-shadow: 0px 1px 3px 1px rgba(0, 0, 0, 0.15);\n",
       "      filter: drop-shadow(0px 1px 2px rgba(0, 0, 0, 0.3));\n",
       "      fill: #FFFFFF;\n",
       "    }\n",
       "  </style>\n",
       "\n",
       "      <script>\n",
       "        const buttonEl =\n",
       "          document.querySelector('#df-0150e0f8-642c-4fb8-821d-4012a37e3109 button.colab-df-convert');\n",
       "        buttonEl.style.display =\n",
       "          google.colab.kernel.accessAllowed ? 'block' : 'none';\n",
       "\n",
       "        async function convertToInteractive(key) {\n",
       "          const element = document.querySelector('#df-0150e0f8-642c-4fb8-821d-4012a37e3109');\n",
       "          const dataTable =\n",
       "            await google.colab.kernel.invokeFunction('convertToInteractive',\n",
       "                                                     [key], {});\n",
       "          if (!dataTable) return;\n",
       "\n",
       "          const docLinkHtml = 'Like what you see? Visit the ' +\n",
       "            '<a target=\"_blank\" href=https://colab.research.google.com/notebooks/data_table.ipynb>data table notebook</a>'\n",
       "            + ' to learn more about interactive tables.';\n",
       "          element.innerHTML = '';\n",
       "          dataTable['output_type'] = 'display_data';\n",
       "          await google.colab.output.renderOutput(dataTable, element);\n",
       "          const docLink = document.createElement('div');\n",
       "          docLink.innerHTML = docLinkHtml;\n",
       "          element.appendChild(docLink);\n",
       "        }\n",
       "      </script>\n",
       "    </div>\n",
       "  </div>\n"
      ],
      "text/plain": [
       "                                                 News  PageRank\n",
       "2   \"Alhamdulillah sepak bola Indonesia tidak dike...  0.068197\n",
       "15  Adapun Presiden Jokowi sebelumnya telah menele...  0.068102\n",
       "11  Di dalam pert emuan itu, menurut Erick, FIFA m...  0.065238\n",
       "0   TEMPO.CO, Jakarta - Presiden Joko Widodo atau ...  0.065057\n",
       "10  \"Selain menyampaikan belasungkawa atas kejadia...  0.063975"
      ]
     },
     "execution_count": 67,
     "metadata": {},
     "output_type": "execute_result"
    }
   ],
   "source": [
    "sortSentence.head(5)"
   ]
  },
  {
   "cell_type": "markdown",
   "metadata": {
    "id": "4xQcbJFT7Xtt"
   },
   "source": [
    "## Latent Semantic Indexing(LSI) Topik Berita"
   ]
  },
  {
   "cell_type": "code",
   "execution_count": 55,
   "metadata": {
    "colab": {
     "base_uri": "https://localhost:8080/"
    },
    "executionInfo": {
     "elapsed": 4512,
     "status": "ok",
     "timestamp": 1666182789841,
     "user": {
      "displayName": "Muhammad Fahmi Ady susilo 19_127",
      "userId": "09919749956615563057"
     },
     "user_tz": -420
    },
    "id": "JbpRjfSvKmP3",
    "outputId": "5010c965-f794-4f8c-e98b-4c26d41bf1ce"
   },
   "outputs": [
    {
     "name": "stdout",
     "output_type": "stream",
     "text": [
      "Looking in indexes: https://pypi.org/simple, https://us-python.pkg.dev/colab-wheels/public/simple/\n",
      "Requirement already satisfied: nltk in /usr/local/lib/python3.7/dist-packages (3.7)\n",
      "Requirement already satisfied: joblib in /usr/local/lib/python3.7/dist-packages (from nltk) (1.2.0)\n",
      "Requirement already satisfied: tqdm in /usr/local/lib/python3.7/dist-packages (from nltk) (4.64.1)\n",
      "Requirement already satisfied: click in /usr/local/lib/python3.7/dist-packages (from nltk) (7.1.2)\n",
      "Requirement already satisfied: regex>=2021.8.3 in /usr/local/lib/python3.7/dist-packages (from nltk) (2022.6.2)\n"
     ]
    }
   ],
   "source": [
    "!pip install nltk"
   ]
  },
  {
   "cell_type": "code",
   "execution_count": 56,
   "metadata": {
    "colab": {
     "base_uri": "https://localhost:8080/"
    },
    "executionInfo": {
     "elapsed": 4036,
     "status": "ok",
     "timestamp": 1666182793862,
     "user": {
      "displayName": "Muhammad Fahmi Ady susilo 19_127",
      "userId": "09919749956615563057"
     },
     "user_tz": -420
    },
    "id": "nu2NEk3RK32D",
    "outputId": "4df6530a-cf93-4fad-b273-ac49dffdc55b"
   },
   "outputs": [
    {
     "name": "stdout",
     "output_type": "stream",
     "text": [
      "Looking in indexes: https://pypi.org/simple, https://us-python.pkg.dev/colab-wheels/public/simple/\n",
      "Requirement already satisfied: PySastrawi in /usr/local/lib/python3.7/dist-packages (1.2.0)\n"
     ]
    }
   ],
   "source": [
    "!pip install PySastrawi"
   ]
  },
  {
   "cell_type": "code",
   "execution_count": 57,
   "metadata": {
    "colab": {
     "base_uri": "https://localhost:8080/"
    },
    "executionInfo": {
     "elapsed": 3418,
     "status": "ok",
     "timestamp": 1666182797262,
     "user": {
      "displayName": "Muhammad Fahmi Ady susilo 19_127",
      "userId": "09919749956615563057"
     },
     "user_tz": -420
    },
    "id": "RdENoz91LD5s",
    "outputId": "d719d006-2a9a-49b8-8174-d14f0f972058"
   },
   "outputs": [
    {
     "name": "stdout",
     "output_type": "stream",
     "text": [
      "Looking in indexes: https://pypi.org/simple, https://us-python.pkg.dev/colab-wheels/public/simple/\n",
      "Requirement already satisfied: Sastrawi in /usr/local/lib/python3.7/dist-packages (1.0.1)\n"
     ]
    }
   ],
   "source": [
    "!pip install Sastrawi"
   ]
  },
  {
   "cell_type": "code",
   "execution_count": 58,
   "metadata": {
    "executionInfo": {
     "elapsed": 39,
     "status": "ok",
     "timestamp": 1666182797263,
     "user": {
      "displayName": "Muhammad Fahmi Ady susilo 19_127",
      "userId": "09919749956615563057"
     },
     "user_tz": -420
    },
    "id": "0mcgkDNrLegP"
   },
   "outputs": [],
   "source": [
    "import PyPDF2"
   ]
  },
  {
   "cell_type": "code",
   "execution_count": 59,
   "metadata": {
    "colab": {
     "base_uri": "https://localhost:8080/"
    },
    "executionInfo": {
     "elapsed": 38,
     "status": "ok",
     "timestamp": 1666182797264,
     "user": {
      "displayName": "Muhammad Fahmi Ady susilo 19_127",
      "userId": "09919749956615563057"
     },
     "user_tz": -420
    },
    "id": "iZNScMODLWHx",
    "outputId": "4aa479ad-9ad6-42b5-8d24-3966e149702e"
   },
   "outputs": [
    {
     "name": "stdout",
     "output_type": "stream",
     "text": [
      "TEMPO.CO, Jakarta - Presiden Joko Widodo atau Jokowi mengklaim Indonesia tidak dikenai sanksi \n",
      "oleh Federasi Sepak Bola Internasional (FIFA) usai Tragedi Kanjuruhan di Malang, Jawa Timur yang \n",
      "menelan korban jiwa hingga 131 orang. Sebelumnya, Jokowi khawatir Indonesia dikenai sanksi \n",
      "hingga menelepon dan mengutus Menteri BUMN Erick Thohir untuk bertemu Presiden FIFA Gianni \n",
      "Invantino.  \n",
      "\"Alhamdulillah sepak bola Indonesia tidak dikenakan sanksi oleh FIFA dan FIFA bersama -sama \n",
      "dengan pemerintah akan membentuk tim transformasi sepak bola Indonesia dan FIFA akan \n",
      "berkantor di Indonesia selama proses -proses tersebut,\" ujar Jokowi dalam keterangan nya, Sabtu, \n",
      "8 Oktober 2022.   \n",
      "Jokowi menjelaskan selain FIFA, Asian Football Confederation atau AFC juga akan membantu \n",
      "pemerintah Indonesia membangun stadion dengan standar keamanan tinggi. Selain itu, kedua \n",
      "organisasi sepak bola itu bakal membantu Indonesia memformulasikan standar protokol dan \n",
      "prosedur pengamanan yang dilakukan kepolisian berdasarkan standar keamanan internasional.  \n",
      "\"Kita juga akan bersama -sama melakukan sosialisasi dan diskusi dengan klub -klub bola di \n",
      "Indonesia, termasuk perwakilan suporter untuk mendapatkan saran dan masukan, serta \n",
      "komitmen bersama,\" kata Jokowi.   \n",
      "FIFA dan AFC bakal membantu      \n",
      "Selain itu, FIF A dan AFC bakal membantu membuat pengaturan jadwal pertandingan yang \n",
      "memperhitungkan potensi -potensi risiko. Jokowi menyebut Presiden FIFA akan datang ke \n",
      "Indonesia pada Oktober atau November untuk memberikan pendampingan tersebut serta \n",
      "berdiskusi dengan pe merintah.  \n",
      "Sebelumnya, Menteri BUMN Erick Thohir membeberkan agenda pertemuannya dengan Gianni \n",
      "Infantino di Qatar, pada Rabu, 5 Oktober 2022. Pertemuan itu membahas soal tragedi Kanjuruhan \n",
      "dan masa depan sepak bola Indonesia.   \n",
      "\"Selain menyampaikan belasungkawa atas kejadian di Kanjuruhan, kami juga membahas banyak \n",
      "hal untuk kemajuan sepak bola di masa depan, khususnya di Indonesia,\" kata Erick.  \n",
      "Di dalam pert emuan itu, menurut Erick, FIFA melihat adanya potensi, popularitas, dan \n",
      "perkembangan sepak bola yang besar di Indonesia. Dikaitkan dengan pertumbuhan ekonomi \n",
      "nasional yang konstan, pasar yang besar, dan kondisi sosial politik yang stabil, FIFA menyatakan \n",
      "siap memberikan dukungan maksimal.  \n",
      "Dukungan itu diberikan FIFA, kata Erick, agar sepak bola yang merupakan olahraga paling populer \n",
      "dan dicintai di Indonesia dapat menjadi kebanggaan bangsa dan salah satu pilar yang \n",
      "berkontribusi bagi kemajuan bangsa.  \n",
      "\"Pada kesempatan ini saya juga menyampaikan salam dan surat khusus dari Presiden Joko Widodo \n",
      "kepada Presiden FIFA, Gianni Infantino,\" ucap Erick Thohir.  \n",
      "Adapun Presiden Jokowi sebelumnya telah menelepon Presiden FIFA Giovanni Vincenzo Infantino \n",
      "untuk membahas tragedi Kanjuruhan setelah pertandingan sepak bola di Stadion Kanjuruhan, \n",
      "Kabupaten Malang, Jawa Timur.  \n",
      "M JULNIS FIRMANSYAH      \n",
      "Baca: Kronologi Tragedi Kanjuruhan Malang yang Dipaparkan Kapolri  \n",
      " \n"
     ]
    }
   ],
   "source": [
    "pdfReader = PyPDF2.PdfFileReader('/content/drive/MyDrive/webmining/webmining/contents/news.pdf')\n",
    "pageObj = pdfReader.getPage(0)\n",
    "document = pageObj.extractText()\n",
    "print(document)"
   ]
  },
  {
   "cell_type": "code",
   "execution_count": 60,
   "metadata": {
    "colab": {
     "base_uri": "https://localhost:8080/"
    },
    "executionInfo": {
     "elapsed": 30,
     "status": "ok",
     "timestamp": 1666182797264,
     "user": {
      "displayName": "Muhammad Fahmi Ady susilo 19_127",
      "userId": "09919749956615563057"
     },
     "user_tz": -420
    },
    "id": "daML-Qq0Lv60",
    "outputId": "6becc394-54a3-4520-faa3-29769965e01d"
   },
   "outputs": [
    {
     "name": "stderr",
     "output_type": "stream",
     "text": [
      "[nltk_data] Downloading package stopwords to /root/nltk_data...\n",
      "[nltk_data]   Package stopwords is already up-to-date!\n"
     ]
    },
    {
     "data": {
      "text/plain": [
       "True"
      ]
     },
     "execution_count": 60,
     "metadata": {},
     "output_type": "execute_result"
    }
   ],
   "source": [
    "import pandas as pd\n",
    "import re\n",
    "from nltk.corpus import stopwords\n",
    "from nltk.tokenize import word_tokenize\n",
    "import nltk\n",
    "nltk.download('stopwords')"
   ]
  },
  {
   "cell_type": "code",
   "execution_count": 61,
   "metadata": {
    "colab": {
     "base_uri": "https://localhost:8080/"
    },
    "executionInfo": {
     "elapsed": 25,
     "status": "ok",
     "timestamp": 1666182797265,
     "user": {
      "displayName": "Muhammad Fahmi Ady susilo 19_127",
      "userId": "09919749956615563057"
     },
     "user_tz": -420
    },
    "id": "7L_6qtZpLomO",
    "outputId": "7ba44b0e-dd64-48e9-d8fd-7eb003c84724"
   },
   "outputs": [
    {
     "name": "stdout",
     "output_type": "stream",
     "text": [
      "['TEMPO.CO', ',', 'Jakarta', '-', 'Presiden', 'Joko', 'Widodo', 'atau', 'Jokowi', 'mengklaim', 'Indonesia', 'tidak', 'dikenai', 'sanksi', 'oleh', 'Federasi', 'Sepak', 'Bola', 'Internasional', '(', 'FIFA', ')', 'usai', 'Tragedi', 'Kanjuruhan', 'di', 'Malang', ',', 'Jawa', 'Timur', 'yang', 'menelan', 'korban', 'jiwa', 'hingga', '131', 'orang', '.', 'Sebelumnya', ',', 'Jokowi', 'khawatir', 'Indonesia', 'dikenai', 'sanksi', 'hingga', 'menelepon', 'dan', 'mengutus', 'Menteri', 'BUMN', 'Erick', 'Thohir', 'untuk', 'bertemu', 'Presiden', 'FIFA', 'Gianni', 'Invantino', '.', '``', 'Alhamdulillah', 'sepak', 'bola', 'Indonesia', 'tidak', 'dikenakan', 'sanksi', 'oleh', 'FIFA', 'dan', 'FIFA', 'bersama', '-sama', 'dengan', 'pemerintah', 'akan', 'membentuk', 'tim', 'transformasi', 'sepak', 'bola', 'Indonesia', 'dan', 'FIFA', 'akan', 'berkantor', 'di', 'Indonesia', 'selama', 'proses', '-proses', 'tersebut', ',', \"''\", 'ujar', 'Jokowi', 'dalam', 'keterangan', 'nya', ',', 'Sabtu', ',', '8', 'Oktober', '2022', '.', 'Jokowi', 'menjelaskan', 'selain', 'FIFA', ',', 'Asian', 'Football', 'Confederation', 'atau', 'AFC', 'juga', 'akan', 'membantu', 'pemerintah', 'Indonesia', 'membangun', 'stadion', 'dengan', 'standar', 'keamanan', 'tinggi', '.', 'Selain', 'itu', ',', 'kedua', 'organisasi', 'sepak', 'bola', 'itu', 'bakal', 'membantu', 'Indonesia', 'memformulasikan', 'standar', 'protokol', 'dan', 'prosedur', 'pengamanan', 'yang', 'dilakukan', 'kepolisian', 'berdasarkan', 'standar', 'keamanan', 'internasional', '.', '``', 'Kita', 'juga', 'akan', 'bersama', '-sama', 'melakukan', 'sosialisasi', 'dan', 'diskusi', 'dengan', 'klub', '-klub', 'bola', 'di', 'Indonesia', ',', 'termasuk', 'perwakilan', 'suporter', 'untuk', 'mendapatkan', 'saran', 'dan', 'masukan', ',', 'serta', 'komitmen', 'bersama', ',', \"''\", 'kata', 'Jokowi', '.', 'FIFA', 'dan', 'AFC', 'bakal', 'membantu', 'Selain', 'itu', ',', 'FIF', 'A', 'dan', 'AFC', 'bakal', 'membantu', 'membuat', 'pengaturan', 'jadwal', 'pertandingan', 'yang', 'memperhitungkan', 'potensi', '-potensi', 'risiko', '.', 'Jokowi', 'menyebut', 'Presiden', 'FIFA', 'akan', 'datang', 'ke', 'Indonesia', 'pada', 'Oktober', 'atau', 'November', 'untuk', 'memberikan', 'pendampingan', 'tersebut', 'serta', 'berdiskusi', 'dengan', 'pe', 'merintah', '.', 'Sebelumnya', ',', 'Menteri', 'BUMN', 'Erick', 'Thohir', 'membeberkan', 'agenda', 'pertemuannya', 'dengan', 'Gianni', 'Infantino', 'di', 'Qatar', ',', 'pada', 'Rabu', ',', '5', 'Oktober', '2022', '.', 'Pertemuan', 'itu', 'membahas', 'soal', 'tragedi', 'Kanjuruhan', 'dan', 'masa', 'depan', 'sepak', 'bola', 'Indonesia', '.', '``', 'Selain', 'menyampaikan', 'belasungkawa', 'atas', 'kejadian', 'di', 'Kanjuruhan', ',', 'kami', 'juga', 'membahas', 'banyak', 'hal', 'untuk', 'kemajuan', 'sepak', 'bola', 'di', 'masa', 'depan', ',', 'khususnya', 'di', 'Indonesia', ',', \"''\", 'kata', 'Erick', '.', 'Di', 'dalam', 'pert', 'emuan', 'itu', ',', 'menurut', 'Erick', ',', 'FIFA', 'melihat', 'adanya', 'potensi', ',', 'popularitas', ',', 'dan', 'perkembangan', 'sepak', 'bola', 'yang', 'besar', 'di', 'Indonesia', '.', 'Dikaitkan', 'dengan', 'pertumbuhan', 'ekonomi', 'nasional', 'yang', 'konstan', ',', 'pasar', 'yang', 'besar', ',', 'dan', 'kondisi', 'sosial', 'politik', 'yang', 'stabil', ',', 'FIFA', 'menyatakan', 'siap', 'memberikan', 'dukungan', 'maksimal', '.', 'Dukungan', 'itu', 'diberikan', 'FIFA', ',', 'kata', 'Erick', ',', 'agar', 'sepak', 'bola', 'yang', 'merupakan', 'olahraga', 'paling', 'populer', 'dan', 'dicintai', 'di', 'Indonesia', 'dapat', 'menjadi', 'kebanggaan', 'bangsa', 'dan', 'salah', 'satu', 'pilar', 'yang', 'berkontribusi', 'bagi', 'kemajuan', 'bangsa', '.', '``', 'Pada', 'kesempatan', 'ini', 'saya', 'juga', 'menyampaikan', 'salam', 'dan', 'surat', 'khusus', 'dari', 'Presiden', 'Joko', 'Widodo', 'kepada', 'Presiden', 'FIFA', ',', 'Gianni', 'Infantino', ',', \"''\", 'ucap', 'Erick', 'Thohir', '.', 'Adapun', 'Presiden', 'Jokowi', 'sebelumnya', 'telah', 'menelepon', 'Presiden', 'FIFA', 'Giovanni', 'Vincenzo', 'Infantino', 'untuk', 'membahas', 'tragedi', 'Kanjuruhan', 'setelah', 'pertandingan', 'sepak', 'bola', 'di', 'Stadion', 'Kanjuruhan', ',', 'Kabupaten', 'Malang', ',', 'Jawa', 'Timur', '.', 'M', 'JULNIS', 'FIRMANSYAH', 'Baca', ':', 'Kronologi', 'Tragedi', 'Kanjuruhan', 'Malang', 'yang', 'Dipaparkan', 'Kapolri']\n"
     ]
    }
   ],
   "source": [
    "word_tokens = word_tokenize(document)\n",
    "print(word_tokens)"
   ]
  },
  {
   "cell_type": "code",
   "execution_count": 62,
   "metadata": {
    "colab": {
     "base_uri": "https://localhost:8080/"
    },
    "executionInfo": {
     "elapsed": 544,
     "status": "ok",
     "timestamp": 1666182797790,
     "user": {
      "displayName": "Muhammad Fahmi Ady susilo 19_127",
      "userId": "09919749956615563057"
     },
     "user_tz": -420
    },
    "id": "k83NMA5NL3WE",
    "outputId": "659b6d6c-f6a8-4272-ab26-bc67566f2307"
   },
   "outputs": [
    {
     "name": "stdout",
     "output_type": "stream",
     "text": [
      "['TEMPO.CO', ',', 'Jakarta', '-', 'Presiden', 'Joko', 'Widodo', 'Jokowi', 'mengklaim', 'Indonesia', 'dikenai', 'sanksi', 'Federasi', 'Sepak', 'Bola', 'Internasional', '(', 'FIFA', ')', 'Tragedi', 'Kanjuruhan', 'Malang', ',', 'Jawa', 'Timur', 'menelan', 'korban', 'jiwa', '131', 'orang', '.', 'Sebelumnya', ',', 'Jokowi', 'khawatir', 'Indonesia', 'dikenai', 'sanksi', 'menelepon', 'mengutus', 'Menteri', 'BUMN', 'Erick', 'Thohir', 'bertemu', 'Presiden', 'FIFA', 'Gianni', 'Invantino', '.', '``', 'Alhamdulillah', 'sepak', 'bola', 'Indonesia', 'dikenakan', 'sanksi', 'FIFA', 'FIFA', '-sama', 'pemerintah', 'membentuk', 'tim', 'transformasi', 'sepak', 'bola', 'Indonesia', 'FIFA', 'berkantor', 'Indonesia', 'proses', '-proses', ',', \"''\", 'Jokowi', 'keterangan', 'nya', ',', 'Sabtu', ',', '8', 'Oktober', '2022', '.', 'Jokowi', 'FIFA', ',', 'Asian', 'Football', 'Confederation', 'AFC', 'membantu', 'pemerintah', 'Indonesia', 'membangun', 'stadion', 'standar', 'keamanan', '.', 'Selain', ',', 'organisasi', 'sepak', 'bola', 'membantu', 'Indonesia', 'memformulasikan', 'standar', 'protokol', 'prosedur', 'pengamanan', 'kepolisian', 'berdasarkan', 'standar', 'keamanan', 'internasional', '.', '``', 'Kita', '-sama', 'sosialisasi', 'diskusi', 'klub', '-klub', 'bola', 'Indonesia', ',', 'perwakilan', 'suporter', 'saran', 'masukan', ',', 'komitmen', ',', \"''\", 'Jokowi', '.', 'FIFA', 'AFC', 'membantu', 'Selain', ',', 'FIF', 'A', 'AFC', 'membantu', 'pengaturan', 'jadwal', 'pertandingan', 'memperhitungkan', 'potensi', '-potensi', 'risiko', '.', 'Jokowi', 'menyebut', 'Presiden', 'FIFA', 'Indonesia', 'Oktober', 'November', 'pendampingan', 'berdiskusi', 'pe', 'merintah', '.', 'Sebelumnya', ',', 'Menteri', 'BUMN', 'Erick', 'Thohir', 'membeberkan', 'agenda', 'pertemuannya', 'Gianni', 'Infantino', 'Qatar', ',', 'Rabu', ',', '5', 'Oktober', '2022', '.', 'Pertemuan', 'membahas', 'tragedi', 'Kanjuruhan', 'sepak', 'bola', 'Indonesia', '.', '``', 'Selain', 'belasungkawa', 'kejadian', 'Kanjuruhan', ',', 'membahas', 'kemajuan', 'sepak', 'bola', ',', 'Indonesia', ',', \"''\", 'Erick', '.', 'Di', 'pert', 'emuan', ',', 'Erick', ',', 'FIFA', 'potensi', ',', 'popularitas', ',', 'perkembangan', 'sepak', 'bola', 'Indonesia', '.', 'Dikaitkan', 'pertumbuhan', 'ekonomi', 'nasional', 'konstan', ',', 'pasar', ',', 'kondisi', 'sosial', 'politik', 'stabil', ',', 'FIFA', 'dukungan', 'maksimal', '.', 'Dukungan', 'FIFA', ',', 'Erick', ',', 'sepak', 'bola', 'olahraga', 'populer', 'dicintai', 'Indonesia', 'kebanggaan', 'bangsa', 'salah', 'pilar', 'berkontribusi', 'kemajuan', 'bangsa', '.', '``', 'Pada', 'kesempatan', 'salam', 'surat', 'khusus', 'Presiden', 'Joko', 'Widodo', 'Presiden', 'FIFA', ',', 'Gianni', 'Infantino', ',', \"''\", 'Erick', 'Thohir', '.', 'Adapun', 'Presiden', 'Jokowi', 'menelepon', 'Presiden', 'FIFA', 'Giovanni', 'Vincenzo', 'Infantino', 'membahas', 'tragedi', 'Kanjuruhan', 'pertandingan', 'sepak', 'bola', 'Stadion', 'Kanjuruhan', ',', 'Kabupaten', 'Malang', ',', 'Jawa', 'Timur', '.', 'M', 'JULNIS', 'FIRMANSYAH', 'Baca', ':', 'Kronologi', 'Tragedi', 'Kanjuruhan', 'Malang', 'Dipaparkan', 'Kapolri']\n"
     ]
    }
   ],
   "source": [
    "stop_words = set(stopwords.words('indonesian'))\n",
    "word_tokens_no_stopwords = [w for w in word_tokens if not w in stop_words]\n",
    "print(word_tokens_no_stopwords)"
   ]
  },
  {
   "cell_type": "code",
   "execution_count": 63,
   "metadata": {
    "executionInfo": {
     "elapsed": 11,
     "status": "ok",
     "timestamp": 1666182797790,
     "user": {
      "displayName": "Muhammad Fahmi Ady susilo 19_127",
      "userId": "09919749956615563057"
     },
     "user_tz": -420
    },
    "id": "TkRQr00_NPPf"
   },
   "outputs": [],
   "source": [
    "import os\n",
    "from nltk.tokenize import RegexpTokenizer\n",
    "from sklearn.feature_extraction.text import TfidfVectorizer\n",
    "from sklearn.decomposition import TruncatedSVD"
   ]
  },
  {
   "cell_type": "code",
   "execution_count": 64,
   "metadata": {
    "colab": {
     "base_uri": "https://localhost:8080/"
    },
    "executionInfo": {
     "elapsed": 11,
     "status": "ok",
     "timestamp": 1666182797791,
     "user": {
      "displayName": "Muhammad Fahmi Ady susilo 19_127",
      "userId": "09919749956615563057"
     },
     "user_tz": -420
    },
    "id": "q-yBLrfwM6bo",
    "outputId": "683c683c-d2b9-442f-a9ea-3f727bed6b74"
   },
   "outputs": [
    {
     "data": {
      "text/plain": [
       "<315x141 sparse matrix of type '<class 'numpy.float64'>'\n",
       "\twith 253 stored elements in Compressed Sparse Row format>"
      ]
     },
     "execution_count": 64,
     "metadata": {},
     "output_type": "execute_result"
    }
   ],
   "source": [
    "# Vectorize document using TF-IDF\n",
    "tfidf = TfidfVectorizer(lowercase=True,\n",
    "                        ngram_range = (1,1))\n",
    "\n",
    "# Fit and Transform the documents\n",
    "train_data = tfidf.fit_transform(word_tokens_no_stopwords)\n",
    "train_data"
   ]
  },
  {
   "cell_type": "code",
   "execution_count": 65,
   "metadata": {
    "colab": {
     "base_uri": "https://localhost:8080/"
    },
    "executionInfo": {
     "elapsed": 10,
     "status": "ok",
     "timestamp": 1666182797792,
     "user": {
      "displayName": "Muhammad Fahmi Ady susilo 19_127",
      "userId": "09919749956615563057"
     },
     "user_tz": -420
    },
    "id": "ycGytov6Nrnw",
    "outputId": "316ef26e-de56-4f93-dc2a-6a2cffe2bae7"
   },
   "outputs": [
    {
     "data": {
      "text/plain": [
       "array([[-1.76411253e-40, -6.05571388e-34,  1.29759521e-28, ...,\n",
       "         3.58308622e-47, -8.56927179e-42,  1.51873740e-41],\n",
       "       [-1.51182000e-41,  1.47888260e-41,  1.11202112e-29, ...,\n",
       "         2.78209105e-36,  7.09623423e-32,  1.36102024e-31],\n",
       "       [ 1.25877713e-38, -3.35498012e-36,  1.89228285e-26, ...,\n",
       "         2.61724925e-35, -6.23459073e-30,  1.10486958e-29],\n",
       "       ...,\n",
       "       [ 8.95224200e-82,  2.04375092e-71,  4.21445647e-81, ...,\n",
       "         3.81834753e-67,  2.24323584e-62, -7.88042045e-62],\n",
       "       [ 1.34216341e-82,  3.42339915e-72,  1.84045500e-81, ...,\n",
       "        -9.51542727e-66,  4.58719364e-62,  1.14798657e-62],\n",
       "       [-5.86541397e-51, -1.34215608e-40, -2.05482515e-41, ...,\n",
       "        -6.58044396e-19, -3.69409347e-31,  1.41803731e-31]])"
      ]
     },
     "execution_count": 65,
     "metadata": {},
     "output_type": "execute_result"
    }
   ],
   "source": [
    "num_components=10\n",
    "\n",
    "# Create SVD object\n",
    "lsa = TruncatedSVD(n_components=num_components, n_iter=100, random_state=42)\n",
    "\n",
    "# Fit SVD model on data\n",
    "lsa.fit_transform(train_data)\n",
    "\n",
    "# Get Singular values and Components \n",
    "Sigma = lsa.singular_values_ \n",
    "V_transpose = lsa.components_.T\n",
    "V_transpose"
   ]
  },
  {
   "cell_type": "code",
   "execution_count": 66,
   "metadata": {
    "colab": {
     "base_uri": "https://localhost:8080/"
    },
    "executionInfo": {
     "elapsed": 4,
     "status": "ok",
     "timestamp": 1666182801382,
     "user": {
      "displayName": "Muhammad Fahmi Ady susilo 19_127",
      "userId": "09919749956615563057"
     },
     "user_tz": -420
    },
    "id": "zs5JRGvqNw55",
    "outputId": "be4dc6c7-b9ed-4605-e1a9-fc9d708cb25d"
   },
   "outputs": [
    {
     "name": "stdout",
     "output_type": "stream",
     "text": [
      "Topic 1:  ['indonesia', 'fifa', 'bola', 'sepak', 'afc']\n",
      "Topic 2:  ['fifa', 'co', 'tempo', 'presiden', 'jokowi']\n",
      "Topic 3:  ['bola', 'sepak', 'adapun', 'jakarta', '131']\n",
      "Topic 4:  ['sepak', 'fifa', 'adapun', 'jakarta', 'presiden']\n",
      "Topic 5:  ['presiden', 'jokowi', 'indonesia', 'afc', 'standar']\n",
      "Topic 6:  ['jokowi', 'erick', 'agenda', 'selain', 'tragedi']\n",
      "Topic 7:  ['erick', 'membantu', 'potensi', 'oktober', 'infantino']\n",
      "Topic 8:  ['kanjuruhan', 'erick', 'membantu', 'joko', 'potensi']\n",
      "Topic 9:  ['tragedi', 'gianni', 'membahas', 'standar', 'selain']\n",
      "Topic 10:  ['membantu', 'tragedi', 'gianni', 'membahas', 'standar']\n"
     ]
    }
   ],
   "source": [
    "# Print the topics with their terms\n",
    "terms = tfidf.get_feature_names()\n",
    "\n",
    "for index, component in enumerate(lsa.components_):\n",
    "    zipped = zip(terms, component)\n",
    "    top_terms_key=sorted(zipped, key = lambda t: t[1], reverse=True)[:5]\n",
    "    top_terms_list=list(dict(top_terms_key).keys())\n",
    "    print(\"Topic \"+str(index+1)+\": \",top_terms_list)"
   ]
  }
 ],
 "metadata": {
  "colab": {
   "collapsed_sections": [],
   "provenance": []
  },
  "kernelspec": {
   "display_name": "Python 3",
   "language": "python",
   "name": "python3"
  },
  "language_info": {
   "codemirror_mode": {
    "name": "ipython",
    "version": 3
   },
   "file_extension": ".py",
   "mimetype": "text/x-python",
   "name": "python",
   "nbconvert_exporter": "python",
   "pygments_lexer": "ipython3",
   "version": "3.7.15"
  }
 },
 "nbformat": 4,
 "nbformat_minor": 0
}