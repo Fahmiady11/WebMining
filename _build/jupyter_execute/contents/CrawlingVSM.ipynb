{
 "cells": [
  {
   "cell_type": "markdown",
   "metadata": {
    "id": "GrkNq0qWQ-e5"
   },
   "source": [
    "# CRAWLING DATA TWITTER MENGGUNAKAN METODE VECTOR SPACE MODEL"
   ]
  },
  {
   "cell_type": "markdown",
   "metadata": {
    "id": "Nv80D2ImQNCQ"
   },
   "source": [
    "Crawling Data adalah teknik pengumpulan data yang digunakan untuk mengindeks informasi pada halaman menggunakan URL (Uniform Resource Locator) dengan menyertakan API (Application Programming Interface) untuk melakukan penambangan dataset yang lebih besar.\n",
    "\n",
    "Data yang dapat kamu kumpulkan dapat berupa text, audio, video, dan gambar. Kamu dapat memulai dengan melakukan penambangan data pada API yang bersifat open source seperti yang disediakan oleh Twitter. Untuk melakukan crawling data di Twitter kamu dapat menggunakan library scrapy ataupun twint pada python."
   ]
  },
  {
   "cell_type": "markdown",
   "metadata": {
    "id": "q5lZrmVZqV-C"
   },
   "source": [
    "Untuk Tahap-Tahap sebagai berikut:"
   ]
  },
  {
   "cell_type": "markdown",
   "metadata": {
    "id": "-9lvQMzbq7hz"
   },
   "source": [
    "Lakukan Connect Google colab dengan goole Drive sebagai penyimpanan"
   ]
  },
  {
   "cell_type": "code",
   "execution_count": 1,
   "metadata": {
    "colab": {
     "base_uri": "https://localhost:8080/"
    },
    "executionInfo": {
     "elapsed": 24561,
     "status": "ok",
     "timestamp": 1664858750851,
     "user": {
      "displayName": "Muhammad Fahmi Ady susilo 19_127",
      "userId": "09919749956615563057"
     },
     "user_tz": -420
    },
    "id": "CWuNLs8afYHL",
    "outputId": "1e90ea13-837e-4846-afca-fb20b016a4d2"
   },
   "outputs": [
    {
     "ename": "KeyboardInterrupt",
     "evalue": "",
     "output_type": "error",
     "traceback": [
      "\u001b[0;31m\u001b[0m",
      "\u001b[0;31mKeyboardInterrupt\u001b[0mTraceback (most recent call last)",
      "\u001b[0;32m<ipython-input-1-d5df0069828e>\u001b[0m in \u001b[0;36m<module>\u001b[0;34m\u001b[0m\n\u001b[1;32m      1\u001b[0m \u001b[0;32mfrom\u001b[0m \u001b[0mgoogle\u001b[0m\u001b[0;34m.\u001b[0m\u001b[0mcolab\u001b[0m \u001b[0;32mimport\u001b[0m \u001b[0mdrive\u001b[0m\u001b[0;34m\u001b[0m\u001b[0;34m\u001b[0m\u001b[0m\n\u001b[0;32m----> 2\u001b[0;31m \u001b[0mdrive\u001b[0m\u001b[0;34m.\u001b[0m\u001b[0mmount\u001b[0m\u001b[0;34m(\u001b[0m\u001b[0;34m'/content/drive'\u001b[0m\u001b[0;34m)\u001b[0m\u001b[0;34m\u001b[0m\u001b[0;34m\u001b[0m\u001b[0m\n\u001b[0m",
      "\u001b[0;32m/usr/local/lib/python3.7/dist-packages/google/colab/drive.py\u001b[0m in \u001b[0;36mmount\u001b[0;34m(mountpoint, force_remount, timeout_ms)\u001b[0m\n\u001b[1;32m    103\u001b[0m       \u001b[0mforce_remount\u001b[0m\u001b[0;34m=\u001b[0m\u001b[0mforce_remount\u001b[0m\u001b[0;34m,\u001b[0m\u001b[0;34m\u001b[0m\u001b[0;34m\u001b[0m\u001b[0m\n\u001b[1;32m    104\u001b[0m       \u001b[0mtimeout_ms\u001b[0m\u001b[0;34m=\u001b[0m\u001b[0mtimeout_ms\u001b[0m\u001b[0;34m,\u001b[0m\u001b[0;34m\u001b[0m\u001b[0;34m\u001b[0m\u001b[0m\n\u001b[0;32m--> 105\u001b[0;31m       ephemeral=True)\n\u001b[0m\u001b[1;32m    106\u001b[0m \u001b[0;34m\u001b[0m\u001b[0m\n\u001b[1;32m    107\u001b[0m \u001b[0;34m\u001b[0m\u001b[0m\n",
      "\u001b[0;32m/usr/local/lib/python3.7/dist-packages/google/colab/drive.py\u001b[0m in \u001b[0;36m_mount\u001b[0;34m(mountpoint, force_remount, timeout_ms, ephemeral)\u001b[0m\n\u001b[1;32m    118\u001b[0m   \u001b[0;32mif\u001b[0m \u001b[0mephemeral\u001b[0m\u001b[0;34m:\u001b[0m\u001b[0;34m\u001b[0m\u001b[0;34m\u001b[0m\u001b[0m\n\u001b[1;32m    119\u001b[0m     _message.blocking_request(\n\u001b[0;32m--> 120\u001b[0;31m         'request_auth', request={'authType': 'dfs_ephemeral'}, timeout_sec=None)\n\u001b[0m\u001b[1;32m    121\u001b[0m \u001b[0;34m\u001b[0m\u001b[0m\n\u001b[1;32m    122\u001b[0m   \u001b[0mmountpoint\u001b[0m \u001b[0;34m=\u001b[0m \u001b[0m_os\u001b[0m\u001b[0;34m.\u001b[0m\u001b[0mpath\u001b[0m\u001b[0;34m.\u001b[0m\u001b[0mexpanduser\u001b[0m\u001b[0;34m(\u001b[0m\u001b[0mmountpoint\u001b[0m\u001b[0;34m)\u001b[0m\u001b[0;34m\u001b[0m\u001b[0;34m\u001b[0m\u001b[0m\n",
      "\u001b[0;32m/usr/local/lib/python3.7/dist-packages/google/colab/_message.py\u001b[0m in \u001b[0;36mblocking_request\u001b[0;34m(request_type, request, timeout_sec, parent)\u001b[0m\n\u001b[1;32m    169\u001b[0m   request_id = send_request(\n\u001b[1;32m    170\u001b[0m       request_type, request, parent=parent, expect_reply=True)\n\u001b[0;32m--> 171\u001b[0;31m   \u001b[0;32mreturn\u001b[0m \u001b[0mread_reply_from_input\u001b[0m\u001b[0;34m(\u001b[0m\u001b[0mrequest_id\u001b[0m\u001b[0;34m,\u001b[0m \u001b[0mtimeout_sec\u001b[0m\u001b[0;34m)\u001b[0m\u001b[0;34m\u001b[0m\u001b[0;34m\u001b[0m\u001b[0m\n\u001b[0m",
      "\u001b[0;32m/usr/local/lib/python3.7/dist-packages/google/colab/_message.py\u001b[0m in \u001b[0;36mread_reply_from_input\u001b[0;34m(message_id, timeout_sec)\u001b[0m\n\u001b[1;32m     95\u001b[0m     \u001b[0mreply\u001b[0m \u001b[0;34m=\u001b[0m \u001b[0m_read_next_input_message\u001b[0m\u001b[0;34m(\u001b[0m\u001b[0;34m)\u001b[0m\u001b[0;34m\u001b[0m\u001b[0;34m\u001b[0m\u001b[0m\n\u001b[1;32m     96\u001b[0m     \u001b[0;32mif\u001b[0m \u001b[0mreply\u001b[0m \u001b[0;34m==\u001b[0m \u001b[0m_NOT_READY\u001b[0m \u001b[0;32mor\u001b[0m \u001b[0;32mnot\u001b[0m \u001b[0misinstance\u001b[0m\u001b[0;34m(\u001b[0m\u001b[0mreply\u001b[0m\u001b[0;34m,\u001b[0m \u001b[0mdict\u001b[0m\u001b[0;34m)\u001b[0m\u001b[0;34m:\u001b[0m\u001b[0;34m\u001b[0m\u001b[0;34m\u001b[0m\u001b[0m\n\u001b[0;32m---> 97\u001b[0;31m       \u001b[0mtime\u001b[0m\u001b[0;34m.\u001b[0m\u001b[0msleep\u001b[0m\u001b[0;34m(\u001b[0m\u001b[0;36m0.025\u001b[0m\u001b[0;34m)\u001b[0m\u001b[0;34m\u001b[0m\u001b[0;34m\u001b[0m\u001b[0m\n\u001b[0m\u001b[1;32m     98\u001b[0m       \u001b[0;32mcontinue\u001b[0m\u001b[0;34m\u001b[0m\u001b[0;34m\u001b[0m\u001b[0m\n\u001b[1;32m     99\u001b[0m     if (reply.get('type') == 'colab_reply' and\n",
      "\u001b[0;31mKeyboardInterrupt\u001b[0m: "
     ]
    }
   ],
   "source": [
    "from google.colab import drive\n",
    "drive.mount('/content/drive')"
   ]
  },
  {
   "cell_type": "markdown",
   "metadata": {
    "id": "Yj6Oue3broAG"
   },
   "source": [
    "Pindah Path ke /content/drive/MyDrive/webmining/webmining"
   ]
  },
  {
   "cell_type": "code",
   "execution_count": 2,
   "metadata": {
    "colab": {
     "base_uri": "https://localhost:8080/"
    },
    "executionInfo": {
     "elapsed": 29,
     "status": "ok",
     "timestamp": 1664858750854,
     "user": {
      "displayName": "Muhammad Fahmi Ady susilo 19_127",
      "userId": "09919749956615563057"
     },
     "user_tz": -420
    },
    "id": "k4EveF720kBC",
    "outputId": "68636e8c-9ed6-4ff9-c366-42c86771ea9d"
   },
   "outputs": [
    {
     "name": "stdout",
     "output_type": "stream",
     "text": [
      "/content/drive/MyDrive/webmining/webmining\n"
     ]
    }
   ],
   "source": [
    "%cd /content/drive/MyDrive/webmining/webmining/"
   ]
  },
  {
   "cell_type": "markdown",
   "metadata": {
    "id": "MrZxGNlQ7s6j"
   },
   "source": [
    "Clone Twint dari Github Twint Project"
   ]
  },
  {
   "cell_type": "code",
   "execution_count": 3,
   "metadata": {
    "colab": {
     "base_uri": "https://localhost:8080/"
    },
    "executionInfo": {
     "elapsed": 45459,
     "status": "ok",
     "timestamp": 1664858796295,
     "user": {
      "displayName": "Muhammad Fahmi Ady susilo 19_127",
      "userId": "09919749956615563057"
     },
     "user_tz": -420
    },
    "id": "SahVEfOO7mf2",
    "outputId": "694c371c-a8c8-43a6-92f3-39f716f179a0"
   },
   "outputs": [
    {
     "name": "stdout",
     "output_type": "stream",
     "text": [
      "fatal: destination path 'twint' already exists and is not an empty directory.\n",
      "/content/drive/MyDrive/webmining/webmining/twint\n",
      "Looking in indexes: https://pypi.org/simple, https://us-python.pkg.dev/colab-wheels/public/simple/\n",
      "Processing /content/drive/MyDrive/webmining/webmining/twint\n",
      "\u001b[33m  DEPRECATION: A future pip version will change local packages to be built in-place without first copying to a temporary directory. We recommend you use --use-feature=in-tree-build to test your packages with this new behavior before it becomes the default.\n",
      "   pip 21.3 will remove support for this functionality. You can find discussion regarding this at https://github.com/pypa/pip/issues/7555.\u001b[0m\n",
      "Requirement already satisfied: aiohttp in /usr/local/lib/python3.7/dist-packages (from -r requirements.txt (line 1)) (3.8.1)\n",
      "Collecting aiodns\n",
      "  Downloading aiodns-3.0.0-py3-none-any.whl (5.0 kB)\n",
      "Requirement already satisfied: beautifulsoup4 in /usr/local/lib/python3.7/dist-packages (from -r requirements.txt (line 3)) (4.6.3)\n",
      "Collecting cchardet\n",
      "  Downloading cchardet-2.1.7-cp37-cp37m-manylinux2010_x86_64.whl (263 kB)\n",
      "\u001b[K     |████████████████████████████████| 263 kB 5.1 MB/s \n",
      "\u001b[?25hCollecting dataclasses\n",
      "  Downloading dataclasses-0.6-py3-none-any.whl (14 kB)\n",
      "Collecting elasticsearch\n",
      "  Downloading elasticsearch-8.4.2-py3-none-any.whl (384 kB)\n",
      "\u001b[K     |████████████████████████████████| 384 kB 68.7 MB/s \n",
      "\u001b[?25hRequirement already satisfied: pysocks in /usr/local/lib/python3.7/dist-packages (from -r requirements.txt (line 7)) (1.7.1)\n",
      "Requirement already satisfied: pandas>=0.23.0 in /usr/local/lib/python3.7/dist-packages (from -r requirements.txt (line 8)) (1.3.5)\n",
      "Collecting aiohttp_socks<=0.4.1\n",
      "  Downloading aiohttp_socks-0.4.1-py3-none-any.whl (17 kB)\n",
      "Collecting schedule\n",
      "  Downloading schedule-1.1.0-py2.py3-none-any.whl (10 kB)\n",
      "Requirement already satisfied: geopy in /usr/local/lib/python3.7/dist-packages (from -r requirements.txt (line 11)) (1.17.0)\n",
      "Collecting fake-useragent\n",
      "  Downloading fake-useragent-0.1.11.tar.gz (13 kB)\n",
      "Collecting googletransx\n",
      "  Downloading googletransx-2.4.2.tar.gz (13 kB)\n",
      "Requirement already satisfied: python-dateutil>=2.7.3 in /usr/local/lib/python3.7/dist-packages (from pandas>=0.23.0->-r requirements.txt (line 8)) (2.8.2)\n",
      "Requirement already satisfied: numpy>=1.17.3 in /usr/local/lib/python3.7/dist-packages (from pandas>=0.23.0->-r requirements.txt (line 8)) (1.21.6)\n",
      "Requirement already satisfied: pytz>=2017.3 in /usr/local/lib/python3.7/dist-packages (from pandas>=0.23.0->-r requirements.txt (line 8)) (2022.2.1)\n",
      "Requirement already satisfied: attrs>=19.2.0 in /usr/local/lib/python3.7/dist-packages (from aiohttp_socks<=0.4.1->-r requirements.txt (line 9)) (22.1.0)\n",
      "Requirement already satisfied: async-timeout<5.0,>=4.0.0a3 in /usr/local/lib/python3.7/dist-packages (from aiohttp->-r requirements.txt (line 1)) (4.0.2)\n",
      "Requirement already satisfied: asynctest==0.13.0 in /usr/local/lib/python3.7/dist-packages (from aiohttp->-r requirements.txt (line 1)) (0.13.0)\n",
      "Requirement already satisfied: yarl<2.0,>=1.0 in /usr/local/lib/python3.7/dist-packages (from aiohttp->-r requirements.txt (line 1)) (1.8.1)\n",
      "Requirement already satisfied: charset-normalizer<3.0,>=2.0 in /usr/local/lib/python3.7/dist-packages (from aiohttp->-r requirements.txt (line 1)) (2.1.1)\n",
      "Requirement already satisfied: multidict<7.0,>=4.5 in /usr/local/lib/python3.7/dist-packages (from aiohttp->-r requirements.txt (line 1)) (6.0.2)\n",
      "Requirement already satisfied: aiosignal>=1.1.2 in /usr/local/lib/python3.7/dist-packages (from aiohttp->-r requirements.txt (line 1)) (1.2.0)\n",
      "Requirement already satisfied: typing-extensions>=3.7.4 in /usr/local/lib/python3.7/dist-packages (from aiohttp->-r requirements.txt (line 1)) (4.1.1)\n",
      "Requirement already satisfied: frozenlist>=1.1.1 in /usr/local/lib/python3.7/dist-packages (from aiohttp->-r requirements.txt (line 1)) (1.3.1)\n",
      "Requirement already satisfied: six>=1.5 in /usr/local/lib/python3.7/dist-packages (from python-dateutil>=2.7.3->pandas>=0.23.0->-r requirements.txt (line 8)) (1.15.0)\n",
      "Requirement already satisfied: idna>=2.0 in /usr/local/lib/python3.7/dist-packages (from yarl<2.0,>=1.0->aiohttp->-r requirements.txt (line 1)) (2.10)\n",
      "Collecting pycares>=4.0.0\n",
      "  Downloading pycares-4.2.2-cp37-cp37m-manylinux_2_17_x86_64.manylinux2014_x86_64.whl (288 kB)\n",
      "\u001b[K     |████████████████████████████████| 288 kB 24.2 MB/s \n",
      "\u001b[?25hRequirement already satisfied: cffi>=1.5.0 in /usr/local/lib/python3.7/dist-packages (from pycares>=4.0.0->aiodns->-r requirements.txt (line 2)) (1.15.1)\n",
      "Requirement already satisfied: pycparser in /usr/local/lib/python3.7/dist-packages (from cffi>=1.5.0->pycares>=4.0.0->aiodns->-r requirements.txt (line 2)) (2.21)\n",
      "Collecting elastic-transport<9,>=8\n",
      "  Downloading elastic_transport-8.4.0-py3-none-any.whl (59 kB)\n",
      "\u001b[K     |████████████████████████████████| 59 kB 6.8 MB/s \n",
      "\u001b[?25hCollecting urllib3<2,>=1.26.2\n",
      "  Downloading urllib3-1.26.12-py2.py3-none-any.whl (140 kB)\n",
      "\u001b[K     |████████████████████████████████| 140 kB 60.6 MB/s \n",
      "\u001b[?25hRequirement already satisfied: certifi in /usr/local/lib/python3.7/dist-packages (from elastic-transport<9,>=8->elasticsearch->-r requirements.txt (line 6)) (2022.6.15)\n",
      "Requirement already satisfied: geographiclib<2,>=1.49 in /usr/local/lib/python3.7/dist-packages (from geopy->-r requirements.txt (line 11)) (1.52)\n",
      "Requirement already satisfied: requests in /usr/local/lib/python3.7/dist-packages (from googletransx->-r requirements.txt (line 13)) (2.23.0)\n",
      "Collecting requests\n",
      "  Downloading requests-2.28.1-py3-none-any.whl (62 kB)\n",
      "\u001b[K     |████████████████████████████████| 62 kB 1.4 MB/s \n",
      "\u001b[?25hBuilding wheels for collected packages: twint, fake-useragent, googletransx\n",
      "  Building wheel for twint (setup.py) ... \u001b[?25l\u001b[?25hdone\n",
      "  Created wheel for twint: filename=twint-2.1.21-py3-none-any.whl size=38871 sha256=01e6fabef52d319797c3661b4c59c6a6fc40979e849cdb9104e96a9762576100\n",
      "  Stored in directory: /tmp/pip-ephem-wheel-cache-rn14vam5/wheels/88/61/06/bd5d6a887f43cd7ea07380c2bc1fb104f5cc0d03f92a3c50c4\n",
      "  Building wheel for fake-useragent (setup.py) ... \u001b[?25l\u001b[?25hdone\n",
      "  Created wheel for fake-useragent: filename=fake_useragent-0.1.11-py3-none-any.whl size=13502 sha256=0c262bcc3c880d1af6bacc1823f6d74fd00257d151668dc2f04a9d1d571ffbf9\n",
      "  Stored in directory: /root/.cache/pip/wheels/ed/f7/62/50ab6c9a0b5567267ab76a9daa9d06315704209b2c5d032031\n",
      "  Building wheel for googletransx (setup.py) ... \u001b[?25l\u001b[?25hdone\n",
      "  Created wheel for googletransx: filename=googletransx-2.4.2-py3-none-any.whl size=15968 sha256=c0e714b837314987ac2aa88b025853dd4fb40cd81e55f2dc55524507997e0874\n",
      "  Stored in directory: /root/.cache/pip/wheels/66/d5/b1/31104b338f7fd45aa8f7d22587765db06773b13df48a89735f\n",
      "Successfully built twint fake-useragent googletransx\n",
      "Installing collected packages: urllib3, requests, pycares, elastic-transport, schedule, googletransx, fake-useragent, elasticsearch, dataclasses, cchardet, aiohttp-socks, aiodns, twint\n",
      "  Attempting uninstall: urllib3\n",
      "    Found existing installation: urllib3 1.24.3\n",
      "    Uninstalling urllib3-1.24.3:\n",
      "      Successfully uninstalled urllib3-1.24.3\n",
      "  Attempting uninstall: requests\n",
      "    Found existing installation: requests 2.23.0\n",
      "    Uninstalling requests-2.23.0:\n",
      "      Successfully uninstalled requests-2.23.0\n",
      "Successfully installed aiodns-3.0.0 aiohttp-socks-0.4.1 cchardet-2.1.7 dataclasses-0.6 elastic-transport-8.4.0 elasticsearch-8.4.2 fake-useragent-0.1.11 googletransx-2.4.2 pycares-4.2.2 requests-2.28.1 schedule-1.1.0 twint-2.1.21 urllib3-1.26.12\n"
     ]
    }
   ],
   "source": [
    "!git clone --depth=1 https://github.com/twintproject/twint.git\n",
    "%cd twint\n",
    "!pip3 install . -r requirements.txt"
   ]
  },
  {
   "cell_type": "markdown",
   "metadata": {
    "id": "3DW9vgEp7LL7"
   },
   "source": [
    "## Penjelasan Twint"
   ]
  },
  {
   "cell_type": "markdown",
   "metadata": {
    "id": "yD5uqqpt7BCL"
   },
   "source": [
    "Twint adalah alat pengikis Twitter canggih yang ditulis dengan Python yang memungkinkan untuk menggores Tweet dari profil Twitter tanpa menggunakan API Twitter."
   ]
  },
  {
   "cell_type": "markdown",
   "metadata": {
    "id": "MHhGIyqF78hw"
   },
   "source": [
    "install Library Twint"
   ]
  },
  {
   "cell_type": "code",
   "execution_count": 4,
   "metadata": {
    "colab": {
     "base_uri": "https://localhost:8080/"
    },
    "executionInfo": {
     "elapsed": 4116,
     "status": "ok",
     "timestamp": 1664858800392,
     "user": {
      "displayName": "Muhammad Fahmi Ady susilo 19_127",
      "userId": "09919749956615563057"
     },
     "user_tz": -420
    },
    "id": "HchjwJTW65hA",
    "outputId": "9dee80c8-f686-4a0d-d942-54d0e6674379"
   },
   "outputs": [
    {
     "name": "stdout",
     "output_type": "stream",
     "text": [
      "Looking in indexes: https://pypi.org/simple, https://us-python.pkg.dev/colab-wheels/public/simple/\n",
      "Requirement already satisfied: twint in /usr/local/lib/python3.7/dist-packages (2.1.21)\n",
      "Requirement already satisfied: dataclasses in /usr/local/lib/python3.7/dist-packages (from twint) (0.6)\n",
      "Requirement already satisfied: schedule in /usr/local/lib/python3.7/dist-packages (from twint) (1.1.0)\n",
      "Requirement already satisfied: aiohttp in /usr/local/lib/python3.7/dist-packages (from twint) (3.8.1)\n",
      "Requirement already satisfied: elasticsearch in /usr/local/lib/python3.7/dist-packages (from twint) (8.4.2)\n",
      "Requirement already satisfied: fake-useragent in /usr/local/lib/python3.7/dist-packages (from twint) (0.1.11)\n",
      "Requirement already satisfied: geopy in /usr/local/lib/python3.7/dist-packages (from twint) (1.17.0)\n",
      "Requirement already satisfied: beautifulsoup4 in /usr/local/lib/python3.7/dist-packages (from twint) (4.6.3)\n",
      "Requirement already satisfied: cchardet in /usr/local/lib/python3.7/dist-packages (from twint) (2.1.7)\n",
      "Requirement already satisfied: aiodns in /usr/local/lib/python3.7/dist-packages (from twint) (3.0.0)\n",
      "Requirement already satisfied: pandas in /usr/local/lib/python3.7/dist-packages (from twint) (1.3.5)\n",
      "Requirement already satisfied: aiohttp-socks in /usr/local/lib/python3.7/dist-packages (from twint) (0.4.1)\n",
      "Requirement already satisfied: pysocks in /usr/local/lib/python3.7/dist-packages (from twint) (1.7.1)\n",
      "Requirement already satisfied: googletransx in /usr/local/lib/python3.7/dist-packages (from twint) (2.4.2)\n",
      "Requirement already satisfied: pycares>=4.0.0 in /usr/local/lib/python3.7/dist-packages (from aiodns->twint) (4.2.2)\n",
      "Requirement already satisfied: cffi>=1.5.0 in /usr/local/lib/python3.7/dist-packages (from pycares>=4.0.0->aiodns->twint) (1.15.1)\n",
      "Requirement already satisfied: pycparser in /usr/local/lib/python3.7/dist-packages (from cffi>=1.5.0->pycares>=4.0.0->aiodns->twint) (2.21)\n",
      "Requirement already satisfied: frozenlist>=1.1.1 in /usr/local/lib/python3.7/dist-packages (from aiohttp->twint) (1.3.1)\n",
      "Requirement already satisfied: typing-extensions>=3.7.4 in /usr/local/lib/python3.7/dist-packages (from aiohttp->twint) (4.1.1)\n",
      "Requirement already satisfied: asynctest==0.13.0 in /usr/local/lib/python3.7/dist-packages (from aiohttp->twint) (0.13.0)\n",
      "Requirement already satisfied: aiosignal>=1.1.2 in /usr/local/lib/python3.7/dist-packages (from aiohttp->twint) (1.2.0)\n",
      "Requirement already satisfied: yarl<2.0,>=1.0 in /usr/local/lib/python3.7/dist-packages (from aiohttp->twint) (1.8.1)\n",
      "Requirement already satisfied: charset-normalizer<3.0,>=2.0 in /usr/local/lib/python3.7/dist-packages (from aiohttp->twint) (2.1.1)\n",
      "Requirement already satisfied: multidict<7.0,>=4.5 in /usr/local/lib/python3.7/dist-packages (from aiohttp->twint) (6.0.2)\n",
      "Requirement already satisfied: attrs>=17.3.0 in /usr/local/lib/python3.7/dist-packages (from aiohttp->twint) (22.1.0)\n",
      "Requirement already satisfied: async-timeout<5.0,>=4.0.0a3 in /usr/local/lib/python3.7/dist-packages (from aiohttp->twint) (4.0.2)\n",
      "Requirement already satisfied: idna>=2.0 in /usr/local/lib/python3.7/dist-packages (from yarl<2.0,>=1.0->aiohttp->twint) (2.10)\n",
      "Requirement already satisfied: elastic-transport<9,>=8 in /usr/local/lib/python3.7/dist-packages (from elasticsearch->twint) (8.4.0)\n",
      "Requirement already satisfied: certifi in /usr/local/lib/python3.7/dist-packages (from elastic-transport<9,>=8->elasticsearch->twint) (2022.6.15)\n",
      "Requirement already satisfied: urllib3<2,>=1.26.2 in /usr/local/lib/python3.7/dist-packages (from elastic-transport<9,>=8->elasticsearch->twint) (1.26.12)\n",
      "Requirement already satisfied: geographiclib<2,>=1.49 in /usr/local/lib/python3.7/dist-packages (from geopy->twint) (1.52)\n",
      "Requirement already satisfied: requests in /usr/local/lib/python3.7/dist-packages (from googletransx->twint) (2.28.1)\n",
      "Requirement already satisfied: numpy>=1.17.3 in /usr/local/lib/python3.7/dist-packages (from pandas->twint) (1.21.6)\n",
      "Requirement already satisfied: python-dateutil>=2.7.3 in /usr/local/lib/python3.7/dist-packages (from pandas->twint) (2.8.2)\n",
      "Requirement already satisfied: pytz>=2017.3 in /usr/local/lib/python3.7/dist-packages (from pandas->twint) (2022.2.1)\n",
      "Requirement already satisfied: six>=1.5 in /usr/local/lib/python3.7/dist-packages (from python-dateutil>=2.7.3->pandas->twint) (1.15.0)\n"
     ]
    }
   ],
   "source": [
    "!pip install twint"
   ]
  },
  {
   "cell_type": "markdown",
   "metadata": {
    "id": "QX3HYJcj8F8j"
   },
   "source": [
    "install aiohttp versi 3.7.0"
   ]
  },
  {
   "cell_type": "code",
   "execution_count": 5,
   "metadata": {
    "colab": {
     "base_uri": "https://localhost:8080/"
    },
    "executionInfo": {
     "elapsed": 5983,
     "status": "ok",
     "timestamp": 1664858806359,
     "user": {
      "displayName": "Muhammad Fahmi Ady susilo 19_127",
      "userId": "09919749956615563057"
     },
     "user_tz": -420
    },
    "id": "NzxFTdT97P9t",
    "outputId": "0f1522ad-6db0-4794-f095-899787047cbf"
   },
   "outputs": [
    {
     "name": "stdout",
     "output_type": "stream",
     "text": [
      "Looking in indexes: https://pypi.org/simple, https://us-python.pkg.dev/colab-wheels/public/simple/\n",
      "Collecting aiohttp==3.7.0\n",
      "  Downloading aiohttp-3.7.0-cp37-cp37m-manylinux2014_x86_64.whl (1.3 MB)\n",
      "\u001b[K     |████████████████████████████████| 1.3 MB 5.2 MB/s \n",
      "\u001b[?25hCollecting async-timeout<4.0,>=3.0\n",
      "  Downloading async_timeout-3.0.1-py3-none-any.whl (8.2 kB)\n",
      "Requirement already satisfied: attrs>=17.3.0 in /usr/local/lib/python3.7/dist-packages (from aiohttp==3.7.0) (22.1.0)\n",
      "Requirement already satisfied: chardet<4.0,>=2.0 in /usr/local/lib/python3.7/dist-packages (from aiohttp==3.7.0) (3.0.4)\n",
      "Requirement already satisfied: yarl<2.0,>=1.0 in /usr/local/lib/python3.7/dist-packages (from aiohttp==3.7.0) (1.8.1)\n",
      "Requirement already satisfied: multidict<7.0,>=4.5 in /usr/local/lib/python3.7/dist-packages (from aiohttp==3.7.0) (6.0.2)\n",
      "Requirement already satisfied: idna>=2.0 in /usr/local/lib/python3.7/dist-packages (from yarl<2.0,>=1.0->aiohttp==3.7.0) (2.10)\n",
      "Requirement already satisfied: typing-extensions>=3.7.4 in /usr/local/lib/python3.7/dist-packages (from yarl<2.0,>=1.0->aiohttp==3.7.0) (4.1.1)\n",
      "Installing collected packages: async-timeout, aiohttp\n",
      "  Attempting uninstall: async-timeout\n",
      "    Found existing installation: async-timeout 4.0.2\n",
      "    Uninstalling async-timeout-4.0.2:\n",
      "      Successfully uninstalled async-timeout-4.0.2\n",
      "  Attempting uninstall: aiohttp\n",
      "    Found existing installation: aiohttp 3.8.1\n",
      "    Uninstalling aiohttp-3.8.1:\n",
      "      Successfully uninstalled aiohttp-3.8.1\n",
      "Successfully installed aiohttp-3.7.0 async-timeout-3.0.1\n"
     ]
    }
   ],
   "source": [
    "!pip install aiohttp==3.7.0"
   ]
  },
  {
   "cell_type": "markdown",
   "metadata": {
    "id": "thc0c9pK8Ubr"
   },
   "source": [
    "melakukan Import Twint"
   ]
  },
  {
   "cell_type": "markdown",
   "metadata": {
    "id": "_kRgiukX9D0z"
   },
   "source": []
  },
  {
   "cell_type": "code",
   "execution_count": 6,
   "metadata": {
    "executionInfo": {
     "elapsed": 697,
     "status": "ok",
     "timestamp": 1664858807039,
     "user": {
      "displayName": "Muhammad Fahmi Ady susilo 19_127",
      "userId": "09919749956615563057"
     },
     "user_tz": -420
    },
    "id": "6xBh4QRO8SLj"
   },
   "outputs": [],
   "source": [
    "import twint"
   ]
  },
  {
   "cell_type": "markdown",
   "metadata": {
    "id": "ty7SdKMER2fV"
   },
   "source": [
    "Install Nest Asyncio dan lakukan Import"
   ]
  },
  {
   "cell_type": "code",
   "execution_count": 7,
   "metadata": {
    "colab": {
     "base_uri": "https://localhost:8080/"
    },
    "executionInfo": {
     "elapsed": 4163,
     "status": "ok",
     "timestamp": 1664858811196,
     "user": {
      "displayName": "Muhammad Fahmi Ady susilo 19_127",
      "userId": "09919749956615563057"
     },
     "user_tz": -420
    },
    "id": "p5-Y07uk9QHt",
    "outputId": "564908e5-aa8c-42bc-e1e6-8209df8627fc"
   },
   "outputs": [
    {
     "name": "stdout",
     "output_type": "stream",
     "text": [
      "Looking in indexes: https://pypi.org/simple, https://us-python.pkg.dev/colab-wheels/public/simple/\n",
      "Collecting nest_asyncio\n",
      "  Downloading nest_asyncio-1.5.6-py3-none-any.whl (5.2 kB)\n",
      "Installing collected packages: nest-asyncio\n",
      "Successfully installed nest-asyncio-1.5.6\n"
     ]
    }
   ],
   "source": [
    "!pip install nest_asyncio\n",
    "import nest_asyncio\n",
    "nest_asyncio.apply() "
   ]
  },
  {
   "cell_type": "markdown",
   "metadata": {
    "id": "D-3m3nYu-zJU"
   },
   "source": [
    "configurasi Twint seperti halnya example di website library Twint"
   ]
  },
  {
   "cell_type": "code",
   "execution_count": 8,
   "metadata": {
    "colab": {
     "base_uri": "https://localhost:8080/"
    },
    "executionInfo": {
     "elapsed": 1648,
     "status": "ok",
     "timestamp": 1664858812831,
     "user": {
      "displayName": "Muhammad Fahmi Ady susilo 19_127",
      "userId": "09919749956615563057"
     },
     "user_tz": -420
    },
    "id": "IC8Q21dW9gnm",
    "outputId": "53c4a25c-ed91-471d-8774-aaaf9ded3970"
   },
   "outputs": [
    {
     "name": "stdout",
     "output_type": "stream",
     "text": [
      "1577158169842700288 2022-10-04 04:46:24 +0000 <03__nakula> Tragedi kerusuhan suporter di Stadion Kanjuruhan menjadi duka mendalam bagi dunia persepakbolaan Indonesia.  Gubernur Jawa Tengah Ganjar Pranowo pun menyampaikan duka cita dan berdoa untuk semua korban, terutama korban meninggal dunia.  #SahabatGanjar #Ganjar #ganjarpranowo  https://t.co/1ISBb2yG97\n",
      "1577157361571336192 2022-10-04 04:43:11 +0000 <sonny_a_sokon> Pemilu belum mulai... Dimulai ketika @PDI_Perjuangan umumkan @ganjarpranowo sebagai calon. Semua peta akan berubah, semua mulai bracing for big impact, semua koalisi saling nego keras. Ramalan kuat: hanya 2 calon  #NasdemBersamaAnies #GanjarPranowo #ganjarist #Pilpres2024\n",
      "1577156768353746944 2022-10-04 04:40:50 +0000 <pikiran_rakyat> PSI Usung Ganjar Pranowo Jadi Capres 2024, Grace Natalie: dari Hasil Rumbuk Rakyat #PSI #GanjarPranowo #Capres2024  Selengkapnya:  https://t.co/999vjkzats via @YouTube\n",
      "1577155161281044480 2022-10-04 04:34:27 +0000 <Lembayungpbr22> #pbnu #pdip #NU #koruptor #PDIPerjuangan #gpansor #puan #puanmaharani #megawati #indonesia   #GanjarPranowo #pdip #ikn\n",
      "1577151800091717632 2022-10-04 04:21:05 +0000 <Jiung1973> Prabowo,Puan,Anies, Ganjar atau siapapun yang layak maju di 2024, janganlah saling menjatuhkan, adu gagasan dan pencapaian saja demi warisan kebaikan untuk anak cucu kita #AniesBaswedan #GanjarPranowo #prabowo #PuanMaharani\n",
      "1577150780645048320 2022-10-04 04:17:02 +0000 <Jarikmerahputih> Pak Gubernur Jawa Tengah (Jateng) Ganjar Pranowo dan Pak Menteri BUMN RI Erick Thohir menjadi pemimpin pilihan masyarakat saat ini.  #ganjarpranowo #erickthohir #merahputih #pilpres2024 #relawanjarik  https://t.co/VPr3gzKoPc\n",
      "1577149099752624129 2022-10-04 04:10:22 +0000 <KabarS4habat> Klik untuk lihat kontennya👇🏼👇🏼👇🏼  https://t.co/4AOPG6Mxxb  #GanjarPranowo #ganjarpranowo2024 #GanjaranApp @ganjarpranowo #info  https://t.co/TEPJHlM2By\n",
      "1577147514306039808 2022-10-04 04:04:04 +0000 <jpnncom> Ganjar Pranowo merupakan opsi yang tepat untuk maju dalam Pilpres 2024, melawan Prabowo Subianto dan Anies Baswedan. #GanjarPranowo  https://t.co/SjEVjqC0Lg\n",
      "1577145559382491137 2022-10-04 03:56:17 +0000 <tribunkaltim> Respon Ridwan Kamil dan Ganjar Pranowo terkait Anies Baswedan yang Diusung sebagai Capres Nasdem   #Anies #AniesBaswedan #Ganjar #GanjarPranowo #RidwanKamil #KangEmil #capres #Nasdem #Pilpres2024   https://t.co/dWXqudZLsS lewat @tribunkaltim\n",
      "1577145108361015297 2022-10-04 03:54:30 +0000 <sahabatganjar> Gubenur Jawa Tengah Ganjar Pranowo mengenang K.H. Dian Nafi, apa yang disampaikan oleh Ganjar? Simak video berikut.  #sahabatganjar #ganjarpranowo #Ganjar  https://t.co/1pAiwp4oZt\n",
      "1577142819944165376 2022-10-04 03:45:24 +0000 <VideoTRIBUN> Seusai Nasdem Usung Anies, PSI Deklarasikan Ganjar Pranowo &amp; Yenny Wahid Jadi Capres-Cawapres 2024  #PSI #capres #GanjarPranowo #YennyWahid #pilpres2024 #BeritaTerkini   Selengkapnya&gt;  https://t.co/y6PT0yZYWf  https://t.co/q2TTWHg1CV\n",
      "1577139371496833025 2022-10-04 03:31:42 +0000 <KoncoErick> Nah iki Pak Menteri BUMN RI Erick Thohir cawapres sing cocok disandingke karo sopo ae. Dipasangke karo Pak Ganjar Pranowo yo iso, karo Pak Prabowo Subianto yo iso. Sing penting Pak Erick Thohir maju Pilpres 2024, Indonesia bakal aman rek.   #ganjarpranowo #prabowo #erickthohir  https://t.co/TebpqZN28u\n",
      "1577138037263601664 2022-10-04 03:26:24 +0000 <DewiOzza> Produsen pipa asal Belanda, Wavin, membangun pabrik di Batang  #GanjarPranowo menyebut berdirinya pabrik pipa asal Belanda di Kawasan Industri Terpadu Batang (KITB) sbg bentuk kepercayaan investor berinvestasi di Indonesia, khususnya di Jawa Tengah.   https://t.co/NcOidGFqmJ\n",
      "1577138018796072960 2022-10-04 03:26:20 +0000 <DewiOzza> Elektabilitas #GanjarPranowo Tinggi di Sejumlah Lembaga Survei, KGN Optimistis Ketum @PDI_Perjuangan Akan Pilih Jadi Capres 2024   https://t.co/W55bZfFTv3\n",
      "1577137801383927808 2022-10-04 03:25:28 +0000 <sahabatganjarid> Kerjasama kedua belah pihak berorientasi pada upaya peningkatan kesejahteraan masyarakat, khususnya di wilayah Sulawesi Barat.  #SahabatGanjar #GanjarPranowo #Ganjar  https://t.co/Q2J3gUtESx\n",
      "1577137764310470656 2022-10-04 03:25:19 +0000 <sahabatganjarid> Pemerintah Provinsi (Pemprov) Sulawesi Barat menandatangani Memorandum of Understanding (MoU), dengan Pemprov Jawa Tengah  #SahabatGanjar #GanjarPranowo #Ganjar  https://t.co/tHKtp4gST2\n",
      "1577137520319479808 2022-10-04 03:24:21 +0000 <jpnncom> #BeritaJabar Masyarakat Pangandaran Nobatkan Ganjar Pranowo Sebagai Bapak Pariwisata @ganjarpranowo  #ganjarmudapadjajaran #ganjarpranowo #bapakpariwisata   https://t.co/UidE1aoVI1\n",
      "1577136296287313921 2022-10-04 03:19:29 +0000 <sahabatganjarid> Beliau mengajarkan dan menanamkan kepada para mahasiswa karakter yang kuat sesuai dengan pemahaman agama Islam.  #sahabatganjar #ganjarpranowo #Ganjar  https://t.co/y9OfrXlIPY\n",
      "1577135320830615554 2022-10-04 03:15:36 +0000 <insideindo_id> Ganjar Pranowo angkat suara setelah Partai NasDem resmi mengusung Anies Baswedan sebagai Capres 2024.   Baca berita selengkapnya hanya di  https://t.co/NuJENM2ro9  #ganjarpranowo #pilpres2024 #aniesbaswedan #caprescawapres2024 #capres2024 #presiden2024 #FYP  https://t.co/LJXuMupo5o\n",
      "1577133546837512193 2022-10-04 03:08:33 +0000 <terkinidotid> Terbukti Dorong Kemandirian Ekonomi, Emak-Emak di Bone Dukung Ganjar Jadi Presiden: Relawan Mak Ganjar Sulawesi Selatan bersama 500 emak-emak Kabupaten Bone berkumpul dan menyuarakan aspirasi 'Ganjar Presiden 2024' di Desa…  https://t.co/slAvjRWBL8 #Bone #GanjarPranowo #Ganjar\n",
      "1577130318569476096 2022-10-04 02:55:44 +0000 <sahabatganjar> Saat perayaan hari batik nasional, Ganjar Pranowo menggelar pameran 1000 motif batik dari kuno hingga kekinian.  #sahabatganjar #ganjarpranowo #Ganjar  https://t.co/BaQoPFsFC7\n",
      "1577127187961896960 2022-10-04 02:43:17 +0000 <jalanmerdeka3> Duh, ketahuan lagi pacaran sama Pak Ganjar 🤭😄😍❤🇮🇩 #Ganjar #GanjarPranowo #GanjarRI1 #GanjarKita #GanjarTheNextJokowi #ganjarpranowo2024  https://t.co/2NRVReV0dt\n",
      "1577126079621656578 2022-10-04 02:38:53 +0000 <sahabatganjar> Ganjar menerbitkan surat edaran berisi instruksi bagi kepala daerah di seluruh Jateng agar menggunakan aspal Buton sebagai implementasi peningkatan penggunaan produk dalam negeri (P3DN).  #SahabatGanjar #GanjarPranowo #Ganjar  https://t.co/YfW4IfpCuW\n",
      "1577125591362416640 2022-10-04 02:36:57 +0000 <fajaronline> Deklarasikan Ganjar Capres 2024 Usai Cibir Nasdem, Kader Demokrat: Masih Percaya PSI?  https://t.co/KoUw3HHwRq #AniesBaswedan #GanjarPranowo #GiringGanesha #NasDem\n",
      "1577121540457758721 2022-10-04 02:20:51 +0000 <fajaronline> Giring Bilang Tak Mau Bahas Politik Dulu, PSI Malah Deklarasikan Ganjar, Loyalis Anies: Perilaku Pecundang  https://t.co/xkdio5DW65 #AniesBaswedan #GanjarPranowo #GeiszChalifah #GiringGanesha\n",
      "1577121251189219329 2022-10-04 02:19:42 +0000 <Arigato_98> #GanjarPranowo #tgb #PDIPerjuangan #perindo #adp2022 @ganjarpranowo @TGBMZainulMajdi @_ekokuntadhi @Hary_Tanoe  https://t.co/NwGf4opn5L\n",
      "1577114443959308288 2022-10-04 01:52:39 +0000 <PSI_Bali> #GanjarPranowo #YennyWahid   \"Kombinasi Ganjar-Yenny Wahid kami anggap terbaik untuk melanjutkan kepemimpinan nasional. Inilah pasangan calon untuk capres-cawapres untuk mewujudkan Indonesia sebagai negeri yang adil dan toleran\" sebut Wakil Ketua Dewan Pembina PSI Sis @grace_nat  https://t.co/C4wNbzyM8q\n",
      "1577111803448164353 2022-10-04 01:42:09 +0000 <geboeja_> #GANJARPRANOWO  capres 2024\n",
      "1577109554420408321 2022-10-04 01:33:13 +0000 <von_edison> Di tengah duka yg mendalam #panjuruhan bahkan duka nasional dan internasional, justru PSI sibuk deklarasi  agar #ganjarpranowo  MAJU CAPRES 2024.  SITU WARAS ?  https://t.co/q3q8Z3AESb\n",
      "1577109433070387200 2022-10-04 01:32:44 +0000 <Lembayungpbr22> #pbnu #pdip #NU #koruptor #PDIPerjuangan #gpansor #puan #puanmaharani #megawati #indonesia   #GanjarPranowo #pdip #ikn\n",
      "1577098894517075969 2022-10-04 00:50:52 +0000 <SobatUno> Kita harapkan apapun yang bisa kita kolaborasikan, contohnya di bidang Ekraf.  #sandiuno #SobatSandi #prabowoIndonesia #prabowosubianto #menteripertahanan #ridwankamil #ataliapr #ganjarpranowo #sahabatganjar #trirismaharini #jokowidodo #presidenjokowi #kaesangpangarep  https://t.co/EmOhwTLFZY\n",
      "1577098571962519552 2022-10-04 00:49:35 +0000 <SobatUno> Banyak FIlm Indonesia yang mengisahkan keunggulan Pariwisata dan Ekonomi Kreatif Tanah Air.  #sandiuno #SobatSandi #prabowoIndonesia #prabowosubianto #menteripertahanan #ridwankamil #ataliapr #ganjarpranowo #sahabatganjar #trirismaharini #jokowidodo #presidenjokowi  https://t.co/vHGg0WGLd7\n",
      "1577096325602025472 2022-10-04 00:40:39 +0000 <GP_Lombok> Ada backing vocalnya 😂🤭  #GanjarPranowo #SahabatGanjar  https://t.co/CGPwRwokIe\n",
      "1577095621466808320 2022-10-04 00:37:51 +0000 <ds_martakusumah> @tjhinfar Ketika jabatan adalah suatu pekerjaan yg harus dipertanggungjawabkan, maka itu adalah amanah yg wajib dijalankan dgn sebaik²nya. Dan ketika jabatan diserahkan pada orang yg tidak tepat, maka kehancuran sdh menunggu didepan mata. 😊☕🙏  #TemanGanjar #GanjarPranowo #TegarSukabumi\n",
      "1577089885495734273 2022-10-04 00:15:04 +0000 <Kanjeng2022> Pilpres 2024 selesai kalau ini mah...  #GanjarPranowo\n",
      "1577085651094118400 2022-10-03 23:58:14 +0000 <fajaronline> Terbukti Dorong Kemandirian Ekonomi, Ganjar Raih Dukungan Emak-Emak Kabupaten Bone Jadi Presiden  https://t.co/XDK7kQpCsN #GanjarPranowo #Pilpres2024 #RelawanEmak-emak\n",
      "1577082172636532736 2022-10-03 23:44:25 +0000 <Ismail34599891> @detikcom @Giring_Ganesha lucu gak ni mas giring,,,, anda gak tahu ya kalau psi juga deklarasi,,, #GanjarPranowo\n",
      "1577078908788219904 2022-10-03 23:31:27 +0000 <RizkiR4madani> Anies Baswedan Dideklarasikan Sebagai Capres 2024, Ini Komentar @ganjarpranowo . Ini Lah Yg Membuat, Aye Ingin Slalu Mendukung Beliau Gubernur Jawa Tengah #GanjarPranowo Menjadi Presiden 🇮🇩 Periode 2024-2029. Gimane Sobat Tweps? Yg Cihuyy☕☕   https://t.co/SnsDg25sGO\n",
      "1577051023847268352 2022-10-03 21:40:38 +0000 <lawjusticeco> PSI Deklarasikan Ganjar Pranowo Capres di Pilpres 2024  https://t.co/cNGjmZdGF8 #psi #GanjarPranowo #jokowi #PDIPerjuangan  https://t.co/CuRSUFc1SF\n",
      "1577041402722418690 2022-10-03 21:02:25 +0000 <inisiatifganjar> Gubernur Jawa Tengah Ganjar Pranowo mendampingi Presiden Joko Widodo (Jokowi) dalam groundbreaking pabrik Wavin di Grand Batang City atau Kawasan Industri Terpadu Batang (KITB), Senin (3/10/2022).  #ganjarpranowo #ganjar #ganjar_pranowo #jawatengah #jawatengahhits #indonesia  https://t.co/AmfaF33xal\n",
      "1577028977528832002 2022-10-03 20:13:02 +0000 <jpnncom> Ganjar dinilai sebagai pemimpin yang aktif mendorong peran strategis perempuan sebagai pelaku sekaligus penggerak ekonomi kreatif dan inovatif. #GanjarPranowo  https://t.co/jyhyrV2ATv\n",
      "1577003110840827904 2022-10-03 18:30:15 +0000 <FitriNatali1> Kocak betul si Giring ini, mksud hati nyindir NasDem deklarasikan Anies Baswedan eh ternyata PSI yg ndak punya kursi ikutan Deklarasi Ganjar.  Ketum koq ndak tau agenda partainya sih ring giring parah loh #giring #giringganesha #psi #ganjar #ganjarpranowo  #NasdemBersamaAnies  https://t.co/OSyeKjnjZn\n",
      "1577002883203010561 2022-10-03 18:29:21 +0000 <JSodakain> @imanlagi Anis Bakal menang kalau lawannya mbak puan. Tapiii kalo lawannya adalah Ganjar sorry to say kalau Ganjar yg bakal menang. #GanjarPranowo #GanjarTheNextJokowi\n",
      "1576997665577242624 2022-10-03 18:08:37 +0000 <siregaryaakub> @MndJaya @Metro_TV Ngapain juga nyisipkan tagar #KanjuruhanBerdukaCita di narasi politik,apa kalian dan kelompokmu sdh tak berempati dengan ratusan nyawa yg melayang? Jijik aku dengan cara berpikirmu. Makan itu #GanjarPranowo mu!!!\n",
      "1576996073641775104 2022-10-03 18:02:17 +0000 <01Negeriku> @Miduk17 bersama selalu dengan Pakde #GanjarPranowo\n",
      "1576992906795134977 2022-10-03 17:49:42 +0000 <01Negeriku> @Damai_Itu_Indah @psi_id @psi_id bersama #GanjarPranowo   #SelamatTinggalNasdem  #SelamatTinggalNasdem  #SelamatTinggalNasdem\n",
      "1576976136898478080 2022-10-03 16:43:04 +0000 <jpnncom> Gubernur Ganjar Pranowo ingin agar generasi muda terutama yag kurang mampu tetap mendapat hak yang sama dalam mengenyam pendidikan melalui SMKN Jateng. #GanjarPranowo  https://t.co/rO2Me3vV2J\n",
      "1576974634091565059 2022-10-03 16:37:06 +0000 <Nien1708> Tragedi supporter di Malang, diharapkan jadi evaluasi besar pada dunia persepakbolaan Indonesia.   Penyelenggara, suporter &amp; petugas keamanan.  Ganjar minta agar para suporter mengadakan kongres untuk mencegah hal tersebut terulang kembali.  #SahabatGanjar #GanjarPranowo #Ganjar  https://t.co/VBPYWIDWK2\n",
      "1576974192263581700 2022-10-03 16:35:20 +0000 <tahucampur58> @ElinaDio menurut saya langkah nasdem \"cerdas\" utk mematikan ! #GanjarPranowo tetap akan next jokowi\n",
      "1576973388933136384 2022-10-03 16:32:09 +0000 <Nien1708> Ada yang suka memendam masalah berlarut-larut????   Yuk kita kenali ciri-ciri dari asertif.  #SahabatGanjar #GanjarPranowo #Ganjar  https://t.co/EwJTJfIVH2\n",
      "1576973058010533908 2022-10-03 16:30:50 +0000 <Nien1708> Pagi yang cerah enaknya senam sehat nih kayak di Kota Serang, Banten.  #SahabatGanjar #GanjarPranowo #Ganjar  https://t.co/wKC91JIRZ8\n",
      "1576972872550993935 2022-10-03 16:30:06 +0000 <ArdiKuncoro_> Santai Saja Bu Mega pasti tau dan melihat reaksi masyarakat (Rakyat)  #GanjarPranowo\n",
      "1576972367074844672 2022-10-03 16:28:05 +0000 <mudha_satriya> Loyalis Puan bikin Dewan Kolonel, Relawan Ganjar bikin Dewan KOPRAL &gt;&gt;&gt;&gt;  https://t.co/4X0y2QcM1m #GPMania #ganjarpranowo #GanjarPresiden2024 #DewanKopral\n",
      "1576971592898203651 2022-10-03 16:25:01 +0000 <mudha_satriya> Jika Para Elite bisa membentuk \" Dewan Kolonel \" maka KITA rakyat kecil akan membentuk DEWAN KOPRAL !!!! &gt;&gt;&gt;&gt;  https://t.co/WkDY3w8oyx . . . #GPMania #GanjarPranowo #GanjarPresiden2024 Cc @Rizmaya\n",
      "1576961286935412736 2022-10-03 15:44:03 +0000 <jpnncom> Gubernur Jateng Ganjar Pranowo menyambut baik kedatangan Pj Gubernur Sulbar beserta jajarannya. #GanjarPranowo  https://t.co/SfhM8AKbpC\n",
      "1576960285814181888 2022-10-03 15:40:05 +0000 <jpnncom> Ganjar Pranowo dinobatkan sebagai Bapak Pariwisata Indonesia oleh masyarakat Pangandaran dalam Festival 'Pariwisata Pulih, Indonesia Bangkit' #ganjarpranowo  https://t.co/UidE1aH4W9\n",
      "1576959891729977349 2022-10-03 15:38:31 +0000 <InfoSeriyes> #GanjarPranowo lahhh\n",
      "1576959497028763650 2022-10-03 15:36:57 +0000 <MndJaya> #GanjarPranowo #KanjuruhanBerdukaCita lawan #BapakPolitikIdentitas usungan Nasdem @Metro_TV\n",
      "1576959246809567232 2022-10-03 15:35:57 +0000 <Ardi22319234> #GanjarPranowo #GanjarTheNextJokowi  #2024TenggelamkanNasdem #2024GanjarRI1 #GanjarPresidenRI2024 #TOLAKANIES #Tolakpolitikidentitas 2024 Mari Kita Pilih Pemimpin Merakyat ,, Bukan Pemimpin ambisius ayat dan mayat #Menolaklupa #Pilgub2017  https://t.co/64UPsb2X4C\n",
      "1576954770954551296 2022-10-03 15:18:10 +0000 <sahabatganjar> Pagi yang cerah enaknya senam sehat nih kayak di Kota Serang, Banten.  #SahabatGanjar #GanjarPranowo #Ganjar  https://t.co/Y6C82XyICe\n"
     ]
    }
   ],
   "source": [
    "c = twint.Config()\n",
    "c.Search = '#ganjarpranowo'\n",
    "c.Pandas = True\n",
    "c.Limit = 60\n",
    "c.Store_csv = True\n",
    "c.Custom[\"tweet\"] = [\"tweet\"]\n",
    "c.Output = \"dataGanjar.csv\"\n",
    "twint.run.Search(c)"
   ]
  },
  {
   "cell_type": "markdown",
   "metadata": {
    "id": "72nQgcK5nplf"
   },
   "source": [
    "## Penjelasan Pandas"
   ]
  },
  {
   "cell_type": "markdown",
   "metadata": {
    "id": "TXgNM7G7P_gF"
   },
   "source": [
    "**Pandas adalah paket Python open source yang paling sering dipakai untuk menganalisis data serta membangun sebuah machine learning. Pandas dibuat berdasarkan satu package lain bernama Numpy**"
   ]
  },
  {
   "cell_type": "markdown",
   "metadata": {
    "id": "dHvwWYe8-6ib"
   },
   "source": [
    "melakukan Import Pandas"
   ]
  },
  {
   "cell_type": "code",
   "execution_count": 9,
   "metadata": {
    "executionInfo": {
     "elapsed": 15,
     "status": "ok",
     "timestamp": 1664858812833,
     "user": {
      "displayName": "Muhammad Fahmi Ady susilo 19_127",
      "userId": "09919749956615563057"
     },
     "user_tz": -420
    },
    "id": "cXUnqsB_-RtM"
   },
   "outputs": [],
   "source": [
    "import pandas as pd"
   ]
  },
  {
   "cell_type": "markdown",
   "metadata": {
    "id": "CO0Yww6U-_27"
   },
   "source": [
    "Baca data excel dataGanjar.xlsx yang telah diberi label yang telah simpan di Google Drive"
   ]
  },
  {
   "cell_type": "code",
   "execution_count": 10,
   "metadata": {
    "colab": {
     "base_uri": "https://localhost:8080/",
     "height": 424
    },
    "executionInfo": {
     "elapsed": 44,
     "status": "ok",
     "timestamp": 1664858813559,
     "user": {
      "displayName": "Muhammad Fahmi Ady susilo 19_127",
      "userId": "09919749956615563057"
     },
     "user_tz": -420
    },
    "id": "sJbeN8bZ-a19",
    "outputId": "6372925f-70b1-46d9-f95d-ddd0377d3838"
   },
   "outputs": [
    {
     "data": {
      "text/html": [
       "\n",
       "  <div id=\"df-9d23355c-5c66-4f4e-a65d-6172eabd5790\">\n",
       "    <div class=\"colab-df-container\">\n",
       "      <div>\n",
       "<style scoped>\n",
       "    .dataframe tbody tr th:only-of-type {\n",
       "        vertical-align: middle;\n",
       "    }\n",
       "\n",
       "    .dataframe tbody tr th {\n",
       "        vertical-align: top;\n",
       "    }\n",
       "\n",
       "    .dataframe thead th {\n",
       "        text-align: right;\n",
       "    }\n",
       "</style>\n",
       "<table border=\"1\" class=\"dataframe\">\n",
       "  <thead>\n",
       "    <tr style=\"text-align: right;\">\n",
       "      <th></th>\n",
       "      <th>tweet</th>\n",
       "      <th>label</th>\n",
       "    </tr>\n",
       "  </thead>\n",
       "  <tbody>\n",
       "    <tr>\n",
       "      <th>0</th>\n",
       "      <td>Ia berharap agar semakin banyak kerja sama yan...</td>\n",
       "      <td>positif</td>\n",
       "    </tr>\n",
       "    <tr>\n",
       "      <th>1</th>\n",
       "      <td>Duta Besar Australia untuk Indonesia Penny Wil...</td>\n",
       "      <td>positif</td>\n",
       "    </tr>\n",
       "    <tr>\n",
       "      <th>2</th>\n",
       "      <td>Butuh jalan panjang memang, untuk menâ€™sejati...</td>\n",
       "      <td>netral</td>\n",
       "    </tr>\n",
       "    <tr>\n",
       "      <th>3</th>\n",
       "      <td>Kita bisa belajar memandang setiap hubungan pe...</td>\n",
       "      <td>netral</td>\n",
       "    </tr>\n",
       "    <tr>\n",
       "      <th>4</th>\n",
       "      <td>Mas Ganjar bantu masyarakat kurang mampu nikma...</td>\n",
       "      <td>positif</td>\n",
       "    </tr>\n",
       "    <tr>\n",
       "      <th>...</th>\n",
       "      <td>...</td>\n",
       "      <td>...</td>\n",
       "    </tr>\n",
       "    <tr>\n",
       "      <th>68</th>\n",
       "      <td>Mas Ganjar siap menjalankan instruksi Presiden...</td>\n",
       "      <td>positif</td>\n",
       "    </tr>\n",
       "    <tr>\n",
       "      <th>69</th>\n",
       "      <td>Jawa Tengah tercatat sebagai provinsi dengan t...</td>\n",
       "      <td>positif</td>\n",
       "    </tr>\n",
       "    <tr>\n",
       "      <th>70</th>\n",
       "      <td>Yayasan Dokter Peduli (doctorSHARE) menemui  @...</td>\n",
       "      <td>positif</td>\n",
       "    </tr>\n",
       "    <tr>\n",
       "      <th>71</th>\n",
       "      <td>Cocok banget deh ah ðŸ‡²ðŸ‡¨ðŸ‘ðŸ‘   #airlan...</td>\n",
       "      <td>netral</td>\n",
       "    </tr>\n",
       "    <tr>\n",
       "      <th>72</th>\n",
       "      <td>Mengambil tajuk â€œJumâ€™at Berkahâ€, Sahabat...</td>\n",
       "      <td>positif</td>\n",
       "    </tr>\n",
       "  </tbody>\n",
       "</table>\n",
       "<p>73 rows × 2 columns</p>\n",
       "</div>\n",
       "      <button class=\"colab-df-convert\" onclick=\"convertToInteractive('df-9d23355c-5c66-4f4e-a65d-6172eabd5790')\"\n",
       "              title=\"Convert this dataframe to an interactive table.\"\n",
       "              style=\"display:none;\">\n",
       "\n",
       "  <svg xmlns=\"http://www.w3.org/2000/svg\" height=\"24px\"viewBox=\"0 0 24 24\"\n",
       "       width=\"24px\">\n",
       "    <path d=\"M0 0h24v24H0V0z\" fill=\"none\"/>\n",
       "    <path d=\"M18.56 5.44l.94 2.06.94-2.06 2.06-.94-2.06-.94-.94-2.06-.94 2.06-2.06.94zm-11 1L8.5 8.5l.94-2.06 2.06-.94-2.06-.94L8.5 2.5l-.94 2.06-2.06.94zm10 10l.94 2.06.94-2.06 2.06-.94-2.06-.94-.94-2.06-.94 2.06-2.06.94z\"/><path d=\"M17.41 7.96l-1.37-1.37c-.4-.4-.92-.59-1.43-.59-.52 0-1.04.2-1.43.59L10.3 9.45l-7.72 7.72c-.78.78-.78 2.05 0 2.83L4 21.41c.39.39.9.59 1.41.59.51 0 1.02-.2 1.41-.59l7.78-7.78 2.81-2.81c.8-.78.8-2.07 0-2.86zM5.41 20L4 18.59l7.72-7.72 1.47 1.35L5.41 20z\"/>\n",
       "  </svg>\n",
       "      </button>\n",
       "\n",
       "  <style>\n",
       "    .colab-df-container {\n",
       "      display:flex;\n",
       "      flex-wrap:wrap;\n",
       "      gap: 12px;\n",
       "    }\n",
       "\n",
       "    .colab-df-convert {\n",
       "      background-color: #E8F0FE;\n",
       "      border: none;\n",
       "      border-radius: 50%;\n",
       "      cursor: pointer;\n",
       "      display: none;\n",
       "      fill: #1967D2;\n",
       "      height: 32px;\n",
       "      padding: 0 0 0 0;\n",
       "      width: 32px;\n",
       "    }\n",
       "\n",
       "    .colab-df-convert:hover {\n",
       "      background-color: #E2EBFA;\n",
       "      box-shadow: 0px 1px 2px rgba(60, 64, 67, 0.3), 0px 1px 3px 1px rgba(60, 64, 67, 0.15);\n",
       "      fill: #174EA6;\n",
       "    }\n",
       "\n",
       "    [theme=dark] .colab-df-convert {\n",
       "      background-color: #3B4455;\n",
       "      fill: #D2E3FC;\n",
       "    }\n",
       "\n",
       "    [theme=dark] .colab-df-convert:hover {\n",
       "      background-color: #434B5C;\n",
       "      box-shadow: 0px 1px 3px 1px rgba(0, 0, 0, 0.15);\n",
       "      filter: drop-shadow(0px 1px 2px rgba(0, 0, 0, 0.3));\n",
       "      fill: #FFFFFF;\n",
       "    }\n",
       "  </style>\n",
       "\n",
       "      <script>\n",
       "        const buttonEl =\n",
       "          document.querySelector('#df-9d23355c-5c66-4f4e-a65d-6172eabd5790 button.colab-df-convert');\n",
       "        buttonEl.style.display =\n",
       "          google.colab.kernel.accessAllowed ? 'block' : 'none';\n",
       "\n",
       "        async function convertToInteractive(key) {\n",
       "          const element = document.querySelector('#df-9d23355c-5c66-4f4e-a65d-6172eabd5790');\n",
       "          const dataTable =\n",
       "            await google.colab.kernel.invokeFunction('convertToInteractive',\n",
       "                                                     [key], {});\n",
       "          if (!dataTable) return;\n",
       "\n",
       "          const docLinkHtml = 'Like what you see? Visit the ' +\n",
       "            '<a target=\"_blank\" href=https://colab.research.google.com/notebooks/data_table.ipynb>data table notebook</a>'\n",
       "            + ' to learn more about interactive tables.';\n",
       "          element.innerHTML = '';\n",
       "          dataTable['output_type'] = 'display_data';\n",
       "          await google.colab.output.renderOutput(dataTable, element);\n",
       "          const docLink = document.createElement('div');\n",
       "          docLink.innerHTML = docLinkHtml;\n",
       "          element.appendChild(docLink);\n",
       "        }\n",
       "      </script>\n",
       "    </div>\n",
       "  </div>\n"
      ],
      "text/plain": [
       "                                                tweet    label\n",
       "0   Ia berharap agar semakin banyak kerja sama yan...  positif\n",
       "1   Duta Besar Australia untuk Indonesia Penny Wil...  positif\n",
       "2   Butuh jalan panjang memang, untuk menâ€™sejati...   netral\n",
       "3   Kita bisa belajar memandang setiap hubungan pe...   netral\n",
       "4   Mas Ganjar bantu masyarakat kurang mampu nikma...  positif\n",
       "..                                                ...      ...\n",
       "68  Mas Ganjar siap menjalankan instruksi Presiden...  positif\n",
       "69  Jawa Tengah tercatat sebagai provinsi dengan t...  positif\n",
       "70  Yayasan Dokter Peduli (doctorSHARE) menemui  @...  positif\n",
       "71  Cocok banget deh ah ðŸ‡²ðŸ‡¨ðŸ‘ðŸ‘   #airlan...   netral\n",
       "72  Mengambil tajuk â€œJumâ€™at Berkahâ€, Sahabat...  positif\n",
       "\n",
       "[73 rows x 2 columns]"
      ]
     },
     "execution_count": 10,
     "metadata": {},
     "output_type": "execute_result"
    }
   ],
   "source": [
    "data = pd.read_excel('dataGanjar.xlsx')\n",
    "data"
   ]
  },
  {
   "cell_type": "markdown",
   "metadata": {
    "id": "kzEbq_RknYdN"
   },
   "source": [
    "## Penjelasan NLTK"
   ]
  },
  {
   "cell_type": "markdown",
   "metadata": {
    "id": "T2lQlZr5D0pb"
   },
   "source": [
    "**NLTK adalah singkatan dari Natural Language Tool Kit, yaitu sebuah library yang digunakan untuk membantu kita dalam bekerja dengan teks. Library ini memudahkan kita untuk memproses teks seperti melakukan classification, tokenization, stemming, tagging, parsing, dan semantic reasoning.**"
   ]
  },
  {
   "cell_type": "markdown",
   "metadata": {
    "id": "PxzEBvygncmW"
   },
   "source": [
    "## Penjelasan Sastrawi"
   ]
  },
  {
   "cell_type": "markdown",
   "metadata": {
    "id": "eh0IBQeaESeT"
   },
   "source": [
    "**Python Sastrawi adalah pengembangan dari proyek PHP Sastrawi. Python Sastrawi merupakan library sederhana yang dapat mengubah kata berimbuhan bahasa Indonesia menjadi bentuk dasarnya. Sastrawi juga dapat diinstal melalui “pip”**"
   ]
  },
  {
   "cell_type": "markdown",
   "metadata": {
    "id": "kO1FeLQC9ZE0"
   },
   "source": [
    "Install Library nltk dan Sastrawi"
   ]
  },
  {
   "cell_type": "code",
   "execution_count": 11,
   "metadata": {
    "colab": {
     "base_uri": "https://localhost:8080/"
    },
    "executionInfo": {
     "elapsed": 8026,
     "status": "ok",
     "timestamp": 1664858821574,
     "user": {
      "displayName": "Muhammad Fahmi Ady susilo 19_127",
      "userId": "09919749956615563057"
     },
     "user_tz": -420
    },
    "id": "aRoIa80m1td9",
    "outputId": "327fd485-2f74-47f5-8e9b-1a8427b69ea7"
   },
   "outputs": [
    {
     "name": "stdout",
     "output_type": "stream",
     "text": [
      "Looking in indexes: https://pypi.org/simple, https://us-python.pkg.dev/colab-wheels/public/simple/\n",
      "Requirement already satisfied: nltk in /usr/local/lib/python3.7/dist-packages (3.7)\n",
      "Requirement already satisfied: joblib in /usr/local/lib/python3.7/dist-packages (from nltk) (1.1.0)\n",
      "Requirement already satisfied: tqdm in /usr/local/lib/python3.7/dist-packages (from nltk) (4.64.1)\n",
      "Requirement already satisfied: regex>=2021.8.3 in /usr/local/lib/python3.7/dist-packages (from nltk) (2022.6.2)\n",
      "Requirement already satisfied: click in /usr/local/lib/python3.7/dist-packages (from nltk) (7.1.2)\n",
      "Looking in indexes: https://pypi.org/simple, https://us-python.pkg.dev/colab-wheels/public/simple/\n",
      "Collecting Sastrawi\n",
      "  Downloading Sastrawi-1.0.1-py2.py3-none-any.whl (209 kB)\n",
      "\u001b[K     |████████████████████████████████| 209 kB 5.1 MB/s \n",
      "\u001b[?25hInstalling collected packages: Sastrawi\n",
      "Successfully installed Sastrawi-1.0.1\n"
     ]
    }
   ],
   "source": [
    "!pip install nltk\n",
    "!pip install Sastrawi"
   ]
  },
  {
   "cell_type": "markdown",
   "metadata": {
    "id": "qfu-2hS9nx9g"
   },
   "source": [
    "## Penjelasan RE"
   ]
  },
  {
   "cell_type": "markdown",
   "metadata": {
    "id": "76AX2eOIPSDs"
   },
   "source": [
    "**Re module Python menyediakan seperangkat fungsi yang memungkinkan kita untuk mencari sebuah string untuk match (match).**"
   ]
  },
  {
   "cell_type": "markdown",
   "metadata": {
    "id": "iPYl7aj-SJOz"
   },
   "source": [
    "Lakukan Import beberapa Library seperti Pandas,re,nltk,string dan Sastrawi"
   ]
  },
  {
   "cell_type": "code",
   "execution_count": 12,
   "metadata": {
    "colab": {
     "base_uri": "https://localhost:8080/"
    },
    "executionInfo": {
     "elapsed": 2321,
     "status": "ok",
     "timestamp": 1664858823878,
     "user": {
      "displayName": "Muhammad Fahmi Ady susilo 19_127",
      "userId": "09919749956615563057"
     },
     "user_tz": -420
    },
    "id": "3qsi76CnGdOM",
    "outputId": "25c7b65b-728f-40c3-fe73-e11ee6cc907c"
   },
   "outputs": [
    {
     "name": "stderr",
     "output_type": "stream",
     "text": [
      "[nltk_data] Downloading package punkt to /root/nltk_data...\n",
      "[nltk_data]   Unzipping tokenizers/punkt.zip.\n"
     ]
    }
   ],
   "source": [
    "import pandas as pd\n",
    "import re\n",
    "import numpy as np\n",
    "\n",
    "import nltk\n",
    "nltk.download('punkt')\n",
    "import string\n",
    "from Sastrawi.Stemmer.StemmerFactory import StemmerFactory"
   ]
  },
  {
   "cell_type": "markdown",
   "metadata": {
    "id": "TEyrB3QsSkf5"
   },
   "source": [
    "Selanjutnya membuat Function Remove Stopwords yang fungsinya adalah menghapus kata-kata yang tidak diperlukan dalam proses nantinya,sehingga dapat mempercepat proses VSM"
   ]
  },
  {
   "cell_type": "code",
   "execution_count": 13,
   "metadata": {
    "executionInfo": {
     "elapsed": 25,
     "status": "ok",
     "timestamp": 1664858823879,
     "user": {
      "displayName": "Muhammad Fahmi Ady susilo 19_127",
      "userId": "09919749956615563057"
     },
     "user_tz": -420
    },
    "id": "sdYPHtiiGuX3"
   },
   "outputs": [],
   "source": [
    "def remove_stopwords(text):\n",
    "    with open('/content/drive/MyDrive/webmining/webmining/contents/stopwords.txt') as f:\n",
    "        stopwords = f.readlines()\n",
    "        stopwords = [x.strip() for x in stopwords]\n",
    "    \n",
    "    text = nltk.word_tokenize(text)\n",
    "    text = [word for word in text if word not in stopwords]\n",
    "                     \n",
    "    return text\n"
   ]
  },
  {
   "cell_type": "markdown",
   "metadata": {
    "id": "Xzv5GHH4TgPp"
   },
   "source": [
    "Steming merupakan proses mengubah kata dalam bahasa Indonesia ke akar katanya misalkan 'Mereka meniru-nirukannya' menjadi 'mereka tiru'"
   ]
  },
  {
   "cell_type": "code",
   "execution_count": 14,
   "metadata": {
    "executionInfo": {
     "elapsed": 24,
     "status": "ok",
     "timestamp": 1664858823880,
     "user": {
      "displayName": "Muhammad Fahmi Ady susilo 19_127",
      "userId": "09919749956615563057"
     },
     "user_tz": -420
    },
    "id": "p3EK-ZAzGwG7"
   },
   "outputs": [],
   "source": [
    "def stemming(text):\n",
    "    factory = StemmerFactory()\n",
    "    stemmer = factory.create_stemmer()\n",
    "    \n",
    "    result = [stemmer.stem(word) for word in text]\n",
    "    \n",
    "    return result"
   ]
  },
  {
   "cell_type": "markdown",
   "metadata": {
    "id": "oRpRSdDrUWxY"
   },
   "source": [
    "Selanjutnya tahap preprocessing,untuk tahap ini ada beberapa proses seperti:  \n",
    "\n",
    "\n",
    "> 1.Mengubah Text menjadi huruf kecil\n",
    "\n",
    "> 2.Menghapus Kata non Ascii\n",
    "\n",
    "> 4.Menghapus Hastag,Link dan Mention\n",
    "\n",
    "> 5.Mengubah/menghilangkan tanda (misalkan garis miring menjadi spasi)\n",
    "\n",
    "> 6.Melakukan tokenization kata dan Penghapusan Kata yang tidak digunakan\n",
    "\n",
    "> 7.Memfilter kata dari tanda baca\n",
    "\n",
    "> 8.Mengubah kata dalam bahasa Indonesia ke akar katanya\n",
    "\n",
    "> 9.Menghapus String kosong\n",
    "\n",
    "\n",
    "\n",
    "\n",
    "\n",
    "\n",
    "\n",
    "\n",
    "\n",
    "\n",
    "\n",
    "\n",
    "\n"
   ]
  },
  {
   "cell_type": "code",
   "execution_count": 15,
   "metadata": {
    "executionInfo": {
     "elapsed": 18,
     "status": "ok",
     "timestamp": 1664858823880,
     "user": {
      "displayName": "Muhammad Fahmi Ady susilo 19_127",
      "userId": "09919749956615563057"
     },
     "user_tz": -420
    },
    "id": "h_B8m0RfGyJH"
   },
   "outputs": [],
   "source": [
    "def preprocessing(text):\n",
    "    #case folding\n",
    "    text = text.lower()\n",
    "\n",
    "    #remove non ASCII (emoticon, chinese word, .etc)\n",
    "    text = text.replace('\\\\t',\" \").replace('\\\\n',\" \").replace('\\\\u',\" \").replace('\\\\',\" \").replace('\\\\f',\" \").replace('\\\\r',\" \")\n",
    "\n",
    "    # remove non ASCII (emoticon, chinese word, .etc)\n",
    "    text = text.encode('ascii', 'replace').decode('ascii')\n",
    "\n",
    "    # remove mention, link, hashtag\n",
    "    text = ' '.join(re.sub(\"([@#][A-Za-z0-9]+)|(\\w+:\\/\\/\\S+)\",\" \", text).split())\n",
    "\n",
    "    #replace weird characters\n",
    "    text = text.replace('“', '\"')\n",
    "    text = text.replace('”', '\"')\n",
    "    text = text.replace('-', ' ')\n",
    "\n",
    "    #tokenization and remove stopwords\n",
    "    text = remove_stopwords(text)\n",
    "\n",
    "    #remove punctuation    \n",
    "    text = [''.join(c for c in s if c not in string.punctuation) for s in text]  \n",
    "\n",
    "    #stemming\n",
    "    text = stemming(text)\n",
    "\n",
    "    #remove empty string\n",
    "    text = list(filter(None, text))\n",
    "    return text"
   ]
  },
  {
   "cell_type": "markdown",
   "metadata": {
    "id": "VQXuZkr6UJ-G"
   },
   "source": [
    "Selanjutnya pindah Path ke Folder contents"
   ]
  },
  {
   "cell_type": "code",
   "execution_count": 16,
   "metadata": {
    "colab": {
     "base_uri": "https://localhost:8080/"
    },
    "executionInfo": {
     "elapsed": 19,
     "status": "ok",
     "timestamp": 1664858823882,
     "user": {
      "displayName": "Muhammad Fahmi Ady susilo 19_127",
      "userId": "09919749956615563057"
     },
     "user_tz": -420
    },
    "id": "ZcX2mhNk_-_j",
    "outputId": "c2ee38f2-56f4-4a40-ff8b-41740dfdf8e5"
   },
   "outputs": [
    {
     "name": "stdout",
     "output_type": "stream",
     "text": [
      "/content/drive/MyDrive/webmining/webmining/contents\n"
     ]
    }
   ],
   "source": [
    "%cd /content/drive/MyDrive/webmining/webmining/contents"
   ]
  },
  {
   "cell_type": "markdown",
   "metadata": {
    "id": "5Oso5DEuUTuG"
   },
   "source": [
    "Simpan hasil dari preprocessing ke dalam bentuk CSV"
   ]
  },
  {
   "cell_type": "code",
   "execution_count": 17,
   "metadata": {
    "executionInfo": {
     "elapsed": 18,
     "status": "ok",
     "timestamp": 1664858823883,
     "user": {
      "displayName": "Muhammad Fahmi Ady susilo 19_127",
      "userId": "09919749956615563057"
     },
     "user_tz": -420
    },
    "id": "aX7_vGk_UQ62"
   },
   "outputs": [],
   "source": [
    "#data['tweet'].apply(preprocessing).to_excel('preprocessing.xlsx')"
   ]
  },
  {
   "cell_type": "markdown",
   "metadata": {
    "id": "st3sgVRTJy2m"
   },
   "source": [
    "berikutnya jadikan data menjadi bentuk Matrik numerik"
   ]
  },
  {
   "cell_type": "code",
   "execution_count": 18,
   "metadata": {
    "colab": {
     "base_uri": "https://localhost:8080/",
     "height": 424
    },
    "executionInfo": {
     "elapsed": 638,
     "status": "ok",
     "timestamp": 1664858824505,
     "user": {
      "displayName": "Muhammad Fahmi Ady susilo 19_127",
      "userId": "09919749956615563057"
     },
     "user_tz": -420
    },
    "id": "i5rplfpmZw_R",
    "outputId": "fafc477c-6798-4767-8d18-9975166740e1"
   },
   "outputs": [
    {
     "data": {
      "text/html": [
       "\n",
       "  <div id=\"df-1b817ba6-3109-4d28-9dc9-3faa4b00b221\">\n",
       "    <div class=\"colab-df-container\">\n",
       "      <div>\n",
       "<style scoped>\n",
       "    .dataframe tbody tr th:only-of-type {\n",
       "        vertical-align: middle;\n",
       "    }\n",
       "\n",
       "    .dataframe tbody tr th {\n",
       "        vertical-align: top;\n",
       "    }\n",
       "\n",
       "    .dataframe thead th {\n",
       "        text-align: right;\n",
       "    }\n",
       "</style>\n",
       "<table border=\"1\" class=\"dataframe\">\n",
       "  <thead>\n",
       "    <tr style=\"text-align: right;\">\n",
       "      <th></th>\n",
       "      <th>Unnamed: 0</th>\n",
       "      <th>tweet</th>\n",
       "      <th>label</th>\n",
       "    </tr>\n",
       "  </thead>\n",
       "  <tbody>\n",
       "    <tr>\n",
       "      <th>0</th>\n",
       "      <td>0</td>\n",
       "      <td>['harap', 'kerja', 'jalin', 'jawa', 'australia']</td>\n",
       "      <td>positif</td>\n",
       "    </tr>\n",
       "    <tr>\n",
       "      <th>1</th>\n",
       "      <td>1</td>\n",
       "      <td>['duta', 'australia', 'indonesia', 'penny', 'w...</td>\n",
       "      <td>positif</td>\n",
       "    </tr>\n",
       "    <tr>\n",
       "      <th>2</th>\n",
       "      <td>2</td>\n",
       "      <td>['butuh', 'jalan', 'men', 'sejati', 'teman', '...</td>\n",
       "      <td>netral</td>\n",
       "    </tr>\n",
       "    <tr>\n",
       "      <th>3</th>\n",
       "      <td>3</td>\n",
       "      <td>['ajar', 'pandang', 'hubung', 'teman', 'milik'...</td>\n",
       "      <td>netral</td>\n",
       "    </tr>\n",
       "    <tr>\n",
       "      <th>4</th>\n",
       "      <td>4</td>\n",
       "      <td>['mas', 'ganjar', 'bantu', 'masyarakat', 'nikm...</td>\n",
       "      <td>positif</td>\n",
       "    </tr>\n",
       "    <tr>\n",
       "      <th>...</th>\n",
       "      <td>...</td>\n",
       "      <td>...</td>\n",
       "      <td>...</td>\n",
       "    </tr>\n",
       "    <tr>\n",
       "      <th>68</th>\n",
       "      <td>68</td>\n",
       "      <td>['mas', 'ganjar', 'jalan', 'instruksi', 'presi...</td>\n",
       "      <td>positif</td>\n",
       "    </tr>\n",
       "    <tr>\n",
       "      <th>69</th>\n",
       "      <td>69</td>\n",
       "      <td>['jawa', 'catat', 'provinsi', 'tingkat', 'infl...</td>\n",
       "      <td>positif</td>\n",
       "    </tr>\n",
       "    <tr>\n",
       "      <th>70</th>\n",
       "      <td>70</td>\n",
       "      <td>['yayasan', 'dokter', 'peduli', 'doctorshare',...</td>\n",
       "      <td>positif</td>\n",
       "    </tr>\n",
       "    <tr>\n",
       "      <th>71</th>\n",
       "      <td>71</td>\n",
       "      <td>['cocok', 'banget', 'deh', 'ah', 'typa', 'girl']</td>\n",
       "      <td>netral</td>\n",
       "    </tr>\n",
       "    <tr>\n",
       "      <th>72</th>\n",
       "      <td>72</td>\n",
       "      <td>['ambil', 'tajuk', 'jum', 'at', 'berkah', 'sah...</td>\n",
       "      <td>positif</td>\n",
       "    </tr>\n",
       "  </tbody>\n",
       "</table>\n",
       "<p>73 rows × 3 columns</p>\n",
       "</div>\n",
       "      <button class=\"colab-df-convert\" onclick=\"convertToInteractive('df-1b817ba6-3109-4d28-9dc9-3faa4b00b221')\"\n",
       "              title=\"Convert this dataframe to an interactive table.\"\n",
       "              style=\"display:none;\">\n",
       "\n",
       "  <svg xmlns=\"http://www.w3.org/2000/svg\" height=\"24px\"viewBox=\"0 0 24 24\"\n",
       "       width=\"24px\">\n",
       "    <path d=\"M0 0h24v24H0V0z\" fill=\"none\"/>\n",
       "    <path d=\"M18.56 5.44l.94 2.06.94-2.06 2.06-.94-2.06-.94-.94-2.06-.94 2.06-2.06.94zm-11 1L8.5 8.5l.94-2.06 2.06-.94-2.06-.94L8.5 2.5l-.94 2.06-2.06.94zm10 10l.94 2.06.94-2.06 2.06-.94-2.06-.94-.94-2.06-.94 2.06-2.06.94z\"/><path d=\"M17.41 7.96l-1.37-1.37c-.4-.4-.92-.59-1.43-.59-.52 0-1.04.2-1.43.59L10.3 9.45l-7.72 7.72c-.78.78-.78 2.05 0 2.83L4 21.41c.39.39.9.59 1.41.59.51 0 1.02-.2 1.41-.59l7.78-7.78 2.81-2.81c.8-.78.8-2.07 0-2.86zM5.41 20L4 18.59l7.72-7.72 1.47 1.35L5.41 20z\"/>\n",
       "  </svg>\n",
       "      </button>\n",
       "\n",
       "  <style>\n",
       "    .colab-df-container {\n",
       "      display:flex;\n",
       "      flex-wrap:wrap;\n",
       "      gap: 12px;\n",
       "    }\n",
       "\n",
       "    .colab-df-convert {\n",
       "      background-color: #E8F0FE;\n",
       "      border: none;\n",
       "      border-radius: 50%;\n",
       "      cursor: pointer;\n",
       "      display: none;\n",
       "      fill: #1967D2;\n",
       "      height: 32px;\n",
       "      padding: 0 0 0 0;\n",
       "      width: 32px;\n",
       "    }\n",
       "\n",
       "    .colab-df-convert:hover {\n",
       "      background-color: #E2EBFA;\n",
       "      box-shadow: 0px 1px 2px rgba(60, 64, 67, 0.3), 0px 1px 3px 1px rgba(60, 64, 67, 0.15);\n",
       "      fill: #174EA6;\n",
       "    }\n",
       "\n",
       "    [theme=dark] .colab-df-convert {\n",
       "      background-color: #3B4455;\n",
       "      fill: #D2E3FC;\n",
       "    }\n",
       "\n",
       "    [theme=dark] .colab-df-convert:hover {\n",
       "      background-color: #434B5C;\n",
       "      box-shadow: 0px 1px 3px 1px rgba(0, 0, 0, 0.15);\n",
       "      filter: drop-shadow(0px 1px 2px rgba(0, 0, 0, 0.3));\n",
       "      fill: #FFFFFF;\n",
       "    }\n",
       "  </style>\n",
       "\n",
       "      <script>\n",
       "        const buttonEl =\n",
       "          document.querySelector('#df-1b817ba6-3109-4d28-9dc9-3faa4b00b221 button.colab-df-convert');\n",
       "        buttonEl.style.display =\n",
       "          google.colab.kernel.accessAllowed ? 'block' : 'none';\n",
       "\n",
       "        async function convertToInteractive(key) {\n",
       "          const element = document.querySelector('#df-1b817ba6-3109-4d28-9dc9-3faa4b00b221');\n",
       "          const dataTable =\n",
       "            await google.colab.kernel.invokeFunction('convertToInteractive',\n",
       "                                                     [key], {});\n",
       "          if (!dataTable) return;\n",
       "\n",
       "          const docLinkHtml = 'Like what you see? Visit the ' +\n",
       "            '<a target=\"_blank\" href=https://colab.research.google.com/notebooks/data_table.ipynb>data table notebook</a>'\n",
       "            + ' to learn more about interactive tables.';\n",
       "          element.innerHTML = '';\n",
       "          dataTable['output_type'] = 'display_data';\n",
       "          await google.colab.output.renderOutput(dataTable, element);\n",
       "          const docLink = document.createElement('div');\n",
       "          docLink.innerHTML = docLinkHtml;\n",
       "          element.appendChild(docLink);\n",
       "        }\n",
       "      </script>\n",
       "    </div>\n",
       "  </div>\n"
      ],
      "text/plain": [
       "    Unnamed: 0                                              tweet    label\n",
       "0            0   ['harap', 'kerja', 'jalin', 'jawa', 'australia']  positif\n",
       "1            1  ['duta', 'australia', 'indonesia', 'penny', 'w...  positif\n",
       "2            2  ['butuh', 'jalan', 'men', 'sejati', 'teman', '...   netral\n",
       "3            3  ['ajar', 'pandang', 'hubung', 'teman', 'milik'...   netral\n",
       "4            4  ['mas', 'ganjar', 'bantu', 'masyarakat', 'nikm...  positif\n",
       "..         ...                                                ...      ...\n",
       "68          68  ['mas', 'ganjar', 'jalan', 'instruksi', 'presi...  positif\n",
       "69          69  ['jawa', 'catat', 'provinsi', 'tingkat', 'infl...  positif\n",
       "70          70  ['yayasan', 'dokter', 'peduli', 'doctorshare',...  positif\n",
       "71          71   ['cocok', 'banget', 'deh', 'ah', 'typa', 'girl']   netral\n",
       "72          72  ['ambil', 'tajuk', 'jum', 'at', 'berkah', 'sah...  positif\n",
       "\n",
       "[73 rows x 3 columns]"
      ]
     },
     "execution_count": 18,
     "metadata": {},
     "output_type": "execute_result"
    }
   ],
   "source": [
    "from sklearn.feature_extraction.text import TfidfTransformer, TfidfVectorizer, CountVectorizer\n",
    "dataTextPre = pd.read_excel('/content/drive/MyDrive/webmining/webmining/contents/preprocessing.xlsx')\n",
    "vectorizer = CountVectorizer(min_df=1)\n",
    "bag = vectorizer.fit_transform(dataTextPre['tweet'])\n",
    "dataTextPre"
   ]
  },
  {
   "cell_type": "code",
   "execution_count": 19,
   "metadata": {
    "colab": {
     "base_uri": "https://localhost:8080/"
    },
    "executionInfo": {
     "elapsed": 61,
     "status": "ok",
     "timestamp": 1664858824512,
     "user": {
      "displayName": "Muhammad Fahmi Ady susilo 19_127",
      "userId": "09919749956615563057"
     },
     "user_tz": -420
    },
    "id": "3oT0lnjLZ9BX",
    "outputId": "a25f923c-959a-477e-d984-652d418bc5d6"
   },
   "outputs": [
    {
     "data": {
      "text/plain": [
       "(73, 398)"
      ]
     },
     "execution_count": 19,
     "metadata": {},
     "output_type": "execute_result"
    }
   ],
   "source": [
    "matrik_vsm=bag.toarray()\n",
    "matrik_vsm.shape"
   ]
  },
  {
   "cell_type": "code",
   "execution_count": 20,
   "metadata": {
    "colab": {
     "base_uri": "https://localhost:8080/"
    },
    "executionInfo": {
     "elapsed": 56,
     "status": "ok",
     "timestamp": 1664858824516,
     "user": {
      "displayName": "Muhammad Fahmi Ady susilo 19_127",
      "userId": "09919749956615563057"
     },
     "user_tz": -420
    },
    "id": "dcDN5hPzaAKw",
    "outputId": "5218b136-bb5c-40fe-c3f8-e8065ba20077"
   },
   "outputs": [
    {
     "data": {
      "text/plain": [
       "array([0, 0, 0, 0, 0, 0, 0, 0, 0, 0, 0, 0, 0, 0, 0, 0, 0, 0, 0, 0, 0, 0,\n",
       "       0, 0, 0, 0, 0, 0, 0, 0, 0, 0, 1, 0, 0, 0, 0, 0, 0, 0, 0, 0, 0, 0,\n",
       "       0, 0, 0, 0, 0, 0, 0, 0, 0, 0, 0, 0, 0, 0, 0, 0, 0, 0, 0, 0, 0, 0,\n",
       "       0, 0, 0, 0, 0, 0, 0, 0, 0, 0, 0, 0, 0, 0, 0, 0, 0, 0, 0, 0, 0, 0,\n",
       "       0, 0, 0, 0, 0, 0, 0, 0, 0, 0, 0, 0, 0, 0, 0, 0, 0, 0, 0, 0, 0, 0,\n",
       "       0, 0, 0, 0, 0, 0, 0, 0, 0, 0, 0, 0, 0, 0, 0, 0, 0, 0, 0, 0, 0, 0,\n",
       "       0, 0, 0, 0, 0, 0, 1, 0, 0, 0, 0, 0, 0, 0, 0, 0, 0, 0, 0, 0, 0, 0,\n",
       "       0, 0, 1, 0, 0, 0, 1, 0, 0, 0, 0, 0, 0, 0, 0, 0, 0, 0, 0, 0, 0, 0,\n",
       "       0, 0, 0, 0, 0, 0, 0, 0, 1, 0, 0, 0, 0, 0, 0, 0, 0, 0, 0, 0, 0, 0,\n",
       "       0, 0, 0, 0, 0, 0, 0, 0, 0, 0, 0, 0, 0, 0, 0, 0, 0, 0, 0, 0, 0, 0,\n",
       "       0, 0, 0, 0, 0, 0, 0, 0, 0, 0, 0, 0, 0, 0, 0, 0, 0, 0, 0, 0, 0, 0,\n",
       "       0, 0, 0, 0, 0, 0, 0, 0, 0, 0, 0, 0, 0, 0, 0, 0, 0, 0, 0, 0, 0, 0,\n",
       "       0, 0, 0, 0, 0, 0, 0, 0, 0, 0, 0, 0, 0, 0, 0, 0, 0, 0, 0, 0, 0, 0,\n",
       "       0, 0, 0, 0, 0, 0, 0, 0, 0, 0, 0, 0, 0, 0, 0, 0, 0, 0, 0, 0, 0, 0,\n",
       "       0, 0, 0, 0, 0, 0, 0, 0, 0, 0, 0, 0, 0, 0, 0, 0, 0, 0, 0, 0, 0, 0,\n",
       "       0, 0, 0, 0, 0, 0, 0, 0, 0, 0, 0, 0, 0, 0, 0, 0, 0, 0, 0, 0, 0, 0,\n",
       "       0, 0, 0, 0, 0, 0, 0, 0, 0, 0, 0, 0, 0, 0, 0, 0, 0, 0, 0, 0, 0, 0,\n",
       "       0, 0, 0, 0, 0, 0, 0, 0, 0, 0, 0, 0, 0, 0, 0, 0, 0, 0, 0, 0, 0, 0,\n",
       "       0, 0])"
      ]
     },
     "execution_count": 20,
     "metadata": {},
     "output_type": "execute_result"
    }
   ],
   "source": [
    "matrik_vsm[0]"
   ]
  },
  {
   "cell_type": "code",
   "execution_count": 21,
   "metadata": {
    "colab": {
     "base_uri": "https://localhost:8080/"
    },
    "executionInfo": {
     "elapsed": 54,
     "status": "ok",
     "timestamp": 1664858824520,
     "user": {
      "displayName": "Muhammad Fahmi Ady susilo 19_127",
      "userId": "09919749956615563057"
     },
     "user_tz": -420
    },
    "id": "z2Eky3rOaIdY",
    "outputId": "ba5c1048-e1a3-4479-ffaf-14b24c2c7a1c"
   },
   "outputs": [
    {
     "name": "stderr",
     "output_type": "stream",
     "text": [
      "/usr/local/lib/python3.7/dist-packages/sklearn/utils/deprecation.py:87: FutureWarning: Function get_feature_names is deprecated; get_feature_names is deprecated in 1.0 and will be removed in 1.2. Please use get_feature_names_out instead.\n",
      "  warnings.warn(msg, category=FutureWarning)\n"
     ]
    }
   ],
   "source": [
    "a=vectorizer.get_feature_names()"
   ]
  },
  {
   "cell_type": "markdown",
   "metadata": {
    "id": "yYLJTj9DKBwX"
   },
   "source": [
    "selanjutnya data Matrik dikasih nama column sesuai Fitur"
   ]
  },
  {
   "cell_type": "code",
   "execution_count": 22,
   "metadata": {
    "colab": {
     "base_uri": "https://localhost:8080/",
     "height": 424
    },
    "executionInfo": {
     "elapsed": 52,
     "status": "ok",
     "timestamp": 1664858824523,
     "user": {
      "displayName": "Muhammad Fahmi Ady susilo 19_127",
      "userId": "09919749956615563057"
     },
     "user_tz": -420
    },
    "id": "cZMUH4G4aYno",
    "outputId": "4af326a8-cc5e-4390-c437-f1b6de9236e9"
   },
   "outputs": [
    {
     "data": {
      "text/html": [
       "\n",
       "  <div id=\"df-91f2aebe-473e-4825-8df4-3597040bfcf5\">\n",
       "    <div class=\"colab-df-container\">\n",
       "      <div>\n",
       "<style scoped>\n",
       "    .dataframe tbody tr th:only-of-type {\n",
       "        vertical-align: middle;\n",
       "    }\n",
       "\n",
       "    .dataframe tbody tr th {\n",
       "        vertical-align: top;\n",
       "    }\n",
       "\n",
       "    .dataframe thead tr th {\n",
       "        text-align: left;\n",
       "    }\n",
       "</style>\n",
       "<table border=\"1\" class=\"dataframe\">\n",
       "  <thead>\n",
       "    <tr>\n",
       "      <th></th>\n",
       "      <th>1000</th>\n",
       "      <th>17</th>\n",
       "      <th>17092022</th>\n",
       "      <th>20</th>\n",
       "      <th>2022</th>\n",
       "      <th>2024</th>\n",
       "      <th>30</th>\n",
       "      <th>acara</th>\n",
       "      <th>ada</th>\n",
       "      <th>agenda</th>\n",
       "      <th>...</th>\n",
       "      <th>warga</th>\n",
       "      <th>wilayah</th>\n",
       "      <th>wiliam</th>\n",
       "      <th>ya</th>\n",
       "      <th>yaqowiyu</th>\n",
       "      <th>yayasan</th>\n",
       "      <th>yeah</th>\n",
       "      <th>yg</th>\n",
       "      <th>yogyakarta</th>\n",
       "      <th>zaman</th>\n",
       "    </tr>\n",
       "  </thead>\n",
       "  <tbody>\n",
       "    <tr>\n",
       "      <th>1</th>\n",
       "      <td>0</td>\n",
       "      <td>0</td>\n",
       "      <td>0</td>\n",
       "      <td>0</td>\n",
       "      <td>0</td>\n",
       "      <td>0</td>\n",
       "      <td>0</td>\n",
       "      <td>0</td>\n",
       "      <td>0</td>\n",
       "      <td>0</td>\n",
       "      <td>...</td>\n",
       "      <td>0</td>\n",
       "      <td>0</td>\n",
       "      <td>0</td>\n",
       "      <td>0</td>\n",
       "      <td>0</td>\n",
       "      <td>0</td>\n",
       "      <td>0</td>\n",
       "      <td>0</td>\n",
       "      <td>0</td>\n",
       "      <td>0</td>\n",
       "    </tr>\n",
       "    <tr>\n",
       "      <th>2</th>\n",
       "      <td>0</td>\n",
       "      <td>0</td>\n",
       "      <td>0</td>\n",
       "      <td>0</td>\n",
       "      <td>0</td>\n",
       "      <td>0</td>\n",
       "      <td>0</td>\n",
       "      <td>0</td>\n",
       "      <td>0</td>\n",
       "      <td>0</td>\n",
       "      <td>...</td>\n",
       "      <td>0</td>\n",
       "      <td>0</td>\n",
       "      <td>1</td>\n",
       "      <td>0</td>\n",
       "      <td>0</td>\n",
       "      <td>0</td>\n",
       "      <td>0</td>\n",
       "      <td>0</td>\n",
       "      <td>0</td>\n",
       "      <td>0</td>\n",
       "    </tr>\n",
       "    <tr>\n",
       "      <th>3</th>\n",
       "      <td>0</td>\n",
       "      <td>0</td>\n",
       "      <td>0</td>\n",
       "      <td>0</td>\n",
       "      <td>0</td>\n",
       "      <td>0</td>\n",
       "      <td>0</td>\n",
       "      <td>0</td>\n",
       "      <td>0</td>\n",
       "      <td>0</td>\n",
       "      <td>...</td>\n",
       "      <td>0</td>\n",
       "      <td>0</td>\n",
       "      <td>0</td>\n",
       "      <td>0</td>\n",
       "      <td>0</td>\n",
       "      <td>0</td>\n",
       "      <td>0</td>\n",
       "      <td>0</td>\n",
       "      <td>0</td>\n",
       "      <td>0</td>\n",
       "    </tr>\n",
       "    <tr>\n",
       "      <th>4</th>\n",
       "      <td>0</td>\n",
       "      <td>0</td>\n",
       "      <td>0</td>\n",
       "      <td>0</td>\n",
       "      <td>0</td>\n",
       "      <td>0</td>\n",
       "      <td>0</td>\n",
       "      <td>0</td>\n",
       "      <td>0</td>\n",
       "      <td>0</td>\n",
       "      <td>...</td>\n",
       "      <td>0</td>\n",
       "      <td>0</td>\n",
       "      <td>0</td>\n",
       "      <td>0</td>\n",
       "      <td>0</td>\n",
       "      <td>0</td>\n",
       "      <td>0</td>\n",
       "      <td>0</td>\n",
       "      <td>0</td>\n",
       "      <td>0</td>\n",
       "    </tr>\n",
       "    <tr>\n",
       "      <th>5</th>\n",
       "      <td>0</td>\n",
       "      <td>0</td>\n",
       "      <td>0</td>\n",
       "      <td>0</td>\n",
       "      <td>0</td>\n",
       "      <td>0</td>\n",
       "      <td>1</td>\n",
       "      <td>0</td>\n",
       "      <td>0</td>\n",
       "      <td>0</td>\n",
       "      <td>...</td>\n",
       "      <td>0</td>\n",
       "      <td>0</td>\n",
       "      <td>0</td>\n",
       "      <td>0</td>\n",
       "      <td>0</td>\n",
       "      <td>0</td>\n",
       "      <td>0</td>\n",
       "      <td>0</td>\n",
       "      <td>0</td>\n",
       "      <td>0</td>\n",
       "    </tr>\n",
       "    <tr>\n",
       "      <th>...</th>\n",
       "      <td>...</td>\n",
       "      <td>...</td>\n",
       "      <td>...</td>\n",
       "      <td>...</td>\n",
       "      <td>...</td>\n",
       "      <td>...</td>\n",
       "      <td>...</td>\n",
       "      <td>...</td>\n",
       "      <td>...</td>\n",
       "      <td>...</td>\n",
       "      <td>...</td>\n",
       "      <td>...</td>\n",
       "      <td>...</td>\n",
       "      <td>...</td>\n",
       "      <td>...</td>\n",
       "      <td>...</td>\n",
       "      <td>...</td>\n",
       "      <td>...</td>\n",
       "      <td>...</td>\n",
       "      <td>...</td>\n",
       "      <td>...</td>\n",
       "    </tr>\n",
       "    <tr>\n",
       "      <th>69</th>\n",
       "      <td>0</td>\n",
       "      <td>0</td>\n",
       "      <td>0</td>\n",
       "      <td>0</td>\n",
       "      <td>0</td>\n",
       "      <td>0</td>\n",
       "      <td>0</td>\n",
       "      <td>0</td>\n",
       "      <td>0</td>\n",
       "      <td>0</td>\n",
       "      <td>...</td>\n",
       "      <td>0</td>\n",
       "      <td>0</td>\n",
       "      <td>0</td>\n",
       "      <td>0</td>\n",
       "      <td>0</td>\n",
       "      <td>0</td>\n",
       "      <td>0</td>\n",
       "      <td>0</td>\n",
       "      <td>0</td>\n",
       "      <td>0</td>\n",
       "    </tr>\n",
       "    <tr>\n",
       "      <th>70</th>\n",
       "      <td>0</td>\n",
       "      <td>0</td>\n",
       "      <td>0</td>\n",
       "      <td>0</td>\n",
       "      <td>0</td>\n",
       "      <td>0</td>\n",
       "      <td>0</td>\n",
       "      <td>0</td>\n",
       "      <td>0</td>\n",
       "      <td>0</td>\n",
       "      <td>...</td>\n",
       "      <td>0</td>\n",
       "      <td>0</td>\n",
       "      <td>0</td>\n",
       "      <td>0</td>\n",
       "      <td>0</td>\n",
       "      <td>0</td>\n",
       "      <td>3</td>\n",
       "      <td>0</td>\n",
       "      <td>0</td>\n",
       "      <td>0</td>\n",
       "    </tr>\n",
       "    <tr>\n",
       "      <th>71</th>\n",
       "      <td>0</td>\n",
       "      <td>0</td>\n",
       "      <td>0</td>\n",
       "      <td>0</td>\n",
       "      <td>0</td>\n",
       "      <td>0</td>\n",
       "      <td>0</td>\n",
       "      <td>0</td>\n",
       "      <td>0</td>\n",
       "      <td>0</td>\n",
       "      <td>...</td>\n",
       "      <td>0</td>\n",
       "      <td>0</td>\n",
       "      <td>0</td>\n",
       "      <td>0</td>\n",
       "      <td>0</td>\n",
       "      <td>1</td>\n",
       "      <td>3</td>\n",
       "      <td>0</td>\n",
       "      <td>0</td>\n",
       "      <td>0</td>\n",
       "    </tr>\n",
       "    <tr>\n",
       "      <th>72</th>\n",
       "      <td>0</td>\n",
       "      <td>0</td>\n",
       "      <td>0</td>\n",
       "      <td>0</td>\n",
       "      <td>0</td>\n",
       "      <td>0</td>\n",
       "      <td>0</td>\n",
       "      <td>0</td>\n",
       "      <td>0</td>\n",
       "      <td>0</td>\n",
       "      <td>...</td>\n",
       "      <td>0</td>\n",
       "      <td>0</td>\n",
       "      <td>0</td>\n",
       "      <td>0</td>\n",
       "      <td>0</td>\n",
       "      <td>0</td>\n",
       "      <td>0</td>\n",
       "      <td>0</td>\n",
       "      <td>0</td>\n",
       "      <td>0</td>\n",
       "    </tr>\n",
       "    <tr>\n",
       "      <th>73</th>\n",
       "      <td>0</td>\n",
       "      <td>0</td>\n",
       "      <td>0</td>\n",
       "      <td>0</td>\n",
       "      <td>0</td>\n",
       "      <td>0</td>\n",
       "      <td>0</td>\n",
       "      <td>1</td>\n",
       "      <td>1</td>\n",
       "      <td>0</td>\n",
       "      <td>...</td>\n",
       "      <td>1</td>\n",
       "      <td>0</td>\n",
       "      <td>0</td>\n",
       "      <td>0</td>\n",
       "      <td>0</td>\n",
       "      <td>0</td>\n",
       "      <td>0</td>\n",
       "      <td>0</td>\n",
       "      <td>0</td>\n",
       "      <td>0</td>\n",
       "    </tr>\n",
       "  </tbody>\n",
       "</table>\n",
       "<p>73 rows × 398 columns</p>\n",
       "</div>\n",
       "      <button class=\"colab-df-convert\" onclick=\"convertToInteractive('df-91f2aebe-473e-4825-8df4-3597040bfcf5')\"\n",
       "              title=\"Convert this dataframe to an interactive table.\"\n",
       "              style=\"display:none;\">\n",
       "\n",
       "  <svg xmlns=\"http://www.w3.org/2000/svg\" height=\"24px\"viewBox=\"0 0 24 24\"\n",
       "       width=\"24px\">\n",
       "    <path d=\"M0 0h24v24H0V0z\" fill=\"none\"/>\n",
       "    <path d=\"M18.56 5.44l.94 2.06.94-2.06 2.06-.94-2.06-.94-.94-2.06-.94 2.06-2.06.94zm-11 1L8.5 8.5l.94-2.06 2.06-.94-2.06-.94L8.5 2.5l-.94 2.06-2.06.94zm10 10l.94 2.06.94-2.06 2.06-.94-2.06-.94-.94-2.06-.94 2.06-2.06.94z\"/><path d=\"M17.41 7.96l-1.37-1.37c-.4-.4-.92-.59-1.43-.59-.52 0-1.04.2-1.43.59L10.3 9.45l-7.72 7.72c-.78.78-.78 2.05 0 2.83L4 21.41c.39.39.9.59 1.41.59.51 0 1.02-.2 1.41-.59l7.78-7.78 2.81-2.81c.8-.78.8-2.07 0-2.86zM5.41 20L4 18.59l7.72-7.72 1.47 1.35L5.41 20z\"/>\n",
       "  </svg>\n",
       "      </button>\n",
       "\n",
       "  <style>\n",
       "    .colab-df-container {\n",
       "      display:flex;\n",
       "      flex-wrap:wrap;\n",
       "      gap: 12px;\n",
       "    }\n",
       "\n",
       "    .colab-df-convert {\n",
       "      background-color: #E8F0FE;\n",
       "      border: none;\n",
       "      border-radius: 50%;\n",
       "      cursor: pointer;\n",
       "      display: none;\n",
       "      fill: #1967D2;\n",
       "      height: 32px;\n",
       "      padding: 0 0 0 0;\n",
       "      width: 32px;\n",
       "    }\n",
       "\n",
       "    .colab-df-convert:hover {\n",
       "      background-color: #E2EBFA;\n",
       "      box-shadow: 0px 1px 2px rgba(60, 64, 67, 0.3), 0px 1px 3px 1px rgba(60, 64, 67, 0.15);\n",
       "      fill: #174EA6;\n",
       "    }\n",
       "\n",
       "    [theme=dark] .colab-df-convert {\n",
       "      background-color: #3B4455;\n",
       "      fill: #D2E3FC;\n",
       "    }\n",
       "\n",
       "    [theme=dark] .colab-df-convert:hover {\n",
       "      background-color: #434B5C;\n",
       "      box-shadow: 0px 1px 3px 1px rgba(0, 0, 0, 0.15);\n",
       "      filter: drop-shadow(0px 1px 2px rgba(0, 0, 0, 0.3));\n",
       "      fill: #FFFFFF;\n",
       "    }\n",
       "  </style>\n",
       "\n",
       "      <script>\n",
       "        const buttonEl =\n",
       "          document.querySelector('#df-91f2aebe-473e-4825-8df4-3597040bfcf5 button.colab-df-convert');\n",
       "        buttonEl.style.display =\n",
       "          google.colab.kernel.accessAllowed ? 'block' : 'none';\n",
       "\n",
       "        async function convertToInteractive(key) {\n",
       "          const element = document.querySelector('#df-91f2aebe-473e-4825-8df4-3597040bfcf5');\n",
       "          const dataTable =\n",
       "            await google.colab.kernel.invokeFunction('convertToInteractive',\n",
       "                                                     [key], {});\n",
       "          if (!dataTable) return;\n",
       "\n",
       "          const docLinkHtml = 'Like what you see? Visit the ' +\n",
       "            '<a target=\"_blank\" href=https://colab.research.google.com/notebooks/data_table.ipynb>data table notebook</a>'\n",
       "            + ' to learn more about interactive tables.';\n",
       "          element.innerHTML = '';\n",
       "          dataTable['output_type'] = 'display_data';\n",
       "          await google.colab.output.renderOutput(dataTable, element);\n",
       "          const docLink = document.createElement('div');\n",
       "          docLink.innerHTML = docLinkHtml;\n",
       "          element.appendChild(docLink);\n",
       "        }\n",
       "      </script>\n",
       "    </div>\n",
       "  </div>\n"
      ],
      "text/plain": [
       "   1000 17 17092022 20 2022 2024 30 acara ada agenda  ... warga wilayah  \\\n",
       "1     0  0        0  0    0    0  0     0   0      0  ...     0       0   \n",
       "2     0  0        0  0    0    0  0     0   0      0  ...     0       0   \n",
       "3     0  0        0  0    0    0  0     0   0      0  ...     0       0   \n",
       "4     0  0        0  0    0    0  0     0   0      0  ...     0       0   \n",
       "5     0  0        0  0    0    0  1     0   0      0  ...     0       0   \n",
       "..  ... ..      ... ..  ...  ... ..   ...  ..    ...  ...   ...     ...   \n",
       "69    0  0        0  0    0    0  0     0   0      0  ...     0       0   \n",
       "70    0  0        0  0    0    0  0     0   0      0  ...     0       0   \n",
       "71    0  0        0  0    0    0  0     0   0      0  ...     0       0   \n",
       "72    0  0        0  0    0    0  0     0   0      0  ...     0       0   \n",
       "73    0  0        0  0    0    0  0     1   1      0  ...     1       0   \n",
       "\n",
       "   wiliam ya yaqowiyu yayasan yeah yg yogyakarta zaman  \n",
       "1       0  0        0       0    0  0          0     0  \n",
       "2       1  0        0       0    0  0          0     0  \n",
       "3       0  0        0       0    0  0          0     0  \n",
       "4       0  0        0       0    0  0          0     0  \n",
       "5       0  0        0       0    0  0          0     0  \n",
       "..    ... ..      ...     ...  ... ..        ...   ...  \n",
       "69      0  0        0       0    0  0          0     0  \n",
       "70      0  0        0       0    3  0          0     0  \n",
       "71      0  0        0       1    3  0          0     0  \n",
       "72      0  0        0       0    0  0          0     0  \n",
       "73      0  0        0       0    0  0          0     0  \n",
       "\n",
       "[73 rows x 398 columns]"
      ]
     },
     "execution_count": 22,
     "metadata": {},
     "output_type": "execute_result"
    }
   ],
   "source": [
    "dataTF =pd.DataFrame(data=matrik_vsm,index=list(range(1, len(matrik_vsm[:,1])+1, )),columns=[a])\n",
    "dataTF\n"
   ]
  },
  {
   "cell_type": "markdown",
   "metadata": {
    "id": "UCJsNPSpKQA4"
   },
   "source": [
    "lalu data fitur ditambahkan dengan label positif,netral dan negatif"
   ]
  },
  {
   "cell_type": "code",
   "execution_count": 23,
   "metadata": {
    "colab": {
     "base_uri": "https://localhost:8080/",
     "height": 488
    },
    "executionInfo": {
     "elapsed": 582,
     "status": "ok",
     "timestamp": 1664858825055,
     "user": {
      "displayName": "Muhammad Fahmi Ady susilo 19_127",
      "userId": "09919749956615563057"
     },
     "user_tz": -420
    },
    "id": "EK7t__ZnqVFg",
    "outputId": "bbc3a918-a677-4cab-b877-99231d5a2f02"
   },
   "outputs": [
    {
     "data": {
      "text/html": [
       "\n",
       "  <div id=\"df-c9666548-20f5-4ab1-a976-b55f1e503e7f\">\n",
       "    <div class=\"colab-df-container\">\n",
       "      <div>\n",
       "<style scoped>\n",
       "    .dataframe tbody tr th:only-of-type {\n",
       "        vertical-align: middle;\n",
       "    }\n",
       "\n",
       "    .dataframe tbody tr th {\n",
       "        vertical-align: top;\n",
       "    }\n",
       "\n",
       "    .dataframe thead th {\n",
       "        text-align: right;\n",
       "    }\n",
       "</style>\n",
       "<table border=\"1\" class=\"dataframe\">\n",
       "  <thead>\n",
       "    <tr style=\"text-align: right;\">\n",
       "      <th></th>\n",
       "      <th>(index,)</th>\n",
       "      <th>(1000,)</th>\n",
       "      <th>(17,)</th>\n",
       "      <th>(17092022,)</th>\n",
       "      <th>(20,)</th>\n",
       "      <th>(2022,)</th>\n",
       "      <th>(2024,)</th>\n",
       "      <th>(30,)</th>\n",
       "      <th>(acara,)</th>\n",
       "      <th>(ada,)</th>\n",
       "      <th>...</th>\n",
       "      <th>(wilayah,)</th>\n",
       "      <th>(wiliam,)</th>\n",
       "      <th>(ya,)</th>\n",
       "      <th>(yaqowiyu,)</th>\n",
       "      <th>(yayasan,)</th>\n",
       "      <th>(yeah,)</th>\n",
       "      <th>(yg,)</th>\n",
       "      <th>(yogyakarta,)</th>\n",
       "      <th>(zaman,)</th>\n",
       "      <th>label</th>\n",
       "    </tr>\n",
       "  </thead>\n",
       "  <tbody>\n",
       "    <tr>\n",
       "      <th>0</th>\n",
       "      <td>1</td>\n",
       "      <td>0</td>\n",
       "      <td>0</td>\n",
       "      <td>0</td>\n",
       "      <td>0</td>\n",
       "      <td>0</td>\n",
       "      <td>0</td>\n",
       "      <td>0</td>\n",
       "      <td>0</td>\n",
       "      <td>0</td>\n",
       "      <td>...</td>\n",
       "      <td>0</td>\n",
       "      <td>0</td>\n",
       "      <td>0</td>\n",
       "      <td>0</td>\n",
       "      <td>0</td>\n",
       "      <td>0</td>\n",
       "      <td>0</td>\n",
       "      <td>0</td>\n",
       "      <td>0</td>\n",
       "      <td>positif</td>\n",
       "    </tr>\n",
       "    <tr>\n",
       "      <th>1</th>\n",
       "      <td>2</td>\n",
       "      <td>0</td>\n",
       "      <td>0</td>\n",
       "      <td>0</td>\n",
       "      <td>0</td>\n",
       "      <td>0</td>\n",
       "      <td>0</td>\n",
       "      <td>0</td>\n",
       "      <td>0</td>\n",
       "      <td>0</td>\n",
       "      <td>...</td>\n",
       "      <td>0</td>\n",
       "      <td>1</td>\n",
       "      <td>0</td>\n",
       "      <td>0</td>\n",
       "      <td>0</td>\n",
       "      <td>0</td>\n",
       "      <td>0</td>\n",
       "      <td>0</td>\n",
       "      <td>0</td>\n",
       "      <td>positif</td>\n",
       "    </tr>\n",
       "    <tr>\n",
       "      <th>2</th>\n",
       "      <td>3</td>\n",
       "      <td>0</td>\n",
       "      <td>0</td>\n",
       "      <td>0</td>\n",
       "      <td>0</td>\n",
       "      <td>0</td>\n",
       "      <td>0</td>\n",
       "      <td>0</td>\n",
       "      <td>0</td>\n",
       "      <td>0</td>\n",
       "      <td>...</td>\n",
       "      <td>0</td>\n",
       "      <td>0</td>\n",
       "      <td>0</td>\n",
       "      <td>0</td>\n",
       "      <td>0</td>\n",
       "      <td>0</td>\n",
       "      <td>0</td>\n",
       "      <td>0</td>\n",
       "      <td>0</td>\n",
       "      <td>netral</td>\n",
       "    </tr>\n",
       "    <tr>\n",
       "      <th>3</th>\n",
       "      <td>4</td>\n",
       "      <td>0</td>\n",
       "      <td>0</td>\n",
       "      <td>0</td>\n",
       "      <td>0</td>\n",
       "      <td>0</td>\n",
       "      <td>0</td>\n",
       "      <td>0</td>\n",
       "      <td>0</td>\n",
       "      <td>0</td>\n",
       "      <td>...</td>\n",
       "      <td>0</td>\n",
       "      <td>0</td>\n",
       "      <td>0</td>\n",
       "      <td>0</td>\n",
       "      <td>0</td>\n",
       "      <td>0</td>\n",
       "      <td>0</td>\n",
       "      <td>0</td>\n",
       "      <td>0</td>\n",
       "      <td>netral</td>\n",
       "    </tr>\n",
       "    <tr>\n",
       "      <th>4</th>\n",
       "      <td>5</td>\n",
       "      <td>0</td>\n",
       "      <td>0</td>\n",
       "      <td>0</td>\n",
       "      <td>0</td>\n",
       "      <td>0</td>\n",
       "      <td>0</td>\n",
       "      <td>1</td>\n",
       "      <td>0</td>\n",
       "      <td>0</td>\n",
       "      <td>...</td>\n",
       "      <td>0</td>\n",
       "      <td>0</td>\n",
       "      <td>0</td>\n",
       "      <td>0</td>\n",
       "      <td>0</td>\n",
       "      <td>0</td>\n",
       "      <td>0</td>\n",
       "      <td>0</td>\n",
       "      <td>0</td>\n",
       "      <td>positif</td>\n",
       "    </tr>\n",
       "    <tr>\n",
       "      <th>...</th>\n",
       "      <td>...</td>\n",
       "      <td>...</td>\n",
       "      <td>...</td>\n",
       "      <td>...</td>\n",
       "      <td>...</td>\n",
       "      <td>...</td>\n",
       "      <td>...</td>\n",
       "      <td>...</td>\n",
       "      <td>...</td>\n",
       "      <td>...</td>\n",
       "      <td>...</td>\n",
       "      <td>...</td>\n",
       "      <td>...</td>\n",
       "      <td>...</td>\n",
       "      <td>...</td>\n",
       "      <td>...</td>\n",
       "      <td>...</td>\n",
       "      <td>...</td>\n",
       "      <td>...</td>\n",
       "      <td>...</td>\n",
       "      <td>...</td>\n",
       "    </tr>\n",
       "    <tr>\n",
       "      <th>68</th>\n",
       "      <td>69</td>\n",
       "      <td>0</td>\n",
       "      <td>0</td>\n",
       "      <td>0</td>\n",
       "      <td>0</td>\n",
       "      <td>0</td>\n",
       "      <td>0</td>\n",
       "      <td>0</td>\n",
       "      <td>0</td>\n",
       "      <td>0</td>\n",
       "      <td>...</td>\n",
       "      <td>0</td>\n",
       "      <td>0</td>\n",
       "      <td>0</td>\n",
       "      <td>0</td>\n",
       "      <td>0</td>\n",
       "      <td>0</td>\n",
       "      <td>0</td>\n",
       "      <td>0</td>\n",
       "      <td>0</td>\n",
       "      <td>positif</td>\n",
       "    </tr>\n",
       "    <tr>\n",
       "      <th>69</th>\n",
       "      <td>70</td>\n",
       "      <td>0</td>\n",
       "      <td>0</td>\n",
       "      <td>0</td>\n",
       "      <td>0</td>\n",
       "      <td>0</td>\n",
       "      <td>0</td>\n",
       "      <td>0</td>\n",
       "      <td>0</td>\n",
       "      <td>0</td>\n",
       "      <td>...</td>\n",
       "      <td>0</td>\n",
       "      <td>0</td>\n",
       "      <td>0</td>\n",
       "      <td>0</td>\n",
       "      <td>0</td>\n",
       "      <td>3</td>\n",
       "      <td>0</td>\n",
       "      <td>0</td>\n",
       "      <td>0</td>\n",
       "      <td>positif</td>\n",
       "    </tr>\n",
       "    <tr>\n",
       "      <th>70</th>\n",
       "      <td>71</td>\n",
       "      <td>0</td>\n",
       "      <td>0</td>\n",
       "      <td>0</td>\n",
       "      <td>0</td>\n",
       "      <td>0</td>\n",
       "      <td>0</td>\n",
       "      <td>0</td>\n",
       "      <td>0</td>\n",
       "      <td>0</td>\n",
       "      <td>...</td>\n",
       "      <td>0</td>\n",
       "      <td>0</td>\n",
       "      <td>0</td>\n",
       "      <td>0</td>\n",
       "      <td>1</td>\n",
       "      <td>3</td>\n",
       "      <td>0</td>\n",
       "      <td>0</td>\n",
       "      <td>0</td>\n",
       "      <td>positif</td>\n",
       "    </tr>\n",
       "    <tr>\n",
       "      <th>71</th>\n",
       "      <td>72</td>\n",
       "      <td>0</td>\n",
       "      <td>0</td>\n",
       "      <td>0</td>\n",
       "      <td>0</td>\n",
       "      <td>0</td>\n",
       "      <td>0</td>\n",
       "      <td>0</td>\n",
       "      <td>0</td>\n",
       "      <td>0</td>\n",
       "      <td>...</td>\n",
       "      <td>0</td>\n",
       "      <td>0</td>\n",
       "      <td>0</td>\n",
       "      <td>0</td>\n",
       "      <td>0</td>\n",
       "      <td>0</td>\n",
       "      <td>0</td>\n",
       "      <td>0</td>\n",
       "      <td>0</td>\n",
       "      <td>netral</td>\n",
       "    </tr>\n",
       "    <tr>\n",
       "      <th>72</th>\n",
       "      <td>73</td>\n",
       "      <td>0</td>\n",
       "      <td>0</td>\n",
       "      <td>0</td>\n",
       "      <td>0</td>\n",
       "      <td>0</td>\n",
       "      <td>0</td>\n",
       "      <td>0</td>\n",
       "      <td>1</td>\n",
       "      <td>1</td>\n",
       "      <td>...</td>\n",
       "      <td>0</td>\n",
       "      <td>0</td>\n",
       "      <td>0</td>\n",
       "      <td>0</td>\n",
       "      <td>0</td>\n",
       "      <td>0</td>\n",
       "      <td>0</td>\n",
       "      <td>0</td>\n",
       "      <td>0</td>\n",
       "      <td>positif</td>\n",
       "    </tr>\n",
       "  </tbody>\n",
       "</table>\n",
       "<p>73 rows × 400 columns</p>\n",
       "</div>\n",
       "      <button class=\"colab-df-convert\" onclick=\"convertToInteractive('df-c9666548-20f5-4ab1-a976-b55f1e503e7f')\"\n",
       "              title=\"Convert this dataframe to an interactive table.\"\n",
       "              style=\"display:none;\">\n",
       "\n",
       "  <svg xmlns=\"http://www.w3.org/2000/svg\" height=\"24px\"viewBox=\"0 0 24 24\"\n",
       "       width=\"24px\">\n",
       "    <path d=\"M0 0h24v24H0V0z\" fill=\"none\"/>\n",
       "    <path d=\"M18.56 5.44l.94 2.06.94-2.06 2.06-.94-2.06-.94-.94-2.06-.94 2.06-2.06.94zm-11 1L8.5 8.5l.94-2.06 2.06-.94-2.06-.94L8.5 2.5l-.94 2.06-2.06.94zm10 10l.94 2.06.94-2.06 2.06-.94-2.06-.94-.94-2.06-.94 2.06-2.06.94z\"/><path d=\"M17.41 7.96l-1.37-1.37c-.4-.4-.92-.59-1.43-.59-.52 0-1.04.2-1.43.59L10.3 9.45l-7.72 7.72c-.78.78-.78 2.05 0 2.83L4 21.41c.39.39.9.59 1.41.59.51 0 1.02-.2 1.41-.59l7.78-7.78 2.81-2.81c.8-.78.8-2.07 0-2.86zM5.41 20L4 18.59l7.72-7.72 1.47 1.35L5.41 20z\"/>\n",
       "  </svg>\n",
       "      </button>\n",
       "\n",
       "  <style>\n",
       "    .colab-df-container {\n",
       "      display:flex;\n",
       "      flex-wrap:wrap;\n",
       "      gap: 12px;\n",
       "    }\n",
       "\n",
       "    .colab-df-convert {\n",
       "      background-color: #E8F0FE;\n",
       "      border: none;\n",
       "      border-radius: 50%;\n",
       "      cursor: pointer;\n",
       "      display: none;\n",
       "      fill: #1967D2;\n",
       "      height: 32px;\n",
       "      padding: 0 0 0 0;\n",
       "      width: 32px;\n",
       "    }\n",
       "\n",
       "    .colab-df-convert:hover {\n",
       "      background-color: #E2EBFA;\n",
       "      box-shadow: 0px 1px 2px rgba(60, 64, 67, 0.3), 0px 1px 3px 1px rgba(60, 64, 67, 0.15);\n",
       "      fill: #174EA6;\n",
       "    }\n",
       "\n",
       "    [theme=dark] .colab-df-convert {\n",
       "      background-color: #3B4455;\n",
       "      fill: #D2E3FC;\n",
       "    }\n",
       "\n",
       "    [theme=dark] .colab-df-convert:hover {\n",
       "      background-color: #434B5C;\n",
       "      box-shadow: 0px 1px 3px 1px rgba(0, 0, 0, 0.15);\n",
       "      filter: drop-shadow(0px 1px 2px rgba(0, 0, 0, 0.3));\n",
       "      fill: #FFFFFF;\n",
       "    }\n",
       "  </style>\n",
       "\n",
       "      <script>\n",
       "        const buttonEl =\n",
       "          document.querySelector('#df-c9666548-20f5-4ab1-a976-b55f1e503e7f button.colab-df-convert');\n",
       "        buttonEl.style.display =\n",
       "          google.colab.kernel.accessAllowed ? 'block' : 'none';\n",
       "\n",
       "        async function convertToInteractive(key) {\n",
       "          const element = document.querySelector('#df-c9666548-20f5-4ab1-a976-b55f1e503e7f');\n",
       "          const dataTable =\n",
       "            await google.colab.kernel.invokeFunction('convertToInteractive',\n",
       "                                                     [key], {});\n",
       "          if (!dataTable) return;\n",
       "\n",
       "          const docLinkHtml = 'Like what you see? Visit the ' +\n",
       "            '<a target=\"_blank\" href=https://colab.research.google.com/notebooks/data_table.ipynb>data table notebook</a>'\n",
       "            + ' to learn more about interactive tables.';\n",
       "          element.innerHTML = '';\n",
       "          dataTable['output_type'] = 'display_data';\n",
       "          await google.colab.output.renderOutput(dataTable, element);\n",
       "          const docLink = document.createElement('div');\n",
       "          docLink.innerHTML = docLinkHtml;\n",
       "          element.appendChild(docLink);\n",
       "        }\n",
       "      </script>\n",
       "    </div>\n",
       "  </div>\n"
      ],
      "text/plain": [
       "    (index,)  (1000,)  (17,)  (17092022,)  (20,)  (2022,)  (2024,)  (30,)  \\\n",
       "0          1        0      0            0      0        0        0      0   \n",
       "1          2        0      0            0      0        0        0      0   \n",
       "2          3        0      0            0      0        0        0      0   \n",
       "3          4        0      0            0      0        0        0      0   \n",
       "4          5        0      0            0      0        0        0      1   \n",
       "..       ...      ...    ...          ...    ...      ...      ...    ...   \n",
       "68        69        0      0            0      0        0        0      0   \n",
       "69        70        0      0            0      0        0        0      0   \n",
       "70        71        0      0            0      0        0        0      0   \n",
       "71        72        0      0            0      0        0        0      0   \n",
       "72        73        0      0            0      0        0        0      0   \n",
       "\n",
       "    (acara,)  (ada,)  ...  (wilayah,)  (wiliam,)  (ya,)  (yaqowiyu,)  \\\n",
       "0          0       0  ...           0          0      0            0   \n",
       "1          0       0  ...           0          1      0            0   \n",
       "2          0       0  ...           0          0      0            0   \n",
       "3          0       0  ...           0          0      0            0   \n",
       "4          0       0  ...           0          0      0            0   \n",
       "..       ...     ...  ...         ...        ...    ...          ...   \n",
       "68         0       0  ...           0          0      0            0   \n",
       "69         0       0  ...           0          0      0            0   \n",
       "70         0       0  ...           0          0      0            0   \n",
       "71         0       0  ...           0          0      0            0   \n",
       "72         1       1  ...           0          0      0            0   \n",
       "\n",
       "    (yayasan,)  (yeah,)  (yg,)  (yogyakarta,)  (zaman,)    label  \n",
       "0            0        0      0              0         0  positif  \n",
       "1            0        0      0              0         0  positif  \n",
       "2            0        0      0              0         0   netral  \n",
       "3            0        0      0              0         0   netral  \n",
       "4            0        0      0              0         0  positif  \n",
       "..         ...      ...    ...            ...       ...      ...  \n",
       "68           0        0      0              0         0  positif  \n",
       "69           0        3      0              0         0  positif  \n",
       "70           1        3      0              0         0  positif  \n",
       "71           0        0      0              0         0   netral  \n",
       "72           0        0      0              0         0  positif  \n",
       "\n",
       "[73 rows x 400 columns]"
      ]
     },
     "execution_count": 23,
     "metadata": {},
     "output_type": "execute_result"
    }
   ],
   "source": [
    "label = pd.read_excel('/content/drive/MyDrive/webmining/webmining/twint/dataGanjar.xlsx')\n",
    "dj = pd.concat([dataTF.reset_index(), label[\"label\"]], axis=1)\n",
    "dj"
   ]
  },
  {
   "cell_type": "code",
   "execution_count": 24,
   "metadata": {
    "colab": {
     "base_uri": "https://localhost:8080/"
    },
    "executionInfo": {
     "elapsed": 30,
     "status": "ok",
     "timestamp": 1664858825060,
     "user": {
      "displayName": "Muhammad Fahmi Ady susilo 19_127",
      "userId": "09919749956615563057"
     },
     "user_tz": -420
    },
    "id": "DySvvKoBr1Eh",
    "outputId": "3ace74f9-ebf4-46a0-8d62-753f23f66f19"
   },
   "outputs": [
    {
     "data": {
      "text/plain": [
       "array(['positif', 'netral', 'negatif'], dtype=object)"
      ]
     },
     "execution_count": 24,
     "metadata": {},
     "output_type": "execute_result"
    }
   ],
   "source": [
    "dj['label'].unique()"
   ]
  },
  {
   "cell_type": "code",
   "execution_count": 25,
   "metadata": {
    "colab": {
     "base_uri": "https://localhost:8080/"
    },
    "executionInfo": {
     "elapsed": 21,
     "status": "ok",
     "timestamp": 1664858825061,
     "user": {
      "displayName": "Muhammad Fahmi Ady susilo 19_127",
      "userId": "09919749956615563057"
     },
     "user_tz": -420
    },
    "id": "HJhutdD0sdmx",
    "outputId": "042837cc-a1a5-4fe8-910d-e7e019505e05"
   },
   "outputs": [
    {
     "name": "stdout",
     "output_type": "stream",
     "text": [
      "<class 'pandas.core.frame.DataFrame'>\n",
      "RangeIndex: 73 entries, 0 to 72\n",
      "Columns: 400 entries, ('index',) to label\n",
      "dtypes: int64(399), object(1)\n",
      "memory usage: 228.2+ KB\n"
     ]
    }
   ],
   "source": [
    "dj.info()"
   ]
  },
  {
   "cell_type": "markdown",
   "metadata": {
    "id": "Af4QSFZvB7v8"
   },
   "source": [
    "## Penjelasan Scikit-learn"
   ]
  },
  {
   "cell_type": "markdown",
   "metadata": {
    "id": "aW5zuWwrB7Kc"
   },
   "source": [
    "Scikit-learn atau sklearn merupakan sebuah module dari bahasa pemrograman Python yang dibangun berdasarkan NumPy, SciPy, dan Matplotlib. Fungsi dari module ini adalah untuk membantu melakukan processing data ataupun melakukan training data untuk kebutuhan machine learning atau data science."
   ]
  },
  {
   "cell_type": "markdown",
   "metadata": {
    "id": "cQkIOn9JBvic"
   },
   "source": [
    "install scikit-learn"
   ]
  },
  {
   "cell_type": "code",
   "execution_count": 26,
   "metadata": {
    "colab": {
     "base_uri": "https://localhost:8080/"
    },
    "executionInfo": {
     "elapsed": 4313,
     "status": "ok",
     "timestamp": 1664858829360,
     "user": {
      "displayName": "Muhammad Fahmi Ady susilo 19_127",
      "userId": "09919749956615563057"
     },
     "user_tz": -420
    },
    "id": "uswkdBy8BuFT",
    "outputId": "1fda2fe6-5864-422e-f336-d89e61ed1c7b"
   },
   "outputs": [
    {
     "name": "stdout",
     "output_type": "stream",
     "text": [
      "Looking in indexes: https://pypi.org/simple, https://us-python.pkg.dev/colab-wheels/public/simple/\n",
      "Requirement already satisfied: scikit-learn in /usr/local/lib/python3.7/dist-packages (1.0.2)\n",
      "Requirement already satisfied: numpy>=1.14.6 in /usr/local/lib/python3.7/dist-packages (from scikit-learn) (1.21.6)\n",
      "Requirement already satisfied: threadpoolctl>=2.0.0 in /usr/local/lib/python3.7/dist-packages (from scikit-learn) (3.1.0)\n",
      "Requirement already satisfied: scipy>=1.1.0 in /usr/local/lib/python3.7/dist-packages (from scikit-learn) (1.7.3)\n",
      "Requirement already satisfied: joblib>=0.11 in /usr/local/lib/python3.7/dist-packages (from scikit-learn) (1.1.0)\n"
     ]
    }
   ],
   "source": [
    "!pip install -U scikit-learn\n"
   ]
  },
  {
   "cell_type": "markdown",
   "metadata": {
    "id": "2g_sIq0KHxWz"
   },
   "source": [
    "## Penjelasan Information Gain"
   ]
  },
  {
   "cell_type": "markdown",
   "metadata": {
    "id": "xX4jh2nKDWqr"
   },
   "source": [
    "Information Gain merupakan teknik seleksi fitur yang memakai metode scoring untuk nominal\n",
    "ataupun pembobotan atribut kontinue yang didiskretkan menggunakan maksimal entropy. Suatu entropy\n",
    "digunakan untuk mendefinisikan nilai Information Gain. Entropy menggambarkan banyaknya informasi\n",
    "yang dibutuhkan untuk mengkodekan suatu kelas. Information Gain (IG) dari suatu term diukur\n",
    "dengan menghitung jumlah bit informasi yang diambil dari prediksi kategori dengan ada atau tidaknya\n",
    "term dalam suatu dokumen."
   ]
  },
  {
   "cell_type": "markdown",
   "metadata": {
    "id": "iF6JbxjjKC0s"
   },
   "source": [
    "\n",
    "$$\n",
    "Entropy \\ (S) \\equiv \\sum ^{c}_{i}P_{i}\\log _{2}p_{i}\n",
    "$$\n",
    "\n",
    "c : jumlah nilai yang ada pada atribut target (jumlah kelas klasifikasi).\n",
    "\n",
    "Pi : porsi sampel untuk kelas i."
   ]
  },
  {
   "cell_type": "markdown",
   "metadata": {
    "id": "UON1SUboMAM9"
   },
   "source": [
    "\n",
    "$$\n",
    "Gain \\ (S,A) \\equiv Entropy(S) - \\sum _{\\nu \\varepsilon \\ values } \\dfrac{\\left| S_{i}\\right| }{\\left| S\\right|} Entropy(S_{v})\n",
    "$$\n",
    "\n",
    "A : atribut\n",
    "\n",
    "V : menyatakan suatu nilai yang mungkin untuk atribut A\n",
    "\n",
    "Values (A) : himpunan nilai-nilai yang mungkin untuk atribut A\n",
    "\n",
    "|Sv| : jumlah Sampel untuk nilai v\n",
    "\n",
    "|S| : jumlah seluruh sample data Entropy \n",
    "\n",
    "(Sv) : entropy untuk sampel sampel yang memiliki nilai v\n"
   ]
  },
  {
   "cell_type": "code",
   "execution_count": 27,
   "metadata": {
    "executionInfo": {
     "elapsed": 18,
     "status": "ok",
     "timestamp": 1664858829362,
     "user": {
      "displayName": "Muhammad Fahmi Ady susilo 19_127",
      "userId": "09919749956615563057"
     },
     "user_tz": -420
    },
    "id": "h3cT73NrsuJf"
   },
   "outputs": [],
   "source": [
    "from sklearn.model_selection import train_test_split\n",
    "X_train,X_test,y_train,y_test=train_test_split(dj.drop(labels=['label'], axis=1),\n",
    "    dj['label'],\n",
    "    test_size=0.3,\n",
    "    random_state=0)"
   ]
  },
  {
   "cell_type": "code",
   "execution_count": 28,
   "metadata": {
    "colab": {
     "base_uri": "https://localhost:8080/"
    },
    "executionInfo": {
     "elapsed": 597,
     "status": "ok",
     "timestamp": 1664858829943,
     "user": {
      "displayName": "Muhammad Fahmi Ady susilo 19_127",
      "userId": "09919749956615563057"
     },
     "user_tz": -420
    },
    "id": "V831DlNxtRny",
    "outputId": "deb83de1-db10-4bab-b533-887c3ec12b91"
   },
   "outputs": [
    {
     "data": {
      "text/plain": [
       "array([0.00000000e+00, 2.84604011e-02, 0.00000000e+00, 0.00000000e+00,\n",
       "       0.00000000e+00, 5.17902441e-02, 0.00000000e+00, 0.00000000e+00,\n",
       "       1.77270249e-02, 1.03918050e-01, 0.00000000e+00, 0.00000000e+00,\n",
       "       4.39585356e-02, 0.00000000e+00, 4.26304105e-02, 0.00000000e+00,\n",
       "       1.12099037e-02, 0.00000000e+00, 0.00000000e+00, 2.51185590e-03,\n",
       "       0.00000000e+00, 0.00000000e+00, 0.00000000e+00, 0.00000000e+00,\n",
       "       0.00000000e+00, 0.00000000e+00, 1.60582648e-02, 0.00000000e+00,\n",
       "       0.00000000e+00, 0.00000000e+00, 0.00000000e+00, 0.00000000e+00,\n",
       "       0.00000000e+00, 0.00000000e+00, 0.00000000e+00, 0.00000000e+00,\n",
       "       0.00000000e+00, 9.62553129e-02, 7.88902081e-02, 5.36709405e-02,\n",
       "       1.01283857e-01, 8.01676888e-02, 0.00000000e+00, 5.49635981e-02,\n",
       "       3.09403718e-03, 0.00000000e+00, 2.08958956e-02, 0.00000000e+00,\n",
       "       7.59963761e-02, 6.41115360e-02, 0.00000000e+00, 0.00000000e+00,\n",
       "       0.00000000e+00, 1.24812159e-01, 0.00000000e+00, 0.00000000e+00,\n",
       "       1.17132494e-01, 0.00000000e+00, 0.00000000e+00, 1.49218900e-02,\n",
       "       5.47215955e-02, 3.14093473e-02, 0.00000000e+00, 0.00000000e+00,\n",
       "       1.11640464e-01, 4.01680450e-02, 0.00000000e+00, 7.82808713e-03,\n",
       "       0.00000000e+00, 0.00000000e+00, 0.00000000e+00, 0.00000000e+00,\n",
       "       0.00000000e+00, 8.45713142e-02, 3.11636427e-02, 1.79769424e-02,\n",
       "       1.54038597e-01, 0.00000000e+00, 0.00000000e+00, 0.00000000e+00,\n",
       "       0.00000000e+00, 0.00000000e+00, 3.66745815e-03, 0.00000000e+00,\n",
       "       0.00000000e+00, 5.51656403e-02, 1.53549983e-01, 6.01740699e-02,\n",
       "       1.08221861e-01, 0.00000000e+00, 6.36324347e-02, 0.00000000e+00,\n",
       "       0.00000000e+00, 0.00000000e+00, 4.70459527e-02, 2.45766866e-04,\n",
       "       0.00000000e+00, 2.58575654e-02, 0.00000000e+00, 0.00000000e+00,\n",
       "       2.13290306e-02, 8.85375949e-02, 4.50020727e-02, 1.46220627e-01,\n",
       "       0.00000000e+00, 0.00000000e+00, 0.00000000e+00, 0.00000000e+00,\n",
       "       0.00000000e+00, 0.00000000e+00, 3.21296215e-02, 0.00000000e+00,\n",
       "       0.00000000e+00, 5.99875714e-02, 0.00000000e+00, 6.92935784e-02,\n",
       "       0.00000000e+00, 4.10456362e-01, 0.00000000e+00, 0.00000000e+00,\n",
       "       7.45371910e-02, 0.00000000e+00, 1.38372781e-01, 2.63756283e-02,\n",
       "       0.00000000e+00, 2.16997406e-02, 2.17128891e-02, 8.17366173e-03,\n",
       "       2.23834463e-02, 4.04643558e-02, 0.00000000e+00, 0.00000000e+00,\n",
       "       0.00000000e+00, 1.21946064e-02, 0.00000000e+00, 0.00000000e+00,\n",
       "       1.26650237e-01, 1.40845889e-02, 3.57341347e-02, 0.00000000e+00,\n",
       "       0.00000000e+00, 4.78668125e-03, 0.00000000e+00, 0.00000000e+00,\n",
       "       0.00000000e+00, 6.88653471e-03, 3.38683452e-02, 0.00000000e+00,\n",
       "       0.00000000e+00, 2.93960284e-02, 0.00000000e+00, 0.00000000e+00,\n",
       "       1.15223650e-01, 7.27655129e-02, 6.99499653e-02, 3.33099227e-02,\n",
       "       0.00000000e+00, 6.53198832e-02, 0.00000000e+00, 0.00000000e+00,\n",
       "       0.00000000e+00, 1.38348092e-01, 0.00000000e+00, 0.00000000e+00,\n",
       "       2.27039731e-02, 1.86889442e-02, 0.00000000e+00, 0.00000000e+00,\n",
       "       0.00000000e+00, 0.00000000e+00, 0.00000000e+00, 0.00000000e+00,\n",
       "       0.00000000e+00, 0.00000000e+00, 0.00000000e+00, 0.00000000e+00,\n",
       "       0.00000000e+00, 0.00000000e+00, 0.00000000e+00, 0.00000000e+00,\n",
       "       9.14922724e-03, 0.00000000e+00, 0.00000000e+00, 2.06910039e-02,\n",
       "       7.93130029e-03, 0.00000000e+00, 9.10727503e-02, 3.21500743e-02,\n",
       "       0.00000000e+00, 7.02026004e-03, 0.00000000e+00, 0.00000000e+00,\n",
       "       2.44985294e-02, 1.65343251e-01, 2.58163292e-02, 5.09616088e-02,\n",
       "       0.00000000e+00, 1.53884507e-04, 6.57786070e-03, 7.56192565e-03,\n",
       "       2.11710422e-02, 0.00000000e+00, 1.55818469e-02, 0.00000000e+00,\n",
       "       0.00000000e+00, 0.00000000e+00, 3.09134412e-02, 2.94582755e-02,\n",
       "       2.20053159e-02, 5.93333845e-04, 5.93605083e-02, 0.00000000e+00,\n",
       "       0.00000000e+00, 5.78219652e-02, 0.00000000e+00, 1.26397070e-01,\n",
       "       0.00000000e+00, 0.00000000e+00, 1.06317157e-02, 2.02839531e-02,\n",
       "       0.00000000e+00, 6.17499238e-02, 0.00000000e+00, 0.00000000e+00,\n",
       "       3.53708659e-03, 0.00000000e+00, 0.00000000e+00, 6.17469237e-03,\n",
       "       0.00000000e+00, 0.00000000e+00, 0.00000000e+00, 0.00000000e+00,\n",
       "       0.00000000e+00, 0.00000000e+00, 0.00000000e+00, 0.00000000e+00,\n",
       "       0.00000000e+00, 0.00000000e+00, 3.35526988e-02, 0.00000000e+00,\n",
       "       5.38796139e-02, 2.05018916e-02, 1.01458885e-02, 0.00000000e+00,\n",
       "       0.00000000e+00, 6.66148989e-02, 1.09268980e-01, 3.81131495e-02,\n",
       "       0.00000000e+00, 0.00000000e+00, 0.00000000e+00, 0.00000000e+00,\n",
       "       6.31974666e-02, 0.00000000e+00, 9.06011671e-02, 1.48784446e-01,\n",
       "       1.66978877e-02, 0.00000000e+00, 0.00000000e+00, 0.00000000e+00,\n",
       "       0.00000000e+00, 0.00000000e+00, 1.96588621e-02, 0.00000000e+00,\n",
       "       0.00000000e+00, 3.32808261e-02, 2.81257278e-02, 0.00000000e+00,\n",
       "       0.00000000e+00, 2.17326181e-01, 2.97131485e-02, 0.00000000e+00,\n",
       "       9.38689113e-02, 6.54823346e-03, 1.05465280e-02, 0.00000000e+00,\n",
       "       2.15009006e-02, 1.13285806e-01, 6.68731130e-02, 0.00000000e+00,\n",
       "       6.66023950e-02, 3.59183671e-02, 0.00000000e+00, 0.00000000e+00,\n",
       "       0.00000000e+00, 0.00000000e+00, 0.00000000e+00, 0.00000000e+00,\n",
       "       0.00000000e+00, 0.00000000e+00, 7.96104926e-02, 6.87758020e-03,\n",
       "       3.55545405e-02, 2.79438233e-02, 0.00000000e+00, 1.20633767e-01,\n",
       "       0.00000000e+00, 1.33873888e-01, 0.00000000e+00, 7.41925989e-02,\n",
       "       0.00000000e+00, 6.45246545e-02, 0.00000000e+00, 0.00000000e+00,\n",
       "       7.29736925e-02, 0.00000000e+00, 0.00000000e+00, 0.00000000e+00,\n",
       "       0.00000000e+00, 1.70055614e-02, 1.86632055e-02, 7.43867051e-02,\n",
       "       3.38508818e-02, 0.00000000e+00, 0.00000000e+00, 2.46562692e-02,\n",
       "       0.00000000e+00, 4.38127583e-02, 8.28502207e-02, 3.10538477e-02,\n",
       "       0.00000000e+00, 0.00000000e+00, 0.00000000e+00, 0.00000000e+00,\n",
       "       6.27665794e-02, 6.36742072e-02, 0.00000000e+00, 5.00132944e-02,\n",
       "       0.00000000e+00, 0.00000000e+00, 1.30362949e-03, 0.00000000e+00,\n",
       "       1.88172121e-02, 2.64989255e-02, 0.00000000e+00, 0.00000000e+00,\n",
       "       0.00000000e+00, 0.00000000e+00, 2.51388689e-02, 2.79404790e-02,\n",
       "       5.17328419e-02, 0.00000000e+00, 2.61935956e-02, 2.19647886e-02,\n",
       "       3.55357512e-02, 0.00000000e+00, 6.76056149e-02, 0.00000000e+00,\n",
       "       0.00000000e+00, 0.00000000e+00, 0.00000000e+00, 0.00000000e+00,\n",
       "       6.62877042e-02, 0.00000000e+00, 0.00000000e+00, 8.56572508e-02,\n",
       "       3.10962637e-02, 2.02153398e-02, 0.00000000e+00, 6.28528237e-03,\n",
       "       2.45569596e-02, 0.00000000e+00, 4.81962833e-02, 4.13266935e-02,\n",
       "       0.00000000e+00, 0.00000000e+00, 3.00008450e-02, 0.00000000e+00,\n",
       "       0.00000000e+00, 0.00000000e+00, 9.73508334e-03, 0.00000000e+00,\n",
       "       0.00000000e+00, 2.88440749e-02, 0.00000000e+00, 4.66830442e-02,\n",
       "       1.74917058e-02, 0.00000000e+00, 0.00000000e+00, 0.00000000e+00,\n",
       "       2.39887994e-02, 1.05605607e-01, 0.00000000e+00, 0.00000000e+00,\n",
       "       0.00000000e+00, 1.73506309e-02, 0.00000000e+00, 0.00000000e+00,\n",
       "       0.00000000e+00, 2.62008100e-03, 4.95165701e-02, 1.71748114e-02,\n",
       "       0.00000000e+00, 0.00000000e+00, 2.18801782e-02, 2.71858939e-02,\n",
       "       0.00000000e+00, 0.00000000e+00, 4.94747901e-02])"
      ]
     },
     "execution_count": 28,
     "metadata": {},
     "output_type": "execute_result"
    }
   ],
   "source": [
    "from sklearn.feature_selection import mutual_info_classif\n",
    "mutual_info = mutual_info_classif(X_train, y_train)\n",
    "mutual_info"
   ]
  },
  {
   "cell_type": "markdown",
   "metadata": {
    "id": "ukm3cBVqKh02"
   },
   "source": [
    "merangking fitur sesuai dengan fitur yang paling banyak keluar"
   ]
  },
  {
   "cell_type": "code",
   "execution_count": 29,
   "metadata": {
    "colab": {
     "base_uri": "https://localhost:8080/"
    },
    "executionInfo": {
     "elapsed": 22,
     "status": "ok",
     "timestamp": 1664858829944,
     "user": {
      "displayName": "Muhammad Fahmi Ady susilo 19_127",
      "userId": "09919749956615563057"
     },
     "user_tz": -420
    },
    "id": "UphgaWnAtjnQ",
    "outputId": "7a45780a-9959-4554-f1db-49276e3abd62"
   },
   "outputs": [
    {
     "data": {
      "text/plain": [
       "(ganjar,)         0.410456\n",
       "(pranowo,)        0.217326\n",
       "(komunitas,)      0.165343\n",
       "(daerah,)         0.154039\n",
       "(deklarasi,)      0.153550\n",
       "                    ...   \n",
       "(ekokuntadhi,)    0.000000\n",
       "(eko,)            0.000000\n",
       "(padi,)           0.000000\n",
       "(padjajaran,)     0.000000\n",
       "(index,)          0.000000\n",
       "Length: 399, dtype: float64"
      ]
     },
     "execution_count": 29,
     "metadata": {},
     "output_type": "execute_result"
    }
   ],
   "source": [
    "mutual_info = pd.Series(mutual_info)\n",
    "mutual_info.index = X_train.columns\n",
    "mutual_info.sort_values(ascending=False)"
   ]
  },
  {
   "cell_type": "markdown",
   "metadata": {
    "id": "YVtoZ4P0K5em"
   },
   "source": [
    "menvisualkan data dengan grafik bar dengan urutan paling besar ke rendah"
   ]
  },
  {
   "cell_type": "code",
   "execution_count": 30,
   "metadata": {
    "colab": {
     "base_uri": "https://localhost:8080/",
     "height": 630
    },
    "executionInfo": {
     "elapsed": 7811,
     "status": "ok",
     "timestamp": 1664858837746,
     "user": {
      "displayName": "Muhammad Fahmi Ady susilo 19_127",
      "userId": "09919749956615563057"
     },
     "user_tz": -420
    },
    "id": "50W_DXlstnUv",
    "outputId": "ef151b1d-c099-4353-a62f-2abd7f0378da"
   },
   "outputs": [
    {
     "data": {
      "text/plain": [
       "<matplotlib.axes._subplots.AxesSubplot at 0x7fa2911d24d0>"
      ]
     },
     "execution_count": 30,
     "metadata": {},
     "output_type": "execute_result"
    },
    {
     "data": {
      "image/png": "[encoded data removed]",
      "text/plain": [
       "<Figure size 3600x1440 with 1 Axes>"
      ]
     },
     "metadata": {
      "filenames": {
       "image/png": "/content/drive/MyDrive/webmining/webmining/_build/jupyter_execute/contents/CrawlingVSM_72_1.png"
      },
      "needs_background": "light"
     },
     "output_type": "display_data"
    }
   ],
   "source": [
    "mutual_info.sort_values(ascending=False).plot.bar(figsize=(50, 20))\n"
   ]
  },
  {
   "cell_type": "code",
   "execution_count": 31,
   "metadata": {
    "executionInfo": {
     "elapsed": 30,
     "status": "ok",
     "timestamp": 1664858837748,
     "user": {
      "displayName": "Muhammad Fahmi Ady susilo 19_127",
      "userId": "09919749956615563057"
     },
     "user_tz": -420
    },
    "id": "u0CwVv_5uTSZ"
   },
   "outputs": [],
   "source": [
    "from sklearn.feature_selection import SelectKBest\n"
   ]
  },
  {
   "cell_type": "code",
   "execution_count": 32,
   "metadata": {
    "colab": {
     "base_uri": "https://localhost:8080/"
    },
    "executionInfo": {
     "elapsed": 797,
     "status": "ok",
     "timestamp": 1664858838520,
     "user": {
      "displayName": "Muhammad Fahmi Ady susilo 19_127",
      "userId": "09919749956615563057"
     },
     "user_tz": -420
    },
    "id": "dERECPV4uWHA",
    "outputId": "cf606b70-5611-4808-a4ff-4b6b9085fd5a"
   },
   "outputs": [
    {
     "name": "stderr",
     "output_type": "stream",
     "text": [
      "/usr/local/lib/python3.7/dist-packages/sklearn/utils/validation.py:1692: FutureWarning: Feature names only support names that are all strings. Got feature names with dtypes: ['tuple']. An error will be raised in 1.2.\n",
      "  FutureWarning,\n"
     ]
    },
    {
     "data": {
      "text/plain": [
       "Index([       ('1000',),          ('ah',),   ('airlangga',),        ('apem',),\n",
       "              ('away',),       ('bahan',),      ('banget',),      ('banjar',),\n",
       "            ('bidang',),       ('bogor',),          ('bu',),     ('cirebon',),\n",
       "            ('daerah',),          ('dg',),         ('doa',),   ('doorprize',),\n",
       "                ('dr',),       ('drama',),         ('eko',),   ('emosional',),\n",
       "             ('essay',),        ('film',),       ('forum',),         ('gak',),\n",
       "            ('ganjar',),       ('gedeh',),       ('gelas',),      ('gelora',),\n",
       "              ('giat',),      ('gimana',),        ('girl',),       ('hallo',),\n",
       "            ('hubung',),   ('indonesia',),          ('it',),        ('jasa',),\n",
       "            ('jateng',),      ('jibaku',),      ('jokowi',),       ('juara',),\n",
       "             ('kapal',),       ('kartu',),       ('kerja',),       ('kesan',),\n",
       "              ('khas',),      ('kurang',),        ('kyai',),        ('laku',),\n",
       "            ('lanjut',),      ('lapang',),      ('lempar',),       ('lomba',),\n",
       "              ('lupa',),        ('maju',),     ('marinah',),         ('mas',),\n",
       "            ('medsos',),         ('men',), ('menganggumi',),       ('murah',),\n",
       "               ('mus',),     ('nelayan',),      ('nikmat',),        ('padi',),\n",
       "             ('panen',),      ('pangan',),         ('pdb',),     ('pranowo',),\n",
       "        ('presentasi',),       ('ramai',),      ('rangka',),   ('realisasi',),\n",
       "            ('rendah',),         ('rss',),       ('rumah',),       ('rutin',),\n",
       "             ('salur',),      ('sambut',),      ('santri',),        ('satu',),\n",
       "         ('sejahtera',),     ('selatan',),    ('semarang',),     ('senayan',),\n",
       "            ('sesuai',),      ('shopee',), ('silaturahmi',),       ('suara',),\n",
       "            ('sukses',),    ('sulawesi',),      ('sungai',),      ('syukur',),\n",
       "           ('tanggal',),        ('tara',),       ('tarik',), ('tasikmalaya',),\n",
       "          ('trending',),        ('typa',),          ('ya',),    ('yaqowiyu',)],\n",
       "      dtype='object')"
      ]
     },
     "execution_count": 32,
     "metadata": {},
     "output_type": "execute_result"
    }
   ],
   "source": [
    "sel_five_cols = SelectKBest(mutual_info_classif, k=100)\n",
    "sel_five_cols.fit(X_train, y_train)\n",
    "X_train.columns[sel_five_cols.get_support()]"
   ]
  },
  {
   "cell_type": "code",
   "execution_count": 33,
   "metadata": {
    "executionInfo": {
     "elapsed": 31,
     "status": "ok",
     "timestamp": 1664858838523,
     "user": {
      "displayName": "Muhammad Fahmi Ady susilo 19_127",
      "userId": "09919749956615563057"
     },
     "user_tz": -420
    },
    "id": "JaYsXYWD-m0l"
   },
   "outputs": [],
   "source": [
    "X_train=X_train.values\n",
    "y_train=y_train.values\n",
    "X_test=X_test.values\n",
    "y_test=y_test.values"
   ]
  },
  {
   "cell_type": "markdown",
   "metadata": {
    "id": "9xOeZFYLIFNi"
   },
   "source": [
    "## Penjelasan Naive Bayes"
   ]
  },
  {
   "cell_type": "markdown",
   "metadata": {
    "id": "t3Z8DDfLFnn5"
   },
   "source": [
    "Naive Bayes adalah algoritma machine learning yang digunakan untuk keperluan klasifikasi atau pengelompokan suatu data. Algoritma ini didasarkan pada teorema probabilitas yang dikenalkan oleh ilmuwan Inggris Thomas Bayes. Naive Bayes berfungsi memprediksi probabilitas di masa depan berdasarkan pengalaman sebelumnya, sehingga dapat digunakan untuk pengambilan keputusan."
   ]
  },
  {
   "cell_type": "code",
   "execution_count": 34,
   "metadata": {
    "colab": {
     "base_uri": "https://localhost:8080/"
    },
    "executionInfo": {
     "elapsed": 32,
     "status": "ok",
     "timestamp": 1664858838525,
     "user": {
      "displayName": "Muhammad Fahmi Ady susilo 19_127",
      "userId": "09919749956615563057"
     },
     "user_tz": -420
    },
    "id": "1IfrucEZyk0Q",
    "outputId": "3abefd3c-b9b8-4dbb-a777-fc73798d945e"
   },
   "outputs": [
    {
     "data": {
      "text/plain": [
       "array(['positif', 'positif', 'positif', 'positif', 'netral', 'positif',\n",
       "       'positif', 'positif', 'positif', 'positif', 'positif', 'positif',\n",
       "       'positif', 'positif', 'positif', 'positif', 'positif', 'positif',\n",
       "       'positif', 'positif', 'netral', 'positif'], dtype='<U7')"
      ]
     },
     "execution_count": 34,
     "metadata": {},
     "output_type": "execute_result"
    }
   ],
   "source": [
    "# from sklearn.neighbors import KNeighborsClassifier\n",
    "from sklearn.naive_bayes import GaussianNB\n",
    "# from sklearn.pipeline import make_pipeline\n",
    "# from sklearn.preprocessing import StandardScaler\n",
    "gauss = GaussianNB()\n",
    "gauss.fit(X_train, y_train)\n",
    "Y_pred = gauss.predict(X_test) \n",
    "Y_pred"
   ]
  },
  {
   "cell_type": "code",
   "execution_count": 35,
   "metadata": {
    "colab": {
     "base_uri": "https://localhost:8080/"
    },
    "executionInfo": {
     "elapsed": 22,
     "status": "ok",
     "timestamp": 1664858838528,
     "user": {
      "displayName": "Muhammad Fahmi Ady susilo 19_127",
      "userId": "09919749956615563057"
     },
     "user_tz": -420
    },
    "id": "-s6Wc9Yy09HI",
    "outputId": "a497292f-8819-4f0b-fed9-28cf4a565346"
   },
   "outputs": [
    {
     "data": {
      "text/plain": [
       "72.73"
      ]
     },
     "execution_count": 35,
     "metadata": {},
     "output_type": "execute_result"
    }
   ],
   "source": [
    "from sklearn.metrics import make_scorer, accuracy_score,precision_score\n",
    "testing = gauss.predict(X_test) \n",
    "accuracy_gauss=round(accuracy_score(y_test,testing)* 100, 2)\n",
    "accuracy_gauss"
   ]
  },
  {
   "cell_type": "markdown",
   "metadata": {
    "id": "INF_NgA7JdcC"
   },
   "source": [
    "## Penjelasan Matplotib"
   ]
  },
  {
   "cell_type": "markdown",
   "metadata": {
    "id": "e9kqmPwWJbbb"
   },
   "source": [
    "Matplotlib adalah library Python yang fokus pada visualisasi data seperti membuat plot grafik. Matplotlib pertama kali diciptakan oleh John D. Hunter dan sekarang telah dikelola oleh tim developer yang besar. Awalnya matplotlib dirancang untuk menghasilkan plot grafik yang sesuai pada publikasi jurnal atau artikel ilmiah. Matplotlib dapat digunakan dalam skrip Python, Python dan IPython shell, server aplikasi web, dan beberapa toolkit graphical user interface (GUI) lainnya."
   ]
  },
  {
   "cell_type": "code",
   "execution_count": 36,
   "metadata": {
    "executionInfo": {
     "elapsed": 18,
     "status": "ok",
     "timestamp": 1664858838530,
     "user": {
      "displayName": "Muhammad Fahmi Ady susilo 19_127",
      "userId": "09919749956615563057"
     },
     "user_tz": -420
    },
    "id": "b8QJP2keAewo"
   },
   "outputs": [],
   "source": [
    "import matplotlib.pyplot as plt\n",
    "from sklearn import metrics"
   ]
  },
  {
   "cell_type": "markdown",
   "metadata": {
    "id": "3dq8HBKGL_Ja"
   },
   "source": [
    "## Penjelasan Confusion Matrix"
   ]
  },
  {
   "cell_type": "markdown",
   "metadata": {
    "id": "lqMeFpDkL0_a"
   },
   "source": [
    "Confusion matrix juga sering disebut error matrix. Pada dasarnya confusion matrix memberikan informasi perbandingan hasil klasifikasi yang dilakukan oleh sistem (model) dengan hasil klasifikasi sebenarnya. Confusion matrix berbentuk tabel matriks yang menggambarkan kinerja model klasifikasi pada serangkaian data uji yang nilai sebenarnya diketahui."
   ]
  },
  {
   "cell_type": "code",
   "execution_count": 37,
   "metadata": {
    "colab": {
     "base_uri": "https://localhost:8080/",
     "height": 283
    },
    "executionInfo": {
     "elapsed": 599,
     "status": "ok",
     "timestamp": 1664858839112,
     "user": {
      "displayName": "Muhammad Fahmi Ady susilo 19_127",
      "userId": "09919749956615563057"
     },
     "user_tz": -420
    },
    "id": "Rwy1EY5NAgNf",
    "outputId": "1e934ced-19e1-46c0-8218-89b6fb7fde6d"
   },
   "outputs": [
    {
     "data": {
      "image/png": "[encoded data removed]",
      "text/plain": [
       "<Figure size 432x288 with 2 Axes>"
      ]
     },
     "metadata": {
      "filenames": {
       "image/png": "/content/drive/MyDrive/webmining/webmining/_build/jupyter_execute/contents/CrawlingVSM_85_0.png"
      },
      "needs_background": "light"
     },
     "output_type": "display_data"
    }
   ],
   "source": [
    "conf_matrix =metrics.confusion_matrix(y_true=y_test, y_pred=Y_pred)\n",
    "cm_display = metrics.ConfusionMatrixDisplay(confusion_matrix = conf_matrix, display_labels = ['negatif', 'netral','positif'])\n",
    "cm_display.plot()\n",
    "plt.show()"
   ]
  },
  {
   "cell_type": "code",
   "execution_count": 38,
   "metadata": {
    "executionInfo": {
     "elapsed": 51,
     "status": "ok",
     "timestamp": 1664858839117,
     "user": {
      "displayName": "Muhammad Fahmi Ady susilo 19_127",
      "userId": "09919749956615563057"
     },
     "user_tz": -420
    },
    "id": "ovyglvlT_qkf"
   },
   "outputs": [],
   "source": [
    "from sklearn.cluster import KMeans\n",
    "from sklearn.decomposition import PCA, TruncatedSVD\n"
   ]
  },
  {
   "cell_type": "markdown",
   "metadata": {
    "id": "o3_oWOV3WMXo"
   },
   "source": [
    "## Penjelasan K-Means"
   ]
  },
  {
   "cell_type": "markdown",
   "metadata": {
    "id": "DOc7KqjrWPH2"
   },
   "source": [
    "K-Means Clustering merupakan algoritma yang efektif untuk menentukan cluster dalam sekumpulan data, di mana pada algortima tersebut dilakukan analisis kelompok yang mengacu pada pemartisian N objek ke dalam K kelompok (Cluster) berdasarkan nilai rata-rata (means) terdekat. Adapun persamaan yang sering digunakan dalam pemecahan masalah dalam menentukan jarak terdekat adalah persamaan Euclidean berikut :"
   ]
  },
  {
   "cell_type": "markdown",
   "metadata": {
    "id": "CgY8IyclYNJt"
   },
   "source": [
    "\n",
    "$$\n",
    "d(p,q) = \\sqrt{(p_{1}-q_{1})^2+(p_{2}-q_{2})^2+(p_{3}-q_{3})^2}\n",
    "$$\n",
    "\n",
    "\n",
    "d = jarak obyek\n",
    "\n",
    "p = data \n",
    "\n",
    "q = centroid"
   ]
  },
  {
   "cell_type": "code",
   "execution_count": 59,
   "metadata": {
    "colab": {
     "base_uri": "https://localhost:8080/",
     "height": 338
    },
    "executionInfo": {
     "elapsed": 512,
     "status": "ok",
     "timestamp": 1664859697052,
     "user": {
      "displayName": "Muhammad Fahmi Ady susilo 19_127",
      "userId": "09919749956615563057"
     },
     "user_tz": -420
    },
    "id": "jS8tGaZ2QZ5O",
    "outputId": "a5b8381d-d2ef-49aa-a2fe-5530b457eb9e"
   },
   "outputs": [
    {
     "name": "stdout",
     "output_type": "stream",
     "text": [
      "[[ 0.82414771  0.32502974]\n",
      " [ 2.93246918 -0.25487717]\n",
      " [ 4.43672943 -1.57711502]]\n"
     ]
    },
    {
     "data": {
      "text/plain": [
       "<matplotlib.collections.PathCollection at 0x7fa289f1d450>"
      ]
     },
     "execution_count": 59,
     "metadata": {},
     "output_type": "execute_result"
    },
    {
     "data": {
      "image/png": "[encoded data removed]",
      "text/plain": [
       "<Figure size 432x288 with 1 Axes>"
      ]
     },
     "metadata": {
      "filenames": {
       "image/png": "/content/drive/MyDrive/webmining/webmining/_build/jupyter_execute/contents/CrawlingVSM_90_2.png"
      },
      "needs_background": "light"
     },
     "output_type": "display_data"
    }
   ],
   "source": [
    "\"\"\"Train the Kmeans with the best n of clusters\"\"\"\n",
    "modelKm = KMeans(n_clusters=3, random_state=12)\n",
    "modelKm.fit(dataTF.values)\n",
    "prediksi = modelKm.predict(dataTF.values)\n",
    "\n",
    "\"\"\"Dimensionality reduction used to plot in 2d representation\"\"\"\n",
    "pc=TruncatedSVD(n_components=2)\n",
    "X_new=pc.fit_transform(dataTF.values)\n",
    "centroids=pc.transform(modelKm.cluster_centers_)\n",
    "print(centroids)\n",
    "plt.scatter(X_new[:,0],X_new[:,1],c=prediksi, cmap='viridis')\n",
    "plt.scatter(centroids[:,0] , centroids[:,1] , s = 50, color = 'red')"
   ]
  }
 ],
 "metadata": {
  "colab": {
   "collapsed_sections": [],
   "provenance": []
  },
  "kernelspec": {
   "display_name": "Python 3",
   "language": "python",
   "name": "python3"
  },
  "language_info": {
   "codemirror_mode": {
    "name": "ipython",
    "version": 3
   },
   "file_extension": ".py",
   "mimetype": "text/x-python",
   "name": "python",
   "nbconvert_exporter": "python",
   "pygments_lexer": "ipython3",
   "version": "3.7.14"
  }
 },
 "nbformat": 4,
 "nbformat_minor": 0
}