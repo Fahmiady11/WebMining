{
 "cells": [
  {
   "cell_type": "code",
   "execution_count": 1,
   "metadata": {
    "colab": {
     "base_uri": "https://localhost:8080/"
    },
    "id": "d7fBbZcE6o0W",
    "outputId": "5ccf139d-b1f0-4f38-a458-c8a87ee1c37d"
   },
   "outputs": [
    {
     "name": "stdout",
     "output_type": "stream",
     "text": [
      "/content/drive/MyDrive/webmining\n"
     ]
    }
   ],
   "source": [
    "%cd /content/drive/MyDrive/webmining"
   ]
  },
  {
   "cell_type": "code",
   "execution_count": 2,
   "metadata": {
    "colab": {
     "base_uri": "https://localhost:8080/"
    },
    "id": "JqP07Aur4yK-",
    "outputId": "6f39e7c3-307c-409d-ec0f-67a6428d8361"
   },
   "outputs": [
    {
     "name": "stdout",
     "output_type": "stream",
     "text": [
      "Looking in indexes: https://pypi.org/simple, https://us-python.pkg.dev/colab-wheels/public/simple/\n"
     ]
    },
    {
     "name": "stdout",
     "output_type": "stream",
     "text": [
      "Collecting PyPDF2\n",
      "  Downloading PyPDF2-2.11.1-py3-none-any.whl (220 kB)\n",
      "\u001b[?25l\r",
      "\u001b[K     |█▌                              | 10 kB 25.5 MB/s eta 0:00:01\r",
      "\u001b[K     |███                             | 20 kB 6.8 MB/s eta 0:00:01\r",
      "\u001b[K     |████▌                           | 30 kB 9.5 MB/s eta 0:00:01\r",
      "\u001b[K     |██████                          | 40 kB 4.6 MB/s eta 0:00:01\r",
      "\u001b[K     |███████▍                        | 51 kB 4.1 MB/s eta 0:00:01\r",
      "\u001b[K     |█████████                       | 61 kB 4.8 MB/s eta 0:00:01\r",
      "\u001b[K     |██████████▍                     | 71 kB 5.4 MB/s eta 0:00:01\r",
      "\u001b[K     |████████████                    | 81 kB 6.1 MB/s eta 0:00:01\r",
      "\u001b[K     |█████████████▍                  | 92 kB 6.0 MB/s eta 0:00:01\r",
      "\u001b[K     |██████████████▉                 | 102 kB 5.2 MB/s eta 0:00:01\r",
      "\u001b[K     |████████████████▍               | 112 kB 5.2 MB/s eta 0:00:01\r",
      "\u001b[K     |█████████████████▉              | 122 kB 5.2 MB/s eta 0:00:01\r",
      "\u001b[K     |███████████████████▎            | 133 kB 5.2 MB/s eta 0:00:01\r",
      "\u001b[K     |████████████████████▉           | 143 kB 5.2 MB/s eta 0:00:01\r",
      "\u001b[K     |██████████████████████▎         | 153 kB 5.2 MB/s eta 0:00:01\r",
      "\u001b[K     |███████████████████████▉        | 163 kB 5.2 MB/s eta 0:00:01\r",
      "\u001b[K     |█████████████████████████▎      | 174 kB 5.2 MB/s eta 0:00:01\r",
      "\u001b[K     |██████████████████████████▊     | 184 kB 5.2 MB/s eta 0:00:01\r",
      "\u001b[K     |████████████████████████████▎   | 194 kB 5.2 MB/s eta 0:00:01\r",
      "\u001b[K     |█████████████████████████████▊  | 204 kB 5.2 MB/s eta 0:00:01\r",
      "\u001b[K     |███████████████████████████████▎| 215 kB 5.2 MB/s eta 0:00:01\r",
      "\u001b[K     |████████████████████████████████| 220 kB 5.2 MB/s \n",
      "\u001b[?25hRequirement already satisfied: typing-extensions>=3.10.0.0 in /usr/local/lib/python3.7/dist-packages (from PyPDF2) (4.1.1)\n"
     ]
    },
    {
     "name": "stdout",
     "output_type": "stream",
     "text": [
      "Installing collected packages: PyPDF2\n"
     ]
    },
    {
     "name": "stdout",
     "output_type": "stream",
     "text": [
      "Successfully installed PyPDF2-2.11.1\n"
     ]
    }
   ],
   "source": [
    "!pip install PyPDF2"
   ]
  },
  {
   "cell_type": "code",
   "execution_count": 3,
   "metadata": {
    "colab": {
     "base_uri": "https://localhost:8080/"
    },
    "id": "Ijfy2pUw5P-A",
    "outputId": "c8f341c3-c645-457b-a8b4-70db525b204a"
   },
   "outputs": [
    {
     "name": "stdout",
     "output_type": "stream",
     "text": [
      "Looking in indexes: https://pypi.org/simple, https://us-python.pkg.dev/colab-wheels/public/simple/\n"
     ]
    },
    {
     "name": "stdout",
     "output_type": "stream",
     "text": [
      "Collecting docx2txt\n",
      "  Downloading docx2txt-0.8.tar.gz (2.8 kB)\n"
     ]
    },
    {
     "name": "stdout",
     "output_type": "stream",
     "text": [
      "Building wheels for collected packages: docx2txt\n"
     ]
    },
    {
     "name": "stdout",
     "output_type": "stream",
     "text": [
      "  Building wheel for docx2txt (setup.py) ... \u001b[?25l\u001b[?25hdone\n",
      "  Created wheel for docx2txt: filename=docx2txt-0.8-py3-none-any.whl size=3981 sha256=914776830c660adc0c9c5fc8ef7d83fc8c9ab30b94ad33fa031ac97c770b235e\n",
      "  Stored in directory: /root/.cache/pip/wheels/b7/20/b2/473e3aea9a0c0d3e7b2f7bd81d06d0794fec12752733d1f3a8\n",
      "Successfully built docx2txt\n"
     ]
    },
    {
     "name": "stdout",
     "output_type": "stream",
     "text": [
      "Installing collected packages: docx2txt\n"
     ]
    },
    {
     "name": "stdout",
     "output_type": "stream",
     "text": [
      "Successfully installed docx2txt-0.8\n"
     ]
    }
   ],
   "source": [
    "!pip install docx2txt"
   ]
  },
  {
   "cell_type": "code",
   "execution_count": 4,
   "metadata": {
    "id": "MadmWeMy5WLj"
   },
   "outputs": [],
   "source": [
    "import numpy as np\n",
    "import PyPDF2\n",
    "import docx2txt\n",
    "import sys"
   ]
  },
  {
   "cell_type": "code",
   "execution_count": 5,
   "metadata": {
    "colab": {
     "base_uri": "https://localhost:8080/"
    },
    "id": "2ntK20C852on",
    "outputId": "b4221cbc-ddd2-48af-cdbc-d04f56484d01"
   },
   "outputs": [
    {
     "ename": "StdinNotImplementedError",
     "evalue": "raw_input was called, but this frontend does not support input requests.",
     "output_type": "error",
     "traceback": [
      "\u001b[0;31m\u001b[0m",
      "\u001b[0;31mStdinNotImplementedError\u001b[0mTraceback (most recent call last)",
      "\u001b[0;32m<ipython-input-5-fb24660ec8d1>\u001b[0m in \u001b[0;36m<module>\u001b[0;34m\u001b[0m\n\u001b[0;32m----> 1\u001b[0;31m \u001b[0mname\u001b[0m \u001b[0;34m=\u001b[0m \u001b[0minput\u001b[0m\u001b[0;34m(\u001b[0m\u001b[0;34m'Masukkan nama file: '\u001b[0m\u001b[0;34m)\u001b[0m\u001b[0;34m\u001b[0m\u001b[0;34m\u001b[0m\u001b[0m\n\u001b[0m\u001b[1;32m      2\u001b[0m \u001b[0mprint\u001b[0m\u001b[0;34m(\u001b[0m\u001b[0;34m'Anda telah memanggil dokument  {}'\u001b[0m\u001b[0;34m.\u001b[0m\u001b[0mformat\u001b[0m\u001b[0;34m(\u001b[0m\u001b[0mname\u001b[0m\u001b[0;34m)\u001b[0m\u001b[0;34m)\u001b[0m\u001b[0;34m\u001b[0m\u001b[0;34m\u001b[0m\u001b[0m\n",
      "\u001b[0;32m/usr/local/lib/python3.7/dist-packages/ipykernel/kernelbase.py\u001b[0m in \u001b[0;36mraw_input\u001b[0;34m(self, prompt)\u001b[0m\n\u001b[1;32m    856\u001b[0m         \u001b[0;32mif\u001b[0m \u001b[0;32mnot\u001b[0m \u001b[0mself\u001b[0m\u001b[0;34m.\u001b[0m\u001b[0m_allow_stdin\u001b[0m\u001b[0;34m:\u001b[0m\u001b[0;34m\u001b[0m\u001b[0;34m\u001b[0m\u001b[0m\n\u001b[1;32m    857\u001b[0m             raise StdinNotImplementedError(\n\u001b[0;32m--> 858\u001b[0;31m                 \u001b[0;34m\"raw_input was called, but this frontend does not support input requests.\"\u001b[0m\u001b[0;34m\u001b[0m\u001b[0;34m\u001b[0m\u001b[0m\n\u001b[0m\u001b[1;32m    859\u001b[0m             )\n\u001b[1;32m    860\u001b[0m         return self._input_request(str(prompt),\n",
      "\u001b[0;31mStdinNotImplementedError\u001b[0m: raw_input was called, but this frontend does not support input requests."
     ]
    }
   ],
   "source": [
    "name = input('Masukkan nama file: ') \n",
    "print('Anda telah memanggil dokument  {}'.format(name))"
   ]
  },
  {
   "cell_type": "code",
   "execution_count": null,
   "metadata": {
    "id": "mELulXt86NtN"
   },
   "outputs": [],
   "source": [
    "pdfFileObj = open(name, 'rb')"
   ]
  },
  {
   "cell_type": "code",
   "execution_count": null,
   "metadata": {
    "id": "6bNXxOwE7uDG"
   },
   "outputs": [],
   "source": [
    "pdfReader = PyPDF2.PdfFileReader(pdfFileObj)\n",
    "pageObj = pdfReader.getPage(0)\n",
    "document = pageObj.extractText()"
   ]
  },
  {
   "cell_type": "code",
   "execution_count": null,
   "metadata": {
    "id": "X-5niYPD8n1i"
   },
   "outputs": [],
   "source": [
    "from nltk.tokenize.punkt import PunktSentenceTokenizer"
   ]
  },
  {
   "cell_type": "code",
   "execution_count": null,
   "metadata": {
    "colab": {
     "base_uri": "https://localhost:8080/",
     "height": 174
    },
    "id": "cTbfWFef7xda",
    "outputId": "d7603ba0-0019-4049-b811-21b4486e1fa5"
   },
   "outputs": [
    {
     "data": {
      "application/vnd.google.colaboratory.intrinsic+json": {
       "type": "string"
      },
      "text/plain": [
       "'With the present explosion of data circulating the digital space, which is mostly non -structured textual \\ndata, there is a need to develop automatic text summarization tools that allow people to get insights \\nfrom them easily. Currently, we enjoy quick acces s to enormous amounts of information. However, \\nmost of this information is redundant, insignificant, and may not convey the intended meaning. For \\nexample, if you are looking for specific information from an online news article, you may have to dig \\nthrough its content and spend a lot of time weeding out the unnecessary stuff before getting the \\ninformation you want. Therefore, using automatic text summarizers capable of extracting useful \\ninformation that leaves out inessential and insignificant data is becomi ng vital. Implementing \\nsummarization can enhance the readability of documents, reduce the time spent in researching for \\ninformation, and allow for more information to be fitted in a particular area  '"
      ]
     },
     "execution_count": 14,
     "metadata": {},
     "output_type": "execute_result"
    }
   ],
   "source": [
    "document"
   ]
  },
  {
   "cell_type": "code",
   "execution_count": null,
   "metadata": {
    "id": "neUm38D28c9T"
   },
   "outputs": [],
   "source": [
    "def tokenize(document):\n",
    "    # Kita memecahnya menggunakan  PunktSentenceTokenizer\n",
    "    # \n",
    "    doc_tokenizer = PunktSentenceTokenizer()\n",
    "    \n",
    "    # metode tokenize() memanggil dokument kita\n",
    "    # sebagai input dan menghasilkan daftar kalimat dalam dokumen\n",
    "    \n",
    "    # sentences_list adalah daftar masing masing kalimat dari dokumen yang ada.\n",
    "    sentences_list = doc_tokenizer.tokenize(document)\n",
    "    return sentences_list"
   ]
  },
  {
   "cell_type": "code",
   "execution_count": null,
   "metadata": {
    "id": "vGwT3hMf755f"
   },
   "outputs": [],
   "source": [
    "sentences_list = tokenize(document)"
   ]
  },
  {
   "cell_type": "code",
   "execution_count": null,
   "metadata": {
    "colab": {
     "base_uri": "https://localhost:8080/"
    },
    "id": "dXF7M0Oq8-nt",
    "outputId": "e9346f1e-1f68-4596-e8d3-30064c7c77f8"
   },
   "outputs": [
    {
     "name": "stdout",
     "output_type": "stream",
     "text": [
      "------\n",
      "With the present explosion of data circulating the digital space, which is mostly non -structured textual \n",
      "data, there is a need to develop automatic text summarization tools that allow people to get insights \n",
      "from them easily.\n",
      "------\n",
      "Currently, we enjoy quick acces s to enormous amounts of information.\n",
      "------\n",
      "However, \n",
      "most of this information is redundant, insignificant, and may not convey the intended meaning.\n",
      "------\n",
      "For \n",
      "example, if you are looking for specific information from an online news article, you may have to dig \n",
      "through its content and spend a lot of time weeding out the unnecessary stuff before getting the \n",
      "information you want.\n",
      "------\n",
      "Therefore, using automatic text summarizers capable of extracting useful \n",
      "information that leaves out inessential and insignificant data is becomi ng vital.\n",
      "------\n",
      "Implementing \n",
      "summarization can enhance the readability of documents, reduce the time spent in researching for \n",
      "information, and allow for more information to be fitted in a particular area\n"
     ]
    }
   ],
   "source": [
    "for i in sentences_list:\n",
    "    print('------')\n",
    "    print(i)"
   ]
  },
  {
   "cell_type": "code",
   "execution_count": null,
   "metadata": {
    "colab": {
     "base_uri": "https://localhost:8080/"
    },
    "id": "9nd-hMwLBAhR",
    "outputId": "f8cd6a64-6fd7-4f05-9d8c-21ed193e203d"
   },
   "outputs": [
    {
     "name": "stdout",
     "output_type": "stream",
     "text": [
      "Banyaknya kosa kata =  101\n"
     ]
    }
   ],
   "source": [
    "print (\"Banyaknya kosa kata = \", len((cv.get_feature_names_out())))"
   ]
  },
  {
   "cell_type": "code",
   "execution_count": null,
   "metadata": {
    "colab": {
     "base_uri": "https://localhost:8080/"
    },
    "id": "jHNUowu-AOrx",
    "outputId": "88f31ef8-7157-4cfd-ecfb-9b2ff9a45b78"
   },
   "outputs": [
    {
     "name": "stdout",
     "output_type": "stream",
     "text": [
      "Banyaknya kalimat =  6\n"
     ]
    }
   ],
   "source": [
    "print (\"Banyaknya kalimat = \", (len(sentences_list)))"
   ]
  },
  {
   "cell_type": "code",
   "execution_count": null,
   "metadata": {
    "id": "OEDq062T-XZB"
   },
   "outputs": [],
   "source": [
    "from sklearn.feature_extraction.text import TfidfTransformer, CountVectorizer"
   ]
  },
  {
   "cell_type": "code",
   "execution_count": null,
   "metadata": {
    "id": "_TDVbrit-Fs9"
   },
   "outputs": [],
   "source": [
    "cv = CountVectorizer()\n",
    "cv_matrix = cv.fit_transform(sentences_list)"
   ]
  },
  {
   "cell_type": "code",
   "execution_count": null,
   "metadata": {
    "colab": {
     "base_uri": "https://localhost:8080/"
    },
    "id": "wC-yUlIl_i-0",
    "outputId": "98653175-6f7f-42c4-ec00-8c53ccf1b6f9"
   },
   "outputs": [
    {
     "name": "stdout",
     "output_type": "stream",
     "text": [
      "Banyaknya kosa kata =  101\n"
     ]
    }
   ],
   "source": [
    "\n",
    "print (\"Banyaknya kosa kata = \", len((cv.get_feature_names_out())))"
   ]
  },
  {
   "cell_type": "code",
   "execution_count": null,
   "metadata": {
    "colab": {
     "base_uri": "https://localhost:8080/"
    },
    "id": "lQDADRatBnqu",
    "outputId": "c8a5ed6e-f74f-4c58-ed77-f64c6330c8fb"
   },
   "outputs": [
    {
     "name": "stdout",
     "output_type": "stream",
     "text": [
      "kosa kata =  ['acces' 'allow' 'amounts' 'an' 'and' 'are' 'area' 'article' 'automatic'\n",
      " 'be' 'becomi' 'before' 'can' 'capable' 'circulating' 'content' 'convey'\n",
      " 'currently' 'data' 'develop' 'dig' 'digital' 'documents' 'easily'\n",
      " 'enhance' 'enjoy' 'enormous' 'example' 'explosion' 'extracting' 'fitted'\n",
      " 'for' 'from' 'get' 'getting' 'have' 'however' 'if' 'implementing' 'in'\n",
      " 'inessential' 'information' 'insights' 'insignificant' 'intended' 'is'\n",
      " 'its' 'leaves' 'looking' 'lot' 'may' 'meaning' 'more' 'most' 'mostly'\n",
      " 'need' 'news' 'ng' 'non' 'not' 'of' 'online' 'out' 'particular' 'people'\n",
      " 'present' 'quick' 'readability' 'reduce' 'redundant' 'researching'\n",
      " 'space' 'specific' 'spend' 'spent' 'structured' 'stuff' 'summarization'\n",
      " 'summarizers' 'text' 'textual' 'that' 'the' 'them' 'there' 'therefore'\n",
      " 'this' 'through' 'time' 'to' 'tools' 'unnecessary' 'useful' 'using'\n",
      " 'vital' 'want' 'we' 'weeding' 'which' 'with' 'you']\n"
     ]
    }
   ],
   "source": [
    "print (\"kosa kata = \", (cv.get_feature_names_out()))"
   ]
  },
  {
   "cell_type": "code",
   "execution_count": null,
   "metadata": {
    "colab": {
     "base_uri": "https://localhost:8080/"
    },
    "id": "7Wa4tA2WAITo",
    "outputId": "74f14a6b-d429-4b02-91fb-3f1df6649398"
   },
   "outputs": [
    {
     "name": "stdout",
     "output_type": "stream",
     "text": [
      "  (0, 99)\t1\n",
      "  (0, 82)\t2\n",
      "  (0, 65)\t1\n",
      "  (0, 28)\t1\n",
      "  (0, 60)\t1\n",
      "  (0, 18)\t2\n",
      "  (0, 14)\t1\n",
      "  (0, 21)\t1\n",
      "  (0, 71)\t1\n",
      "  (0, 98)\t1\n",
      "  (0, 45)\t2\n",
      "  (0, 54)\t1\n",
      "  (0, 58)\t1\n",
      "  (0, 75)\t1\n",
      "  (0, 80)\t1\n",
      "  (0, 84)\t1\n",
      "  (0, 55)\t1\n",
      "  (0, 89)\t2\n",
      "  (0, 19)\t1\n",
      "  (0, 8)\t1\n",
      "  (0, 79)\t1\n",
      "  (0, 77)\t1\n",
      "  (0, 90)\t1\n",
      "  (0, 81)\t1\n",
      "  (0, 1)\t1\n",
      "  :\t:\n",
      "  (4, 57)\t1\n",
      "  (4, 94)\t1\n",
      "  (5, 82)\t2\n",
      "  (5, 60)\t1\n",
      "  (5, 89)\t1\n",
      "  (5, 77)\t1\n",
      "  (5, 1)\t1\n",
      "  (5, 41)\t2\n",
      "  (5, 4)\t1\n",
      "  (5, 31)\t2\n",
      "  (5, 88)\t1\n",
      "  (5, 38)\t1\n",
      "  (5, 12)\t1\n",
      "  (5, 24)\t1\n",
      "  (5, 67)\t1\n",
      "  (5, 22)\t1\n",
      "  (5, 68)\t1\n",
      "  (5, 74)\t1\n",
      "  (5, 39)\t2\n",
      "  (5, 70)\t1\n",
      "  (5, 52)\t1\n",
      "  (5, 9)\t1\n",
      "  (5, 30)\t1\n",
      "  (5, 63)\t1\n",
      "  (5, 6)\t1\n"
     ]
    }
   ],
   "source": [
    "print(cv_matrix)"
   ]
  },
  {
   "cell_type": "code",
   "execution_count": null,
   "metadata": {
    "colab": {
     "base_uri": "https://localhost:8080/"
    },
    "id": "D-H-grMWCXGB",
    "outputId": "99511082-851e-4ed3-e361-07d9891fc136"
   },
   "outputs": [
    {
     "name": "stdout",
     "output_type": "stream",
     "text": [
      "[[0.         0.14574925 0.         0.         0.         0.\n",
      "  0.         0.         0.14574925 0.         0.         0.\n",
      "  0.         0.         0.17773988 0.         0.         0.\n",
      "  0.29149849 0.17773988 0.         0.17773988 0.         0.17773988\n",
      "  0.         0.         0.         0.         0.17773988 0.\n",
      "  0.         0.         0.14574925 0.17773988 0.         0.\n",
      "  0.         0.         0.         0.         0.         0.\n",
      "  0.17773988 0.         0.         0.24610306 0.         0.\n",
      "  0.         0.         0.         0.         0.         0.\n",
      "  0.17773988 0.17773988 0.         0.         0.17773988 0.\n",
      "  0.07889862 0.         0.         0.         0.17773988 0.17773988\n",
      "  0.         0.         0.         0.         0.         0.17773988\n",
      "  0.         0.         0.         0.17773988 0.         0.14574925\n",
      "  0.         0.14574925 0.17773988 0.14574925 0.21089162 0.17773988\n",
      "  0.17773988 0.         0.         0.         0.         0.21089162\n",
      "  0.17773988 0.         0.         0.         0.         0.\n",
      "  0.         0.         0.17773988 0.17773988 0.        ]\n",
      " [0.35779419 0.         0.35779419 0.         0.         0.\n",
      "  0.         0.         0.         0.         0.         0.\n",
      "  0.         0.         0.         0.         0.         0.35779419\n",
      "  0.         0.         0.         0.         0.         0.\n",
      "  0.         0.35779419 0.35779419 0.         0.         0.\n",
      "  0.         0.         0.         0.         0.         0.\n",
      "  0.         0.         0.         0.         0.         0.18330753\n",
      "  0.         0.         0.         0.         0.         0.\n",
      "  0.         0.         0.         0.         0.         0.\n",
      "  0.         0.         0.         0.         0.         0.\n",
      "  0.15882461 0.         0.         0.         0.         0.\n",
      "  0.35779419 0.         0.         0.         0.         0.\n",
      "  0.         0.         0.         0.         0.         0.\n",
      "  0.         0.         0.         0.         0.         0.\n",
      "  0.         0.         0.         0.         0.         0.21226468\n",
      "  0.         0.         0.         0.         0.         0.\n",
      "  0.35779419 0.         0.         0.         0.        ]\n",
      " [0.         0.         0.         0.         0.17897542 0.\n",
      "  0.         0.         0.         0.         0.         0.\n",
      "  0.         0.         0.         0.         0.30168168 0.\n",
      "  0.         0.         0.         0.         0.         0.\n",
      "  0.         0.         0.         0.         0.         0.\n",
      "  0.         0.         0.         0.         0.         0.\n",
      "  0.30168168 0.         0.         0.         0.         0.15455959\n",
      "  0.         0.2473833  0.30168168 0.20885798 0.         0.\n",
      "  0.         0.         0.2473833  0.30168168 0.         0.30168168\n",
      "  0.         0.         0.         0.         0.         0.30168168\n",
      "  0.1339163  0.         0.         0.         0.         0.\n",
      "  0.         0.         0.         0.30168168 0.         0.\n",
      "  0.         0.         0.         0.         0.         0.\n",
      "  0.         0.         0.         0.         0.17897542 0.\n",
      "  0.         0.         0.30168168 0.         0.         0.\n",
      "  0.         0.         0.         0.         0.         0.\n",
      "  0.         0.         0.         0.         0.        ]\n",
      " [0.         0.         0.         0.15863409 0.09411112 0.15863409\n",
      "  0.         0.15863409 0.         0.         0.         0.15863409\n",
      "  0.         0.         0.         0.15863409 0.         0.\n",
      "  0.         0.         0.15863409 0.         0.         0.\n",
      "  0.         0.         0.         0.15863409 0.         0.\n",
      "  0.         0.26016444 0.13008222 0.         0.15863409 0.15863409\n",
      "  0.         0.15863409 0.         0.         0.         0.16254497\n",
      "  0.         0.         0.         0.         0.15863409 0.\n",
      "  0.15863409 0.15863409 0.13008222 0.         0.         0.\n",
      "  0.         0.         0.15863409 0.         0.         0.\n",
      "  0.07041757 0.15863409 0.13008222 0.         0.         0.\n",
      "  0.         0.         0.         0.         0.         0.\n",
      "  0.15863409 0.15863409 0.         0.         0.15863409 0.\n",
      "  0.         0.         0.         0.         0.18822225 0.\n",
      "  0.         0.         0.         0.15863409 0.13008222 0.09411112\n",
      "  0.         0.15863409 0.         0.         0.         0.15863409\n",
      "  0.         0.15863409 0.         0.         0.47590227]\n",
      " [0.         0.         0.         0.         0.1468296  0.\n",
      "  0.         0.         0.20295072 0.         0.24749656 0.\n",
      "  0.         0.24749656 0.         0.         0.         0.\n",
      "  0.20295072 0.         0.         0.         0.         0.\n",
      "  0.         0.         0.         0.         0.         0.24749656\n",
      "  0.         0.         0.         0.         0.         0.\n",
      "  0.         0.         0.         0.         0.24749656 0.1267991\n",
      "  0.         0.20295072 0.         0.17134494 0.         0.24749656\n",
      "  0.         0.         0.         0.         0.         0.\n",
      "  0.         0.         0.         0.24749656 0.         0.\n",
      "  0.10986356 0.         0.20295072 0.         0.         0.\n",
      "  0.         0.         0.         0.         0.         0.\n",
      "  0.         0.         0.         0.         0.         0.\n",
      "  0.24749656 0.20295072 0.         0.20295072 0.         0.\n",
      "  0.         0.24749656 0.         0.         0.         0.\n",
      "  0.         0.         0.24749656 0.24749656 0.24749656 0.\n",
      "  0.         0.         0.         0.         0.        ]\n",
      " [0.         0.1637879  0.         0.         0.11849631 0.\n",
      "  0.19973786 0.         0.         0.19973786 0.         0.\n",
      "  0.19973786 0.         0.         0.         0.         0.\n",
      "  0.         0.         0.         0.         0.19973786 0.\n",
      "  0.19973786 0.         0.         0.         0.         0.\n",
      "  0.19973786 0.32757581 0.         0.         0.         0.\n",
      "  0.         0.         0.19973786 0.39947572 0.         0.20466209\n",
      "  0.         0.         0.         0.         0.         0.\n",
      "  0.         0.         0.         0.         0.19973786 0.\n",
      "  0.         0.         0.         0.         0.         0.\n",
      "  0.0886635  0.         0.         0.19973786 0.         0.\n",
      "  0.         0.19973786 0.19973786 0.         0.19973786 0.\n",
      "  0.         0.         0.19973786 0.         0.         0.1637879\n",
      "  0.         0.         0.         0.         0.23699262 0.\n",
      "  0.         0.         0.         0.         0.1637879  0.11849631\n",
      "  0.         0.         0.         0.         0.         0.\n",
      "  0.         0.         0.         0.         0.        ]]\n"
     ]
    }
   ],
   "source": [
    "normal_matrix = TfidfTransformer().fit_transform(cv_matrix)\n",
    "print(normal_matrix.toarray())"
   ]
  },
  {
   "cell_type": "code",
   "execution_count": null,
   "metadata": {
    "id": "ZXEHkukXDKgy"
   },
   "outputs": [],
   "source": [
    "import networkx as nx"
   ]
  },
  {
   "cell_type": "code",
   "execution_count": null,
   "metadata": {
    "colab": {
     "base_uri": "https://localhost:8080/"
    },
    "id": "HiwPwJJFDx9L",
    "outputId": "53803564-c3e1-4535-c26a-793069b4f4b9"
   },
   "outputs": [
    {
     "name": "stdout",
     "output_type": "stream",
     "text": [
      "<bound method _cs_matrix.toarray of <101x6 sparse matrix of type '<class 'numpy.float64'>'\n",
      "\twith 133 stored elements in Compressed Sparse Column format>>\n"
     ]
    }
   ],
   "source": [
    "print(normal_matrix.T.toarray)\n",
    "res_graph = normal_matrix * normal_matrix.T"
   ]
  },
  {
   "cell_type": "code",
   "execution_count": null,
   "metadata": {
    "id": "blMbAS5CDAwm"
   },
   "outputs": [],
   "source": [
    "nx_graph = nx.from_scipy_sparse_matrix(res_graph)"
   ]
  },
  {
   "cell_type": "code",
   "execution_count": null,
   "metadata": {
    "colab": {
     "base_uri": "https://localhost:8080/",
     "height": 319
    },
    "id": "e3QCq0ojDT4p",
    "outputId": "1b7d560f-17c0-4602-8b91-aea8c7e94878"
   },
   "outputs": [
    {
     "data": {
      "image/png": "[encoded data removed]",
      "text/plain": [
       "<Figure size 432x288 with 1 Axes>"
      ]
     },
     "metadata": {
      "filenames": {
       "image/png": "/content/drive/MyDrive/webmining/webmining/_build/jupyter_execute/contents/Ringkasan_dokumen_pdf_23_0.png"
      }
     },
     "output_type": "display_data"
    }
   ],
   "source": [
    "nx.draw_circular(nx_graph)\n"
   ]
  },
  {
   "cell_type": "code",
   "execution_count": null,
   "metadata": {
    "colab": {
     "base_uri": "https://localhost:8080/"
    },
    "id": "PUg3CmdTEBM9",
    "outputId": "8911cd86-95bf-4ce4-e922-5a20efc2ea38"
   },
   "outputs": [
    {
     "name": "stdout",
     "output_type": "stream",
     "text": [
      "Banyaknya sisi 21\n"
     ]
    }
   ],
   "source": [
    "print('Banyaknya sisi {}'.format(nx_graph.number_of_edges()))\n"
   ]
  },
  {
   "cell_type": "code",
   "execution_count": null,
   "metadata": {
    "id": "9kEQsTqwC7gH"
   },
   "outputs": [],
   "source": [
    "res_graph = normal_matrix * normal_matrix.T"
   ]
  },
  {
   "cell_type": "code",
   "execution_count": null,
   "metadata": {
    "colab": {
     "base_uri": "https://localhost:8080/"
    },
    "id": "ulCmpOC7CkV9",
    "outputId": "07651675-ce6b-48d5-d8e6-fa6c875f94d8"
   },
   "outputs": [
    {
     "data": {
      "text/plain": [
       "(6, 101)"
      ]
     },
     "execution_count": 55,
     "metadata": {},
     "output_type": "execute_result"
    }
   ],
   "source": [
    "normal_matrix.shape"
   ]
  },
  {
   "cell_type": "code",
   "execution_count": null,
   "metadata": {
    "id": "x0FRaGf0JAzr"
   },
   "outputs": [],
   "source": [
    "import scipy\n",
    "A=scipy.sparse.csr_matrix.toarray(normal_matrix)"
   ]
  },
  {
   "cell_type": "code",
   "execution_count": null,
   "metadata": {
    "colab": {
     "base_uri": "https://localhost:8080/"
    },
    "id": "RB6Uw3mY-aQd",
    "outputId": "6e067570-2b03-48a8-8671-0f5ba7e4bd59"
   },
   "outputs": [
    {
     "data": {
      "text/plain": [
       "<6x101 sparse matrix of type '<class 'numpy.int64'>'\n",
       "\twith 133 stored elements in Compressed Sparse Row format>"
      ]
     },
     "execution_count": 32,
     "metadata": {},
     "output_type": "execute_result"
    }
   ],
   "source": [
    "cv_matrix"
   ]
  },
  {
   "cell_type": "code",
   "execution_count": null,
   "metadata": {
    "colab": {
     "base_uri": "https://localhost:8080/"
    },
    "id": "wH9q2i669D3I",
    "outputId": "1dd25139-39dd-4d68-dedb-eb597b98a7ec"
   },
   "outputs": [
    {
     "name": "stdout",
     "output_type": "stream",
     "text": [
      "Currently, we enjoy quick acces s to enormous amounts of information.\n"
     ]
    }
   ],
   "source": [
    "print(sentences_list[1])"
   ]
  },
  {
   "cell_type": "code",
   "execution_count": null,
   "metadata": {
    "id": "4pKEqXhbIOUo"
   },
   "outputs": [],
   "source": [
    "ranks = nx.pagerank(nx_graph)"
   ]
  },
  {
   "cell_type": "code",
   "execution_count": null,
   "metadata": {
    "colab": {
     "base_uri": "https://localhost:8080/"
    },
    "id": "H50ek0CQISYw",
    "outputId": "3e787985-b418-475f-f25f-34a608f08dda"
   },
   "outputs": [
    {
     "name": "stdout",
     "output_type": "stream",
     "text": [
      "0 0.1715740345983324\n",
      "1 0.15237129975961813\n",
      "2 0.16762642378543113\n",
      "3 0.1694342719017504\n",
      "4 0.16649730391700868\n",
      "5 0.17249666603785901\n"
     ]
    }
   ],
   "source": [
    "for i in ranks:\n",
    "    print(i, ranks[i])"
   ]
  },
  {
   "cell_type": "code",
   "execution_count": null,
   "metadata": {
    "colab": {
     "base_uri": "https://localhost:8080/"
    },
    "id": "zIbvf9M2Ifik",
    "outputId": "defb4472-d274-46d8-983c-d30a19388117"
   },
   "outputs": [
    {
     "name": "stdout",
     "output_type": "stream",
     "text": [
      "  (0, 4)\t0.19873616686503184\n",
      "  (0, 2)\t0.09971081403026547\n",
      "  (0, 5)\t0.12970899299720412\n",
      "  (0, 3)\t0.08405697742278143\n",
      "  (0, 1)\t0.05729588417007862\n",
      "  (0, 0)\t1.0000000000000007\n",
      "  (1, 4)\t0.04069226658657076\n",
      "  (1, 2)\t0.049601140572922\n",
      "  (1, 5)\t0.07675062974398579\n",
      "  (1, 3)\t0.06095622647585221\n",
      "  (1, 0)\t0.05729588417007862\n",
      "  (1, 1)\t0.9999999999999996\n",
      "  (2, 4)\t0.14658280263910575\n",
      "  (2, 1)\t0.049601140572922\n",
      "  (2, 5)\t0.10712975858281432\n",
      "  (2, 3)\t0.11726384649927656\n",
      "  (2, 0)\t0.09971081403026547\n",
      "  (2, 2)\t1.0\n",
      "  (3, 4)\t0.0685654591804768\n",
      "  (3, 2)\t0.11726384649927656\n",
      "  (3, 5)\t0.21295065985194805\n",
      "  (3, 1)\t0.06095622647585221\n",
      "  (3, 0)\t0.08405697742278143\n",
      "  (3, 3)\t1.0\n",
      "  (4, 5)\t0.05309062281521608\n",
      "  (4, 2)\t0.14658280263910575\n",
      "  (4, 1)\t0.04069226658657076\n",
      "  (4, 3)\t0.0685654591804768\n",
      "  (4, 0)\t0.19873616686503184\n",
      "  (4, 4)\t0.9999999999999999\n",
      "  (5, 4)\t0.05309062281521608\n",
      "  (5, 2)\t0.10712975858281432\n",
      "  (5, 5)\t1.0000000000000002\n",
      "  (5, 3)\t0.21295065985194805\n",
      "  (5, 1)\t0.07675062974398579\n",
      "  (5, 0)\t0.12970899299720412\n"
     ]
    }
   ],
   "source": [
    "print(res_graph)"
   ]
  }
 ],
 "metadata": {
  "colab": {
   "collapsed_sections": [],
   "provenance": []
  },
  "kernelspec": {
   "display_name": "Python 3",
   "name": "python3"
  },
  "language_info": {
   "codemirror_mode": {
    "name": "ipython",
    "version": 3
   },
   "file_extension": ".py",
   "mimetype": "text/x-python",
   "name": "python",
   "nbconvert_exporter": "python",
   "pygments_lexer": "ipython3",
   "version": "3.7.15"
  }
 },
 "nbformat": 4,
 "nbformat_minor": 0
}